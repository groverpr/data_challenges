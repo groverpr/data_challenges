{
 "cells": [
  {
   "cell_type": "markdown",
   "metadata": {},
   "source": [
    "### Libraries"
   ]
  },
  {
   "cell_type": "code",
   "execution_count": 1,
   "metadata": {},
   "outputs": [],
   "source": [
    "%load_ext autoreload\n",
    "%autoreload 2\n",
    "%matplotlib inline"
   ]
  },
  {
   "cell_type": "code",
   "execution_count": 2,
   "metadata": {},
   "outputs": [],
   "source": [
    "#! ls ml_wrappers/codes/ "
   ]
  },
  {
   "cell_type": "code",
   "execution_count": 3,
   "metadata": {},
   "outputs": [],
   "source": [
    "#! ln -s ../msan/fastai/fastai/fastai ."
   ]
  },
  {
   "cell_type": "code",
   "execution_count": 138,
   "metadata": {},
   "outputs": [],
   "source": [
    "from fastai.imports import *\n",
    "from sklearn.model_selection import GridSearchCV\n",
    "from rfpimp import *\n",
    "from sklearn.metrics import roc_auc_score\n",
    "from fastai.structured import *\n",
    "from sklearn.model_selection import StratifiedKFold\n",
    "from sklearn.model_selection import train_test_split\n",
    "\n",
    "# from ml_wrappers.codes.imports import *\n",
    "# from ml_wrappers.codes.structured_helper import *"
   ]
  },
  {
   "cell_type": "markdown",
   "metadata": {},
   "source": [
    "### Functions"
   ]
  },
  {
   "cell_type": "code",
   "execution_count": 5,
   "metadata": {},
   "outputs": [],
   "source": [
    "from pandas.api.types import is_string_dtype, is_numeric_dtype\n",
    "\n",
    "def convert_cats(train, col_not_convert=[], test=None):\n",
    "    \"\"\"\n",
    "    Convert columns in a training and test dataframe\n",
    "    into category codes \n",
    "\n",
    "    train: Training dataframe\n",
    "    col_not_convert: list of columns which are string type and which you don't want to convert\n",
    "    test: Test/ Validation set (Mapping from category codes from training)\n",
    "    \"\"\"\n",
    "\n",
    "    for n, c in train.items():\n",
    "        if is_string_dtype(c) and n not in col_not_convert:\n",
    "            train[n] = c.astype('category').cat.as_ordered()\n",
    "\n",
    "    if test is not None:\n",
    "        for n, c in test.items():\n",
    "            if (n in train.columns) and (train[n].dtype.name == 'category'):\n",
    "                test[n] = pd.Categorical(\n",
    "                    c, categories=train[n].cat.categories, ordered=True)\n",
    "\n",
    "    cols = list(train.columns[train.dtypes == 'category'])\n",
    "    for c in cols:\n",
    "        train[c] = train[c].astype('category').cat.codes\n",
    "        if test is not None:\n",
    "            test[c] = test[c].astype('category').cat.codes"
   ]
  },
  {
   "cell_type": "code",
   "execution_count": 6,
   "metadata": {},
   "outputs": [],
   "source": [
    "def explore_df(df, classifier=False, target=None):\n",
    "    print(\"Name of columns in dataframe : \", df.columns, '\\n')\n",
    "    print('Shape of dataframe : ', df.shape, '\\n')\n",
    "    print('Data types of dataframe : ', '\\n', df.dtypes, '\\n')\n",
    "    print(\"Number of unique values in each column : \", '\\n', df.nunique(), '\\n')\n",
    "    print('First 2 rows : \\n', df[:2], '\\n')\n",
    "    print('Sum of NAs in each column : \\n', df.isna().sum())\n",
    "    if classifier:\n",
    "        print(\"Distribution of labels : \\n\", df[target].value_counts())"
   ]
  },
  {
   "cell_type": "code",
   "execution_count": 140,
   "metadata": {},
   "outputs": [],
   "source": [
    "def importances_perm(model, X_valid, y_valid, n_samples=3500):\n",
    "\n",
    "    if n_samples<0: n_samples = len(X_valid)\n",
    "    n_samples = min(n_samples, len(X_valid))\n",
    "    if n_samples<len(X_valid):\n",
    "        ix = np.random.choice(len(X_valid),n_samples)\n",
    "        X_valid = X_valid.iloc[ix].copy(deep=False) # shallow copy\n",
    "        y_valid = y_valid.iloc[ix].copy(deep=False)\n",
    "    else:\n",
    "        X_valid = X_valid.copy(deep=False) # we're modifying columns\n",
    "\n",
    "    baseline = roc_auc_score(y_valid,model.predict_proba(X_valid)[:,1])\n",
    "    imp = []\n",
    "    for col in X_valid.columns:\n",
    "        save = X_valid[col].copy()\n",
    "        X_valid[col] = np.random.permutation(X_valid[col])\n",
    "        m = roc_auc_score(y_valid,model.predict_proba(X_valid)[:,1])\n",
    "        X_valid[col] = save\n",
    "        imp.append(baseline - m)\n",
    "\n",
    "    I = pd.DataFrame(data={'Feature': X_valid.columns, 'Importance': np.array(imp)})\n",
    "    I = I.set_index('Feature')\n",
    "    I = I.sort_values('Importance', ascending=True)\n",
    "    return I"
   ]
  },
  {
   "cell_type": "code",
   "execution_count": 7,
   "metadata": {},
   "outputs": [],
   "source": [
    "def target_encoder_regularized(train, test, cols_encode, y_col, target_cols, folds = 5, stratified=True):\n",
    "    \"\"\"\n",
    "    Mean regularized target encoding based on kfold   \n",
    "    \"\"\"\n",
    "    \n",
    "    if stratified:\n",
    "        skf = StratifiedKFold(n_splits=folds, shuffle=True, random_state=1)\n",
    "        X = train.drop(y_col, axis=1)\n",
    "        Y = train[y_col]\n",
    "        splitter = skf.split(X, Y)\n",
    "    else:\n",
    "        kf = KFold(n_splits=folds, shuffle=True, random_state=1)\n",
    "        splitter = kf.split(X)\n",
    "    \n",
    "    train_new = pd.DataFrame()\n",
    "    for train_index, val_index in splitter:\n",
    "        train_fold = train.loc[train_index]\n",
    "        test_fold = train.loc[val_index]\n",
    "\n",
    "        for by in cols_encode:\n",
    "            for target in target_cols:\n",
    "\n",
    "                encoding = train_fold.groupby(by)[target].mean()\n",
    "                test_fold[target + '_mean_' + by] = test_fold[by].map(encoding)\n",
    "\n",
    "                impute = np.mean(train_fold[target])\n",
    "                test_fold.fillna(impute, inplace=True)\n",
    "        train_new = pd.concat((train_new, test_fold), axis=0)\n",
    "    \n",
    "    # making test encoding using full training data  \n",
    "    test_new = test.copy()\n",
    "    for by in cols_encode:\n",
    "        for target in target_cols:\n",
    "            test_new['%s_mean_%s' % (target, by)] = test_new[by].map(train_new.reset_index(drop=True).groupby(by)[target].mean())\n",
    "\n",
    "    return train_new.reset_index(drop=True), test_new.reset_index(drop=True)\n",
    "\n",
    "#     # set_trace()\n",
    "#     test_copy = test.copy()\n",
    "#     train_copy = train.copy()\n",
    "    \n",
    "#     for col in cols_encode:       \n",
    "#         train_copy['%s_mean_reg_%s' % (target, col)] = np.zeros(len(train_copy))\n",
    "#         test_copy['%s_mean_reg_%s' % (target, col)] = np.zeros(len(test_copy))\n",
    "        \n",
    "#         for train_index, val_index in splitter:\n",
    "            \n",
    "#             mean_target = train_copy.loc[train_index, col].map(\n",
    "#             train_copy.iloc[train_index,:].groupby(col)[target].mean())\n",
    "\n",
    "#             train_copy.loc[val_index,'%s_mean_reg_%s' % (target, col)] = train_copy.loc[val_index, col].map(mean_target)\n",
    "            \n",
    "#         global_mean = train_copy[target].mean()\n",
    "#         train_copy['%s_mean_reg_%s' % (target, col)].fillna(global_mean, inplace=True)\n",
    "        \n",
    "#     # making test encoding using full training data    \n",
    "#     test_copy['%s_mean_reg_%s' % (target, col)] = test_copy[col].map(train_copy.groupby(col)[target].mean())\n",
    "            \n",
    "#     return train_copy, test_copy"
   ]
  },
  {
   "cell_type": "markdown",
   "metadata": {},
   "source": [
    "### Data preparation"
   ]
  },
  {
   "cell_type": "markdown",
   "metadata": {},
   "source": [
    "#### Initial Exploration\n",
    "Check df shape, columns, class imbalance, dtypes "
   ]
  },
  {
   "cell_type": "code",
   "execution_count": 8,
   "metadata": {},
   "outputs": [],
   "source": [
    "sample = pd.read_csv('sample_submission_1.csv')"
   ]
  },
  {
   "cell_type": "code",
   "execution_count": 9,
   "metadata": {
    "scrolled": true
   },
   "outputs": [
    {
     "data": {
      "text/html": [
       "<div>\n",
       "<style scoped>\n",
       "    .dataframe tbody tr th:only-of-type {\n",
       "        vertical-align: middle;\n",
       "    }\n",
       "\n",
       "    .dataframe tbody tr th {\n",
       "        vertical-align: top;\n",
       "    }\n",
       "\n",
       "    .dataframe thead th {\n",
       "        text-align: right;\n",
       "    }\n",
       "</style>\n",
       "<table border=\"1\" class=\"dataframe\">\n",
       "  <thead>\n",
       "    <tr style=\"text-align: right;\">\n",
       "      <th></th>\n",
       "      <th>id</th>\n",
       "      <th>stroke</th>\n",
       "    </tr>\n",
       "  </thead>\n",
       "  <tbody>\n",
       "    <tr>\n",
       "      <th>0</th>\n",
       "      <td>36306</td>\n",
       "      <td>0</td>\n",
       "    </tr>\n",
       "    <tr>\n",
       "      <th>1</th>\n",
       "      <td>61829</td>\n",
       "      <td>0</td>\n",
       "    </tr>\n",
       "  </tbody>\n",
       "</table>\n",
       "</div>"
      ],
      "text/plain": [
       "      id  stroke\n",
       "0  36306       0\n",
       "1  61829       0"
      ]
     },
     "execution_count": 9,
     "metadata": {},
     "output_type": "execute_result"
    }
   ],
   "source": [
    "sample[:2]"
   ]
  },
  {
   "cell_type": "code",
   "execution_count": 10,
   "metadata": {},
   "outputs": [],
   "source": [
    "train = pd.read_csv('train_ajEneEa.csv')\n",
    "test = pd.read_csv('test_v2akXPA.csv')"
   ]
  },
  {
   "cell_type": "code",
   "execution_count": 11,
   "metadata": {},
   "outputs": [
    {
     "data": {
      "text/plain": [
       "((43400, 12), (18601, 11))"
      ]
     },
     "execution_count": 11,
     "metadata": {},
     "output_type": "execute_result"
    }
   ],
   "source": [
    "train.shape, test.shape"
   ]
  },
  {
   "cell_type": "code",
   "execution_count": 12,
   "metadata": {},
   "outputs": [
    {
     "data": {
      "text/html": [
       "<div>\n",
       "<style scoped>\n",
       "    .dataframe tbody tr th:only-of-type {\n",
       "        vertical-align: middle;\n",
       "    }\n",
       "\n",
       "    .dataframe tbody tr th {\n",
       "        vertical-align: top;\n",
       "    }\n",
       "\n",
       "    .dataframe thead th {\n",
       "        text-align: right;\n",
       "    }\n",
       "</style>\n",
       "<table border=\"1\" class=\"dataframe\">\n",
       "  <thead>\n",
       "    <tr style=\"text-align: right;\">\n",
       "      <th></th>\n",
       "      <th>id</th>\n",
       "      <th>age</th>\n",
       "      <th>hypertension</th>\n",
       "      <th>heart_disease</th>\n",
       "      <th>avg_glucose_level</th>\n",
       "      <th>bmi</th>\n",
       "      <th>stroke</th>\n",
       "    </tr>\n",
       "  </thead>\n",
       "  <tbody>\n",
       "    <tr>\n",
       "      <th>count</th>\n",
       "      <td>43400.000000</td>\n",
       "      <td>43400.000000</td>\n",
       "      <td>43400.000000</td>\n",
       "      <td>43400.000000</td>\n",
       "      <td>43400.000000</td>\n",
       "      <td>41938.000000</td>\n",
       "      <td>43400.000000</td>\n",
       "    </tr>\n",
       "    <tr>\n",
       "      <th>mean</th>\n",
       "      <td>36326.142350</td>\n",
       "      <td>42.217894</td>\n",
       "      <td>0.093571</td>\n",
       "      <td>0.047512</td>\n",
       "      <td>104.482750</td>\n",
       "      <td>28.605038</td>\n",
       "      <td>0.018041</td>\n",
       "    </tr>\n",
       "    <tr>\n",
       "      <th>std</th>\n",
       "      <td>21072.134879</td>\n",
       "      <td>22.519649</td>\n",
       "      <td>0.291235</td>\n",
       "      <td>0.212733</td>\n",
       "      <td>43.111751</td>\n",
       "      <td>7.770020</td>\n",
       "      <td>0.133103</td>\n",
       "    </tr>\n",
       "    <tr>\n",
       "      <th>min</th>\n",
       "      <td>1.000000</td>\n",
       "      <td>0.080000</td>\n",
       "      <td>0.000000</td>\n",
       "      <td>0.000000</td>\n",
       "      <td>55.000000</td>\n",
       "      <td>10.100000</td>\n",
       "      <td>0.000000</td>\n",
       "    </tr>\n",
       "    <tr>\n",
       "      <th>25%</th>\n",
       "      <td>18038.500000</td>\n",
       "      <td>24.000000</td>\n",
       "      <td>0.000000</td>\n",
       "      <td>0.000000</td>\n",
       "      <td>77.540000</td>\n",
       "      <td>23.200000</td>\n",
       "      <td>0.000000</td>\n",
       "    </tr>\n",
       "    <tr>\n",
       "      <th>50%</th>\n",
       "      <td>36351.500000</td>\n",
       "      <td>44.000000</td>\n",
       "      <td>0.000000</td>\n",
       "      <td>0.000000</td>\n",
       "      <td>91.580000</td>\n",
       "      <td>27.700000</td>\n",
       "      <td>0.000000</td>\n",
       "    </tr>\n",
       "    <tr>\n",
       "      <th>75%</th>\n",
       "      <td>54514.250000</td>\n",
       "      <td>60.000000</td>\n",
       "      <td>0.000000</td>\n",
       "      <td>0.000000</td>\n",
       "      <td>112.070000</td>\n",
       "      <td>32.900000</td>\n",
       "      <td>0.000000</td>\n",
       "    </tr>\n",
       "    <tr>\n",
       "      <th>max</th>\n",
       "      <td>72943.000000</td>\n",
       "      <td>82.000000</td>\n",
       "      <td>1.000000</td>\n",
       "      <td>1.000000</td>\n",
       "      <td>291.050000</td>\n",
       "      <td>97.600000</td>\n",
       "      <td>1.000000</td>\n",
       "    </tr>\n",
       "  </tbody>\n",
       "</table>\n",
       "</div>"
      ],
      "text/plain": [
       "                 id           age  hypertension  heart_disease  \\\n",
       "count  43400.000000  43400.000000  43400.000000   43400.000000   \n",
       "mean   36326.142350     42.217894      0.093571       0.047512   \n",
       "std    21072.134879     22.519649      0.291235       0.212733   \n",
       "min        1.000000      0.080000      0.000000       0.000000   \n",
       "25%    18038.500000     24.000000      0.000000       0.000000   \n",
       "50%    36351.500000     44.000000      0.000000       0.000000   \n",
       "75%    54514.250000     60.000000      0.000000       0.000000   \n",
       "max    72943.000000     82.000000      1.000000       1.000000   \n",
       "\n",
       "       avg_glucose_level           bmi        stroke  \n",
       "count       43400.000000  41938.000000  43400.000000  \n",
       "mean          104.482750     28.605038      0.018041  \n",
       "std            43.111751      7.770020      0.133103  \n",
       "min            55.000000     10.100000      0.000000  \n",
       "25%            77.540000     23.200000      0.000000  \n",
       "50%            91.580000     27.700000      0.000000  \n",
       "75%           112.070000     32.900000      0.000000  \n",
       "max           291.050000     97.600000      1.000000  "
      ]
     },
     "execution_count": 12,
     "metadata": {},
     "output_type": "execute_result"
    }
   ],
   "source": [
    "train.describe()"
   ]
  },
  {
   "cell_type": "code",
   "execution_count": 13,
   "metadata": {},
   "outputs": [
    {
     "data": {
      "text/html": [
       "<div>\n",
       "<style scoped>\n",
       "    .dataframe tbody tr th:only-of-type {\n",
       "        vertical-align: middle;\n",
       "    }\n",
       "\n",
       "    .dataframe tbody tr th {\n",
       "        vertical-align: top;\n",
       "    }\n",
       "\n",
       "    .dataframe thead th {\n",
       "        text-align: right;\n",
       "    }\n",
       "</style>\n",
       "<table border=\"1\" class=\"dataframe\">\n",
       "  <thead>\n",
       "    <tr style=\"text-align: right;\">\n",
       "      <th></th>\n",
       "      <th>id</th>\n",
       "      <th>age</th>\n",
       "      <th>hypertension</th>\n",
       "      <th>heart_disease</th>\n",
       "      <th>avg_glucose_level</th>\n",
       "      <th>bmi</th>\n",
       "    </tr>\n",
       "  </thead>\n",
       "  <tbody>\n",
       "    <tr>\n",
       "      <th>count</th>\n",
       "      <td>18601.000000</td>\n",
       "      <td>18601.000000</td>\n",
       "      <td>18601.000000</td>\n",
       "      <td>18601.000000</td>\n",
       "      <td>18601.000000</td>\n",
       "      <td>18010.000000</td>\n",
       "    </tr>\n",
       "    <tr>\n",
       "      <th>mean</th>\n",
       "      <td>36747.368045</td>\n",
       "      <td>42.056504</td>\n",
       "      <td>0.093167</td>\n",
       "      <td>0.048062</td>\n",
       "      <td>104.386359</td>\n",
       "      <td>28.545325</td>\n",
       "    </tr>\n",
       "    <tr>\n",
       "      <th>std</th>\n",
       "      <td>21053.151124</td>\n",
       "      <td>22.528018</td>\n",
       "      <td>0.290674</td>\n",
       "      <td>0.213903</td>\n",
       "      <td>42.606714</td>\n",
       "      <td>7.757092</td>\n",
       "    </tr>\n",
       "    <tr>\n",
       "      <th>min</th>\n",
       "      <td>2.000000</td>\n",
       "      <td>0.080000</td>\n",
       "      <td>0.000000</td>\n",
       "      <td>0.000000</td>\n",
       "      <td>55.000000</td>\n",
       "      <td>10.200000</td>\n",
       "    </tr>\n",
       "    <tr>\n",
       "      <th>25%</th>\n",
       "      <td>18542.000000</td>\n",
       "      <td>24.000000</td>\n",
       "      <td>0.000000</td>\n",
       "      <td>0.000000</td>\n",
       "      <td>77.550000</td>\n",
       "      <td>23.300000</td>\n",
       "    </tr>\n",
       "    <tr>\n",
       "      <th>50%</th>\n",
       "      <td>36717.000000</td>\n",
       "      <td>43.000000</td>\n",
       "      <td>0.000000</td>\n",
       "      <td>0.000000</td>\n",
       "      <td>91.830000</td>\n",
       "      <td>27.700000</td>\n",
       "    </tr>\n",
       "    <tr>\n",
       "      <th>75%</th>\n",
       "      <td>55114.000000</td>\n",
       "      <td>60.000000</td>\n",
       "      <td>0.000000</td>\n",
       "      <td>0.000000</td>\n",
       "      <td>112.310000</td>\n",
       "      <td>32.800000</td>\n",
       "    </tr>\n",
       "    <tr>\n",
       "      <th>max</th>\n",
       "      <td>72942.000000</td>\n",
       "      <td>82.000000</td>\n",
       "      <td>1.000000</td>\n",
       "      <td>1.000000</td>\n",
       "      <td>275.720000</td>\n",
       "      <td>88.300000</td>\n",
       "    </tr>\n",
       "  </tbody>\n",
       "</table>\n",
       "</div>"
      ],
      "text/plain": [
       "                 id           age  hypertension  heart_disease  \\\n",
       "count  18601.000000  18601.000000  18601.000000   18601.000000   \n",
       "mean   36747.368045     42.056504      0.093167       0.048062   \n",
       "std    21053.151124     22.528018      0.290674       0.213903   \n",
       "min        2.000000      0.080000      0.000000       0.000000   \n",
       "25%    18542.000000     24.000000      0.000000       0.000000   \n",
       "50%    36717.000000     43.000000      0.000000       0.000000   \n",
       "75%    55114.000000     60.000000      0.000000       0.000000   \n",
       "max    72942.000000     82.000000      1.000000       1.000000   \n",
       "\n",
       "       avg_glucose_level           bmi  \n",
       "count       18601.000000  18010.000000  \n",
       "mean          104.386359     28.545325  \n",
       "std            42.606714      7.757092  \n",
       "min            55.000000     10.200000  \n",
       "25%            77.550000     23.300000  \n",
       "50%            91.830000     27.700000  \n",
       "75%           112.310000     32.800000  \n",
       "max           275.720000     88.300000  "
      ]
     },
     "execution_count": 13,
     "metadata": {},
     "output_type": "execute_result"
    }
   ],
   "source": [
    "test.describe()"
   ]
  },
  {
   "cell_type": "code",
   "execution_count": 14,
   "metadata": {},
   "outputs": [],
   "source": [
    "# def mean_min_max(df):\n",
    "#     for col in df.columns:\n",
    "#         if df[col].dtype == int or df[col].dtype == float:\n",
    "#             print(col)\n",
    "#             print(\"Mean : \", np.mean(df[col], axis=0), ' | ' \n",
    "#                   \"Min : \", np.min(df[col], axis=0), ' | '\n",
    "#                   'Max : ', np.max(df[col],axis=0), '\\n')"
   ]
  },
  {
   "cell_type": "code",
   "execution_count": 15,
   "metadata": {},
   "outputs": [],
   "source": [
    "#mean_min_max(train)"
   ]
  },
  {
   "cell_type": "code",
   "execution_count": 16,
   "metadata": {},
   "outputs": [],
   "source": [
    "#mean_min_max(test)"
   ]
  },
  {
   "cell_type": "code",
   "execution_count": 17,
   "metadata": {},
   "outputs": [
    {
     "name": "stdout",
     "output_type": "stream",
     "text": [
      "Name of columns in dataframe :  Index(['id', 'gender', 'age', 'hypertension', 'heart_disease', 'ever_married',\n",
      "       'work_type', 'Residence_type', 'avg_glucose_level', 'bmi',\n",
      "       'smoking_status', 'stroke'],\n",
      "      dtype='object') \n",
      "\n",
      "Shape of dataframe :  (43400, 12) \n",
      "\n",
      "Data types of dataframe :  \n",
      " id                     int64\n",
      "gender                object\n",
      "age                  float64\n",
      "hypertension           int64\n",
      "heart_disease          int64\n",
      "ever_married          object\n",
      "work_type             object\n",
      "Residence_type        object\n",
      "avg_glucose_level    float64\n",
      "bmi                  float64\n",
      "smoking_status        object\n",
      "stroke                 int64\n",
      "dtype: object \n",
      "\n",
      "Number of unique values in each column :  \n",
      " id                   43400\n",
      "gender                   3\n",
      "age                    104\n",
      "hypertension             2\n",
      "heart_disease            2\n",
      "ever_married             2\n",
      "work_type                5\n",
      "Residence_type           2\n",
      "avg_glucose_level    12543\n",
      "bmi                    555\n",
      "smoking_status           3\n",
      "stroke                   2\n",
      "dtype: int64 \n",
      "\n",
      "First 2 rows : \n",
      "       id gender   age  hypertension  heart_disease ever_married work_type  \\\n",
      "0  30669   Male   3.0             0              0           No  children   \n",
      "1  30468   Male  58.0             1              0          Yes   Private   \n",
      "\n",
      "  Residence_type  avg_glucose_level   bmi smoking_status  stroke  \n",
      "0          Rural              95.12  18.0            NaN       0  \n",
      "1          Urban              87.96  39.2   never smoked       0   \n",
      "\n",
      "Sum of NAs in each column : \n",
      " id                       0\n",
      "gender                   0\n",
      "age                      0\n",
      "hypertension             0\n",
      "heart_disease            0\n",
      "ever_married             0\n",
      "work_type                0\n",
      "Residence_type           0\n",
      "avg_glucose_level        0\n",
      "bmi                   1462\n",
      "smoking_status       13292\n",
      "stroke                   0\n",
      "dtype: int64\n"
     ]
    }
   ],
   "source": [
    "explore_df(train)"
   ]
  },
  {
   "cell_type": "code",
   "execution_count": 18,
   "metadata": {},
   "outputs": [
    {
     "name": "stdout",
     "output_type": "stream",
     "text": [
      "Name of columns in dataframe :  Index(['id', 'gender', 'age', 'hypertension', 'heart_disease', 'ever_married',\n",
      "       'work_type', 'Residence_type', 'avg_glucose_level', 'bmi',\n",
      "       'smoking_status'],\n",
      "      dtype='object') \n",
      "\n",
      "Shape of dataframe :  (18601, 11) \n",
      "\n",
      "Data types of dataframe :  \n",
      " id                     int64\n",
      "gender                object\n",
      "age                  float64\n",
      "hypertension           int64\n",
      "heart_disease          int64\n",
      "ever_married          object\n",
      "work_type             object\n",
      "Residence_type        object\n",
      "avg_glucose_level    float64\n",
      "bmi                  float64\n",
      "smoking_status        object\n",
      "dtype: object \n",
      "\n",
      "Number of unique values in each column :  \n",
      " id                   18601\n",
      "gender                   3\n",
      "age                    104\n",
      "hypertension             2\n",
      "heart_disease            2\n",
      "ever_married             2\n",
      "work_type                5\n",
      "Residence_type           2\n",
      "avg_glucose_level     8744\n",
      "bmi                    500\n",
      "smoking_status           3\n",
      "dtype: int64 \n",
      "\n",
      "First 2 rows : \n",
      "       id  gender   age  hypertension  heart_disease ever_married  \\\n",
      "0  36306    Male  80.0             0              0          Yes   \n",
      "1  61829  Female  74.0             0              1          Yes   \n",
      "\n",
      "       work_type Residence_type  avg_glucose_level   bmi   smoking_status  \n",
      "0        Private          Urban              83.84  21.1  formerly smoked  \n",
      "1  Self-employed          Rural             179.50  26.0  formerly smoked   \n",
      "\n",
      "Sum of NAs in each column : \n",
      " id                      0\n",
      "gender                  0\n",
      "age                     0\n",
      "hypertension            0\n",
      "heart_disease           0\n",
      "ever_married            0\n",
      "work_type               0\n",
      "Residence_type          0\n",
      "avg_glucose_level       0\n",
      "bmi                   591\n",
      "smoking_status       5751\n",
      "dtype: int64\n"
     ]
    }
   ],
   "source": [
    "explore_df(test)"
   ]
  },
  {
   "cell_type": "markdown",
   "metadata": {},
   "source": [
    "**Data imbalance or not?**"
   ]
  },
  {
   "cell_type": "code",
   "execution_count": 19,
   "metadata": {},
   "outputs": [
    {
     "data": {
      "text/plain": [
       "0    42617\n",
       "1      783\n",
       "Name: stroke, dtype: int64"
      ]
     },
     "execution_count": 19,
     "metadata": {},
     "output_type": "execute_result"
    }
   ],
   "source": [
    "train.stroke.value_counts()"
   ]
  },
  {
   "cell_type": "code",
   "execution_count": 20,
   "metadata": {},
   "outputs": [
    {
     "data": {
      "text/plain": [
       "1.8"
      ]
     },
     "execution_count": 20,
     "metadata": {},
     "output_type": "execute_result"
    }
   ],
   "source": [
    "np.round(sum(train.stroke == 1)/train.shape[0]*100, 2)"
   ]
  },
  {
   "cell_type": "markdown",
   "metadata": {},
   "source": [
    "#### Secondary Preparation\n",
    "Coverting categorical columns to labels, replace NAs with particular value\n"
   ]
  },
  {
   "cell_type": "markdown",
   "metadata": {},
   "source": [
    "**Converting to cat codes. It will also fillna with -1 for string columns**"
   ]
  },
  {
   "cell_type": "code",
   "execution_count": 21,
   "metadata": {},
   "outputs": [],
   "source": [
    "convert_cats(train, test = test)"
   ]
  },
  {
   "cell_type": "code",
   "execution_count": 22,
   "metadata": {},
   "outputs": [
    {
     "data": {
      "text/html": [
       "<div>\n",
       "<style scoped>\n",
       "    .dataframe tbody tr th:only-of-type {\n",
       "        vertical-align: middle;\n",
       "    }\n",
       "\n",
       "    .dataframe tbody tr th {\n",
       "        vertical-align: top;\n",
       "    }\n",
       "\n",
       "    .dataframe thead th {\n",
       "        text-align: right;\n",
       "    }\n",
       "</style>\n",
       "<table border=\"1\" class=\"dataframe\">\n",
       "  <thead>\n",
       "    <tr style=\"text-align: right;\">\n",
       "      <th></th>\n",
       "      <th>id</th>\n",
       "      <th>gender</th>\n",
       "      <th>age</th>\n",
       "      <th>hypertension</th>\n",
       "      <th>heart_disease</th>\n",
       "      <th>ever_married</th>\n",
       "      <th>work_type</th>\n",
       "      <th>Residence_type</th>\n",
       "      <th>avg_glucose_level</th>\n",
       "      <th>bmi</th>\n",
       "      <th>smoking_status</th>\n",
       "      <th>stroke</th>\n",
       "    </tr>\n",
       "  </thead>\n",
       "  <tbody>\n",
       "    <tr>\n",
       "      <th>0</th>\n",
       "      <td>30669</td>\n",
       "      <td>1</td>\n",
       "      <td>3.0</td>\n",
       "      <td>0</td>\n",
       "      <td>0</td>\n",
       "      <td>0</td>\n",
       "      <td>4</td>\n",
       "      <td>0</td>\n",
       "      <td>95.12</td>\n",
       "      <td>18.0</td>\n",
       "      <td>-1</td>\n",
       "      <td>0</td>\n",
       "    </tr>\n",
       "    <tr>\n",
       "      <th>1</th>\n",
       "      <td>30468</td>\n",
       "      <td>1</td>\n",
       "      <td>58.0</td>\n",
       "      <td>1</td>\n",
       "      <td>0</td>\n",
       "      <td>1</td>\n",
       "      <td>2</td>\n",
       "      <td>1</td>\n",
       "      <td>87.96</td>\n",
       "      <td>39.2</td>\n",
       "      <td>1</td>\n",
       "      <td>0</td>\n",
       "    </tr>\n",
       "  </tbody>\n",
       "</table>\n",
       "</div>"
      ],
      "text/plain": [
       "      id  gender   age  hypertension  heart_disease  ever_married  work_type  \\\n",
       "0  30669       1   3.0             0              0             0          4   \n",
       "1  30468       1  58.0             1              0             1          2   \n",
       "\n",
       "   Residence_type  avg_glucose_level   bmi  smoking_status  stroke  \n",
       "0               0              95.12  18.0              -1       0  \n",
       "1               1              87.96  39.2               1       0  "
      ]
     },
     "execution_count": 22,
     "metadata": {},
     "output_type": "execute_result"
    }
   ],
   "source": [
    "train[:2]"
   ]
  },
  {
   "cell_type": "code",
   "execution_count": 23,
   "metadata": {},
   "outputs": [
    {
     "data": {
      "text/html": [
       "<div>\n",
       "<style scoped>\n",
       "    .dataframe tbody tr th:only-of-type {\n",
       "        vertical-align: middle;\n",
       "    }\n",
       "\n",
       "    .dataframe tbody tr th {\n",
       "        vertical-align: top;\n",
       "    }\n",
       "\n",
       "    .dataframe thead th {\n",
       "        text-align: right;\n",
       "    }\n",
       "</style>\n",
       "<table border=\"1\" class=\"dataframe\">\n",
       "  <thead>\n",
       "    <tr style=\"text-align: right;\">\n",
       "      <th></th>\n",
       "      <th>id</th>\n",
       "      <th>gender</th>\n",
       "      <th>age</th>\n",
       "      <th>hypertension</th>\n",
       "      <th>heart_disease</th>\n",
       "      <th>ever_married</th>\n",
       "      <th>work_type</th>\n",
       "      <th>Residence_type</th>\n",
       "      <th>avg_glucose_level</th>\n",
       "      <th>bmi</th>\n",
       "      <th>smoking_status</th>\n",
       "    </tr>\n",
       "  </thead>\n",
       "  <tbody>\n",
       "    <tr>\n",
       "      <th>0</th>\n",
       "      <td>36306</td>\n",
       "      <td>1</td>\n",
       "      <td>80.0</td>\n",
       "      <td>0</td>\n",
       "      <td>0</td>\n",
       "      <td>1</td>\n",
       "      <td>2</td>\n",
       "      <td>1</td>\n",
       "      <td>83.84</td>\n",
       "      <td>21.1</td>\n",
       "      <td>0</td>\n",
       "    </tr>\n",
       "    <tr>\n",
       "      <th>1</th>\n",
       "      <td>61829</td>\n",
       "      <td>0</td>\n",
       "      <td>74.0</td>\n",
       "      <td>0</td>\n",
       "      <td>1</td>\n",
       "      <td>1</td>\n",
       "      <td>3</td>\n",
       "      <td>0</td>\n",
       "      <td>179.50</td>\n",
       "      <td>26.0</td>\n",
       "      <td>0</td>\n",
       "    </tr>\n",
       "  </tbody>\n",
       "</table>\n",
       "</div>"
      ],
      "text/plain": [
       "      id  gender   age  hypertension  heart_disease  ever_married  work_type  \\\n",
       "0  36306       1  80.0             0              0             1          2   \n",
       "1  61829       0  74.0             0              1             1          3   \n",
       "\n",
       "   Residence_type  avg_glucose_level   bmi  smoking_status  \n",
       "0               1              83.84  21.1               0  \n",
       "1               0             179.50  26.0               0  "
      ]
     },
     "execution_count": 23,
     "metadata": {},
     "output_type": "execute_result"
    }
   ],
   "source": [
    "test[:2]"
   ]
  },
  {
   "cell_type": "markdown",
   "metadata": {},
   "source": [
    "** FIlling NAs for bmi **"
   ]
  },
  {
   "cell_type": "code",
   "execution_count": 24,
   "metadata": {},
   "outputs": [
    {
     "data": {
      "text/plain": [
       "<matplotlib.axes._subplots.AxesSubplot at 0x1c1b53eef0>"
      ]
     },
     "execution_count": 24,
     "metadata": {},
     "output_type": "execute_result"
    },
    {
     "data": {
      "image/png": "[encoded data removed]",
      "text/plain": [
       "<Figure size 432x288 with 1 Axes>"
      ]
     },
     "metadata": {},
     "output_type": "display_data"
    }
   ],
   "source": [
    "train.bmi.hist()"
   ]
  },
  {
   "cell_type": "code",
   "execution_count": 25,
   "metadata": {},
   "outputs": [],
   "source": [
    "train_mean = train.bmi.mean()\n",
    "train.bmi.fillna(train_mean, inplace=True)\n",
    "test.bmi.fillna(train_mean, inplace=True)"
   ]
  },
  {
   "cell_type": "markdown",
   "metadata": {},
   "source": [
    "### Distribution plots"
   ]
  },
  {
   "cell_type": "code",
   "execution_count": 26,
   "metadata": {},
   "outputs": [],
   "source": [
    "def density_plot(df):\n",
    "    ''' Explore data by plotting KDE graphs. '''\n",
    "    \n",
    "    \n",
    "    #Define figure subplots\n",
    "    fig = plt.figure(1, figsize=(25,10))\n",
    "   # fig, ax = plt.subplots(nrows=3)\n",
    "    \n",
    "    fig.subplots_adjust(bottom= -1, left=0.025, top = 2, right=0.975)\n",
    "    \n",
    "    #Loop through features    \n",
    "    i = 1\n",
    "    for col in df.columns:\n",
    "        \n",
    "        #Set subplot and plot format        \n",
    "        sns.set_style(\"ticks\")\n",
    "        sns.set_context(\"paper\", font_scale = 3, rc={\"lines.linewidth\": 1})\n",
    "        plt.subplot(8,2,0 + i)\n",
    "        j = i - 1\n",
    "        \n",
    "        #Plot KDE for all labels\n",
    "        sns.distplot(df[df['stroke'] == 0].iloc[:,j], hist = False, label = 'no stroke', kde_kws={\"lw\":4})\n",
    "        sns.distplot(df[df['stroke'] == 1].iloc[:,j], hist = False, label = 'stroke', kde_kws={\"lw\":4})\n",
    "        plt.legend();\n",
    "        i = i + 1\n",
    "    \n",
    "    #Define plot format    \n",
    "    DefaultSize = fig.get_size_inches()\n",
    "    fig.set_size_inches((DefaultSize[0]*1.2, DefaultSize[1]*1.2))\n",
    "\n",
    "    plt.show()"
   ]
  },
  {
   "cell_type": "code",
   "execution_count": 112,
   "metadata": {
    "scrolled": false
   },
   "outputs": [
    {
     "name": "stderr",
     "output_type": "stream",
     "text": [
      "/Users/princegrover/anaconda3/envs/fastai/lib/python3.6/site-packages/statsmodels/nonparametric/kde.py:494: RuntimeWarning: invalid value encountered in true_divide\n",
      "  binned = fast_linbin(X,a,b,gridsize)/(delta*nobs)\n",
      "/Users/princegrover/anaconda3/envs/fastai/lib/python3.6/site-packages/statsmodels/nonparametric/kdetools.py:34: RuntimeWarning: invalid value encountered in double_scalars\n",
      "  FAC1 = 2*(np.pi*bw/RANGE)**2\n",
      "/Users/princegrover/anaconda3/envs/fastai/lib/python3.6/site-packages/numpy/core/_methods.py:26: RuntimeWarning: invalid value encountered in reduce\n",
      "  return umr_maximum(a, axis, None, out, keepdims)\n"
     ]
    },
    {
     "data": {
      "image/png": "[encoded data removed]",
      "text/plain": [
       "<Figure size 2160x864 with 12 Axes>"
      ]
     },
     "metadata": {},
     "output_type": "display_data"
    }
   ],
   "source": [
    "density_plot(train)"
   ]
  },
  {
   "cell_type": "code",
   "execution_count": 114,
   "metadata": {},
   "outputs": [
    {
     "data": {
      "text/plain": [
       "1    21756\n",
       "0    21644\n",
       "Name: Residence_type, dtype: int64"
      ]
     },
     "execution_count": 114,
     "metadata": {},
     "output_type": "execute_result"
    }
   ],
   "source": [
    "x.Residence_type.value_counts()"
   ]
  },
  {
   "cell_type": "markdown",
   "metadata": {},
   "source": [
    "Features with little or more shift in distributions:\n",
    "\n",
    "* Heart Disease\n",
    "* Age (after binning)\n",
    "* smoking_status\n",
    "* Gender\n",
    "* Residence Type\n",
    "* Ever Married\n",
    "* Work Type"
   ]
  },
  {
   "cell_type": "markdown",
   "metadata": {},
   "source": [
    "### Modelling"
   ]
  },
  {
   "cell_type": "code",
   "execution_count": 32,
   "metadata": {},
   "outputs": [
    {
     "data": {
      "text/html": [
       "<div>\n",
       "<style scoped>\n",
       "    .dataframe tbody tr th:only-of-type {\n",
       "        vertical-align: middle;\n",
       "    }\n",
       "\n",
       "    .dataframe tbody tr th {\n",
       "        vertical-align: top;\n",
       "    }\n",
       "\n",
       "    .dataframe thead th {\n",
       "        text-align: right;\n",
       "    }\n",
       "</style>\n",
       "<table border=\"1\" class=\"dataframe\">\n",
       "  <thead>\n",
       "    <tr style=\"text-align: right;\">\n",
       "      <th></th>\n",
       "      <th>id</th>\n",
       "      <th>gender</th>\n",
       "      <th>age</th>\n",
       "      <th>hypertension</th>\n",
       "      <th>heart_disease</th>\n",
       "      <th>ever_married</th>\n",
       "      <th>work_type</th>\n",
       "      <th>Residence_type</th>\n",
       "      <th>avg_glucose_level</th>\n",
       "      <th>bmi</th>\n",
       "      <th>smoking_status</th>\n",
       "      <th>stroke</th>\n",
       "    </tr>\n",
       "  </thead>\n",
       "  <tbody>\n",
       "    <tr>\n",
       "      <th>0</th>\n",
       "      <td>30669</td>\n",
       "      <td>1</td>\n",
       "      <td>3.0</td>\n",
       "      <td>0</td>\n",
       "      <td>0</td>\n",
       "      <td>0</td>\n",
       "      <td>4</td>\n",
       "      <td>0</td>\n",
       "      <td>95.12</td>\n",
       "      <td>18.0</td>\n",
       "      <td>-1</td>\n",
       "      <td>0</td>\n",
       "    </tr>\n",
       "    <tr>\n",
       "      <th>1</th>\n",
       "      <td>30468</td>\n",
       "      <td>1</td>\n",
       "      <td>58.0</td>\n",
       "      <td>1</td>\n",
       "      <td>0</td>\n",
       "      <td>1</td>\n",
       "      <td>2</td>\n",
       "      <td>1</td>\n",
       "      <td>87.96</td>\n",
       "      <td>39.2</td>\n",
       "      <td>1</td>\n",
       "      <td>0</td>\n",
       "    </tr>\n",
       "  </tbody>\n",
       "</table>\n",
       "</div>"
      ],
      "text/plain": [
       "      id  gender   age  hypertension  heart_disease  ever_married  work_type  \\\n",
       "0  30669       1   3.0             0              0             0          4   \n",
       "1  30468       1  58.0             1              0             1          2   \n",
       "\n",
       "   Residence_type  avg_glucose_level   bmi  smoking_status  stroke  \n",
       "0               0              95.12  18.0              -1       0  \n",
       "1               1              87.96  39.2               1       0  "
      ]
     },
     "execution_count": 32,
     "metadata": {},
     "output_type": "execute_result"
    }
   ],
   "source": [
    "train[:2]"
   ]
  },
  {
   "cell_type": "code",
   "execution_count": 33,
   "metadata": {},
   "outputs": [],
   "source": [
    "x = train.drop(labels='stroke', axis=1)\n",
    "y = train['stroke']"
   ]
  },
  {
   "cell_type": "markdown",
   "metadata": {},
   "source": [
    "#### Random Forest"
   ]
  },
  {
   "cell_type": "code",
   "execution_count": 146,
   "metadata": {},
   "outputs": [],
   "source": [
    "from sklearn.ensemble import RandomForestClassifier\n",
    "from sklearn.model_selection import GridSearchCV\n",
    "from sklearn.model_selection import StratifiedKFold"
   ]
  },
  {
   "cell_type": "markdown",
   "metadata": {},
   "source": [
    "Grid search"
   ]
  },
  {
   "cell_type": "code",
   "execution_count": 50,
   "metadata": {},
   "outputs": [],
   "source": [
    "# predictons = m.predict_proba(test)[:,1]\n",
    "# pred_df = pd.DataFrame(test.id)\n",
    "# pred_df['stroke'] = predictons"
   ]
  },
  {
   "cell_type": "code",
   "execution_count": 60,
   "metadata": {},
   "outputs": [
    {
     "data": {
      "text/html": [
       "<div>\n",
       "<style scoped>\n",
       "    .dataframe tbody tr th:only-of-type {\n",
       "        vertical-align: middle;\n",
       "    }\n",
       "\n",
       "    .dataframe tbody tr th {\n",
       "        vertical-align: top;\n",
       "    }\n",
       "\n",
       "    .dataframe thead th {\n",
       "        text-align: right;\n",
       "    }\n",
       "</style>\n",
       "<table border=\"1\" class=\"dataframe\">\n",
       "  <thead>\n",
       "    <tr style=\"text-align: right;\">\n",
       "      <th></th>\n",
       "      <th>id</th>\n",
       "      <th>stroke</th>\n",
       "    </tr>\n",
       "  </thead>\n",
       "  <tbody>\n",
       "    <tr>\n",
       "      <th>0</th>\n",
       "      <td>36306</td>\n",
       "      <td>0.723278</td>\n",
       "    </tr>\n",
       "  </tbody>\n",
       "</table>\n",
       "</div>"
      ],
      "text/plain": [
       "      id    stroke\n",
       "0  36306  0.723278"
      ]
     },
     "execution_count": 60,
     "metadata": {},
     "output_type": "execute_result"
    }
   ],
   "source": [
    "# pred_df[:1]"
   ]
  },
  {
   "cell_type": "code",
   "execution_count": 64,
   "metadata": {},
   "outputs": [],
   "source": [
    "# pred_df.to_csv('submissions/rf_baseline.csv', index=False)"
   ]
  },
  {
   "cell_type": "markdown",
   "metadata": {},
   "source": [
    "### Age binning"
   ]
  },
  {
   "cell_type": "code",
   "execution_count": 27,
   "metadata": {},
   "outputs": [],
   "source": [
    "train2 = train.assign(age_bins =  pd.cut(train.age, 4, retbins=False, include_lowest=True))"
   ]
  },
  {
   "cell_type": "code",
   "execution_count": 28,
   "metadata": {},
   "outputs": [],
   "source": [
    "test2 = test.assign(age_bins =  pd.cut(test.age, [-0.00192, 20.56, 41.04, 61.52, 82.],\n",
    "                                       retbins=False, include_lowest=True))"
   ]
  },
  {
   "cell_type": "code",
   "execution_count": 29,
   "metadata": {
    "scrolled": true
   },
   "outputs": [],
   "source": [
    "train2.age_bins = train2.age_bins.cat.codes\n",
    "test2.age_bins = test2.age_bins.cat.codes"
   ]
  },
  {
   "cell_type": "code",
   "execution_count": 209,
   "metadata": {
    "scrolled": true
   },
   "outputs": [],
   "source": [
    "train2.to_csv('intermediate_data/raw_train.csv', index=False)\n",
    "test2.to_csv('intermediate_data/raw_test.csv', index=False)"
   ]
  },
  {
   "cell_type": "markdown",
   "metadata": {},
   "source": [
    "### Target Encoding"
   ]
  },
  {
   "cell_type": "code",
   "execution_count": 118,
   "metadata": {},
   "outputs": [
    {
     "data": {
      "text/plain": [
       "Index(['id', 'gender', 'age', 'hypertension', 'heart_disease', 'ever_married',\n",
       "       'work_type', 'Residence_type', 'avg_glucose_level', 'bmi',\n",
       "       'smoking_status', 'stroke'],\n",
       "      dtype='object')"
      ]
     },
     "execution_count": 118,
     "metadata": {},
     "output_type": "execute_result"
    }
   ],
   "source": [
    "train.columns"
   ]
  },
  {
   "cell_type": "code",
   "execution_count": 82,
   "metadata": {},
   "outputs": [],
   "source": [
    "train_enc, test_enc = target_encoder_regularized(train2, test2, \n",
    "                                                 ['gender', 'hypertension', \n",
    "                                                  'smoking_status', 'heart_disease', \n",
    "                                                  'Residence_type', 'ever_married',\n",
    "                                                  'age_bins'],\n",
    "                                                 \n",
    "                                                 'stroke',\n",
    "                                                 \n",
    "                                                 ['avg_glucose_level',\n",
    "                                                  'stroke', \n",
    "                                                  'bmi' ],\n",
    "                                                 folds = 5)"
   ]
  },
  {
   "cell_type": "code",
   "execution_count": 83,
   "metadata": {},
   "outputs": [
    {
     "data": {
      "text/html": [
       "<div>\n",
       "<style scoped>\n",
       "    .dataframe tbody tr th:only-of-type {\n",
       "        vertical-align: middle;\n",
       "    }\n",
       "\n",
       "    .dataframe tbody tr th {\n",
       "        vertical-align: top;\n",
       "    }\n",
       "\n",
       "    .dataframe thead th {\n",
       "        text-align: right;\n",
       "    }\n",
       "</style>\n",
       "<table border=\"1\" class=\"dataframe\">\n",
       "  <thead>\n",
       "    <tr style=\"text-align: right;\">\n",
       "      <th></th>\n",
       "      <th>id</th>\n",
       "      <th>gender</th>\n",
       "      <th>age</th>\n",
       "      <th>hypertension</th>\n",
       "      <th>heart_disease</th>\n",
       "      <th>ever_married</th>\n",
       "      <th>work_type</th>\n",
       "      <th>Residence_type</th>\n",
       "      <th>avg_glucose_level</th>\n",
       "      <th>bmi</th>\n",
       "      <th>...</th>\n",
       "      <th>bmi_mean_heart_disease</th>\n",
       "      <th>avg_glucose_level_mean_Residence_type</th>\n",
       "      <th>stroke_mean_Residence_type</th>\n",
       "      <th>bmi_mean_Residence_type</th>\n",
       "      <th>avg_glucose_level_mean_ever_married</th>\n",
       "      <th>stroke_mean_ever_married</th>\n",
       "      <th>bmi_mean_ever_married</th>\n",
       "      <th>avg_glucose_level_mean_age_bins</th>\n",
       "      <th>stroke_mean_age_bins</th>\n",
       "      <th>bmi_mean_age_bins</th>\n",
       "    </tr>\n",
       "  </thead>\n",
       "  <tbody>\n",
       "    <tr>\n",
       "      <th>0</th>\n",
       "      <td>36306</td>\n",
       "      <td>1</td>\n",
       "      <td>80.0</td>\n",
       "      <td>0</td>\n",
       "      <td>0</td>\n",
       "      <td>1</td>\n",
       "      <td>2</td>\n",
       "      <td>1</td>\n",
       "      <td>83.84</td>\n",
       "      <td>21.1</td>\n",
       "      <td>...</td>\n",
       "      <td>28.512695</td>\n",
       "      <td>104.483331</td>\n",
       "      <td>0.018340</td>\n",
       "      <td>28.576962</td>\n",
       "      <td>109.409233</td>\n",
       "      <td>0.025163</td>\n",
       "      <td>30.522851</td>\n",
       "      <td>120.376405</td>\n",
       "      <td>0.057177</td>\n",
       "      <td>29.80115</td>\n",
       "    </tr>\n",
       "    <tr>\n",
       "      <th>1</th>\n",
       "      <td>61829</td>\n",
       "      <td>0</td>\n",
       "      <td>74.0</td>\n",
       "      <td>0</td>\n",
       "      <td>1</td>\n",
       "      <td>1</td>\n",
       "      <td>3</td>\n",
       "      <td>0</td>\n",
       "      <td>179.50</td>\n",
       "      <td>26.0</td>\n",
       "      <td>...</td>\n",
       "      <td>30.456295</td>\n",
       "      <td>104.482166</td>\n",
       "      <td>0.017742</td>\n",
       "      <td>28.633260</td>\n",
       "      <td>109.409233</td>\n",
       "      <td>0.025163</td>\n",
       "      <td>30.522851</td>\n",
       "      <td>120.376405</td>\n",
       "      <td>0.057177</td>\n",
       "      <td>29.80115</td>\n",
       "    </tr>\n",
       "  </tbody>\n",
       "</table>\n",
       "<p>2 rows × 33 columns</p>\n",
       "</div>"
      ],
      "text/plain": [
       "      id  gender   age  hypertension  heart_disease  ever_married  work_type  \\\n",
       "0  36306       1  80.0             0              0             1          2   \n",
       "1  61829       0  74.0             0              1             1          3   \n",
       "\n",
       "   Residence_type  avg_glucose_level   bmi        ...          \\\n",
       "0               1              83.84  21.1        ...           \n",
       "1               0             179.50  26.0        ...           \n",
       "\n",
       "   bmi_mean_heart_disease  avg_glucose_level_mean_Residence_type  \\\n",
       "0               28.512695                             104.483331   \n",
       "1               30.456295                             104.482166   \n",
       "\n",
       "   stroke_mean_Residence_type  bmi_mean_Residence_type  \\\n",
       "0                    0.018340                28.576962   \n",
       "1                    0.017742                28.633260   \n",
       "\n",
       "   avg_glucose_level_mean_ever_married  stroke_mean_ever_married  \\\n",
       "0                           109.409233                  0.025163   \n",
       "1                           109.409233                  0.025163   \n",
       "\n",
       "   bmi_mean_ever_married  avg_glucose_level_mean_age_bins  \\\n",
       "0              30.522851                       120.376405   \n",
       "1              30.522851                       120.376405   \n",
       "\n",
       "   stroke_mean_age_bins  bmi_mean_age_bins  \n",
       "0              0.057177           29.80115  \n",
       "1              0.057177           29.80115  \n",
       "\n",
       "[2 rows x 33 columns]"
      ]
     },
     "execution_count": 83,
     "metadata": {},
     "output_type": "execute_result"
    }
   ],
   "source": [
    "test_enc[:2]"
   ]
  },
  {
   "cell_type": "code",
   "execution_count": 84,
   "metadata": {},
   "outputs": [
    {
     "data": {
      "text/html": [
       "<div>\n",
       "<style scoped>\n",
       "    .dataframe tbody tr th:only-of-type {\n",
       "        vertical-align: middle;\n",
       "    }\n",
       "\n",
       "    .dataframe tbody tr th {\n",
       "        vertical-align: top;\n",
       "    }\n",
       "\n",
       "    .dataframe thead th {\n",
       "        text-align: right;\n",
       "    }\n",
       "</style>\n",
       "<table border=\"1\" class=\"dataframe\">\n",
       "  <thead>\n",
       "    <tr style=\"text-align: right;\">\n",
       "      <th></th>\n",
       "      <th>id</th>\n",
       "      <th>gender</th>\n",
       "      <th>age</th>\n",
       "      <th>hypertension</th>\n",
       "      <th>heart_disease</th>\n",
       "      <th>ever_married</th>\n",
       "      <th>work_type</th>\n",
       "      <th>Residence_type</th>\n",
       "      <th>avg_glucose_level</th>\n",
       "      <th>bmi</th>\n",
       "      <th>...</th>\n",
       "      <th>bmi_mean_heart_disease</th>\n",
       "      <th>avg_glucose_level_mean_Residence_type</th>\n",
       "      <th>stroke_mean_Residence_type</th>\n",
       "      <th>bmi_mean_Residence_type</th>\n",
       "      <th>avg_glucose_level_mean_ever_married</th>\n",
       "      <th>stroke_mean_ever_married</th>\n",
       "      <th>bmi_mean_ever_married</th>\n",
       "      <th>avg_glucose_level_mean_age_bins</th>\n",
       "      <th>stroke_mean_age_bins</th>\n",
       "      <th>bmi_mean_age_bins</th>\n",
       "    </tr>\n",
       "  </thead>\n",
       "  <tbody>\n",
       "    <tr>\n",
       "      <th>0</th>\n",
       "      <td>56543</td>\n",
       "      <td>0</td>\n",
       "      <td>70.0</td>\n",
       "      <td>0</td>\n",
       "      <td>0</td>\n",
       "      <td>1</td>\n",
       "      <td>2</td>\n",
       "      <td>0</td>\n",
       "      <td>69.04</td>\n",
       "      <td>35.9</td>\n",
       "      <td>...</td>\n",
       "      <td>28.492446</td>\n",
       "      <td>104.32487</td>\n",
       "      <td>0.017737</td>\n",
       "      <td>28.623752</td>\n",
       "      <td>109.177633</td>\n",
       "      <td>0.025117</td>\n",
       "      <td>30.500906</td>\n",
       "      <td>120.176821</td>\n",
       "      <td>0.057451</td>\n",
       "      <td>29.781914</td>\n",
       "    </tr>\n",
       "    <tr>\n",
       "      <th>1</th>\n",
       "      <td>15266</td>\n",
       "      <td>0</td>\n",
       "      <td>32.0</td>\n",
       "      <td>0</td>\n",
       "      <td>0</td>\n",
       "      <td>1</td>\n",
       "      <td>2</td>\n",
       "      <td>0</td>\n",
       "      <td>77.67</td>\n",
       "      <td>32.3</td>\n",
       "      <td>...</td>\n",
       "      <td>28.492446</td>\n",
       "      <td>104.32487</td>\n",
       "      <td>0.017737</td>\n",
       "      <td>28.623752</td>\n",
       "      <td>109.177633</td>\n",
       "      <td>0.025117</td>\n",
       "      <td>30.500906</td>\n",
       "      <td>96.573910</td>\n",
       "      <td>0.002422</td>\n",
       "      <td>29.757469</td>\n",
       "    </tr>\n",
       "  </tbody>\n",
       "</table>\n",
       "<p>2 rows × 34 columns</p>\n",
       "</div>"
      ],
      "text/plain": [
       "      id  gender   age  hypertension  heart_disease  ever_married  work_type  \\\n",
       "0  56543       0  70.0             0              0             1          2   \n",
       "1  15266       0  32.0             0              0             1          2   \n",
       "\n",
       "   Residence_type  avg_glucose_level   bmi        ...          \\\n",
       "0               0              69.04  35.9        ...           \n",
       "1               0              77.67  32.3        ...           \n",
       "\n",
       "   bmi_mean_heart_disease  avg_glucose_level_mean_Residence_type  \\\n",
       "0               28.492446                              104.32487   \n",
       "1               28.492446                              104.32487   \n",
       "\n",
       "   stroke_mean_Residence_type  bmi_mean_Residence_type  \\\n",
       "0                    0.017737                28.623752   \n",
       "1                    0.017737                28.623752   \n",
       "\n",
       "   avg_glucose_level_mean_ever_married  stroke_mean_ever_married  \\\n",
       "0                           109.177633                  0.025117   \n",
       "1                           109.177633                  0.025117   \n",
       "\n",
       "   bmi_mean_ever_married  avg_glucose_level_mean_age_bins  \\\n",
       "0              30.500906                       120.176821   \n",
       "1              30.500906                        96.573910   \n",
       "\n",
       "   stroke_mean_age_bins  bmi_mean_age_bins  \n",
       "0              0.057451          29.781914  \n",
       "1              0.002422          29.757469  \n",
       "\n",
       "[2 rows x 34 columns]"
      ]
     },
     "execution_count": 84,
     "metadata": {},
     "output_type": "execute_result"
    }
   ],
   "source": [
    "train_enc[:2]"
   ]
  },
  {
   "cell_type": "markdown",
   "metadata": {},
   "source": [
    "### Validation split"
   ]
  },
  {
   "cell_type": "code",
   "execution_count": 85,
   "metadata": {},
   "outputs": [],
   "source": [
    "x_trn, x_val, y_trn, y_val = train_test_split(train_enc.drop('stroke', axis=1), \n",
    "                                                    train_enc['stroke'],\n",
    "                                                    stratify= train_enc['stroke'] , \n",
    "                                                    test_size=0.20,\n",
    "                                                 random_state=1)"
   ]
  },
  {
   "cell_type": "code",
   "execution_count": 86,
   "metadata": {},
   "outputs": [],
   "source": [
    "x_trn2 = x_trn.reset_index(drop=True)\n",
    "x_val2 = x_val.reset_index(drop=True)\n",
    "y_trn2 = y_trn.reset_index(drop=True)\n",
    "y_val2 = y_val.reset_index(drop=True)"
   ]
  },
  {
   "cell_type": "code",
   "execution_count": 199,
   "metadata": {},
   "outputs": [
    {
     "data": {
      "text/plain": [
       "((34720, 33), (34720,))"
      ]
     },
     "execution_count": 199,
     "metadata": {},
     "output_type": "execute_result"
    }
   ],
   "source": [
    "x_trn2.shape, y_trn2.shape"
   ]
  },
  {
   "cell_type": "markdown",
   "metadata": {},
   "source": [
    "### Saving this data for other models"
   ]
  },
  {
   "cell_type": "code",
   "execution_count": 198,
   "metadata": {},
   "outputs": [],
   "source": [
    "x_trn2.to_csv('intermediate_data/x_trn2.csv', index=False)\n",
    "x_val2.to_csv('intermediate_data/x_val2.csv', index=False)\n",
    "# y_trn2.to_csv('intermediate_data/y_trn2.csv')\n",
    "# y_val2.to_csv('intermediate_data/y_val2.csv')\n",
    "train_enc.to_csv('intermediate_data/train_enc.csv', index=False)\n",
    "test_enc.to_csv('intermediate_data/test_enc.csv', index=False)\n",
    "\n",
    "np.save('intermediate_data/y_trn2.npy', y_trn2.values)\n",
    "np.save('intermediate_data/y_val2.npy', y_val2.values)"
   ]
  },
  {
   "cell_type": "markdown",
   "metadata": {},
   "source": [
    "### Re-fitting RF"
   ]
  },
  {
   "cell_type": "code",
   "execution_count": 148,
   "metadata": {
    "scrolled": true
   },
   "outputs": [
    {
     "name": "stdout",
     "output_type": "stream",
     "text": [
      "Fitting 5 folds for each of 32 candidates, totalling 160 fits\n",
      "[CV] max_features=log2, min_samples_leaf=1 ...........................\n",
      "[CV]  max_features=log2, min_samples_leaf=1, score=0.7439088261789538, total=   2.1s\n",
      "[CV] max_features=log2, min_samples_leaf=1 ...........................\n"
     ]
    },
    {
     "name": "stderr",
     "output_type": "stream",
     "text": [
      "[Parallel(n_jobs=1)]: Done   1 out of   1 | elapsed:    2.4s remaining:    0.0s\n"
     ]
    },
    {
     "name": "stdout",
     "output_type": "stream",
     "text": [
      "[CV]  max_features=log2, min_samples_leaf=1, score=0.8116110866695997, total=   1.8s\n",
      "[CV] max_features=log2, min_samples_leaf=1 ...........................\n"
     ]
    },
    {
     "name": "stderr",
     "output_type": "stream",
     "text": [
      "[Parallel(n_jobs=1)]: Done   2 out of   2 | elapsed:    4.4s remaining:    0.0s\n"
     ]
    },
    {
     "name": "stdout",
     "output_type": "stream",
     "text": [
      "[CV]  max_features=log2, min_samples_leaf=1, score=0.7913606100601261, total=   1.7s\n",
      "[CV] max_features=log2, min_samples_leaf=1 ...........................\n"
     ]
    },
    {
     "name": "stderr",
     "output_type": "stream",
     "text": [
      "[Parallel(n_jobs=1)]: Done   3 out of   3 | elapsed:    6.4s remaining:    0.0s\n"
     ]
    },
    {
     "name": "stdout",
     "output_type": "stream",
     "text": [
      "[CV]  max_features=log2, min_samples_leaf=1, score=0.7643484381874175, total=   2.0s\n",
      "[CV] max_features=log2, min_samples_leaf=1 ...........................\n"
     ]
    },
    {
     "name": "stderr",
     "output_type": "stream",
     "text": [
      "[Parallel(n_jobs=1)]: Done   4 out of   4 | elapsed:    8.6s remaining:    0.0s\n"
     ]
    },
    {
     "name": "stdout",
     "output_type": "stream",
     "text": [
      "[CV]  max_features=log2, min_samples_leaf=1, score=0.7635963625696686, total=   2.2s\n",
      "[CV] max_features=log2, min_samples_leaf=3 ...........................\n"
     ]
    },
    {
     "name": "stderr",
     "output_type": "stream",
     "text": [
      "[Parallel(n_jobs=1)]: Done   5 out of   5 | elapsed:   11.1s remaining:    0.0s\n"
     ]
    },
    {
     "name": "stdout",
     "output_type": "stream",
     "text": [
      "[CV]  max_features=log2, min_samples_leaf=3, score=0.7937456499929003, total=   2.0s\n",
      "[CV] max_features=log2, min_samples_leaf=3 ...........................\n"
     ]
    },
    {
     "name": "stderr",
     "output_type": "stream",
     "text": [
      "[Parallel(n_jobs=1)]: Done   6 out of   6 | elapsed:   13.4s remaining:    0.0s\n"
     ]
    },
    {
     "name": "stdout",
     "output_type": "stream",
     "text": [
      "[CV]  max_features=log2, min_samples_leaf=3, score=0.8214442000293298, total=   2.0s\n",
      "[CV] max_features=log2, min_samples_leaf=3 ...........................\n"
     ]
    },
    {
     "name": "stderr",
     "output_type": "stream",
     "text": [
      "[Parallel(n_jobs=1)]: Done   7 out of   7 | elapsed:   15.6s remaining:    0.0s\n"
     ]
    },
    {
     "name": "stdout",
     "output_type": "stream",
     "text": [
      "[CV]  max_features=log2, min_samples_leaf=3, score=0.8245449479395806, total=   2.0s\n",
      "[CV] max_features=log2, min_samples_leaf=3 ...........................\n"
     ]
    },
    {
     "name": "stderr",
     "output_type": "stream",
     "text": [
      "[Parallel(n_jobs=1)]: Done   8 out of   8 | elapsed:   17.8s remaining:    0.0s\n"
     ]
    },
    {
     "name": "stdout",
     "output_type": "stream",
     "text": [
      "[CV]  max_features=log2, min_samples_leaf=3, score=0.8155272034022584, total=   2.0s\n",
      "[CV] max_features=log2, min_samples_leaf=3 ...........................\n"
     ]
    },
    {
     "name": "stderr",
     "output_type": "stream",
     "text": [
      "[Parallel(n_jobs=1)]: Done   9 out of   9 | elapsed:   20.0s remaining:    0.0s\n"
     ]
    },
    {
     "name": "stdout",
     "output_type": "stream",
     "text": [
      "[CV]  max_features=log2, min_samples_leaf=3, score=0.7994532120856557, total=   2.3s\n",
      "[CV] max_features=log2, min_samples_leaf=5 ...........................\n"
     ]
    },
    {
     "name": "stderr",
     "output_type": "stream",
     "text": [
      "[Parallel(n_jobs=1)]: Done  10 out of  10 | elapsed:   22.7s remaining:    0.0s\n"
     ]
    },
    {
     "name": "stdout",
     "output_type": "stream",
     "text": [
      "[CV]  max_features=log2, min_samples_leaf=5, score=0.8044970053329051, total=   2.2s\n",
      "[CV] max_features=log2, min_samples_leaf=5 ...........................\n"
     ]
    },
    {
     "name": "stderr",
     "output_type": "stream",
     "text": [
      "[Parallel(n_jobs=1)]: Done  11 out of  11 | elapsed:   25.2s remaining:    0.0s\n"
     ]
    },
    {
     "name": "stdout",
     "output_type": "stream",
     "text": [
      "[CV]  max_features=log2, min_samples_leaf=5, score=0.8417304590115853, total=   2.1s\n",
      "[CV] max_features=log2, min_samples_leaf=5 ...........................\n"
     ]
    },
    {
     "name": "stderr",
     "output_type": "stream",
     "text": [
      "[Parallel(n_jobs=1)]: Done  12 out of  12 | elapsed:   27.6s remaining:    0.0s\n"
     ]
    },
    {
     "name": "stdout",
     "output_type": "stream",
     "text": [
      "[CV]  max_features=log2, min_samples_leaf=5, score=0.8296976096201789, total=   2.1s\n",
      "[CV] max_features=log2, min_samples_leaf=5 ...........................\n"
     ]
    },
    {
     "name": "stderr",
     "output_type": "stream",
     "text": [
      "[Parallel(n_jobs=1)]: Done  13 out of  13 | elapsed:   29.9s remaining:    0.0s\n"
     ]
    },
    {
     "name": "stdout",
     "output_type": "stream",
     "text": [
      "[CV]  max_features=log2, min_samples_leaf=5, score=0.8232755536002346, total=   1.7s\n",
      "[CV] max_features=log2, min_samples_leaf=5 ...........................\n"
     ]
    },
    {
     "name": "stderr",
     "output_type": "stream",
     "text": [
      "[Parallel(n_jobs=1)]: Done  14 out of  14 | elapsed:   31.9s remaining:    0.0s\n"
     ]
    },
    {
     "name": "stdout",
     "output_type": "stream",
     "text": [
      "[CV]  max_features=log2, min_samples_leaf=5, score=0.8152273393957172, total=   1.8s\n",
      "[CV] max_features=log2, min_samples_leaf=10 ..........................\n"
     ]
    },
    {
     "name": "stderr",
     "output_type": "stream",
     "text": [
      "[Parallel(n_jobs=1)]: Done  15 out of  15 | elapsed:   33.9s remaining:    0.0s\n"
     ]
    },
    {
     "name": "stdout",
     "output_type": "stream",
     "text": [
      "[CV]  max_features=log2, min_samples_leaf=10, score=0.82387155869338, total=   1.8s\n",
      "[CV] max_features=log2, min_samples_leaf=10 ..........................\n"
     ]
    },
    {
     "name": "stderr",
     "output_type": "stream",
     "text": [
      "[Parallel(n_jobs=1)]: Done  16 out of  16 | elapsed:   36.0s remaining:    0.0s\n"
     ]
    },
    {
     "name": "stdout",
     "output_type": "stream",
     "text": [
      "[CV]  max_features=log2, min_samples_leaf=10, score=0.8438023170552867, total=   1.7s\n",
      "[CV] max_features=log2, min_samples_leaf=10 ..........................\n"
     ]
    },
    {
     "name": "stderr",
     "output_type": "stream",
     "text": [
      "[Parallel(n_jobs=1)]: Done  17 out of  17 | elapsed:   37.9s remaining:    0.0s\n"
     ]
    },
    {
     "name": "stdout",
     "output_type": "stream",
     "text": [
      "[CV]  max_features=log2, min_samples_leaf=10, score=0.837357383780613, total=   2.0s\n",
      "[CV] max_features=log2, min_samples_leaf=10 ..........................\n"
     ]
    },
    {
     "name": "stderr",
     "output_type": "stream",
     "text": [
      "[Parallel(n_jobs=1)]: Done  18 out of  18 | elapsed:   40.1s remaining:    0.0s\n"
     ]
    },
    {
     "name": "stdout",
     "output_type": "stream",
     "text": [
      "[CV]  max_features=log2, min_samples_leaf=10, score=0.8388790145182577, total=   1.7s\n",
      "[CV] max_features=log2, min_samples_leaf=10 ..........................\n"
     ]
    },
    {
     "name": "stderr",
     "output_type": "stream",
     "text": [
      "[Parallel(n_jobs=1)]: Done  19 out of  19 | elapsed:   42.1s remaining:    0.0s\n"
     ]
    },
    {
     "name": "stdout",
     "output_type": "stream",
     "text": [
      "[CV]  max_features=log2, min_samples_leaf=10, score=0.829853329422118, total=   1.8s\n",
      "[CV] max_features=log2, min_samples_leaf=25 ..........................\n",
      "[CV]  max_features=log2, min_samples_leaf=25, score=0.8332332395244846, total=   1.9s\n",
      "[CV] max_features=log2, min_samples_leaf=25 ..........................\n",
      "[CV]  max_features=log2, min_samples_leaf=25, score=0.8639976536148996, total=   2.0s\n",
      "[CV] max_features=log2, min_samples_leaf=25 ..........................\n",
      "[CV]  max_features=log2, min_samples_leaf=25, score=0.849172019357677, total=   1.8s\n",
      "[CV] max_features=log2, min_samples_leaf=25 ..........................\n",
      "[CV]  max_features=log2, min_samples_leaf=25, score=0.8421563279073179, total=   1.9s\n",
      "[CV] max_features=log2, min_samples_leaf=25 ..........................\n",
      "[CV]  max_features=log2, min_samples_leaf=25, score=0.8392842475799355, total=   1.7s\n",
      "[CV] max_features=log2, min_samples_leaf=100 .........................\n",
      "[CV]  max_features=log2, min_samples_leaf=100, score=0.8356995044192581, total=   1.6s\n",
      "[CV] max_features=log2, min_samples_leaf=100 .........................\n",
      "[CV]  max_features=log2, min_samples_leaf=100, score=0.8666678398592168, total=   1.6s\n",
      "[CV] max_features=log2, min_samples_leaf=100 .........................\n",
      "[CV]  max_features=log2, min_samples_leaf=100, score=0.854384513858337, total=   1.5s\n",
      "[CV] max_features=log2, min_samples_leaf=100 .........................\n",
      "[CV]  max_features=log2, min_samples_leaf=100, score=0.8568634697169673, total=   1.5s\n",
      "[CV] max_features=log2, min_samples_leaf=100 .........................\n",
      "[CV]  max_features=log2, min_samples_leaf=100, score=0.8458621296567909, total=   1.7s\n",
      "[CV] max_features=log2, min_samples_leaf=150 .........................\n",
      "[CV]  max_features=log2, min_samples_leaf=150, score=0.8373999352881887, total=   1.5s\n",
      "[CV] max_features=log2, min_samples_leaf=150 .........................\n",
      "[CV]  max_features=log2, min_samples_leaf=150, score=0.870033729285819, total=   1.5s\n",
      "[CV] max_features=log2, min_samples_leaf=150 .........................\n",
      "[CV]  max_features=log2, min_samples_leaf=150, score=0.8523701422495968, total=   1.5s\n",
      "[CV] max_features=log2, min_samples_leaf=150 .........................\n",
      "[CV]  max_features=log2, min_samples_leaf=150, score=0.8567191670332894, total=   1.7s\n",
      "[CV] max_features=log2, min_samples_leaf=150 .........................\n",
      "[CV]  max_features=log2, min_samples_leaf=150, score=0.8467134056908184, total=   1.8s\n",
      "[CV] max_features=log2, min_samples_leaf=200 .........................\n",
      "[CV]  max_features=log2, min_samples_leaf=200, score=0.8368214861835628, total=   1.9s\n",
      "[CV] max_features=log2, min_samples_leaf=200 .........................\n",
      "[CV]  max_features=log2, min_samples_leaf=200, score=0.8693497580290365, total=   1.5s\n",
      "[CV] max_features=log2, min_samples_leaf=200 .........................\n",
      "[CV]  max_features=log2, min_samples_leaf=200, score=0.8539387006892506, total=   1.5s\n",
      "[CV] max_features=log2, min_samples_leaf=200 .........................\n",
      "[CV]  max_features=log2, min_samples_leaf=200, score=0.856004692770201, total=   1.5s\n",
      "[CV] max_features=log2, min_samples_leaf=200 .........................\n",
      "[CV]  max_features=log2, min_samples_leaf=200, score=0.8449873863303021, total=   1.5s\n",
      "[CV] max_features=sqrt, min_samples_leaf=1 ...........................\n",
      "[CV]  max_features=sqrt, min_samples_leaf=1, score=0.7385456602350575, total=   1.8s\n",
      "[CV] max_features=sqrt, min_samples_leaf=1 ...........................\n",
      "[CV]  max_features=sqrt, min_samples_leaf=1, score=0.7944795424549054, total=   1.9s\n",
      "[CV] max_features=sqrt, min_samples_leaf=1 ...........................\n",
      "[CV]  max_features=sqrt, min_samples_leaf=1, score=0.7922123478515911, total=   2.1s\n",
      "[CV] max_features=sqrt, min_samples_leaf=1 ...........................\n",
      "[CV]  max_features=sqrt, min_samples_leaf=1, score=0.7565232438774012, total=   1.9s\n",
      "[CV] max_features=sqrt, min_samples_leaf=1 ...........................\n",
      "[CV]  max_features=sqrt, min_samples_leaf=1, score=0.7570959225579348, total=   1.8s\n",
      "[CV] max_features=sqrt, min_samples_leaf=3 ...........................\n",
      "[CV]  max_features=sqrt, min_samples_leaf=3, score=0.8039883891181735, total=   1.9s\n",
      "[CV] max_features=sqrt, min_samples_leaf=3 ...........................\n",
      "[CV]  max_features=sqrt, min_samples_leaf=3, score=0.8300325560932688, total=   1.9s\n",
      "[CV] max_features=sqrt, min_samples_leaf=3 ...........................\n",
      "[CV]  max_features=sqrt, min_samples_leaf=3, score=0.825708754949406, total=   1.7s\n",
      "[CV] max_features=sqrt, min_samples_leaf=3 ...........................\n",
      "[CV]  max_features=sqrt, min_samples_leaf=3, score=0.8061721660067458, total=   1.7s\n",
      "[CV] max_features=sqrt, min_samples_leaf=3 ...........................\n",
      "[CV]  max_features=sqrt, min_samples_leaf=3, score=0.8052543267820476, total=   1.9s\n",
      "[CV] max_features=sqrt, min_samples_leaf=5 ...........................\n",
      "[CV]  max_features=sqrt, min_samples_leaf=5, score=0.8130428052337423, total=   1.8s\n",
      "[CV] max_features=sqrt, min_samples_leaf=5 ...........................\n",
      "[CV]  max_features=sqrt, min_samples_leaf=5, score=0.8421768587769467, total=   1.9s\n",
      "[CV] max_features=sqrt, min_samples_leaf=5 ...........................\n",
      "[CV]  max_features=sqrt, min_samples_leaf=5, score=0.8257615486141663, total=   1.7s\n",
      "[CV] max_features=sqrt, min_samples_leaf=5 ...........................\n",
      "[CV]  max_features=sqrt, min_samples_leaf=5, score=0.8189587916116733, total=   1.8s\n",
      "[CV] max_features=sqrt, min_samples_leaf=5 ...........................\n",
      "[CV]  max_features=sqrt, min_samples_leaf=5, score=0.8188829568788502, total=   1.8s\n",
      "[CV] max_features=sqrt, min_samples_leaf=10 ..........................\n",
      "[CV]  max_features=sqrt, min_samples_leaf=10, score=0.8233251163299558, total=   1.8s\n",
      "[CV] max_features=sqrt, min_samples_leaf=10 ..........................\n",
      "[CV]  max_features=sqrt, min_samples_leaf=10, score=0.8464654641443028, total=   1.7s\n",
      "[CV] max_features=sqrt, min_samples_leaf=10 ..........................\n",
      "[CV]  max_features=sqrt, min_samples_leaf=10, score=0.839282006159261, total=   1.7s\n",
      "[CV] max_features=sqrt, min_samples_leaf=10 ..........................\n",
      "[CV]  max_features=sqrt, min_samples_leaf=10, score=0.8384924475729578, total=   1.7s\n",
      "[CV] max_features=sqrt, min_samples_leaf=10 ..........................\n",
      "[CV]  max_features=sqrt, min_samples_leaf=10, score=0.8337676738046347, total=   1.8s\n",
      "[CV] max_features=sqrt, min_samples_leaf=25 ..........................\n",
      "[CV]  max_features=sqrt, min_samples_leaf=25, score=0.8269645737749565, total=   1.7s\n",
      "[CV] max_features=sqrt, min_samples_leaf=25 ..........................\n",
      "[CV]  max_features=sqrt, min_samples_leaf=25, score=0.8609062912450506, total=   1.9s\n",
      "[CV] max_features=sqrt, min_samples_leaf=25 ..........................\n",
      "[CV]  max_features=sqrt, min_samples_leaf=25, score=0.8487267927848658, total=   1.9s\n",
      "[CV] max_features=sqrt, min_samples_leaf=25 ..........................\n",
      "[CV]  max_features=sqrt, min_samples_leaf=25, score=0.8442152808329667, total=   1.9s\n",
      "[CV] max_features=sqrt, min_samples_leaf=25 ..........................\n",
      "[CV]  max_features=sqrt, min_samples_leaf=25, score=0.8413476092695805, total=   1.8s\n",
      "[CV] max_features=sqrt, min_samples_leaf=100 .........................\n",
      "[CV]  max_features=sqrt, min_samples_leaf=100, score=0.8367120813227281, total=   1.6s\n",
      "[CV] max_features=sqrt, min_samples_leaf=100 .........................\n",
      "[CV]  max_features=sqrt, min_samples_leaf=100, score=0.8668273940460478, total=   1.6s\n",
      "[CV] max_features=sqrt, min_samples_leaf=100 .........................\n",
      "[CV]  max_features=sqrt, min_samples_leaf=100, score=0.8498084763161754, total=   1.6s\n",
      "[CV] max_features=sqrt, min_samples_leaf=100 .........................\n",
      "[CV]  max_features=sqrt, min_samples_leaf=100, score=0.8557524563719021, total=   1.6s\n",
      "[CV] max_features=sqrt, min_samples_leaf=100 .........................\n",
      "[CV]  max_features=sqrt, min_samples_leaf=100, score=0.8463273687298327, total=   1.7s\n",
      "[CV] max_features=sqrt, min_samples_leaf=150 .........................\n",
      "[CV]  max_features=sqrt, min_samples_leaf=150, score=0.8381552943805474, total=   1.7s\n",
      "[CV] max_features=sqrt, min_samples_leaf=150 .........................\n",
      "[CV]  max_features=sqrt, min_samples_leaf=150, score=0.8706602141076405, total=   1.6s\n",
      "[CV] max_features=sqrt, min_samples_leaf=150 .........................\n"
     ]
    },
    {
     "name": "stdout",
     "output_type": "stream",
     "text": [
      "[CV]  max_features=sqrt, min_samples_leaf=150, score=0.8552151341838978, total=   1.9s\n",
      "[CV] max_features=sqrt, min_samples_leaf=150 .........................\n",
      "[CV]  max_features=sqrt, min_samples_leaf=150, score=0.857285819035049, total=   1.5s\n",
      "[CV] max_features=sqrt, min_samples_leaf=150 .........................\n",
      "[CV]  max_features=sqrt, min_samples_leaf=150, score=0.8451786447638603, total=   1.8s\n",
      "[CV] max_features=sqrt, min_samples_leaf=200 .........................\n",
      "[CV]  max_features=sqrt, min_samples_leaf=200, score=0.8371019816246388, total=   1.7s\n",
      "[CV] max_features=sqrt, min_samples_leaf=200 .........................\n",
      "[CV]  max_features=sqrt, min_samples_leaf=200, score=0.8718263675025664, total=   1.5s\n",
      "[CV] max_features=sqrt, min_samples_leaf=200 .........................\n",
      "[CV]  max_features=sqrt, min_samples_leaf=200, score=0.8555500806569878, total=   1.5s\n",
      "[CV] max_features=sqrt, min_samples_leaf=200 .........................\n",
      "[CV]  max_features=sqrt, min_samples_leaf=200, score=0.8596451092535562, total=   1.5s\n",
      "[CV] max_features=sqrt, min_samples_leaf=200 .........................\n",
      "[CV]  max_features=sqrt, min_samples_leaf=200, score=0.8465250806688178, total=   1.7s\n",
      "[CV] max_features=auto, min_samples_leaf=1 ...........................\n",
      "[CV]  max_features=auto, min_samples_leaf=1, score=0.7380591577687925, total=   2.1s\n",
      "[CV] max_features=auto, min_samples_leaf=1 ...........................\n",
      "[CV]  max_features=auto, min_samples_leaf=1, score=0.7826009678838539, total=   2.1s\n",
      "[CV] max_features=auto, min_samples_leaf=1 ...........................\n",
      "[CV]  max_features=auto, min_samples_leaf=1, score=0.7799812289191963, total=   2.3s\n",
      "[CV] max_features=auto, min_samples_leaf=1 ...........................\n",
      "[CV]  max_features=auto, min_samples_leaf=1, score=0.7606986361636603, total=   2.1s\n",
      "[CV] max_features=auto, min_samples_leaf=1 ...........................\n",
      "[CV]  max_features=auto, min_samples_leaf=1, score=0.7901149897330595, total=   2.1s\n",
      "[CV] max_features=auto, min_samples_leaf=3 ...........................\n",
      "[CV]  max_features=auto, min_samples_leaf=3, score=0.8081486835336372, total=   2.3s\n",
      "[CV] max_features=auto, min_samples_leaf=3 ...........................\n",
      "[CV]  max_features=auto, min_samples_leaf=3, score=0.8334424402405044, total=   1.9s\n",
      "[CV] max_features=auto, min_samples_leaf=3 ...........................\n",
      "[CV]  max_features=auto, min_samples_leaf=3, score=0.8253855404018186, total=   2.3s\n",
      "[CV] max_features=auto, min_samples_leaf=3 ...........................\n",
      "[CV]  max_features=auto, min_samples_leaf=3, score=0.8070872561959233, total=   1.9s\n",
      "[CV] max_features=auto, min_samples_leaf=3 ...........................\n",
      "[CV]  max_features=auto, min_samples_leaf=3, score=0.8089615723085949, total=   2.0s\n",
      "[CV] max_features=auto, min_samples_leaf=5 ...........................\n",
      "[CV]  max_features=auto, min_samples_leaf=5, score=0.8081335530741602, total=   1.9s\n",
      "[CV] max_features=auto, min_samples_leaf=5 ...........................\n",
      "[CV]  max_features=auto, min_samples_leaf=5, score=0.8329015984748497, total=   1.8s\n",
      "[CV] max_features=auto, min_samples_leaf=5 ...........................\n",
      "[CV]  max_features=auto, min_samples_leaf=5, score=0.8330294764628244, total=   1.8s\n",
      "[CV] max_features=auto, min_samples_leaf=5 ...........................\n",
      "[CV]  max_features=auto, min_samples_leaf=5, score=0.8180589529256488, total=   2.1s\n",
      "[CV] max_features=auto, min_samples_leaf=5 ...........................\n",
      "[CV]  max_features=auto, min_samples_leaf=5, score=0.8189287180991494, total=   2.2s\n",
      "[CV] max_features=auto, min_samples_leaf=10 ..........................\n",
      "[CV]  max_features=auto, min_samples_leaf=10, score=0.8186166337288203, total=   2.2s\n",
      "[CV] max_features=auto, min_samples_leaf=10 ..........................\n",
      "[CV]  max_features=auto, min_samples_leaf=10, score=0.8528335533069364, total=   1.9s\n",
      "[CV] max_features=auto, min_samples_leaf=10 ..........................\n",
      "[CV]  max_features=auto, min_samples_leaf=10, score=0.8354855550667253, total=   1.8s\n",
      "[CV] max_features=auto, min_samples_leaf=10 ..........................\n",
      "[CV]  max_features=auto, min_samples_leaf=10, score=0.8338518844405338, total=   1.7s\n",
      "[CV] max_features=auto, min_samples_leaf=10 ..........................\n",
      "[CV]  max_features=auto, min_samples_leaf=10, score=0.8252672337929012, total=   1.9s\n",
      "[CV] max_features=auto, min_samples_leaf=25 ..........................\n",
      "[CV]  max_features=auto, min_samples_leaf=25, score=0.8347579242871808, total=   1.8s\n",
      "[CV] max_features=auto, min_samples_leaf=25 ..........................\n",
      "[CV]  max_features=auto, min_samples_leaf=25, score=0.8620536735591728, total=   2.0s\n",
      "[CV] max_features=auto, min_samples_leaf=25 ..........................\n",
      "[CV]  max_features=auto, min_samples_leaf=25, score=0.8494383340665788, total=   1.7s\n",
      "[CV] max_features=auto, min_samples_leaf=25 ..........................\n",
      "[CV]  max_features=auto, min_samples_leaf=25, score=0.84307083150022, total=   1.7s\n",
      "[CV] max_features=auto, min_samples_leaf=25 ..........................\n",
      "[CV]  max_features=auto, min_samples_leaf=25, score=0.840881783514227, total=   1.8s\n",
      "[CV] max_features=auto, min_samples_leaf=100 .........................\n",
      "[CV]  max_features=auto, min_samples_leaf=100, score=0.8365747433059356, total=   2.0s\n",
      "[CV] max_features=auto, min_samples_leaf=100 .........................\n",
      "[CV]  max_features=auto, min_samples_leaf=100, score=0.864443466783986, total=   1.8s\n",
      "[CV] max_features=auto, min_samples_leaf=100 .........................\n",
      "[CV]  max_features=auto, min_samples_leaf=100, score=0.8529555653321601, total=   1.7s\n",
      "[CV] max_features=auto, min_samples_leaf=100 .........................\n",
      "[CV]  max_features=auto, min_samples_leaf=100, score=0.8545992080950287, total=   1.7s\n",
      "[CV] max_features=auto, min_samples_leaf=100 .........................\n",
      "[CV]  max_features=auto, min_samples_leaf=100, score=0.8429838662364331, total=   1.8s\n",
      "[CV] max_features=auto, min_samples_leaf=150 .........................\n",
      "[CV]  max_features=auto, min_samples_leaf=150, score=0.8374488183111148, total=   2.1s\n",
      "[CV] max_features=auto, min_samples_leaf=150 .........................\n",
      "[CV]  max_features=auto, min_samples_leaf=150, score=0.8711212787798797, total=   1.8s\n",
      "[CV] max_features=auto, min_samples_leaf=150 .........................\n",
      "[CV]  max_features=auto, min_samples_leaf=150, score=0.8529409004252824, total=   1.6s\n",
      "[CV] max_features=auto, min_samples_leaf=150 .........................\n",
      "[CV]  max_features=auto, min_samples_leaf=150, score=0.8572177738671358, total=   1.5s\n",
      "[CV] max_features=auto, min_samples_leaf=150 .........................\n",
      "[CV]  max_features=auto, min_samples_leaf=150, score=0.8440516280434144, total=   1.7s\n",
      "[CV] max_features=auto, min_samples_leaf=200 .........................\n",
      "[CV]  max_features=auto, min_samples_leaf=200, score=0.8384416092291147, total=   1.6s\n",
      "[CV] max_features=auto, min_samples_leaf=200 .........................\n",
      "[CV]  max_features=auto, min_samples_leaf=200, score=0.8679595248570171, total=   1.7s\n",
      "[CV] max_features=auto, min_samples_leaf=200 .........................\n",
      "[CV]  max_features=auto, min_samples_leaf=200, score=0.8539738964657575, total=   1.5s\n",
      "[CV] max_features=auto, min_samples_leaf=200 .........................\n",
      "[CV]  max_features=auto, min_samples_leaf=200, score=0.855179938407391, total=   1.5s\n",
      "[CV] max_features=auto, min_samples_leaf=200 .........................\n",
      "[CV]  max_features=auto, min_samples_leaf=200, score=0.8444517453798769, total=   1.6s\n",
      "[CV] max_features=0.5, min_samples_leaf=1 ............................\n",
      "[CV]  max_features=0.5, min_samples_leaf=1, score=0.748857068368727, total=   3.6s\n",
      "[CV] max_features=0.5, min_samples_leaf=1 ............................\n",
      "[CV]  max_features=0.5, min_samples_leaf=1, score=0.7826971696729725, total=   3.6s\n",
      "[CV] max_features=0.5, min_samples_leaf=1 ............................\n",
      "[CV]  max_features=0.5, min_samples_leaf=1, score=0.7888452852324388, total=   3.4s\n",
      "[CV] max_features=0.5, min_samples_leaf=1 ............................\n",
      "[CV]  max_features=0.5, min_samples_leaf=1, score=0.7791811115999414, total=   3.7s\n",
      "[CV] max_features=0.5, min_samples_leaf=1 ............................\n",
      "[CV]  max_features=0.5, min_samples_leaf=1, score=0.7723836902317395, total=   3.6s\n",
      "[CV] max_features=0.5, min_samples_leaf=3 ............................\n"
     ]
    },
    {
     "name": "stdout",
     "output_type": "stream",
     "text": [
      "[CV]  max_features=0.5, min_samples_leaf=3, score=0.7833743019620715, total=   3.6s\n",
      "[CV] max_features=0.5, min_samples_leaf=3 ............................\n",
      "[CV]  max_features=0.5, min_samples_leaf=3, score=0.8214911277313388, total=   3.8s\n",
      "[CV] max_features=0.5, min_samples_leaf=3 ............................\n",
      "[CV]  max_features=0.5, min_samples_leaf=3, score=0.8263499046781053, total=   3.6s\n",
      "[CV] max_features=0.5, min_samples_leaf=3 ............................\n",
      "[CV]  max_features=0.5, min_samples_leaf=3, score=0.8088534975802902, total=   3.9s\n",
      "[CV] max_features=0.5, min_samples_leaf=3 ............................\n",
      "[CV]  max_features=0.5, min_samples_leaf=3, score=0.8060850689351716, total=   4.4s\n",
      "[CV] max_features=0.5, min_samples_leaf=5 ............................\n",
      "[CV]  max_features=0.5, min_samples_leaf=5, score=0.8058692216193316, total=   4.1s\n",
      "[CV] max_features=0.5, min_samples_leaf=5 ............................\n",
      "[CV]  max_features=0.5, min_samples_leaf=5, score=0.822126998093562, total=   3.8s\n",
      "[CV] max_features=0.5, min_samples_leaf=5 ............................\n",
      "[CV]  max_features=0.5, min_samples_leaf=5, score=0.8462630884293885, total=   3.7s\n",
      "[CV] max_features=0.5, min_samples_leaf=5 ............................\n",
      "[CV]  max_features=0.5, min_samples_leaf=5, score=0.8187264994867283, total=   3.4s\n",
      "[CV] max_features=0.5, min_samples_leaf=5 ............................\n",
      "[CV]  max_features=0.5, min_samples_leaf=5, score=0.8056509240246406, total=   3.5s\n",
      "[CV] max_features=0.5, min_samples_leaf=10 ...........................\n",
      "[CV]  max_features=0.5, min_samples_leaf=10, score=0.8156789968272591, total=   3.5s\n",
      "[CV] max_features=0.5, min_samples_leaf=10 ...........................\n",
      "[CV]  max_features=0.5, min_samples_leaf=10, score=0.8392802463704356, total=   3.4s\n",
      "[CV] max_features=0.5, min_samples_leaf=10 ...........................\n",
      "[CV]  max_features=0.5, min_samples_leaf=10, score=0.8415937820794838, total=   3.3s\n",
      "[CV] max_features=0.5, min_samples_leaf=10 ...........................\n",
      "[CV]  max_features=0.5, min_samples_leaf=10, score=0.8361179058512979, total=   3.3s\n",
      "[CV] max_features=0.5, min_samples_leaf=10 ...........................\n",
      "[CV]  max_features=0.5, min_samples_leaf=10, score=0.8288113816368436, total=   3.3s\n",
      "[CV] max_features=0.5, min_samples_leaf=25 ...........................\n",
      "[CV]  max_features=0.5, min_samples_leaf=25, score=0.8316038054269466, total=   3.2s\n",
      "[CV] max_features=0.5, min_samples_leaf=25 ...........................\n",
      "[CV]  max_features=0.5, min_samples_leaf=25, score=0.8555588796011145, total=   3.3s\n",
      "[CV] max_features=0.5, min_samples_leaf=25 ...........................\n",
      "[CV]  max_features=0.5, min_samples_leaf=25, score=0.8549664173632497, total=   3.1s\n",
      "[CV] max_features=0.5, min_samples_leaf=25 ...........................\n",
      "[CV]  max_features=0.5, min_samples_leaf=25, score=0.846472503299604, total=   3.2s\n",
      "[CV] max_features=0.5, min_samples_leaf=25 ...........................\n",
      "[CV]  max_features=0.5, min_samples_leaf=25, score=0.8413763567028454, total=   3.2s\n",
      "[CV] max_features=0.5, min_samples_leaf=100 ..........................\n",
      "[CV]  max_features=0.5, min_samples_leaf=100, score=0.8350849749881866, total=   2.9s\n",
      "[CV] max_features=0.5, min_samples_leaf=100 ..........................\n",
      "[CV]  max_features=0.5, min_samples_leaf=100, score=0.8668227012758469, total=   2.9s\n",
      "[CV] max_features=0.5, min_samples_leaf=100 ..........................\n",
      "[CV]  max_features=0.5, min_samples_leaf=100, score=0.8592180671652736, total=   3.1s\n",
      "[CV] max_features=0.5, min_samples_leaf=100 ..........................\n",
      "[CV]  max_features=0.5, min_samples_leaf=100, score=0.8535785305763309, total=   3.7s\n",
      "[CV] max_features=0.5, min_samples_leaf=100 ..........................\n",
      "[CV]  max_features=0.5, min_samples_leaf=100, score=0.8412543267820476, total=   4.9s\n",
      "[CV] max_features=0.5, min_samples_leaf=150 ..........................\n",
      "[CV]  max_features=0.5, min_samples_leaf=150, score=0.8382472410189084, total=   3.4s\n",
      "[CV] max_features=0.5, min_samples_leaf=150 ..........................\n",
      "[CV]  max_features=0.5, min_samples_leaf=150, score=0.8722698342865522, total=   3.0s\n",
      "[CV] max_features=0.5, min_samples_leaf=150 ..........................\n",
      "[CV]  max_features=0.5, min_samples_leaf=150, score=0.8586654934741165, total=   2.9s\n",
      "[CV] max_features=0.5, min_samples_leaf=150 ..........................\n",
      "[CV]  max_features=0.5, min_samples_leaf=150, score=0.8574711834579851, total=   2.8s\n",
      "[CV] max_features=0.5, min_samples_leaf=150 ..........................\n",
      "[CV]  max_features=0.5, min_samples_leaf=150, score=0.8432519800528013, total=   3.0s\n",
      "[CV] max_features=0.5, min_samples_leaf=200 ..........................\n",
      "[CV]  max_features=0.5, min_samples_leaf=200, score=0.8383263849607889, total=   2.7s\n",
      "[CV] max_features=0.5, min_samples_leaf=200 ..........................\n",
      "[CV]  max_features=0.5, min_samples_leaf=200, score=0.872743804076844, total=   3.1s\n",
      "[CV] max_features=0.5, min_samples_leaf=200 ..........................\n",
      "[CV]  max_features=0.5, min_samples_leaf=200, score=0.8549617245930489, total=   2.4s\n",
      "[CV] max_features=0.5, min_samples_leaf=200 ..........................\n",
      "[CV]  max_features=0.5, min_samples_leaf=200, score=0.8602152808329668, total=   2.7s\n",
      "[CV] max_features=0.5, min_samples_leaf=200 ..........................\n",
      "[CV]  max_features=0.5, min_samples_leaf=200, score=0.8479636256966853, total=   2.7s\n"
     ]
    },
    {
     "name": "stderr",
     "output_type": "stream",
     "text": [
      "[Parallel(n_jobs=1)]: Done 160 out of 160 | elapsed:  6.5min finished\n"
     ]
    }
   ],
   "source": [
    "clf = RandomForestClassifier(n_jobs=-1,\n",
    "                             class_weight='balanced',\n",
    "                             oob_score=True, \n",
    "                             bootstrap=True, \n",
    "                             n_estimators=100)\n",
    "\n",
    "parameters = {'max_features': ['log2', 'sqrt','auto',0.5], \n",
    "              'min_samples_leaf': [1, 3, 5, 10,25,100,150,200], \n",
    "             }\n",
    "\n",
    "grid_obj = GridSearchCV(clf, parameters, \n",
    "                        scoring='roc_auc',\n",
    "                        verbose=20,\n",
    "                        cv = StratifiedKFold(n_splits=5, \n",
    "                                   shuffle=True,\n",
    "                                   random_state=1).split(x_trn2,y_trn2),\n",
    "                        iid = False) \n",
    "\n",
    "grid_obj = grid_obj.fit(x_trn2, y_trn2)"
   ]
  },
  {
   "cell_type": "code",
   "execution_count": 150,
   "metadata": {},
   "outputs": [
    {
     "name": "stderr",
     "output_type": "stream",
     "text": [
      "/Users/princegrover/anaconda3/envs/fastai/lib/python3.6/site-packages/sklearn/model_selection/_search.py:761: DeprecationWarning: The grid_scores_ attribute was deprecated in version 0.18 in favor of the more elaborate cv_results_ attribute. The grid_scores_ attribute will not be available from 0.20\n",
      "  DeprecationWarning)\n"
     ]
    },
    {
     "data": {
      "text/plain": [
       "([mean: 0.77497, std: 0.02374, params: {'max_features': 'log2', 'min_samples_leaf': 1},\n",
       "  mean: 0.81094, std: 0.01220, params: {'max_features': 'log2', 'min_samples_leaf': 3},\n",
       "  mean: 0.82289, std: 0.01264, params: {'max_features': 'log2', 'min_samples_leaf': 5},\n",
       "  mean: 0.83475, std: 0.00704, params: {'max_features': 'log2', 'min_samples_leaf': 10},\n",
       "  mean: 0.84557, std: 0.01054, params: {'max_features': 'log2', 'min_samples_leaf': 25},\n",
       "  mean: 0.85190, std: 0.01047, params: {'max_features': 'log2', 'min_samples_leaf': 100},\n",
       "  mean: 0.85265, std: 0.01083, params: {'max_features': 'log2', 'min_samples_leaf': 150},\n",
       "  mean: 0.85222, std: 0.01096, params: {'max_features': 'log2', 'min_samples_leaf': 200},\n",
       "  mean: 0.76777, std: 0.02193, params: {'max_features': 'sqrt', 'min_samples_leaf': 1},\n",
       "  mean: 0.81423, std: 0.01124, params: {'max_features': 'sqrt', 'min_samples_leaf': 3},\n",
       "  mean: 0.82376, std: 0.01005, params: {'max_features': 'sqrt', 'min_samples_leaf': 5},\n",
       "  mean: 0.83627, std: 0.00764, params: {'max_features': 'sqrt', 'min_samples_leaf': 10},\n",
       "  mean: 0.84443, std: 0.01100, params: {'max_features': 'sqrt', 'min_samples_leaf': 25},\n",
       "  mean: 0.85109, std: 0.01000, params: {'max_features': 'sqrt', 'min_samples_leaf': 100},\n",
       "  mean: 0.85330, std: 0.01110, params: {'max_features': 'sqrt', 'min_samples_leaf': 150},\n",
       "  mean: 0.85413, std: 0.01178, params: {'max_features': 'sqrt', 'min_samples_leaf': 200},\n",
       "  mean: 0.77029, std: 0.01881, params: {'max_features': 'auto', 'min_samples_leaf': 1},\n",
       "  mean: 0.81661, std: 0.01078, params: {'max_features': 'auto', 'min_samples_leaf': 3},\n",
       "  mean: 0.82221, std: 0.00957, params: {'max_features': 'auto', 'min_samples_leaf': 5},\n",
       "  mean: 0.83321, std: 0.01155, params: {'max_features': 'auto', 'min_samples_leaf': 10},\n",
       "  mean: 0.84604, std: 0.00928, params: {'max_features': 'auto', 'min_samples_leaf': 25},\n",
       "  mean: 0.85031, std: 0.00967, params: {'max_features': 'auto', 'min_samples_leaf': 100},\n",
       "  mean: 0.85256, std: 0.01155, params: {'max_features': 'auto', 'min_samples_leaf': 150},\n",
       "  mean: 0.85200, std: 0.01009, params: {'max_features': 'auto', 'min_samples_leaf': 200},\n",
       "  mean: 0.77439, std: 0.01383, params: {'max_features': 0.5, 'min_samples_leaf': 1},\n",
       "  mean: 0.80923, std: 0.01498, params: {'max_features': 0.5, 'min_samples_leaf': 3},\n",
       "  mean: 0.81973, std: 0.01484, params: {'max_features': 0.5, 'min_samples_leaf': 5},\n",
       "  mean: 0.83230, std: 0.00936, params: {'max_features': 0.5, 'min_samples_leaf': 10},\n",
       "  mean: 0.84600, std: 0.00895, params: {'max_features': 0.5, 'min_samples_leaf': 25},\n",
       "  mean: 0.85119, std: 0.01160, params: {'max_features': 0.5, 'min_samples_leaf': 100},\n",
       "  mean: 0.85398, std: 0.01209, params: {'max_features': 0.5, 'min_samples_leaf': 150},\n",
       "  mean: 0.85484, std: 0.01157, params: {'max_features': 0.5, 'min_samples_leaf': 200}],\n",
       " {'max_features': 0.5, 'min_samples_leaf': 200},\n",
       " 0.8548421640320669)"
      ]
     },
     "execution_count": 150,
     "metadata": {},
     "output_type": "execute_result"
    }
   ],
   "source": [
    "grid_obj.grid_scores_, grid_obj.best_params_, grid_obj.best_score_"
   ]
  },
  {
   "cell_type": "markdown",
   "metadata": {},
   "source": [
    "#### Feature selection"
   ]
  },
  {
   "cell_type": "code",
   "execution_count": 151,
   "metadata": {},
   "outputs": [
    {
     "data": {
      "text/plain": [
       "RandomForestClassifier(bootstrap=True, class_weight='balanced',\n",
       "            criterion='gini', max_depth=None, max_features=0.5,\n",
       "            max_leaf_nodes=None, min_impurity_decrease=0.0,\n",
       "            min_impurity_split=None, min_samples_leaf=200,\n",
       "            min_samples_split=2, min_weight_fraction_leaf=0.0,\n",
       "            n_estimators=100, n_jobs=-1, oob_score=True, random_state=None,\n",
       "            verbose=0, warm_start=False)"
      ]
     },
     "execution_count": 151,
     "metadata": {},
     "output_type": "execute_result"
    }
   ],
   "source": [
    "rf = grid_obj.best_estimator_\n",
    "rf.fit(x_trn2, y_trn2)"
   ]
  },
  {
   "cell_type": "code",
   "execution_count": 161,
   "metadata": {},
   "outputs": [],
   "source": [
    "imp = importances_perm(rf, x_val2, y_val2, n_samples=len(y_val2)) # permutation"
   ]
  },
  {
   "cell_type": "code",
   "execution_count": 162,
   "metadata": {},
   "outputs": [
    {
     "data": {
      "image/png": "[encoded data removed]",
      "text/plain": [
       "<Figure size 1080x504 with 1 Axes>"
      ]
     },
     "metadata": {},
     "output_type": "display_data"
    }
   ],
   "source": [
    "plot_importances(imp, figsize=(15,7))"
   ]
  },
  {
   "cell_type": "markdown",
   "metadata": {},
   "source": [
    "#### Top features"
   ]
  },
  {
   "cell_type": "code",
   "execution_count": 163,
   "metadata": {},
   "outputs": [
    {
     "data": {
      "text/html": [
       "<div>\n",
       "<style scoped>\n",
       "    .dataframe tbody tr th:only-of-type {\n",
       "        vertical-align: middle;\n",
       "    }\n",
       "\n",
       "    .dataframe tbody tr th {\n",
       "        vertical-align: top;\n",
       "    }\n",
       "\n",
       "    .dataframe thead th {\n",
       "        text-align: right;\n",
       "    }\n",
       "</style>\n",
       "<table border=\"1\" class=\"dataframe\">\n",
       "  <thead>\n",
       "    <tr style=\"text-align: right;\">\n",
       "      <th></th>\n",
       "      <th>Feature</th>\n",
       "      <th>Importance</th>\n",
       "    </tr>\n",
       "  </thead>\n",
       "  <tbody>\n",
       "    <tr>\n",
       "      <th>0</th>\n",
       "      <td>id</td>\n",
       "      <td>-3.395085e-03</td>\n",
       "    </tr>\n",
       "    <tr>\n",
       "      <th>1</th>\n",
       "      <td>stroke_mean_smoking_status</td>\n",
       "      <td>-1.685959e-03</td>\n",
       "    </tr>\n",
       "    <tr>\n",
       "      <th>2</th>\n",
       "      <td>stroke_mean_hypertension</td>\n",
       "      <td>-1.463257e-03</td>\n",
       "    </tr>\n",
       "    <tr>\n",
       "      <th>3</th>\n",
       "      <td>bmi_mean_heart_disease</td>\n",
       "      <td>-1.301835e-03</td>\n",
       "    </tr>\n",
       "    <tr>\n",
       "      <th>4</th>\n",
       "      <td>Residence_type</td>\n",
       "      <td>-1.283152e-03</td>\n",
       "    </tr>\n",
       "    <tr>\n",
       "      <th>5</th>\n",
       "      <td>bmi_mean_age_bins</td>\n",
       "      <td>-1.275679e-03</td>\n",
       "    </tr>\n",
       "    <tr>\n",
       "      <th>6</th>\n",
       "      <td>avg_glucose_level_mean_gender</td>\n",
       "      <td>-1.262974e-03</td>\n",
       "    </tr>\n",
       "    <tr>\n",
       "      <th>7</th>\n",
       "      <td>bmi_mean_gender</td>\n",
       "      <td>-1.052230e-03</td>\n",
       "    </tr>\n",
       "    <tr>\n",
       "      <th>8</th>\n",
       "      <td>avg_glucose_level_mean_Residence_type</td>\n",
       "      <td>-6.740846e-04</td>\n",
       "    </tr>\n",
       "    <tr>\n",
       "      <th>9</th>\n",
       "      <td>bmi_mean_Residence_type</td>\n",
       "      <td>-6.666114e-04</td>\n",
       "    </tr>\n",
       "    <tr>\n",
       "      <th>10</th>\n",
       "      <td>avg_glucose_level_mean_heart_disease</td>\n",
       "      <td>-5.844059e-04</td>\n",
       "    </tr>\n",
       "    <tr>\n",
       "      <th>11</th>\n",
       "      <td>stroke_mean_ever_married</td>\n",
       "      <td>-3.071494e-04</td>\n",
       "    </tr>\n",
       "    <tr>\n",
       "      <th>12</th>\n",
       "      <td>stroke_mean_heart_disease</td>\n",
       "      <td>-3.034128e-04</td>\n",
       "    </tr>\n",
       "    <tr>\n",
       "      <th>13</th>\n",
       "      <td>heart_disease</td>\n",
       "      <td>-2.279333e-04</td>\n",
       "    </tr>\n",
       "    <tr>\n",
       "      <th>14</th>\n",
       "      <td>bmi_mean_smoking_status</td>\n",
       "      <td>-2.212074e-04</td>\n",
       "    </tr>\n",
       "    <tr>\n",
       "      <th>15</th>\n",
       "      <td>stroke_mean_Residence_type</td>\n",
       "      <td>-1.472225e-04</td>\n",
       "    </tr>\n",
       "    <tr>\n",
       "      <th>16</th>\n",
       "      <td>stroke_mean_gender</td>\n",
       "      <td>-1.053724e-04</td>\n",
       "    </tr>\n",
       "    <tr>\n",
       "      <th>17</th>\n",
       "      <td>hypertension</td>\n",
       "      <td>-7.697418e-05</td>\n",
       "    </tr>\n",
       "    <tr>\n",
       "      <th>18</th>\n",
       "      <td>ever_married</td>\n",
       "      <td>-7.473222e-07</td>\n",
       "    </tr>\n",
       "    <tr>\n",
       "      <th>19</th>\n",
       "      <td>avg_glucose_level_mean_ever_married</td>\n",
       "      <td>2.540895e-05</td>\n",
       "    </tr>\n",
       "    <tr>\n",
       "      <th>20</th>\n",
       "      <td>gender</td>\n",
       "      <td>4.932326e-05</td>\n",
       "    </tr>\n",
       "    <tr>\n",
       "      <th>21</th>\n",
       "      <td>bmi_mean_ever_married</td>\n",
       "      <td>1.360126e-04</td>\n",
       "    </tr>\n",
       "    <tr>\n",
       "      <th>22</th>\n",
       "      <td>work_type</td>\n",
       "      <td>3.519887e-04</td>\n",
       "    </tr>\n",
       "    <tr>\n",
       "      <th>23</th>\n",
       "      <td>smoking_status</td>\n",
       "      <td>5.007058e-04</td>\n",
       "    </tr>\n",
       "    <tr>\n",
       "      <th>24</th>\n",
       "      <td>bmi_mean_hypertension</td>\n",
       "      <td>5.246202e-04</td>\n",
       "    </tr>\n",
       "    <tr>\n",
       "      <th>25</th>\n",
       "      <td>avg_glucose_level_mean_hypertension</td>\n",
       "      <td>5.388193e-04</td>\n",
       "    </tr>\n",
       "    <tr>\n",
       "      <th>26</th>\n",
       "      <td>avg_glucose_level_mean_smoking_status</td>\n",
       "      <td>1.020095e-03</td>\n",
       "    </tr>\n",
       "    <tr>\n",
       "      <th>27</th>\n",
       "      <td>age_bins</td>\n",
       "      <td>1.399734e-03</td>\n",
       "    </tr>\n",
       "    <tr>\n",
       "      <th>28</th>\n",
       "      <td>stroke_mean_age_bins</td>\n",
       "      <td>2.044673e-03</td>\n",
       "    </tr>\n",
       "    <tr>\n",
       "      <th>29</th>\n",
       "      <td>avg_glucose_level_mean_age_bins</td>\n",
       "      <td>3.268040e-03</td>\n",
       "    </tr>\n",
       "    <tr>\n",
       "      <th>30</th>\n",
       "      <td>avg_glucose_level</td>\n",
       "      <td>5.049656e-03</td>\n",
       "    </tr>\n",
       "    <tr>\n",
       "      <th>31</th>\n",
       "      <td>bmi</td>\n",
       "      <td>9.250354e-03</td>\n",
       "    </tr>\n",
       "    <tr>\n",
       "      <th>32</th>\n",
       "      <td>age</td>\n",
       "      <td>1.320081e-01</td>\n",
       "    </tr>\n",
       "  </tbody>\n",
       "</table>\n",
       "</div>"
      ],
      "text/plain": [
       "                                  Feature    Importance\n",
       "0                                      id -3.395085e-03\n",
       "1              stroke_mean_smoking_status -1.685959e-03\n",
       "2                stroke_mean_hypertension -1.463257e-03\n",
       "3                  bmi_mean_heart_disease -1.301835e-03\n",
       "4                          Residence_type -1.283152e-03\n",
       "5                       bmi_mean_age_bins -1.275679e-03\n",
       "6           avg_glucose_level_mean_gender -1.262974e-03\n",
       "7                         bmi_mean_gender -1.052230e-03\n",
       "8   avg_glucose_level_mean_Residence_type -6.740846e-04\n",
       "9                 bmi_mean_Residence_type -6.666114e-04\n",
       "10   avg_glucose_level_mean_heart_disease -5.844059e-04\n",
       "11               stroke_mean_ever_married -3.071494e-04\n",
       "12              stroke_mean_heart_disease -3.034128e-04\n",
       "13                          heart_disease -2.279333e-04\n",
       "14                bmi_mean_smoking_status -2.212074e-04\n",
       "15             stroke_mean_Residence_type -1.472225e-04\n",
       "16                     stroke_mean_gender -1.053724e-04\n",
       "17                           hypertension -7.697418e-05\n",
       "18                           ever_married -7.473222e-07\n",
       "19    avg_glucose_level_mean_ever_married  2.540895e-05\n",
       "20                                 gender  4.932326e-05\n",
       "21                  bmi_mean_ever_married  1.360126e-04\n",
       "22                              work_type  3.519887e-04\n",
       "23                         smoking_status  5.007058e-04\n",
       "24                  bmi_mean_hypertension  5.246202e-04\n",
       "25    avg_glucose_level_mean_hypertension  5.388193e-04\n",
       "26  avg_glucose_level_mean_smoking_status  1.020095e-03\n",
       "27                               age_bins  1.399734e-03\n",
       "28                   stroke_mean_age_bins  2.044673e-03\n",
       "29        avg_glucose_level_mean_age_bins  3.268040e-03\n",
       "30                      avg_glucose_level  5.049656e-03\n",
       "31                                    bmi  9.250354e-03\n",
       "32                                    age  1.320081e-01"
      ]
     },
     "execution_count": 163,
     "metadata": {},
     "output_type": "execute_result"
    }
   ],
   "source": [
    "imp.reset_index()"
   ]
  },
  {
   "cell_type": "code",
   "execution_count": 164,
   "metadata": {},
   "outputs": [],
   "source": [
    "select_cols = list(imp[imp.Importance>0].index)"
   ]
  },
  {
   "cell_type": "code",
   "execution_count": 165,
   "metadata": {},
   "outputs": [
    {
     "data": {
      "text/plain": [
       "['avg_glucose_level_mean_ever_married',\n",
       " 'gender',\n",
       " 'bmi_mean_ever_married',\n",
       " 'work_type',\n",
       " 'smoking_status',\n",
       " 'bmi_mean_hypertension',\n",
       " 'avg_glucose_level_mean_hypertension',\n",
       " 'avg_glucose_level_mean_smoking_status',\n",
       " 'age_bins',\n",
       " 'stroke_mean_age_bins',\n",
       " 'avg_glucose_level_mean_age_bins',\n",
       " 'avg_glucose_level',\n",
       " 'bmi',\n",
       " 'age']"
      ]
     },
     "execution_count": 165,
     "metadata": {},
     "output_type": "execute_result"
    }
   ],
   "source": [
    "select_cols"
   ]
  },
  {
   "cell_type": "markdown",
   "metadata": {},
   "source": [
    "#### RF after feature selection"
   ]
  },
  {
   "cell_type": "code",
   "execution_count": 166,
   "metadata": {
    "scrolled": true
   },
   "outputs": [
    {
     "name": "stdout",
     "output_type": "stream",
     "text": [
      "Fitting 5 folds for each of 32 candidates, totalling 160 fits\n",
      "[CV] max_features=log2, min_samples_leaf=1 ...........................\n",
      "[CV]  max_features=log2, min_samples_leaf=1, score=0.7459741338975832, total=   1.6s\n",
      "[CV] max_features=log2, min_samples_leaf=1 ...........................\n"
     ]
    },
    {
     "name": "stderr",
     "output_type": "stream",
     "text": [
      "[Parallel(n_jobs=1)]: Done   1 out of   1 | elapsed:    1.8s remaining:    0.0s\n"
     ]
    },
    {
     "name": "stdout",
     "output_type": "stream",
     "text": [
      "[CV]  max_features=log2, min_samples_leaf=1, score=0.779432761401965, total=   1.5s\n",
      "[CV] max_features=log2, min_samples_leaf=1 ...........................\n"
     ]
    },
    {
     "name": "stderr",
     "output_type": "stream",
     "text": [
      "[Parallel(n_jobs=1)]: Done   2 out of   2 | elapsed:    3.5s remaining:    0.0s\n"
     ]
    },
    {
     "name": "stdout",
     "output_type": "stream",
     "text": [
      "[CV]  max_features=log2, min_samples_leaf=1, score=0.791349464730899, total=   1.5s\n",
      "[CV] max_features=log2, min_samples_leaf=1 ...........................\n"
     ]
    },
    {
     "name": "stderr",
     "output_type": "stream",
     "text": [
      "[Parallel(n_jobs=1)]: Done   3 out of   3 | elapsed:    5.3s remaining:    0.0s\n"
     ]
    },
    {
     "name": "stdout",
     "output_type": "stream",
     "text": [
      "[CV]  max_features=log2, min_samples_leaf=1, score=0.74848980788972, total=   1.6s\n",
      "[CV] max_features=log2, min_samples_leaf=1 ...........................\n"
     ]
    },
    {
     "name": "stderr",
     "output_type": "stream",
     "text": [
      "[Parallel(n_jobs=1)]: Done   4 out of   4 | elapsed:    7.1s remaining:    0.0s\n"
     ]
    },
    {
     "name": "stdout",
     "output_type": "stream",
     "text": [
      "[CV]  max_features=log2, min_samples_leaf=1, score=0.7701161630976827, total=   1.5s\n",
      "[CV] max_features=log2, min_samples_leaf=3 ...........................\n"
     ]
    },
    {
     "name": "stderr",
     "output_type": "stream",
     "text": [
      "[Parallel(n_jobs=1)]: Done   5 out of   5 | elapsed:    8.9s remaining:    0.0s\n"
     ]
    },
    {
     "name": "stdout",
     "output_type": "stream",
     "text": [
      "[CV]  max_features=log2, min_samples_leaf=3, score=0.8113976587359781, total=   1.7s\n",
      "[CV] max_features=log2, min_samples_leaf=3 ...........................\n"
     ]
    },
    {
     "name": "stderr",
     "output_type": "stream",
     "text": [
      "[Parallel(n_jobs=1)]: Done   6 out of   6 | elapsed:   10.8s remaining:    0.0s\n"
     ]
    },
    {
     "name": "stdout",
     "output_type": "stream",
     "text": [
      "[CV]  max_features=log2, min_samples_leaf=3, score=0.8457615486141663, total=   1.5s\n",
      "[CV] max_features=log2, min_samples_leaf=3 ...........................\n"
     ]
    },
    {
     "name": "stderr",
     "output_type": "stream",
     "text": [
      "[Parallel(n_jobs=1)]: Done   7 out of   7 | elapsed:   12.4s remaining:    0.0s\n"
     ]
    },
    {
     "name": "stdout",
     "output_type": "stream",
     "text": [
      "[CV]  max_features=log2, min_samples_leaf=3, score=0.8404710368089163, total=   1.6s\n",
      "[CV] max_features=log2, min_samples_leaf=3 ...........................\n"
     ]
    },
    {
     "name": "stderr",
     "output_type": "stream",
     "text": [
      "[Parallel(n_jobs=1)]: Done   8 out of   8 | elapsed:   14.3s remaining:    0.0s\n"
     ]
    },
    {
     "name": "stdout",
     "output_type": "stream",
     "text": [
      "[CV]  max_features=log2, min_samples_leaf=3, score=0.8068086229652442, total=   1.6s\n",
      "[CV] max_features=log2, min_samples_leaf=3 ...........................\n"
     ]
    },
    {
     "name": "stderr",
     "output_type": "stream",
     "text": [
      "[Parallel(n_jobs=1)]: Done   9 out of   9 | elapsed:   16.0s remaining:    0.0s\n"
     ]
    },
    {
     "name": "stdout",
     "output_type": "stream",
     "text": [
      "[CV]  max_features=log2, min_samples_leaf=3, score=0.8084681724845997, total=   1.4s\n",
      "[CV] max_features=log2, min_samples_leaf=5 ...........................\n"
     ]
    },
    {
     "name": "stderr",
     "output_type": "stream",
     "text": [
      "[Parallel(n_jobs=1)]: Done  10 out of  10 | elapsed:   17.8s remaining:    0.0s\n"
     ]
    },
    {
     "name": "stdout",
     "output_type": "stream",
     "text": [
      "[CV]  max_features=log2, min_samples_leaf=5, score=0.822275295218542, total=   1.7s\n",
      "[CV] max_features=log2, min_samples_leaf=5 ...........................\n"
     ]
    },
    {
     "name": "stderr",
     "output_type": "stream",
     "text": [
      "[Parallel(n_jobs=1)]: Done  11 out of  11 | elapsed:   19.7s remaining:    0.0s\n"
     ]
    },
    {
     "name": "stdout",
     "output_type": "stream",
     "text": [
      "[CV]  max_features=log2, min_samples_leaf=5, score=0.8519958938260743, total=   1.7s\n",
      "[CV] max_features=log2, min_samples_leaf=5 ...........................\n"
     ]
    },
    {
     "name": "stderr",
     "output_type": "stream",
     "text": [
      "[Parallel(n_jobs=1)]: Done  12 out of  12 | elapsed:   21.6s remaining:    0.0s\n"
     ]
    },
    {
     "name": "stdout",
     "output_type": "stream",
     "text": [
      "[CV]  max_features=log2, min_samples_leaf=5, score=0.8426766388033435, total=   1.6s\n",
      "[CV] max_features=log2, min_samples_leaf=5 ...........................\n"
     ]
    },
    {
     "name": "stderr",
     "output_type": "stream",
     "text": [
      "[Parallel(n_jobs=1)]: Done  13 out of  13 | elapsed:   23.4s remaining:    0.0s\n"
     ]
    },
    {
     "name": "stdout",
     "output_type": "stream",
     "text": [
      "[CV]  max_features=log2, min_samples_leaf=5, score=0.8170142249596715, total=   1.5s\n",
      "[CV] max_features=log2, min_samples_leaf=5 ...........................\n"
     ]
    },
    {
     "name": "stderr",
     "output_type": "stream",
     "text": [
      "[Parallel(n_jobs=1)]: Done  14 out of  14 | elapsed:   25.1s remaining:    0.0s\n"
     ]
    },
    {
     "name": "stdout",
     "output_type": "stream",
     "text": [
      "[CV]  max_features=log2, min_samples_leaf=5, score=0.8265925491346435, total=   1.3s\n",
      "[CV] max_features=log2, min_samples_leaf=10 ..........................\n"
     ]
    },
    {
     "name": "stderr",
     "output_type": "stream",
     "text": [
      "[Parallel(n_jobs=1)]: Done  15 out of  15 | elapsed:   26.6s remaining:    0.0s\n"
     ]
    },
    {
     "name": "stdout",
     "output_type": "stream",
     "text": [
      "[CV]  max_features=log2, min_samples_leaf=10, score=0.8223980847166066, total=   1.4s\n",
      "[CV] max_features=log2, min_samples_leaf=10 ..........................\n"
     ]
    },
    {
     "name": "stderr",
     "output_type": "stream",
     "text": [
      "[Parallel(n_jobs=1)]: Done  16 out of  16 | elapsed:   28.2s remaining:    0.0s\n"
     ]
    },
    {
     "name": "stdout",
     "output_type": "stream",
     "text": [
      "[CV]  max_features=log2, min_samples_leaf=10, score=0.8636456958498314, total=   1.7s\n",
      "[CV] max_features=log2, min_samples_leaf=10 ..........................\n"
     ]
    },
    {
     "name": "stderr",
     "output_type": "stream",
     "text": [
      "[Parallel(n_jobs=1)]: Done  17 out of  17 | elapsed:   30.2s remaining:    0.0s\n"
     ]
    },
    {
     "name": "stdout",
     "output_type": "stream",
     "text": [
      "[CV]  max_features=log2, min_samples_leaf=10, score=0.8416113799677373, total=   1.6s\n",
      "[CV] max_features=log2, min_samples_leaf=10 ..........................\n"
     ]
    },
    {
     "name": "stderr",
     "output_type": "stream",
     "text": [
      "[Parallel(n_jobs=1)]: Done  18 out of  18 | elapsed:   32.0s remaining:    0.0s\n"
     ]
    },
    {
     "name": "stdout",
     "output_type": "stream",
     "text": [
      "[CV]  max_features=log2, min_samples_leaf=10, score=0.8250558732952045, total=   2.2s\n",
      "[CV] max_features=log2, min_samples_leaf=10 ..........................\n"
     ]
    },
    {
     "name": "stderr",
     "output_type": "stream",
     "text": [
      "[Parallel(n_jobs=1)]: Done  19 out of  19 | elapsed:   34.4s remaining:    0.0s\n"
     ]
    },
    {
     "name": "stdout",
     "output_type": "stream",
     "text": [
      "[CV]  max_features=log2, min_samples_leaf=10, score=0.828787327662071, total=   1.9s\n",
      "[CV] max_features=log2, min_samples_leaf=25 ..........................\n",
      "[CV]  max_features=log2, min_samples_leaf=25, score=0.8362209233304702, total=   2.0s\n",
      "[CV] max_features=log2, min_samples_leaf=25 ..........................\n",
      "[CV]  max_features=log2, min_samples_leaf=25, score=0.868614166300044, total=   1.6s\n",
      "[CV] max_features=log2, min_samples_leaf=25 ..........................\n",
      "[CV]  max_features=log2, min_samples_leaf=25, score=0.8539609913477049, total=   1.8s\n",
      "[CV] max_features=log2, min_samples_leaf=25 ..........................\n",
      "[CV]  max_features=log2, min_samples_leaf=25, score=0.8386091802317055, total=   1.7s\n",
      "[CV] max_features=log2, min_samples_leaf=25 ..........................\n",
      "[CV]  max_features=log2, min_samples_leaf=25, score=0.8390266940451745, total=   1.5s\n",
      "[CV] max_features=log2, min_samples_leaf=100 .........................\n",
      "[CV]  max_features=log2, min_samples_leaf=100, score=0.8370146905122707, total=   1.2s\n",
      "[CV] max_features=log2, min_samples_leaf=100 .........................\n",
      "[CV]  max_features=log2, min_samples_leaf=100, score=0.8707869189030649, total=   1.2s\n",
      "[CV] max_features=log2, min_samples_leaf=100 .........................\n",
      "[CV]  max_features=log2, min_samples_leaf=100, score=0.854167473236545, total=   1.2s\n",
      "[CV] max_features=log2, min_samples_leaf=100 .........................\n",
      "[CV]  max_features=log2, min_samples_leaf=100, score=0.8492306789851884, total=   1.2s\n",
      "[CV] max_features=log2, min_samples_leaf=100 .........................\n",
      "[CV]  max_features=log2, min_samples_leaf=100, score=0.8447351129363451, total=   1.2s\n",
      "[CV] max_features=log2, min_samples_leaf=150 .........................\n",
      "[CV]  max_features=log2, min_samples_leaf=150, score=0.8376309657655896, total=   1.2s\n",
      "[CV] max_features=log2, min_samples_leaf=150 .........................\n",
      "[CV]  max_features=log2, min_samples_leaf=150, score=0.872536148995454, total=   1.2s\n",
      "[CV] max_features=log2, min_samples_leaf=150 .........................\n",
      "[CV]  max_features=log2, min_samples_leaf=150, score=0.8519255022730605, total=   1.2s\n",
      "[CV] max_features=log2, min_samples_leaf=150 .........................\n",
      "[CV]  max_features=log2, min_samples_leaf=150, score=0.851184044581317, total=   1.2s\n",
      "[CV] max_features=log2, min_samples_leaf=150 .........................\n",
      "[CV]  max_features=log2, min_samples_leaf=150, score=0.8439700792021121, total=   1.2s\n",
      "[CV] max_features=log2, min_samples_leaf=200 .........................\n",
      "[CV]  max_features=log2, min_samples_leaf=200, score=0.8342504719539475, total=   1.2s\n",
      "[CV] max_features=log2, min_samples_leaf=200 .........................\n",
      "[CV]  max_features=log2, min_samples_leaf=200, score=0.8731819914943539, total=   1.2s\n",
      "[CV] max_features=log2, min_samples_leaf=200 .........................\n",
      "[CV]  max_features=log2, min_samples_leaf=200, score=0.8518873735151782, total=   1.2s\n",
      "[CV] max_features=log2, min_samples_leaf=200 .........................\n",
      "[CV]  max_features=log2, min_samples_leaf=200, score=0.8520181844845285, total=   1.2s\n",
      "[CV] max_features=log2, min_samples_leaf=200 .........................\n",
      "[CV]  max_features=log2, min_samples_leaf=200, score=0.8430178938105016, total=   1.2s\n",
      "[CV] max_features=sqrt, min_samples_leaf=1 ...........................\n",
      "[CV]  max_features=sqrt, min_samples_leaf=1, score=0.7450791090254355, total=   1.5s\n",
      "[CV] max_features=sqrt, min_samples_leaf=1 ...........................\n",
      "[CV]  max_features=sqrt, min_samples_leaf=1, score=0.7803337732805395, total=   1.4s\n",
      "[CV] max_features=sqrt, min_samples_leaf=1 ...........................\n",
      "[CV]  max_features=sqrt, min_samples_leaf=1, score=0.7813198416190056, total=   1.3s\n",
      "[CV] max_features=sqrt, min_samples_leaf=1 ...........................\n",
      "[CV]  max_features=sqrt, min_samples_leaf=1, score=0.7594051913770348, total=   1.4s\n",
      "[CV] max_features=sqrt, min_samples_leaf=1 ...........................\n",
      "[CV]  max_features=sqrt, min_samples_leaf=1, score=0.7779976532707537, total=   1.4s\n",
      "[CV] max_features=sqrt, min_samples_leaf=3 ...........................\n",
      "[CV]  max_features=sqrt, min_samples_leaf=3, score=0.8041693726911502, total=   1.4s\n",
      "[CV] max_features=sqrt, min_samples_leaf=3 ...........................\n",
      "[CV]  max_features=sqrt, min_samples_leaf=3, score=0.845248863469717, total=   1.4s\n",
      "[CV] max_features=sqrt, min_samples_leaf=3 ...........................\n",
      "[CV]  max_features=sqrt, min_samples_leaf=3, score=0.8262871388766683, total=   1.3s\n",
      "[CV] max_features=sqrt, min_samples_leaf=3 ...........................\n",
      "[CV]  max_features=sqrt, min_samples_leaf=3, score=0.8030984015251503, total=   1.4s\n",
      "[CV] max_features=sqrt, min_samples_leaf=3 ...........................\n",
      "[CV]  max_features=sqrt, min_samples_leaf=3, score=0.795452625403344, total=   1.3s\n",
      "[CV] max_features=sqrt, min_samples_leaf=5 ...........................\n",
      "[CV]  max_features=sqrt, min_samples_leaf=5, score=0.8168388047402566, total=   1.3s\n",
      "[CV] max_features=sqrt, min_samples_leaf=5 ...........................\n",
      "[CV]  max_features=sqrt, min_samples_leaf=5, score=0.847922569291685, total=   1.3s\n",
      "[CV] max_features=sqrt, min_samples_leaf=5 ...........................\n",
      "[CV]  max_features=sqrt, min_samples_leaf=5, score=0.8347124211761257, total=   1.3s\n",
      "[CV] max_features=sqrt, min_samples_leaf=5 ...........................\n",
      "[CV]  max_features=sqrt, min_samples_leaf=5, score=0.8227646282446106, total=   1.4s\n",
      "[CV] max_features=sqrt, min_samples_leaf=5 ...........................\n",
      "[CV]  max_features=sqrt, min_samples_leaf=5, score=0.8177659137577002, total=   1.3s\n",
      "[CV] max_features=sqrt, min_samples_leaf=10 ..........................\n",
      "[CV]  max_features=sqrt, min_samples_leaf=10, score=0.8318982674460017, total=   1.4s\n",
      "[CV] max_features=sqrt, min_samples_leaf=10 ..........................\n",
      "[CV]  max_features=sqrt, min_samples_leaf=10, score=0.8590109986801584, total=   1.3s\n",
      "[CV] max_features=sqrt, min_samples_leaf=10 ..........................\n",
      "[CV]  max_features=sqrt, min_samples_leaf=10, score=0.8466097668279806, total=   1.5s\n",
      "[CV] max_features=sqrt, min_samples_leaf=10 ..........................\n",
      "[CV]  max_features=sqrt, min_samples_leaf=10, score=0.8273576770787505, total=   1.4s\n",
      "[CV] max_features=sqrt, min_samples_leaf=10 ..........................\n",
      "[CV]  max_features=sqrt, min_samples_leaf=10, score=0.8269938398357288, total=   1.3s\n",
      "[CV] max_features=sqrt, min_samples_leaf=25 ..........................\n",
      "[CV]  max_features=sqrt, min_samples_leaf=25, score=0.8357553707311737, total=   1.3s\n",
      "[CV] max_features=sqrt, min_samples_leaf=25 ..........................\n",
      "[CV]  max_features=sqrt, min_samples_leaf=25, score=0.8664285085789705, total=   1.3s\n",
      "[CV] max_features=sqrt, min_samples_leaf=25 ..........................\n",
      "[CV]  max_features=sqrt, min_samples_leaf=25, score=0.8505217773867136, total=   1.3s\n",
      "[CV] max_features=sqrt, min_samples_leaf=25 ..........................\n",
      "[CV]  max_features=sqrt, min_samples_leaf=25, score=0.8376770787505499, total=   1.3s\n",
      "[CV] max_features=sqrt, min_samples_leaf=25 ..........................\n",
      "[CV]  max_features=sqrt, min_samples_leaf=25, score=0.8394438251686711, total=   1.3s\n",
      "[CV] max_features=sqrt, min_samples_leaf=100 .........................\n",
      "[CV]  max_features=sqrt, min_samples_leaf=100, score=0.8335719290404728, total=   1.2s\n",
      "[CV] max_features=sqrt, min_samples_leaf=100 .........................\n",
      "[CV]  max_features=sqrt, min_samples_leaf=100, score=0.8717911717260596, total=   1.2s\n",
      "[CV] max_features=sqrt, min_samples_leaf=100 .........................\n",
      "[CV]  max_features=sqrt, min_samples_leaf=100, score=0.8542378647895585, total=   1.2s\n",
      "[CV] max_features=sqrt, min_samples_leaf=100 .........................\n",
      "[CV]  max_features=sqrt, min_samples_leaf=100, score=0.8490312362516499, total=   1.6s\n",
      "[CV] max_features=sqrt, min_samples_leaf=100 .........................\n",
      "[CV]  max_features=sqrt, min_samples_leaf=100, score=0.8413417424464653, total=   1.4s\n",
      "[CV] max_features=sqrt, min_samples_leaf=150 .........................\n",
      "[CV]  max_features=sqrt, min_samples_leaf=150, score=0.8362826090498771, total=   1.4s\n",
      "[CV] max_features=sqrt, min_samples_leaf=150 .........................\n",
      "[CV]  max_features=sqrt, min_samples_leaf=150, score=0.8738419123038568, total=   1.3s\n",
      "[CV] max_features=sqrt, min_samples_leaf=150 .........................\n"
     ]
    },
    {
     "name": "stdout",
     "output_type": "stream",
     "text": [
      "[CV]  max_features=sqrt, min_samples_leaf=150, score=0.8519354744097375, total=   1.2s\n",
      "[CV] max_features=sqrt, min_samples_leaf=150 .........................\n",
      "[CV]  max_features=sqrt, min_samples_leaf=150, score=0.8514175098988122, total=   1.2s\n",
      "[CV] max_features=sqrt, min_samples_leaf=150 .........................\n",
      "[CV]  max_features=sqrt, min_samples_leaf=150, score=0.8454420651217367, total=   1.2s\n",
      "[CV] max_features=sqrt, min_samples_leaf=200 .........................\n",
      "[CV]  max_features=sqrt, min_samples_leaf=200, score=0.8375337816604864, total=   1.2s\n",
      "[CV] max_features=sqrt, min_samples_leaf=200 .........................\n",
      "[CV]  max_features=sqrt, min_samples_leaf=200, score=0.870900718580437, total=   1.2s\n",
      "[CV] max_features=sqrt, min_samples_leaf=200 .........................\n",
      "[CV]  max_features=sqrt, min_samples_leaf=200, score=0.8519114239624579, total=   1.2s\n",
      "[CV] max_features=sqrt, min_samples_leaf=200 .........................\n",
      "[CV]  max_features=sqrt, min_samples_leaf=200, score=0.8525895292564892, total=   1.2s\n",
      "[CV] max_features=sqrt, min_samples_leaf=200 .........................\n",
      "[CV]  max_features=sqrt, min_samples_leaf=200, score=0.8463895570548547, total=   1.2s\n",
      "[CV] max_features=auto, min_samples_leaf=1 ...........................\n",
      "[CV]  max_features=auto, min_samples_leaf=1, score=0.7461143816181212, total=   1.4s\n",
      "[CV] max_features=auto, min_samples_leaf=1 ...........................\n",
      "[CV]  max_features=auto, min_samples_leaf=1, score=0.786483062032556, total=   1.4s\n",
      "[CV] max_features=auto, min_samples_leaf=1 ...........................\n",
      "[CV]  max_features=auto, min_samples_leaf=1, score=0.773780906291245, total=   1.4s\n",
      "[CV] max_features=auto, min_samples_leaf=1 ...........................\n",
      "[CV]  max_features=auto, min_samples_leaf=1, score=0.7643337732805396, total=   1.5s\n",
      "[CV] max_features=auto, min_samples_leaf=1 ...........................\n",
      "[CV]  max_features=auto, min_samples_leaf=1, score=0.7633206218832502, total=   1.4s\n",
      "[CV] max_features=auto, min_samples_leaf=3 ...........................\n",
      "[CV]  max_features=auto, min_samples_leaf=3, score=0.8105806139242127, total=   1.6s\n",
      "[CV] max_features=auto, min_samples_leaf=3 ...........................\n",
      "[CV]  max_features=auto, min_samples_leaf=3, score=0.8460495673852471, total=   1.4s\n",
      "[CV] max_features=auto, min_samples_leaf=3 ...........................\n",
      "[CV]  max_features=auto, min_samples_leaf=3, score=0.8425880627658014, total=   1.5s\n",
      "[CV] max_features=auto, min_samples_leaf=3 ...........................\n",
      "[CV]  max_features=auto, min_samples_leaf=3, score=0.8074767561225987, total=   1.4s\n",
      "[CV] max_features=auto, min_samples_leaf=3 ...........................\n",
      "[CV]  max_features=auto, min_samples_leaf=3, score=0.8065209738926372, total=   1.6s\n",
      "[CV] max_features=auto, min_samples_leaf=5 ...........................\n",
      "[CV]  max_features=auto, min_samples_leaf=5, score=0.8135374548704949, total=   1.4s\n",
      "[CV] max_features=auto, min_samples_leaf=5 ...........................\n",
      "[CV]  max_features=auto, min_samples_leaf=5, score=0.8557553893532777, total=   1.5s\n",
      "[CV] max_features=auto, min_samples_leaf=5 ...........................\n",
      "[CV]  max_features=auto, min_samples_leaf=5, score=0.8415644522657281, total=   1.6s\n",
      "[CV] max_features=auto, min_samples_leaf=5 ...........................\n",
      "[CV]  max_features=auto, min_samples_leaf=5, score=0.822606833846605, total=   1.7s\n",
      "[CV] max_features=auto, min_samples_leaf=5 ...........................\n",
      "[CV]  max_features=auto, min_samples_leaf=5, score=0.8220070401877384, total=   1.4s\n",
      "[CV] max_features=auto, min_samples_leaf=10 ..........................\n",
      "[CV]  max_features=auto, min_samples_leaf=10, score=0.8305749341825013, total=   1.3s\n",
      "[CV] max_features=auto, min_samples_leaf=10 ..........................\n",
      "[CV]  max_features=auto, min_samples_leaf=10, score=0.8624320281566211, total=   1.3s\n",
      "[CV] max_features=auto, min_samples_leaf=10 ..........................\n",
      "[CV]  max_features=auto, min_samples_leaf=10, score=0.8452459304883415, total=   1.3s\n",
      "[CV] max_features=auto, min_samples_leaf=10 ..........................\n",
      "[CV]  max_features=auto, min_samples_leaf=10, score=0.8332488634697169, total=   1.3s\n",
      "[CV] max_features=auto, min_samples_leaf=10 ..........................\n",
      "[CV]  max_features=auto, min_samples_leaf=10, score=0.8290437078322088, total=   1.4s\n",
      "[CV] max_features=auto, min_samples_leaf=25 ..........................\n",
      "[CV]  max_features=auto, min_samples_leaf=25, score=0.8293039755864218, total=   1.4s\n",
      "[CV] max_features=auto, min_samples_leaf=25 ..........................\n",
      "[CV]  max_features=auto, min_samples_leaf=25, score=0.8692676345505206, total=   1.3s\n",
      "[CV] max_features=auto, min_samples_leaf=25 ..........................\n",
      "[CV]  max_features=auto, min_samples_leaf=25, score=0.8536084469863616, total=   1.3s\n",
      "[CV] max_features=auto, min_samples_leaf=25 ..........................\n",
      "[CV]  max_features=auto, min_samples_leaf=25, score=0.8383059099574717, total=   1.3s\n",
      "[CV] max_features=auto, min_samples_leaf=25 ..........................\n",
      "[CV]  max_features=auto, min_samples_leaf=25, score=0.8356914051041362, total=   1.3s\n",
      "[CV] max_features=auto, min_samples_leaf=100 .........................\n",
      "[CV]  max_features=auto, min_samples_leaf=100, score=0.8336254675893919, total=   1.2s\n",
      "[CV] max_features=auto, min_samples_leaf=100 .........................\n",
      "[CV]  max_features=auto, min_samples_leaf=100, score=0.8730676052207068, total=   1.2s\n",
      "[CV] max_features=auto, min_samples_leaf=100 .........................\n",
      "[CV]  max_features=auto, min_samples_leaf=100, score=0.8505839565918758, total=   1.2s\n",
      "[CV] max_features=auto, min_samples_leaf=100 .........................\n",
      "[CV]  max_features=auto, min_samples_leaf=100, score=0.8503205748643496, total=   1.3s\n",
      "[CV] max_features=auto, min_samples_leaf=100 .........................\n",
      "[CV]  max_features=auto, min_samples_leaf=100, score=0.8432026987386331, total=   1.2s\n",
      "[CV] max_features=auto, min_samples_leaf=150 .........................\n",
      "[CV]  max_features=auto, min_samples_leaf=150, score=0.8369832657118182, total=   1.2s\n",
      "[CV] max_features=auto, min_samples_leaf=150 .........................\n",
      "[CV]  max_features=auto, min_samples_leaf=150, score=0.8719343012171873, total=   1.2s\n",
      "[CV] max_features=auto, min_samples_leaf=150 .........................\n",
      "[CV]  max_features=auto, min_samples_leaf=150, score=0.8511629271154129, total=   1.2s\n",
      "[CV] max_features=auto, min_samples_leaf=150 .........................\n",
      "[CV]  max_features=auto, min_samples_leaf=150, score=0.8512896319108374, total=   1.4s\n",
      "[CV] max_features=auto, min_samples_leaf=150 .........................\n",
      "[CV]  max_features=auto, min_samples_leaf=150, score=0.8436450572015253, total=   1.4s\n",
      "[CV] max_features=auto, min_samples_leaf=200 .........................\n",
      "[CV]  max_features=auto, min_samples_leaf=200, score=0.835964869400857, total=   1.3s\n",
      "[CV] max_features=auto, min_samples_leaf=200 .........................\n",
      "[CV]  max_features=auto, min_samples_leaf=200, score=0.8729854817421909, total=   1.3s\n",
      "[CV] max_features=auto, min_samples_leaf=200 .........................\n",
      "[CV]  max_features=auto, min_samples_leaf=200, score=0.8502167473236545, total=   1.2s\n",
      "[CV] max_features=auto, min_samples_leaf=200 .........................\n",
      "[CV]  max_features=auto, min_samples_leaf=200, score=0.8508027570024931, total=   1.2s\n",
      "[CV] max_features=auto, min_samples_leaf=200 .........................\n",
      "[CV]  max_features=auto, min_samples_leaf=200, score=0.8454719859196245, total=   1.2s\n",
      "[CV] max_features=0.5, min_samples_leaf=1 ............................\n",
      "[CV]  max_features=0.5, min_samples_leaf=1, score=0.7346908847128821, total=   2.0s\n",
      "[CV] max_features=0.5, min_samples_leaf=1 ............................\n",
      "[CV]  max_features=0.5, min_samples_leaf=1, score=0.7804059246223786, total=   2.1s\n",
      "[CV] max_features=0.5, min_samples_leaf=1 ............................\n",
      "[CV]  max_features=0.5, min_samples_leaf=1, score=0.8076327907317787, total=   2.1s\n",
      "[CV] max_features=0.5, min_samples_leaf=1 ............................\n",
      "[CV]  max_features=0.5, min_samples_leaf=1, score=0.76572869922276, total=   2.1s\n",
      "[CV] max_features=0.5, min_samples_leaf=1 ............................\n",
      "[CV]  max_features=0.5, min_samples_leaf=1, score=0.7592044587855676, total=   2.1s\n",
      "[CV] max_features=0.5, min_samples_leaf=3 ............................\n"
     ]
    },
    {
     "name": "stdout",
     "output_type": "stream",
     "text": [
      "[CV]  max_features=0.5, min_samples_leaf=3, score=0.8029694108664631, total=   1.9s\n",
      "[CV] max_features=0.5, min_samples_leaf=3 ............................\n",
      "[CV]  max_features=0.5, min_samples_leaf=3, score=0.830085349758029, total=   2.0s\n",
      "[CV] max_features=0.5, min_samples_leaf=3 ............................\n",
      "[CV]  max_features=0.5, min_samples_leaf=3, score=0.8287836926235519, total=   1.9s\n",
      "[CV] max_features=0.5, min_samples_leaf=3 ............................\n",
      "[CV]  max_features=0.5, min_samples_leaf=3, score=0.7839313682358117, total=   2.0s\n",
      "[CV] max_features=0.5, min_samples_leaf=3 ............................\n",
      "[CV]  max_features=0.5, min_samples_leaf=3, score=0.7970266940451746, total=   2.1s\n",
      "[CV] max_features=0.5, min_samples_leaf=5 ............................\n",
      "[CV]  max_features=0.5, min_samples_leaf=5, score=0.8064953898653854, total=   2.1s\n",
      "[CV] max_features=0.5, min_samples_leaf=5 ............................\n",
      "[CV]  max_features=0.5, min_samples_leaf=5, score=0.847819328347265, total=   1.9s\n",
      "[CV] max_features=0.5, min_samples_leaf=5 ............................\n",
      "[CV]  max_features=0.5, min_samples_leaf=5, score=0.8331409297550961, total=   1.9s\n",
      "[CV] max_features=0.5, min_samples_leaf=5 ............................\n",
      "[CV]  max_features=0.5, min_samples_leaf=5, score=0.8165384953805543, total=   2.0s\n",
      "[CV] max_features=0.5, min_samples_leaf=5 ............................\n",
      "[CV]  max_features=0.5, min_samples_leaf=5, score=0.8110630683484892, total=   1.9s\n",
      "[CV] max_features=0.5, min_samples_leaf=10 ...........................\n",
      "[CV]  max_features=0.5, min_samples_leaf=10, score=0.8236242338750037, total=   2.0s\n",
      "[CV] max_features=0.5, min_samples_leaf=10 ...........................\n",
      "[CV]  max_features=0.5, min_samples_leaf=10, score=0.8577427775333626, total=   1.9s\n",
      "[CV] max_features=0.5, min_samples_leaf=10 ...........................\n",
      "[CV]  max_features=0.5, min_samples_leaf=10, score=0.8417803196949698, total=   1.9s\n",
      "[CV] max_features=0.5, min_samples_leaf=10 ...........................\n",
      "[CV]  max_features=0.5, min_samples_leaf=10, score=0.825460624725033, total=   1.9s\n",
      "[CV] max_features=0.5, min_samples_leaf=10 ...........................\n",
      "[CV]  max_features=0.5, min_samples_leaf=10, score=0.8226254033440892, total=   1.9s\n",
      "[CV] max_features=0.5, min_samples_leaf=25 ...........................\n",
      "[CV]  max_features=0.5, min_samples_leaf=25, score=0.8288343494018813, total=   1.8s\n",
      "[CV] max_features=0.5, min_samples_leaf=25 ...........................\n",
      "[CV]  max_features=0.5, min_samples_leaf=25, score=0.8677307523097229, total=   1.9s\n",
      "[CV] max_features=0.5, min_samples_leaf=25 ...........................\n",
      "[CV]  max_features=0.5, min_samples_leaf=25, score=0.8551523683824607, total=   1.8s\n",
      "[CV] max_features=0.5, min_samples_leaf=25 ...........................\n",
      "[CV]  max_features=0.5, min_samples_leaf=25, score=0.8374799824021117, total=   1.9s\n",
      "[CV] max_features=0.5, min_samples_leaf=25 ...........................\n",
      "[CV]  max_features=0.5, min_samples_leaf=25, score=0.832012320328542, total=   1.8s\n",
      "[CV] max_features=0.5, min_samples_leaf=100 ..........................\n",
      "[CV]  max_features=0.5, min_samples_leaf=100, score=0.8355295777205147, total=   1.7s\n",
      "[CV] max_features=0.5, min_samples_leaf=100 ..........................\n",
      "[CV]  max_features=0.5, min_samples_leaf=100, score=0.876005279366476, total=   1.7s\n",
      "[CV] max_features=0.5, min_samples_leaf=100 ..........................\n",
      "[CV]  max_features=0.5, min_samples_leaf=100, score=0.8545669452998974, total=   1.7s\n",
      "[CV] max_features=0.5, min_samples_leaf=100 ..........................\n",
      "[CV]  max_features=0.5, min_samples_leaf=100, score=0.8499275553600234, total=   1.7s\n",
      "[CV] max_features=0.5, min_samples_leaf=100 ..........................\n",
      "[CV]  max_features=0.5, min_samples_leaf=100, score=0.8410214139043708, total=   1.7s\n",
      "[CV] max_features=0.5, min_samples_leaf=150 ..........................\n",
      "[CV]  max_features=0.5, min_samples_leaf=150, score=0.8381541304990491, total=   1.7s\n",
      "[CV] max_features=0.5, min_samples_leaf=150 ..........................\n",
      "[CV]  max_features=0.5, min_samples_leaf=150, score=0.8747135943686758, total=   1.6s\n",
      "[CV] max_features=0.5, min_samples_leaf=150 ..........................\n",
      "[CV]  max_features=0.5, min_samples_leaf=150, score=0.8530547001026544, total=   1.6s\n",
      "[CV] max_features=0.5, min_samples_leaf=150 ..........................\n",
      "[CV]  max_features=0.5, min_samples_leaf=150, score=0.8496893972723273, total=   1.6s\n",
      "[CV] max_features=0.5, min_samples_leaf=150 ..........................\n",
      "[CV]  max_features=0.5, min_samples_leaf=150, score=0.841276034027574, total=   1.7s\n",
      "[CV] max_features=0.5, min_samples_leaf=200 ..........................\n",
      "[CV]  max_features=0.5, min_samples_leaf=200, score=0.8367714392791383, total=   1.6s\n",
      "[CV] max_features=0.5, min_samples_leaf=200 ..........................\n",
      "[CV]  max_features=0.5, min_samples_leaf=200, score=0.8749634843818742, total=   1.6s\n",
      "[CV] max_features=0.5, min_samples_leaf=200 ..........................\n",
      "[CV]  max_features=0.5, min_samples_leaf=200, score=0.8520369555653321, total=   1.5s\n",
      "[CV] max_features=0.5, min_samples_leaf=200 ..........................\n",
      "[CV]  max_features=0.5, min_samples_leaf=200, score=0.8540665786772254, total=   1.6s\n",
      "[CV] max_features=0.5, min_samples_leaf=200 ..........................\n",
      "[CV]  max_features=0.5, min_samples_leaf=200, score=0.8446881783514227, total=   1.6s\n"
     ]
    },
    {
     "name": "stderr",
     "output_type": "stream",
     "text": [
      "[Parallel(n_jobs=1)]: Done 160 out of 160 | elapsed:  4.6min finished\n"
     ]
    }
   ],
   "source": [
    "clf = RandomForestClassifier(n_jobs=-1,\n",
    "                             class_weight='balanced',\n",
    "                             oob_score=True, \n",
    "                             bootstrap=True, \n",
    "                             n_estimators=100)\n",
    "\n",
    "parameters = {'max_features': ['log2', 'sqrt','auto',0.5], \n",
    "              'min_samples_leaf': [1, 3, 5, 10,25,100, 150, 200], \n",
    "             }\n",
    "\n",
    "grid_obj = GridSearchCV(clf, parameters, \n",
    "                        scoring='roc_auc',\n",
    "                        verbose=20,\n",
    "                        cv = StratifiedKFold(n_splits=5, \n",
    "                                   shuffle=True,\n",
    "                                   random_state=1).split(x_trn2[select_cols],y_trn2),\n",
    "                        iid = False) \n",
    "\n",
    "grid_obj = grid_obj.fit(x_trn2[select_cols], y_trn2)"
   ]
  },
  {
   "cell_type": "code",
   "execution_count": 167,
   "metadata": {},
   "outputs": [
    {
     "name": "stderr",
     "output_type": "stream",
     "text": [
      "/Users/princegrover/anaconda3/envs/fastai/lib/python3.6/site-packages/sklearn/model_selection/_search.py:761: DeprecationWarning: The grid_scores_ attribute was deprecated in version 0.18 in favor of the more elaborate cv_results_ attribute. The grid_scores_ attribute will not be available from 0.20\n",
      "  DeprecationWarning)\n"
     ]
    },
    {
     "data": {
      "text/plain": [
       "([mean: 0.76707, std: 0.01756, params: {'max_features': 'log2', 'min_samples_leaf': 1},\n",
       "  mean: 0.82258, std: 0.01691, params: {'max_features': 'log2', 'min_samples_leaf': 3},\n",
       "  mean: 0.83211, std: 0.01313, params: {'max_features': 'log2', 'min_samples_leaf': 5},\n",
       "  mean: 0.83630, std: 0.01518, params: {'max_features': 'log2', 'min_samples_leaf': 10},\n",
       "  mean: 0.84729, std: 0.01237, params: {'max_features': 'log2', 'min_samples_leaf': 25},\n",
       "  mean: 0.85119, std: 0.01131, params: {'max_features': 'log2', 'min_samples_leaf': 100},\n",
       "  mean: 0.85145, std: 0.01176, params: {'max_features': 'log2', 'min_samples_leaf': 150},\n",
       "  mean: 0.85087, std: 0.01295, params: {'max_features': 'log2', 'min_samples_leaf': 200},\n",
       "  mean: 0.76883, std: 0.01432, params: {'max_features': 'sqrt', 'min_samples_leaf': 1},\n",
       "  mean: 0.81485, std: 0.01835, params: {'max_features': 'sqrt', 'min_samples_leaf': 3},\n",
       "  mean: 0.82800, std: 0.01182, params: {'max_features': 'sqrt', 'min_samples_leaf': 5},\n",
       "  mean: 0.83837, std: 0.01254, params: {'max_features': 'sqrt', 'min_samples_leaf': 10},\n",
       "  mean: 0.84597, std: 0.01145, params: {'max_features': 'sqrt', 'min_samples_leaf': 25},\n",
       "  mean: 0.84999, std: 0.01295, params: {'max_features': 'sqrt', 'min_samples_leaf': 100},\n",
       "  mean: 0.85178, std: 0.01239, params: {'max_features': 'sqrt', 'min_samples_leaf': 150},\n",
       "  mean: 0.85187, std: 0.01094, params: {'max_features': 'sqrt', 'min_samples_leaf': 200},\n",
       "  mean: 0.76681, std: 0.01328, params: {'max_features': 'auto', 'min_samples_leaf': 1},\n",
       "  mean: 0.82264, std: 0.01778, params: {'max_features': 'auto', 'min_samples_leaf': 3},\n",
       "  mean: 0.83109, std: 0.01537, params: {'max_features': 'auto', 'min_samples_leaf': 5},\n",
       "  mean: 0.84011, std: 0.01253, params: {'max_features': 'auto', 'min_samples_leaf': 10},\n",
       "  mean: 0.84524, std: 0.01443, params: {'max_features': 'auto', 'min_samples_leaf': 25},\n",
       "  mean: 0.85016, std: 0.01301, params: {'max_features': 'auto', 'min_samples_leaf': 100},\n",
       "  mean: 0.85100, std: 0.01174, params: {'max_features': 'auto', 'min_samples_leaf': 150},\n",
       "  mean: 0.85109, std: 0.01217, params: {'max_features': 'auto', 'min_samples_leaf': 200},\n",
       "  mean: 0.76953, std: 0.02410, params: {'max_features': 0.5, 'min_samples_leaf': 1},\n",
       "  mean: 0.80856, std: 0.01813, params: {'max_features': 0.5, 'min_samples_leaf': 3},\n",
       "  mean: 0.82301, std: 0.01533, params: {'max_features': 0.5, 'min_samples_leaf': 5},\n",
       "  mean: 0.83425, std: 0.01367, params: {'max_features': 0.5, 'min_samples_leaf': 10},\n",
       "  mean: 0.84424, std: 0.01486, params: {'max_features': 0.5, 'min_samples_leaf': 25},\n",
       "  mean: 0.85141, std: 0.01398, params: {'max_features': 0.5, 'min_samples_leaf': 100},\n",
       "  mean: 0.85138, std: 0.01286, params: {'max_features': 0.5, 'min_samples_leaf': 150},\n",
       "  mean: 0.85251, std: 0.01277, params: {'max_features': 0.5, 'min_samples_leaf': 200}],\n",
       " {'max_features': 0.5, 'min_samples_leaf': 200},\n",
       " 0.8525053272509986)"
      ]
     },
     "execution_count": 167,
     "metadata": {},
     "output_type": "execute_result"
    }
   ],
   "source": [
    "grid_obj.grid_scores_, grid_obj.best_params_, grid_obj.best_score_"
   ]
  },
  {
   "cell_type": "markdown",
   "metadata": {},
   "source": [
    "Similar hyperparamters and CV score after removing some features. It might have "
   ]
  },
  {
   "cell_type": "code",
   "execution_count": 174,
   "metadata": {},
   "outputs": [
    {
     "data": {
      "text/plain": [
       "RandomForestClassifier(bootstrap=True, class_weight='balanced',\n",
       "            criterion='gini', max_depth=None, max_features=0.5,\n",
       "            max_leaf_nodes=None, min_impurity_decrease=0.0,\n",
       "            min_impurity_split=None, min_samples_leaf=200,\n",
       "            min_samples_split=2, min_weight_fraction_leaf=0.0,\n",
       "            n_estimators=100, n_jobs=-1, oob_score=True, random_state=None,\n",
       "            verbose=0, warm_start=False)"
      ]
     },
     "execution_count": 174,
     "metadata": {},
     "output_type": "execute_result"
    }
   ],
   "source": [
    "rf = grid_obj.best_estimator_\n",
    "rf.fit(x_trn2[select_cols], y_trn2)"
   ]
  },
  {
   "cell_type": "code",
   "execution_count": 175,
   "metadata": {},
   "outputs": [
    {
     "data": {
      "text/plain": [
       "0.782344470046083"
      ]
     },
     "execution_count": 175,
     "metadata": {},
     "output_type": "execute_result"
    }
   ],
   "source": [
    "rf.oob_score_"
   ]
  },
  {
   "cell_type": "code",
   "execution_count": 179,
   "metadata": {},
   "outputs": [
    {
     "data": {
      "text/plain": [
       "0.83475361909438"
      ]
     },
     "execution_count": 179,
     "metadata": {},
     "output_type": "execute_result"
    }
   ],
   "source": [
    "# Validation score\n",
    "roc_auc_score(y_val2, rf.predict_proba(x_val2[select_cols])[:,1])"
   ]
  },
  {
   "cell_type": "code",
   "execution_count": 176,
   "metadata": {},
   "outputs": [],
   "source": [
    "imp = importances_perm(rf, x_val2[select_cols], y_val2, n_samples=len(y_val2)) # permutation"
   ]
  },
  {
   "cell_type": "code",
   "execution_count": 177,
   "metadata": {},
   "outputs": [
    {
     "data": {
      "image/png": "[encoded data removed]",
      "text/plain": [
       "<Figure size 1080x504 with 1 Axes>"
      ]
     },
     "metadata": {},
     "output_type": "display_data"
    }
   ],
   "source": [
    "plot_importances(imp, figsize=(15,7))"
   ]
  },
  {
   "cell_type": "markdown",
   "metadata": {},
   "source": [
    "#### Fitting on full data using same features"
   ]
  },
  {
   "cell_type": "code",
   "execution_count": 181,
   "metadata": {},
   "outputs": [
    {
     "data": {
      "text/plain": [
       "RandomForestClassifier(bootstrap=True, class_weight='balanced',\n",
       "            criterion='gini', max_depth=None, max_features=0.5,\n",
       "            max_leaf_nodes=None, min_impurity_decrease=0.0,\n",
       "            min_impurity_split=None, min_samples_leaf=200,\n",
       "            min_samples_split=2, min_weight_fraction_leaf=0.0,\n",
       "            n_estimators=100, n_jobs=-1, oob_score=True, random_state=None,\n",
       "            verbose=0, warm_start=False)"
      ]
     },
     "execution_count": 181,
     "metadata": {},
     "output_type": "execute_result"
    }
   ],
   "source": [
    "m = RandomForestClassifier(bootstrap=True, class_weight='balanced',\n",
    "            criterion='gini', max_depth=None, max_features=0.5,\n",
    "            max_leaf_nodes=None, min_impurity_decrease=0.0,\n",
    "            min_impurity_split=None, min_samples_leaf=200,\n",
    "            min_samples_split=2, min_weight_fraction_leaf=0.0,\n",
    "            n_estimators=100, n_jobs=-1, oob_score=True, random_state=None,\n",
    "            verbose=0, warm_start=False)\n",
    "m.fit(train_enc[select_cols], train_enc['stroke'])"
   ]
  },
  {
   "cell_type": "code",
   "execution_count": null,
   "metadata": {},
   "outputs": [],
   "source": []
  },
  {
   "cell_type": "code",
   "execution_count": 184,
   "metadata": {},
   "outputs": [],
   "source": [
    "predictons = m.predict_proba(test_enc[select_cols])[:,1]\n",
    "pred_df = pd.DataFrame(test.id)\n",
    "pred_df['stroke'] = predictons\n",
    "pred_df.to_csv('submissions/rf_tar_enc.csv', index=False)"
   ]
  },
  {
   "cell_type": "markdown",
   "metadata": {},
   "source": [
    "### RF with only rfpimp and raw features"
   ]
  },
  {
   "cell_type": "code",
   "execution_count": 211,
   "metadata": {},
   "outputs": [],
   "source": [
    "clf = RandomForestClassifier(n_jobs=-1,\n",
    "                             class_weight='balanced',\n",
    "                             oob_score=True, \n",
    "                             bootstrap=True, \n",
    "                             n_estimators=100)\n",
    "\n",
    "parameters = {'max_features': ['log2', 'sqrt','auto',0.5], \n",
    "              'min_samples_leaf': [1, 3, 5, 10,25,100, 150, 200], \n",
    "             }\n",
    "\n",
    "grid_obj = GridSearchCV(clf, parameters, \n",
    "                        scoring='roc_auc',\n",
    "                        verbose=20,\n",
    "                        cv = StratifiedKFold(n_splits=5, \n",
    "                                   shuffle=True,\n",
    "                                   random_state=1).split(x_trn2[select_cols],y_trn2),\n",
    "                        iid = False) \n",
    "\n",
    "#grid_obj = grid_obj.fit(x_trn2[select_cols], y_trn2)"
   ]
  },
  {
   "cell_type": "code",
   "execution_count": 212,
   "metadata": {},
   "outputs": [],
   "source": [
    "x = train.drop(labels='stroke', axis=1)\n",
    "y = train['stroke']"
   ]
  },
  {
   "cell_type": "code",
   "execution_count": 214,
   "metadata": {},
   "outputs": [
    {
     "data": {
      "text/plain": [
       "RandomForestClassifier(bootstrap=True, class_weight='balanced',\n",
       "            criterion='gini', max_depth=None, max_features='auto',\n",
       "            max_leaf_nodes=None, min_impurity_decrease=0.0,\n",
       "            min_impurity_split=None, min_samples_leaf=1,\n",
       "            min_samples_split=2, min_weight_fraction_leaf=0.0,\n",
       "            n_estimators=100, n_jobs=-1, oob_score=True, random_state=None,\n",
       "            verbose=0, warm_start=False)"
      ]
     },
     "execution_count": 214,
     "metadata": {},
     "output_type": "execute_result"
    }
   ],
   "source": [
    "clf.fit(x,y)"
   ]
  },
  {
   "cell_type": "code",
   "execution_count": 216,
   "metadata": {},
   "outputs": [],
   "source": [
    "imp = importances_perm(clf, x, y, n_samples=len(y)) # permutation"
   ]
  },
  {
   "cell_type": "code",
   "execution_count": 217,
   "metadata": {},
   "outputs": [
    {
     "data": {
      "image/png": "[encoded data removed]",
      "text/plain": [
       "<Figure size 1080x504 with 1 Axes>"
      ]
     },
     "metadata": {},
     "output_type": "display_data"
    }
   ],
   "source": [
    "plot_importances(imp, figsize=(15,7))"
   ]
  },
  {
   "cell_type": "code",
   "execution_count": 220,
   "metadata": {},
   "outputs": [
    {
     "data": {
      "text/html": [
       "<div>\n",
       "<style scoped>\n",
       "    .dataframe tbody tr th:only-of-type {\n",
       "        vertical-align: middle;\n",
       "    }\n",
       "\n",
       "    .dataframe tbody tr th {\n",
       "        vertical-align: top;\n",
       "    }\n",
       "\n",
       "    .dataframe thead th {\n",
       "        text-align: right;\n",
       "    }\n",
       "</style>\n",
       "<table border=\"1\" class=\"dataframe\">\n",
       "  <thead>\n",
       "    <tr style=\"text-align: right;\">\n",
       "      <th></th>\n",
       "      <th>Importance</th>\n",
       "    </tr>\n",
       "    <tr>\n",
       "      <th>Feature</th>\n",
       "      <th></th>\n",
       "    </tr>\n",
       "  </thead>\n",
       "  <tbody>\n",
       "    <tr>\n",
       "      <th>Residence_type</th>\n",
       "      <td>0.000080</td>\n",
       "    </tr>\n",
       "    <tr>\n",
       "      <th>gender</th>\n",
       "      <td>0.000106</td>\n",
       "    </tr>\n",
       "    <tr>\n",
       "      <th>work_type</th>\n",
       "      <td>0.000340</td>\n",
       "    </tr>\n",
       "    <tr>\n",
       "      <th>hypertension</th>\n",
       "      <td>0.000538</td>\n",
       "    </tr>\n",
       "    <tr>\n",
       "      <th>smoking_status</th>\n",
       "      <td>0.000670</td>\n",
       "    </tr>\n",
       "    <tr>\n",
       "      <th>ever_married</th>\n",
       "      <td>0.000674</td>\n",
       "    </tr>\n",
       "    <tr>\n",
       "      <th>heart_disease</th>\n",
       "      <td>0.001549</td>\n",
       "    </tr>\n",
       "    <tr>\n",
       "      <th>id</th>\n",
       "      <td>0.003708</td>\n",
       "    </tr>\n",
       "    <tr>\n",
       "      <th>bmi</th>\n",
       "      <td>0.012202</td>\n",
       "    </tr>\n",
       "    <tr>\n",
       "      <th>avg_glucose_level</th>\n",
       "      <td>0.012236</td>\n",
       "    </tr>\n",
       "    <tr>\n",
       "      <th>age</th>\n",
       "      <td>0.160232</td>\n",
       "    </tr>\n",
       "  </tbody>\n",
       "</table>\n",
       "</div>"
      ],
      "text/plain": [
       "                   Importance\n",
       "Feature                      \n",
       "Residence_type       0.000080\n",
       "gender               0.000106\n",
       "work_type            0.000340\n",
       "hypertension         0.000538\n",
       "smoking_status       0.000670\n",
       "ever_married         0.000674\n",
       "heart_disease        0.001549\n",
       "id                   0.003708\n",
       "bmi                  0.012202\n",
       "avg_glucose_level    0.012236\n",
       "age                  0.160232"
      ]
     },
     "execution_count": 220,
     "metadata": {},
     "output_type": "execute_result"
    }
   ],
   "source": [
    "imp"
   ]
  },
  {
   "cell_type": "code",
   "execution_count": 221,
   "metadata": {},
   "outputs": [],
   "source": [
    "cols =list(imp[imp.Importance>0.001].index)"
   ]
  },
  {
   "cell_type": "code",
   "execution_count": 222,
   "metadata": {},
   "outputs": [
    {
     "data": {
      "text/plain": [
       "['heart_disease', 'id', 'bmi', 'avg_glucose_level', 'age']"
      ]
     },
     "execution_count": 222,
     "metadata": {},
     "output_type": "execute_result"
    }
   ],
   "source": [
    "cols"
   ]
  },
  {
   "cell_type": "code",
   "execution_count": 223,
   "metadata": {},
   "outputs": [
    {
     "name": "stdout",
     "output_type": "stream",
     "text": [
      "Fitting 5 folds for each of 32 candidates, totalling 160 fits\n",
      "[CV] max_features=log2, min_samples_leaf=1 ...........................\n",
      "[CV]  max_features=log2, min_samples_leaf=1, score=0.7453989609371171, total=   5.5s\n",
      "[CV] max_features=log2, min_samples_leaf=1 ...........................\n"
     ]
    },
    {
     "name": "stderr",
     "output_type": "stream",
     "text": [
      "[Parallel(n_jobs=1)]: Done   1 out of   1 | elapsed:    5.7s remaining:    0.0s\n"
     ]
    },
    {
     "name": "stdout",
     "output_type": "stream",
     "text": [
      "[CV]  max_features=log2, min_samples_leaf=1, score=0.7595481269430849, total=   2.0s\n",
      "[CV] max_features=log2, min_samples_leaf=1 ...........................\n"
     ]
    },
    {
     "name": "stderr",
     "output_type": "stream",
     "text": [
      "[Parallel(n_jobs=1)]: Done   2 out of   2 | elapsed:    7.9s remaining:    0.0s\n"
     ]
    },
    {
     "name": "stdout",
     "output_type": "stream",
     "text": [
      "[CV]  max_features=log2, min_samples_leaf=1, score=0.772772699525224, total=   1.8s\n",
      "[CV] max_features=log2, min_samples_leaf=1 ...........................\n"
     ]
    },
    {
     "name": "stderr",
     "output_type": "stream",
     "text": [
      "[Parallel(n_jobs=1)]: Done   3 out of   3 | elapsed:    9.9s remaining:    0.0s\n"
     ]
    },
    {
     "name": "stdout",
     "output_type": "stream",
     "text": [
      "[CV]  max_features=log2, min_samples_leaf=1, score=0.7590283127582496, total=   1.8s\n",
      "[CV] max_features=log2, min_samples_leaf=1 ...........................\n"
     ]
    },
    {
     "name": "stderr",
     "output_type": "stream",
     "text": [
      "[Parallel(n_jobs=1)]: Done   4 out of   4 | elapsed:   11.9s remaining:    0.0s\n"
     ]
    },
    {
     "name": "stdout",
     "output_type": "stream",
     "text": [
      "[CV]  max_features=log2, min_samples_leaf=1, score=0.7550195473035433, total=   2.0s\n",
      "[CV] max_features=log2, min_samples_leaf=3 ...........................\n"
     ]
    },
    {
     "name": "stderr",
     "output_type": "stream",
     "text": [
      "[Parallel(n_jobs=1)]: Done   5 out of   5 | elapsed:   14.2s remaining:    0.0s\n"
     ]
    },
    {
     "name": "stdout",
     "output_type": "stream",
     "text": [
      "[CV]  max_features=log2, min_samples_leaf=3, score=0.8100310003430867, total=   2.0s\n",
      "[CV] max_features=log2, min_samples_leaf=3 ...........................\n"
     ]
    },
    {
     "name": "stderr",
     "output_type": "stream",
     "text": [
      "[Parallel(n_jobs=1)]: Done   6 out of   6 | elapsed:   16.4s remaining:    0.0s\n"
     ]
    },
    {
     "name": "stdout",
     "output_type": "stream",
     "text": [
      "[CV]  max_features=log2, min_samples_leaf=3, score=0.8064234924739127, total=   1.6s\n",
      "[CV] max_features=log2, min_samples_leaf=3 ...........................\n"
     ]
    },
    {
     "name": "stderr",
     "output_type": "stream",
     "text": [
      "[Parallel(n_jobs=1)]: Done   7 out of   7 | elapsed:   18.2s remaining:    0.0s\n"
     ]
    },
    {
     "name": "stdout",
     "output_type": "stream",
     "text": [
      "[CV]  max_features=log2, min_samples_leaf=3, score=0.800102312176072, total=   1.8s\n",
      "[CV] max_features=log2, min_samples_leaf=3 ...........................\n"
     ]
    },
    {
     "name": "stderr",
     "output_type": "stream",
     "text": [
      "[Parallel(n_jobs=1)]: Done   8 out of   8 | elapsed:   20.3s remaining:    0.0s\n"
     ]
    },
    {
     "name": "stdout",
     "output_type": "stream",
     "text": [
      "[CV]  max_features=log2, min_samples_leaf=3, score=0.8189562416039016, total=   1.9s\n",
      "[CV] max_features=log2, min_samples_leaf=3 ...........................\n"
     ]
    },
    {
     "name": "stderr",
     "output_type": "stream",
     "text": [
      "[Parallel(n_jobs=1)]: Done   9 out of   9 | elapsed:   22.4s remaining:    0.0s\n"
     ]
    },
    {
     "name": "stdout",
     "output_type": "stream",
     "text": [
      "[CV]  max_features=log2, min_samples_leaf=3, score=0.7878320072833789, total=   1.8s\n",
      "[CV] max_features=log2, min_samples_leaf=5 ...........................\n"
     ]
    },
    {
     "name": "stderr",
     "output_type": "stream",
     "text": [
      "[Parallel(n_jobs=1)]: Done  10 out of  10 | elapsed:   24.4s remaining:    0.0s\n"
     ]
    },
    {
     "name": "stdout",
     "output_type": "stream",
     "text": [
      "[CV]  max_features=log2, min_samples_leaf=5, score=0.8198605392997762, total=   1.8s\n",
      "[CV] max_features=log2, min_samples_leaf=5 ...........................\n"
     ]
    },
    {
     "name": "stderr",
     "output_type": "stream",
     "text": [
      "[Parallel(n_jobs=1)]: Done  11 out of  11 | elapsed:   26.4s remaining:    0.0s\n"
     ]
    },
    {
     "name": "stdout",
     "output_type": "stream",
     "text": [
      "[CV]  max_features=log2, min_samples_leaf=5, score=0.8134047465139903, total=   1.8s\n",
      "[CV] max_features=log2, min_samples_leaf=5 ...........................\n"
     ]
    },
    {
     "name": "stderr",
     "output_type": "stream",
     "text": [
      "[Parallel(n_jobs=1)]: Done  12 out of  12 | elapsed:   28.5s remaining:    0.0s\n"
     ]
    },
    {
     "name": "stdout",
     "output_type": "stream",
     "text": [
      "[CV]  max_features=log2, min_samples_leaf=5, score=0.8105978801866406, total=   1.8s\n",
      "[CV] max_features=log2, min_samples_leaf=5 ...........................\n"
     ]
    },
    {
     "name": "stderr",
     "output_type": "stream",
     "text": [
      "[Parallel(n_jobs=1)]: Done  13 out of  13 | elapsed:   30.5s remaining:    0.0s\n"
     ]
    },
    {
     "name": "stdout",
     "output_type": "stream",
     "text": [
      "[CV]  max_features=log2, min_samples_leaf=5, score=0.8203887512972171, total=   1.8s\n",
      "[CV] max_features=log2, min_samples_leaf=5 ...........................\n"
     ]
    },
    {
     "name": "stderr",
     "output_type": "stream",
     "text": [
      "[Parallel(n_jobs=1)]: Done  14 out of  14 | elapsed:   32.5s remaining:    0.0s\n"
     ]
    },
    {
     "name": "stdout",
     "output_type": "stream",
     "text": [
      "[CV]  max_features=log2, min_samples_leaf=5, score=0.816250107690624, total=   1.8s\n",
      "[CV] max_features=log2, min_samples_leaf=10 ..........................\n"
     ]
    },
    {
     "name": "stderr",
     "output_type": "stream",
     "text": [
      "[Parallel(n_jobs=1)]: Done  15 out of  15 | elapsed:   34.5s remaining:    0.0s\n"
     ]
    },
    {
     "name": "stdout",
     "output_type": "stream",
     "text": [
      "[CV]  max_features=log2, min_samples_leaf=10, score=0.8355148956852749, total=   1.9s\n",
      "[CV] max_features=log2, min_samples_leaf=10 ..........................\n"
     ]
    },
    {
     "name": "stderr",
     "output_type": "stream",
     "text": [
      "[Parallel(n_jobs=1)]: Done  16 out of  16 | elapsed:   36.8s remaining:    0.0s\n"
     ]
    },
    {
     "name": "stdout",
     "output_type": "stream",
     "text": [
      "[CV]  max_features=log2, min_samples_leaf=10, score=0.8320977621817958, total=   1.8s\n",
      "[CV] max_features=log2, min_samples_leaf=10 ..........................\n"
     ]
    },
    {
     "name": "stderr",
     "output_type": "stream",
     "text": [
      "[Parallel(n_jobs=1)]: Done  17 out of  17 | elapsed:   38.8s remaining:    0.0s\n"
     ]
    },
    {
     "name": "stdout",
     "output_type": "stream",
     "text": [
      "[CV]  max_features=log2, min_samples_leaf=10, score=0.822744814183421, total=   1.6s\n",
      "[CV] max_features=log2, min_samples_leaf=10 ..........................\n"
     ]
    },
    {
     "name": "stderr",
     "output_type": "stream",
     "text": [
      "[Parallel(n_jobs=1)]: Done  18 out of  18 | elapsed:   40.6s remaining:    0.0s\n"
     ]
    },
    {
     "name": "stdout",
     "output_type": "stream",
     "text": [
      "[CV]  max_features=log2, min_samples_leaf=10, score=0.8410741912686943, total=   1.7s\n",
      "[CV] max_features=log2, min_samples_leaf=10 ..........................\n"
     ]
    },
    {
     "name": "stderr",
     "output_type": "stream",
     "text": [
      "[Parallel(n_jobs=1)]: Done  19 out of  19 | elapsed:   42.7s remaining:    0.0s\n"
     ]
    },
    {
     "name": "stdout",
     "output_type": "stream",
     "text": [
      "[CV]  max_features=log2, min_samples_leaf=10, score=0.8160067850914265, total=   1.8s\n",
      "[CV] max_features=log2, min_samples_leaf=25 ..........................\n",
      "[CV]  max_features=log2, min_samples_leaf=25, score=0.8438709993628388, total=   1.6s\n",
      "[CV] max_features=log2, min_samples_leaf=25 ..........................\n",
      "[CV]  max_features=log2, min_samples_leaf=25, score=0.8455456028565274, total=   1.9s\n",
      "[CV] max_features=log2, min_samples_leaf=25 ..........................\n",
      "[CV]  max_features=log2, min_samples_leaf=25, score=0.8338982916767199, total=   1.8s\n",
      "[CV] max_features=log2, min_samples_leaf=25 ..........................\n",
      "[CV]  max_features=log2, min_samples_leaf=25, score=0.8533415676112742, total=   1.7s\n",
      "[CV] max_features=log2, min_samples_leaf=25 ..........................\n",
      "[CV]  max_features=log2, min_samples_leaf=25, score=0.8316184329093232, total=   1.6s\n",
      "[CV] max_features=log2, min_samples_leaf=100 .........................\n",
      "[CV]  max_features=log2, min_samples_leaf=100, score=0.8467555833292488, total=   1.4s\n",
      "[CV] max_features=log2, min_samples_leaf=100 .........................\n",
      "[CV]  max_features=log2, min_samples_leaf=100, score=0.8587890540831717, total=   1.5s\n",
      "[CV] max_features=log2, min_samples_leaf=100 .........................\n",
      "[CV]  max_features=log2, min_samples_leaf=100, score=0.8377389536470466, total=   1.5s\n",
      "[CV] max_features=log2, min_samples_leaf=100 .........................\n",
      "[CV]  max_features=log2, min_samples_leaf=100, score=0.8528309574894791, total=   1.5s\n",
      "[CV] max_features=log2, min_samples_leaf=100 .........................\n",
      "[CV]  max_features=log2, min_samples_leaf=100, score=0.8387690903460303, total=   1.5s\n",
      "[CV] max_features=log2, min_samples_leaf=150 .........................\n",
      "[CV]  max_features=log2, min_samples_leaf=150, score=0.8496411883873287, total=   1.4s\n",
      "[CV] max_features=log2, min_samples_leaf=150 .........................\n",
      "[CV]  max_features=log2, min_samples_leaf=150, score=0.8596435497275834, total=   1.4s\n",
      "[CV] max_features=log2, min_samples_leaf=150 .........................\n",
      "[CV]  max_features=log2, min_samples_leaf=150, score=0.8345707041740994, total=   1.4s\n",
      "[CV] max_features=log2, min_samples_leaf=150 .........................\n",
      "[CV]  max_features=log2, min_samples_leaf=150, score=0.8529340981873977, total=   1.4s\n",
      "[CV] max_features=log2, min_samples_leaf=150 .........................\n",
      "[CV]  max_features=log2, min_samples_leaf=150, score=0.8406138016303779, total=   1.4s\n",
      "[CV] max_features=log2, min_samples_leaf=200 .........................\n",
      "[CV]  max_features=log2, min_samples_leaf=200, score=0.8508756882157853, total=   1.3s\n",
      "[CV] max_features=log2, min_samples_leaf=200 .........................\n",
      "[CV]  max_features=log2, min_samples_leaf=200, score=0.858258380275187, total=   1.4s\n",
      "[CV] max_features=log2, min_samples_leaf=200 .........................\n",
      "[CV]  max_features=log2, min_samples_leaf=200, score=0.8376374325445012, total=   1.4s\n",
      "[CV] max_features=log2, min_samples_leaf=200 .........................\n",
      "[CV]  max_features=log2, min_samples_leaf=200, score=0.8527711104178471, total=   1.4s\n",
      "[CV] max_features=log2, min_samples_leaf=200 .........................\n",
      "[CV]  max_features=log2, min_samples_leaf=200, score=0.8431058208819687, total=   1.4s\n",
      "[CV] max_features=sqrt, min_samples_leaf=1 ...........................\n",
      "[CV]  max_features=sqrt, min_samples_leaf=1, score=0.7590055179793821, total=   1.6s\n",
      "[CV] max_features=sqrt, min_samples_leaf=1 ...........................\n",
      "[CV]  max_features=sqrt, min_samples_leaf=1, score=0.7466371163850155, total=   1.7s\n",
      "[CV] max_features=sqrt, min_samples_leaf=1 ...........................\n",
      "[CV]  max_features=sqrt, min_samples_leaf=1, score=0.7662733712784934, total=   1.7s\n",
      "[CV] max_features=sqrt, min_samples_leaf=1 ...........................\n",
      "[CV]  max_features=sqrt, min_samples_leaf=1, score=0.7834841182425335, total=   1.7s\n",
      "[CV] max_features=sqrt, min_samples_leaf=1 ...........................\n",
      "[CV]  max_features=sqrt, min_samples_leaf=1, score=0.7411105755685483, total=   1.7s\n",
      "[CV] max_features=sqrt, min_samples_leaf=3 ...........................\n",
      "[CV]  max_features=sqrt, min_samples_leaf=3, score=0.8073148965021484, total=   1.7s\n",
      "[CV] max_features=sqrt, min_samples_leaf=3 ...........................\n",
      "[CV]  max_features=sqrt, min_samples_leaf=3, score=0.8092079908886632, total=   1.6s\n",
      "[CV] max_features=sqrt, min_samples_leaf=3 ...........................\n",
      "[CV]  max_features=sqrt, min_samples_leaf=3, score=0.798476656079466, total=   1.7s\n",
      "[CV] max_features=sqrt, min_samples_leaf=3 ...........................\n",
      "[CV]  max_features=sqrt, min_samples_leaf=3, score=0.8265746464884411, total=   1.6s\n",
      "[CV] max_features=sqrt, min_samples_leaf=3 ...........................\n",
      "[CV]  max_features=sqrt, min_samples_leaf=3, score=0.7835633837907565, total=   1.6s\n",
      "[CV] max_features=sqrt, min_samples_leaf=5 ...........................\n",
      "[CV]  max_features=sqrt, min_samples_leaf=5, score=0.8110679189334903, total=   1.9s\n",
      "[CV] max_features=sqrt, min_samples_leaf=5 ...........................\n",
      "[CV]  max_features=sqrt, min_samples_leaf=5, score=0.8120682119001447, total=   1.9s\n",
      "[CV] max_features=sqrt, min_samples_leaf=5 ...........................\n",
      "[CV]  max_features=sqrt, min_samples_leaf=5, score=0.8057321187717792, total=   1.7s\n",
      "[CV] max_features=sqrt, min_samples_leaf=5 ...........................\n",
      "[CV]  max_features=sqrt, min_samples_leaf=5, score=0.833810412117122, total=   1.7s\n",
      "[CV] max_features=sqrt, min_samples_leaf=5 ...........................\n",
      "[CV]  max_features=sqrt, min_samples_leaf=5, score=0.8055683620081449, total=   1.6s\n",
      "[CV] max_features=sqrt, min_samples_leaf=10 ..........................\n",
      "[CV]  max_features=sqrt, min_samples_leaf=10, score=0.8267554607982487, total=   1.6s\n",
      "[CV] max_features=sqrt, min_samples_leaf=10 ..........................\n",
      "[CV]  max_features=sqrt, min_samples_leaf=10, score=0.8316815957152092, total=   1.6s\n",
      "[CV] max_features=sqrt, min_samples_leaf=10 ..........................\n",
      "[CV]  max_features=sqrt, min_samples_leaf=10, score=0.8235352284818113, total=   1.6s\n",
      "[CV] max_features=sqrt, min_samples_leaf=10 ..........................\n",
      "[CV]  max_features=sqrt, min_samples_leaf=10, score=0.8531212794539911, total=   1.7s\n",
      "[CV] max_features=sqrt, min_samples_leaf=10 ..........................\n",
      "[CV]  max_features=sqrt, min_samples_leaf=10, score=0.8190267794565873, total=   1.6s\n",
      "[CV] max_features=sqrt, min_samples_leaf=25 ..........................\n",
      "[CV]  max_features=sqrt, min_samples_leaf=25, score=0.8418548538613604, total=   1.5s\n",
      "[CV] max_features=sqrt, min_samples_leaf=25 ..........................\n",
      "[CV]  max_features=sqrt, min_samples_leaf=25, score=0.8448560962846676, total=   1.8s\n",
      "[CV] max_features=sqrt, min_samples_leaf=25 ..........................\n",
      "[CV]  max_features=sqrt, min_samples_leaf=25, score=0.8345594972991431, total=   1.7s\n",
      "[CV] max_features=sqrt, min_samples_leaf=25 ..........................\n",
      "[CV]  max_features=sqrt, min_samples_leaf=25, score=0.8492261264301222, total=   1.8s\n",
      "[CV] max_features=sqrt, min_samples_leaf=25 ..........................\n",
      "[CV]  max_features=sqrt, min_samples_leaf=25, score=0.8310968610220482, total=   1.8s\n",
      "[CV] max_features=sqrt, min_samples_leaf=100 .........................\n",
      "[CV]  max_features=sqrt, min_samples_leaf=100, score=0.8467269927625023, total=   1.7s\n",
      "[CV] max_features=sqrt, min_samples_leaf=100 .........................\n",
      "[CV]  max_features=sqrt, min_samples_leaf=100, score=0.8572191953704559, total=   1.7s\n",
      "[CV] max_features=sqrt, min_samples_leaf=100 .........................\n",
      "[CV]  max_features=sqrt, min_samples_leaf=100, score=0.8397997001831335, total=   1.9s\n",
      "[CV] max_features=sqrt, min_samples_leaf=100 .........................\n",
      "[CV]  max_features=sqrt, min_samples_leaf=100, score=0.8556806967727149, total=   1.6s\n",
      "[CV] max_features=sqrt, min_samples_leaf=100 .........................\n",
      "[CV]  max_features=sqrt, min_samples_leaf=100, score=0.8405078573407749, total=   1.6s\n",
      "[CV] max_features=sqrt, min_samples_leaf=150 .........................\n",
      "[CV]  max_features=sqrt, min_samples_leaf=150, score=0.8487987877599699, total=   1.6s\n",
      "[CV] max_features=sqrt, min_samples_leaf=150 .........................\n",
      "[CV]  max_features=sqrt, min_samples_leaf=150, score=0.8592433896635577, total=   1.7s\n",
      "[CV] max_features=sqrt, min_samples_leaf=150 .........................\n"
     ]
    },
    {
     "name": "stdout",
     "output_type": "stream",
     "text": [
      "[CV]  max_features=sqrt, min_samples_leaf=150, score=0.836614970011721, total=   1.6s\n",
      "[CV] max_features=sqrt, min_samples_leaf=150 .........................\n",
      "[CV]  max_features=sqrt, min_samples_leaf=150, score=0.8524515015884941, total=   1.6s\n",
      "[CV] max_features=sqrt, min_samples_leaf=150 .........................\n",
      "[CV]  max_features=sqrt, min_samples_leaf=150, score=0.8414130406942494, total=   1.6s\n",
      "[CV] max_features=sqrt, min_samples_leaf=200 .........................\n",
      "[CV]  max_features=sqrt, min_samples_leaf=200, score=0.8500378825009394, total=   1.6s\n",
      "[CV] max_features=sqrt, min_samples_leaf=200 .........................\n",
      "[CV]  max_features=sqrt, min_samples_leaf=200, score=0.8591608951272817, total=   1.7s\n",
      "[CV] max_features=sqrt, min_samples_leaf=200 .........................\n",
      "[CV]  max_features=sqrt, min_samples_leaf=200, score=0.8394133926111095, total=   1.6s\n",
      "[CV] max_features=sqrt, min_samples_leaf=200 .........................\n",
      "[CV]  max_features=sqrt, min_samples_leaf=200, score=0.85526813398104, total=   1.4s\n",
      "[CV] max_features=sqrt, min_samples_leaf=200 .........................\n",
      "[CV]  max_features=sqrt, min_samples_leaf=200, score=0.8408134658684754, total=   1.5s\n",
      "[CV] max_features=auto, min_samples_leaf=1 ...........................\n",
      "[CV]  max_features=auto, min_samples_leaf=1, score=0.7413212313548662, total=   1.7s\n",
      "[CV] max_features=auto, min_samples_leaf=1 ...........................\n",
      "[CV]  max_features=auto, min_samples_leaf=1, score=0.7501942315387693, total=   1.7s\n",
      "[CV] max_features=auto, min_samples_leaf=1 ...........................\n",
      "[CV]  max_features=auto, min_samples_leaf=1, score=0.7545628461770713, total=   1.6s\n",
      "[CV] max_features=auto, min_samples_leaf=1 ...........................\n",
      "[CV]  max_features=auto, min_samples_leaf=1, score=0.7621059802504664, total=   1.6s\n",
      "[CV] max_features=auto, min_samples_leaf=1 ...........................\n",
      "[CV]  max_features=auto, min_samples_leaf=1, score=0.7583538818686244, total=   1.6s\n",
      "[CV] max_features=auto, min_samples_leaf=3 ...........................\n",
      "[CV]  max_features=auto, min_samples_leaf=3, score=0.8039279354343316, total=   1.7s\n",
      "[CV] max_features=auto, min_samples_leaf=3 ...........................\n",
      "[CV]  max_features=auto, min_samples_leaf=3, score=0.8071647120386615, total=   1.7s\n",
      "[CV] max_features=auto, min_samples_leaf=3 ...........................\n",
      "[CV]  max_features=auto, min_samples_leaf=3, score=0.8161650601281804, total=   1.6s\n",
      "[CV] max_features=auto, min_samples_leaf=3 ...........................\n",
      "[CV]  max_features=auto, min_samples_leaf=3, score=0.8148267936613036, total=   1.8s\n",
      "[CV] max_features=auto, min_samples_leaf=3 ...........................\n",
      "[CV]  max_features=auto, min_samples_leaf=3, score=0.783923128686221, total=   1.7s\n",
      "[CV] max_features=auto, min_samples_leaf=5 ...........................\n",
      "[CV]  max_features=auto, min_samples_leaf=5, score=0.8104705803068177, total=   1.9s\n",
      "[CV] max_features=auto, min_samples_leaf=5 ...........................\n",
      "[CV]  max_features=auto, min_samples_leaf=5, score=0.8063385354141657, total=   2.0s\n",
      "[CV] max_features=auto, min_samples_leaf=5 ...........................\n",
      "[CV]  max_features=auto, min_samples_leaf=5, score=0.8167886897581029, total=   1.7s\n",
      "[CV] max_features=auto, min_samples_leaf=5 ...........................\n",
      "[CV]  max_features=auto, min_samples_leaf=5, score=0.8282885647526215, total=   1.8s\n",
      "[CV] max_features=auto, min_samples_leaf=5 ...........................\n",
      "[CV]  max_features=auto, min_samples_leaf=5, score=0.79792116347786, total=   1.7s\n",
      "[CV] max_features=auto, min_samples_leaf=10 ..........................\n",
      "[CV]  max_features=auto, min_samples_leaf=10, score=0.8263904205263932, total=   1.6s\n",
      "[CV] max_features=auto, min_samples_leaf=10 ..........................\n",
      "[CV]  max_features=auto, min_samples_leaf=10, score=0.8276375165450796, total=   1.6s\n",
      "[CV] max_features=auto, min_samples_leaf=10 ..........................\n",
      "[CV]  max_features=auto, min_samples_leaf=10, score=0.827172848247047, total=   1.9s\n",
      "[CV] max_features=auto, min_samples_leaf=10 ..........................\n",
      "[CV]  max_features=auto, min_samples_leaf=10, score=0.838123857971439, total=   1.9s\n",
      "[CV] max_features=auto, min_samples_leaf=10 ..........................\n",
      "[CV]  max_features=auto, min_samples_leaf=10, score=0.8310828903464961, total=   1.9s\n",
      "[CV] max_features=auto, min_samples_leaf=25 ..........................\n",
      "[CV]  max_features=auto, min_samples_leaf=25, score=0.8331301360910977, total=   1.6s\n",
      "[CV] max_features=auto, min_samples_leaf=25 ..........................\n",
      "[CV]  max_features=auto, min_samples_leaf=25, score=0.8432819281558777, total=   1.6s\n",
      "[CV] max_features=auto, min_samples_leaf=25 ..........................\n",
      "[CV]  max_features=auto, min_samples_leaf=25, score=0.8299745669861286, total=   1.8s\n",
      "[CV] max_features=auto, min_samples_leaf=25 ..........................\n",
      "[CV]  max_features=auto, min_samples_leaf=25, score=0.8475631418439264, total=   2.0s\n",
      "[CV] max_features=auto, min_samples_leaf=25 ..........................\n",
      "[CV]  max_features=auto, min_samples_leaf=25, score=0.8353381252750477, total=   1.8s\n",
      "[CV] max_features=auto, min_samples_leaf=100 .........................\n",
      "[CV]  max_features=auto, min_samples_leaf=100, score=0.8472804244473852, total=   1.4s\n",
      "[CV] max_features=auto, min_samples_leaf=100 .........................\n",
      "[CV]  max_features=auto, min_samples_leaf=100, score=0.8581808107858527, total=   1.4s\n",
      "[CV] max_features=auto, min_samples_leaf=100 .........................\n",
      "[CV]  max_features=auto, min_samples_leaf=100, score=0.8383797232033732, total=   1.4s\n",
      "[CV] max_features=auto, min_samples_leaf=100 .........................\n",
      "[CV]  max_features=auto, min_samples_leaf=100, score=0.8547486104655976, total=   1.5s\n",
      "[CV] max_features=auto, min_samples_leaf=100 .........................\n",
      "[CV]  max_features=auto, min_samples_leaf=100, score=0.8399612546598023, total=   1.4s\n",
      "[CV] max_features=auto, min_samples_leaf=150 .........................\n",
      "[CV]  max_features=auto, min_samples_leaf=150, score=0.8464768253034685, total=   1.4s\n",
      "[CV] max_features=auto, min_samples_leaf=150 .........................\n",
      "[CV]  max_features=auto, min_samples_leaf=150, score=0.8603724566749777, total=   1.4s\n",
      "[CV] max_features=auto, min_samples_leaf=150 .........................\n",
      "[CV]  max_features=auto, min_samples_leaf=150, score=0.8395010699269444, total=   1.4s\n",
      "[CV] max_features=auto, min_samples_leaf=150 .........................\n",
      "[CV]  max_features=auto, min_samples_leaf=150, score=0.8574773822636199, total=   1.5s\n",
      "[CV] max_features=auto, min_samples_leaf=150 .........................\n",
      "[CV]  max_features=auto, min_samples_leaf=150, score=0.8423717783040066, total=   1.4s\n",
      "[CV] max_features=auto, min_samples_leaf=200 .........................\n",
      "[CV]  max_features=auto, min_samples_leaf=200, score=0.8478134342988777, total=   1.6s\n",
      "[CV] max_features=auto, min_samples_leaf=200 .........................\n",
      "[CV]  max_features=auto, min_samples_leaf=200, score=0.8602370178840767, total=   1.6s\n",
      "[CV] max_features=auto, min_samples_leaf=200 .........................\n",
      "[CV]  max_features=auto, min_samples_leaf=200, score=0.8375273414787536, total=   1.6s\n",
      "[CV] max_features=auto, min_samples_leaf=200 .........................\n",
      "[CV]  max_features=auto, min_samples_leaf=200, score=0.8517346100708615, total=   1.4s\n",
      "[CV] max_features=auto, min_samples_leaf=200 .........................\n",
      "[CV]  max_features=auto, min_samples_leaf=200, score=0.8420184366348369, total=   1.4s\n",
      "[CV] max_features=0.5, min_samples_leaf=1 ............................\n",
      "[CV]  max_features=0.5, min_samples_leaf=1, score=0.751365199562156, total=   1.6s\n",
      "[CV] max_features=0.5, min_samples_leaf=1 ............................\n",
      "[CV]  max_features=0.5, min_samples_leaf=1, score=0.7397143472773726, total=   1.8s\n",
      "[CV] max_features=0.5, min_samples_leaf=1 ............................\n",
      "[CV]  max_features=0.5, min_samples_leaf=1, score=0.7775158445435044, total=   1.7s\n",
      "[CV] max_features=0.5, min_samples_leaf=1 ............................\n",
      "[CV]  max_features=0.5, min_samples_leaf=1, score=0.7793699504033311, total=   1.6s\n",
      "[CV] max_features=0.5, min_samples_leaf=1 ............................\n",
      "[CV]  max_features=0.5, min_samples_leaf=1, score=0.7446917254017151, total=   1.9s\n",
      "[CV] max_features=0.5, min_samples_leaf=3 ............................\n"
     ]
    },
    {
     "name": "stdout",
     "output_type": "stream",
     "text": [
      "[CV]  max_features=0.5, min_samples_leaf=3, score=0.8102791256187816, total=   1.8s\n",
      "[CV] max_features=0.5, min_samples_leaf=3 ............................\n",
      "[CV]  max_features=0.5, min_samples_leaf=3, score=0.8083904330963154, total=   1.7s\n",
      "[CV] max_features=0.5, min_samples_leaf=3 ............................\n",
      "[CV]  max_features=0.5, min_samples_leaf=3, score=0.7952049078201573, total=   2.1s\n",
      "[CV] max_features=0.5, min_samples_leaf=3 ............................\n",
      "[CV]  max_features=0.5, min_samples_leaf=3, score=0.8125010345903341, total=   1.6s\n",
      "[CV] max_features=0.5, min_samples_leaf=3 ............................\n",
      "[CV]  max_features=0.5, min_samples_leaf=3, score=0.7910854283525546, total=   1.7s\n",
      "[CV] max_features=0.5, min_samples_leaf=5 ............................\n",
      "[CV]  max_features=0.5, min_samples_leaf=5, score=0.8187148744465683, total=   1.9s\n",
      "[CV] max_features=0.5, min_samples_leaf=5 ............................\n",
      "[CV]  max_features=0.5, min_samples_leaf=5, score=0.8136202173176963, total=   1.8s\n",
      "[CV] max_features=0.5, min_samples_leaf=5 ............................\n",
      "[CV]  max_features=0.5, min_samples_leaf=5, score=0.8196121630191585, total=   1.9s\n",
      "[CV] max_features=0.5, min_samples_leaf=5 ............................\n",
      "[CV]  max_features=0.5, min_samples_leaf=5, score=0.830974679595332, total=   1.7s\n",
      "[CV] max_features=0.5, min_samples_leaf=5 ............................\n",
      "[CV]  max_features=0.5, min_samples_leaf=5, score=0.8071738254736642, total=   1.8s\n",
      "[CV] max_features=0.5, min_samples_leaf=10 ...........................\n",
      "[CV]  max_features=0.5, min_samples_leaf=10, score=0.8285454344949272, total=   2.0s\n",
      "[CV] max_features=0.5, min_samples_leaf=10 ...........................\n",
      "[CV]  max_features=0.5, min_samples_leaf=10, score=0.8333518022593652, total=   1.8s\n",
      "[CV] max_features=0.5, min_samples_leaf=10 ...........................\n",
      "[CV]  max_features=0.5, min_samples_leaf=10, score=0.8256941999807506, total=   1.8s\n",
      "[CV] max_features=0.5, min_samples_leaf=10 ...........................\n",
      "[CV]  max_features=0.5, min_samples_leaf=10, score=0.8393952899081284, total=   1.7s\n",
      "[CV] max_features=0.5, min_samples_leaf=10 ...........................\n",
      "[CV]  max_features=0.5, min_samples_leaf=10, score=0.8221381653243176, total=   1.7s\n",
      "[CV] max_features=0.5, min_samples_leaf=25 ...........................\n",
      "[CV]  max_features=0.5, min_samples_leaf=25, score=0.8415030877812086, total=   1.6s\n",
      "[CV] max_features=0.5, min_samples_leaf=25 ...........................\n",
      "[CV]  max_features=0.5, min_samples_leaf=25, score=0.8460042478529873, total=   1.5s\n",
      "[CV] max_features=0.5, min_samples_leaf=25 ...........................\n",
      "[CV]  max_features=0.5, min_samples_leaf=25, score=0.8310932767979453, total=   1.8s\n",
      "[CV] max_features=0.5, min_samples_leaf=25 ...........................\n",
      "[CV]  max_features=0.5, min_samples_leaf=25, score=0.845668409022901, total=   2.0s\n",
      "[CV] max_features=0.5, min_samples_leaf=25 ...........................\n",
      "[CV]  max_features=0.5, min_samples_leaf=25, score=0.8259981465570434, total=   1.6s\n",
      "[CV] max_features=0.5, min_samples_leaf=100 ..........................\n",
      "[CV]  max_features=0.5, min_samples_leaf=100, score=0.8474917904229771, total=   1.4s\n",
      "[CV] max_features=0.5, min_samples_leaf=100 ..........................\n",
      "[CV]  max_features=0.5, min_samples_leaf=100, score=0.8560125588697017, total=   1.4s\n",
      "[CV] max_features=0.5, min_samples_leaf=100 ..........................\n",
      "[CV]  max_features=0.5, min_samples_leaf=100, score=0.8346788175560311, total=   2.0s\n",
      "[CV] max_features=0.5, min_samples_leaf=100 ..........................\n",
      "[CV]  max_features=0.5, min_samples_leaf=100, score=0.8542329069760038, total=   1.9s\n",
      "[CV] max_features=0.5, min_samples_leaf=100 ..........................\n",
      "[CV]  max_features=0.5, min_samples_leaf=100, score=0.838468720821662, total=   1.4s\n",
      "[CV] max_features=0.5, min_samples_leaf=150 ..........................\n",
      "[CV]  max_features=0.5, min_samples_leaf=150, score=0.8491490222026173, total=   1.4s\n",
      "[CV] max_features=0.5, min_samples_leaf=150 ..........................\n",
      "[CV]  max_features=0.5, min_samples_leaf=150, score=0.8585391079508726, total=   1.4s\n",
      "[CV] max_features=0.5, min_samples_leaf=150 ..........................\n",
      "[CV]  max_features=0.5, min_samples_leaf=150, score=0.8370929102672114, total=   1.4s\n",
      "[CV] max_features=0.5, min_samples_leaf=150 ..........................\n",
      "[CV]  max_features=0.5, min_samples_leaf=150, score=0.8555622759714007, total=   1.6s\n",
      "[CV] max_features=0.5, min_samples_leaf=150 ..........................\n",
      "[CV]  max_features=0.5, min_samples_leaf=150, score=0.8412116301217079, total=   1.4s\n",
      "[CV] max_features=0.5, min_samples_leaf=200 ..........................\n",
      "[CV]  max_features=0.5, min_samples_leaf=200, score=0.8490836723357678, total=   1.4s\n",
      "[CV] max_features=0.5, min_samples_leaf=200 ..........................\n",
      "[CV]  max_features=0.5, min_samples_leaf=200, score=0.859088866315757, total=   1.3s\n",
      "[CV] max_features=0.5, min_samples_leaf=200 ..........................\n",
      "[CV]  max_features=0.5, min_samples_leaf=200, score=0.8362174555647408, total=   1.3s\n",
      "[CV] max_features=0.5, min_samples_leaf=200 ..........................\n",
      "[CV]  max_features=0.5, min_samples_leaf=200, score=0.8529837585234327, total=   1.4s\n",
      "[CV] max_features=0.5, min_samples_leaf=200 ..........................\n",
      "[CV]  max_features=0.5, min_samples_leaf=200, score=0.8422582665651465, total=   1.5s\n"
     ]
    },
    {
     "name": "stderr",
     "output_type": "stream",
     "text": [
      "[Parallel(n_jobs=1)]: Done 160 out of 160 | elapsed:  5.1min finished\n"
     ]
    }
   ],
   "source": [
    "#Now doing grid search\n",
    "grid_obj = grid_obj.fit(x[cols], y)"
   ]
  },
  {
   "cell_type": "code",
   "execution_count": 224,
   "metadata": {},
   "outputs": [
    {
     "name": "stderr",
     "output_type": "stream",
     "text": [
      "/Users/princegrover/anaconda3/envs/fastai/lib/python3.6/site-packages/sklearn/model_selection/_search.py:761: DeprecationWarning: The grid_scores_ attribute was deprecated in version 0.18 in favor of the more elaborate cv_results_ attribute. The grid_scores_ attribute will not be available from 0.20\n",
      "  DeprecationWarning)\n"
     ]
    },
    {
     "data": {
      "text/plain": [
       "([mean: 0.75835, std: 0.00882, params: {'max_features': 'log2', 'min_samples_leaf': 1},\n",
       "  mean: 0.80467, std: 0.01040, params: {'max_features': 'log2', 'min_samples_leaf': 3},\n",
       "  mean: 0.81610, std: 0.00374, params: {'max_features': 'log2', 'min_samples_leaf': 5},\n",
       "  mean: 0.82949, std: 0.00900, params: {'max_features': 'log2', 'min_samples_leaf': 10},\n",
       "  mean: 0.84165, std: 0.00797, params: {'max_features': 'log2', 'min_samples_leaf': 25},\n",
       "  mean: 0.84698, std: 0.00808, params: {'max_features': 'log2', 'min_samples_leaf': 100},\n",
       "  mean: 0.84748, std: 0.00890, params: {'max_features': 'log2', 'min_samples_leaf': 150},\n",
       "  mean: 0.84853, std: 0.00730, params: {'max_features': 'log2', 'min_samples_leaf': 200},\n",
       "  mean: 0.75930, std: 0.01500, params: {'max_features': 'sqrt', 'min_samples_leaf': 1},\n",
       "  mean: 0.80503, std: 0.01408, params: {'max_features': 'sqrt', 'min_samples_leaf': 3},\n",
       "  mean: 0.81365, std: 0.01043, params: {'max_features': 'sqrt', 'min_samples_leaf': 5},\n",
       "  mean: 0.83082, std: 0.01189, params: {'max_features': 'sqrt', 'min_samples_leaf': 10},\n",
       "  mean: 0.84032, std: 0.00664, params: {'max_features': 'sqrt', 'min_samples_leaf': 25},\n",
       "  mean: 0.84799, std: 0.00733, params: {'max_features': 'sqrt', 'min_samples_leaf': 100},\n",
       "  mean: 0.84770, std: 0.00799, params: {'max_features': 'sqrt', 'min_samples_leaf': 150},\n",
       "  mean: 0.84894, std: 0.00778, params: {'max_features': 'sqrt', 'min_samples_leaf': 200},\n",
       "  mean: 0.75331, std: 0.00718, params: {'max_features': 'auto', 'min_samples_leaf': 1},\n",
       "  mean: 0.80520, std: 0.01159, params: {'max_features': 'auto', 'min_samples_leaf': 3},\n",
       "  mean: 0.81196, std: 0.01021, params: {'max_features': 'auto', 'min_samples_leaf': 5},\n",
       "  mean: 0.83008, std: 0.00433, params: {'max_features': 'auto', 'min_samples_leaf': 10},\n",
       "  mean: 0.83786, std: 0.00655, params: {'max_features': 'auto', 'min_samples_leaf': 25},\n",
       "  mean: 0.84771, std: 0.00783, params: {'max_features': 'auto', 'min_samples_leaf': 100},\n",
       "  mean: 0.84924, std: 0.00826, params: {'max_features': 'auto', 'min_samples_leaf': 150},\n",
       "  mean: 0.84787, std: 0.00786, params: {'max_features': 'auto', 'min_samples_leaf': 200},\n",
       "  mean: 0.75853, std: 0.01668, params: {'max_features': 0.5, 'min_samples_leaf': 1},\n",
       "  mean: 0.80349, std: 0.00865, params: {'max_features': 0.5, 'min_samples_leaf': 3},\n",
       "  mean: 0.81802, std: 0.00785, params: {'max_features': 0.5, 'min_samples_leaf': 5},\n",
       "  mean: 0.82982, std: 0.00603, params: {'max_features': 0.5, 'min_samples_leaf': 10},\n",
       "  mean: 0.83805, std: 0.00809, params: {'max_features': 0.5, 'min_samples_leaf': 25},\n",
       "  mean: 0.84618, std: 0.00843, params: {'max_features': 0.5, 'min_samples_leaf': 100},\n",
       "  mean: 0.84831, std: 0.00817, params: {'max_features': 0.5, 'min_samples_leaf': 150},\n",
       "  mean: 0.84793, std: 0.00801, params: {'max_features': 0.5, 'min_samples_leaf': 200}],\n",
       " {'max_features': 'auto', 'min_samples_leaf': 150},\n",
       " 0.8492399024946036)"
      ]
     },
     "execution_count": 224,
     "metadata": {},
     "output_type": "execute_result"
    }
   ],
   "source": [
    "grid_obj.grid_scores_, grid_obj.best_params_, grid_obj.best_score_"
   ]
  },
  {
   "cell_type": "markdown",
   "metadata": {},
   "source": [
    "Predicting only on best estimaros"
   ]
  },
  {
   "cell_type": "code",
   "execution_count": 227,
   "metadata": {},
   "outputs": [],
   "source": [
    "preds = grid_obj.best_estimator_.predict_proba(test[cols])[:,1]"
   ]
  },
  {
   "cell_type": "code",
   "execution_count": 228,
   "metadata": {},
   "outputs": [
    {
     "data": {
      "text/plain": [
       "(array([7452., 2342., 1686., 1373., 1282.,  979.,  728.,  878., 1414.,  467.]),\n",
       " array([0.     , 0.09023, 0.18045, 0.27068, 0.3609 , 0.45113, 0.54135, 0.63158, 0.72181, 0.81203, 0.90226]),\n",
       " <a list of 10 Patch objects>)"
      ]
     },
     "execution_count": 228,
     "metadata": {},
     "output_type": "execute_result"
    },
    {
     "data": {
      "image/png": "[encoded data removed]",
      "text/plain": [
       "<Figure size 432x288 with 1 Axes>"
      ]
     },
     "metadata": {},
     "output_type": "display_data"
    }
   ],
   "source": [
    "plt.hist(preds)"
   ]
  },
  {
   "cell_type": "code",
   "execution_count": 230,
   "metadata": {},
   "outputs": [
    {
     "data": {
      "text/plain": [
       "0.2088059781732165"
      ]
     },
     "execution_count": 230,
     "metadata": {},
     "output_type": "execute_result"
    }
   ],
   "source": [
    "sum(preds>0.5)/len(preds)"
   ]
  },
  {
   "cell_type": "code",
   "execution_count": 232,
   "metadata": {},
   "outputs": [],
   "source": [
    "pred_df = pd.DataFrame(test.id)\n",
    "pred_df['stroke'] = preds\n",
    "pred_df.to_csv('submissions/rf_tuned_perm_imp_raw.csv', index=False)"
   ]
  },
  {
   "cell_type": "code",
   "execution_count": null,
   "metadata": {},
   "outputs": [],
   "source": []
  }
 ],
 "metadata": {
  "kernelspec": {
   "display_name": "Python 3",
   "language": "python",
   "name": "python3"
  },
  "language_info": {
   "codemirror_mode": {
    "name": "ipython",
    "version": 3
   },
   "file_extension": ".py",
   "mimetype": "text/x-python",
   "name": "python",
   "nbconvert_exporter": "python",
   "pygments_lexer": "ipython3",
   "version": "3.6.4"
  }
 },
 "nbformat": 4,
 "nbformat_minor": 2
}
