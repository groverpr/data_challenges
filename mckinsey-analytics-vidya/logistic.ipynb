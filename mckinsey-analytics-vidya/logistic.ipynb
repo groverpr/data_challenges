{
 "cells": [
  {
   "cell_type": "code",
   "execution_count": 1,
   "metadata": {},
   "outputs": [
    {
     "name": "stderr",
     "output_type": "stream",
     "text": [
      "/Users/princegrover/anaconda3/envs/fastai/lib/python3.6/importlib/_bootstrap.py:219: RuntimeWarning: numpy.dtype size changed, may indicate binary incompatibility. Expected 96, got 88\n",
      "  return f(*args, **kwds)\n",
      "/Users/princegrover/anaconda3/envs/fastai/lib/python3.6/importlib/_bootstrap.py:219: RuntimeWarning: numpy.dtype size changed, may indicate binary incompatibility. Expected 96, got 88\n",
      "  return f(*args, **kwds)\n",
      "/Users/princegrover/anaconda3/envs/fastai/lib/python3.6/importlib/_bootstrap.py:219: RuntimeWarning: numpy.dtype size changed, may indicate binary incompatibility. Expected 96, got 88\n",
      "  return f(*args, **kwds)\n",
      "/Users/princegrover/anaconda3/envs/fastai/lib/python3.6/importlib/_bootstrap.py:219: RuntimeWarning: numpy.dtype size changed, may indicate binary incompatibility. Expected 96, got 88\n",
      "  return f(*args, **kwds)\n"
     ]
    }
   ],
   "source": [
    "from sklearn.linear_model import LogisticRegression, SGDClassifier\n",
    "from fastai.imports import *\n",
    "from sklearn.model_selection import GridSearchCV, ParameterGrid, train_test_split, StratifiedKFold"
   ]
  },
  {
   "cell_type": "code",
   "execution_count": 2,
   "metadata": {},
   "outputs": [],
   "source": [
    "train_raw = pd.read_csv('intermediate_data/raw_train.csv')\n",
    "test_raw = pd.read_csv('intermediate_data/raw_test.csv')\n",
    "x_trn3 = train_raw.drop(['stroke', 'age_bins'], axis=1)\n",
    "y_trn3 = train_raw['stroke'].values"
   ]
  },
  {
   "cell_type": "code",
   "execution_count": 10,
   "metadata": {},
   "outputs": [
    {
     "data": {
      "text/plain": [
       "((43400, 13), (18601, 12))"
      ]
     },
     "execution_count": 10,
     "metadata": {},
     "output_type": "execute_result"
    }
   ],
   "source": [
    "train_raw.shape, test_raw.shape"
   ]
  },
  {
   "cell_type": "code",
   "execution_count": 3,
   "metadata": {},
   "outputs": [],
   "source": [
    "from sklearn.preprocessing import OneHotEncoder\n",
    "enc = OneHotEncoder()"
   ]
  },
  {
   "cell_type": "code",
   "execution_count": 6,
   "metadata": {},
   "outputs": [
    {
     "data": {
      "text/html": [
       "<div>\n",
       "<style scoped>\n",
       "    .dataframe tbody tr th:only-of-type {\n",
       "        vertical-align: middle;\n",
       "    }\n",
       "\n",
       "    .dataframe tbody tr th {\n",
       "        vertical-align: top;\n",
       "    }\n",
       "\n",
       "    .dataframe thead th {\n",
       "        text-align: right;\n",
       "    }\n",
       "</style>\n",
       "<table border=\"1\" class=\"dataframe\">\n",
       "  <thead>\n",
       "    <tr style=\"text-align: right;\">\n",
       "      <th></th>\n",
       "      <th>id</th>\n",
       "      <th>gender</th>\n",
       "      <th>age</th>\n",
       "      <th>hypertension</th>\n",
       "      <th>heart_disease</th>\n",
       "      <th>ever_married</th>\n",
       "      <th>work_type</th>\n",
       "      <th>Residence_type</th>\n",
       "      <th>avg_glucose_level</th>\n",
       "      <th>bmi</th>\n",
       "      <th>smoking_status</th>\n",
       "    </tr>\n",
       "  </thead>\n",
       "  <tbody>\n",
       "    <tr>\n",
       "      <th>0</th>\n",
       "      <td>30669</td>\n",
       "      <td>1</td>\n",
       "      <td>3.0</td>\n",
       "      <td>0</td>\n",
       "      <td>0</td>\n",
       "      <td>0</td>\n",
       "      <td>4</td>\n",
       "      <td>0</td>\n",
       "      <td>95.12</td>\n",
       "      <td>18.0</td>\n",
       "      <td>-1</td>\n",
       "    </tr>\n",
       "  </tbody>\n",
       "</table>\n",
       "</div>"
      ],
      "text/plain": [
       "      id  gender  age  hypertension  heart_disease  ever_married  work_type  \\\n",
       "0  30669       1  3.0             0              0             0          4   \n",
       "\n",
       "   Residence_type  avg_glucose_level   bmi  smoking_status  \n",
       "0               0              95.12  18.0              -1  "
      ]
     },
     "execution_count": 6,
     "metadata": {},
     "output_type": "execute_result"
    }
   ],
   "source": [
    "x_trn3[:1]"
   ]
  },
  {
   "cell_type": "code",
   "execution_count": 7,
   "metadata": {},
   "outputs": [],
   "source": [
    "cols_onehot = ['gender', 'hypertension', 'heart_disease',\n",
    "               'ever_married', 'work_type', 'Residence_type', 'smoking_status']"
   ]
  },
  {
   "cell_type": "code",
   "execution_count": 8,
   "metadata": {},
   "outputs": [],
   "source": [
    "df_concat = pd.concat([train_raw, test_raw])\n",
    "ohc_concat = pd.get_dummies(df_concat, columns=cols_onehot)\n"
   ]
  },
  {
   "cell_type": "code",
   "execution_count": 9,
   "metadata": {},
   "outputs": [
    {
     "data": {
      "text/plain": [
       "(62001, 26)"
      ]
     },
     "execution_count": 9,
     "metadata": {},
     "output_type": "execute_result"
    }
   ],
   "source": [
    "ohc_concat.shape"
   ]
  },
  {
   "cell_type": "code",
   "execution_count": 11,
   "metadata": {},
   "outputs": [],
   "source": [
    "ohc_train = ohc_concat.copy()[:43400]\n",
    "ohc_test = ohc_concat.copy()[43400:]"
   ]
  },
  {
   "cell_type": "code",
   "execution_count": 14,
   "metadata": {},
   "outputs": [
    {
     "data": {
      "text/plain": [
       "((43400, 26), (18601, 26))"
      ]
     },
     "execution_count": 14,
     "metadata": {},
     "output_type": "execute_result"
    }
   ],
   "source": [
    "ohc_train.shape, ohc_test.shape"
   ]
  },
  {
   "cell_type": "markdown",
   "metadata": {},
   "source": [
    "Scalar"
   ]
  },
  {
   "cell_type": "code",
   "execution_count": 22,
   "metadata": {},
   "outputs": [],
   "source": [
    "from sklearn.preprocessing import StandardScaler\n",
    "\n",
    "scaler = StandardScaler()\n",
    "\n",
    "x_train = pd.DataFrame(scaler.fit_transform(ohc_train.drop(['stroke'],axis=1)), \n",
    "                       columns = ohc_train.drop(['stroke'],axis=1).columns)\n",
    "y_train = ohc_train.stroke\n",
    "\n",
    "x_test = pd.DataFrame(scaler.transform(ohc_test.drop(['stroke'],axis=1)), \n",
    "                      columns = ohc_test.drop(['stroke'],axis=1).columns)"
   ]
  },
  {
   "cell_type": "code",
   "execution_count": 23,
   "metadata": {},
   "outputs": [
    {
     "data": {
      "text/plain": [
       "((43400, 25), (43400,), (18601, 25))"
      ]
     },
     "execution_count": 23,
     "metadata": {},
     "output_type": "execute_result"
    }
   ],
   "source": [
    "x_train.shape, y_train.shape, x_test.shape"
   ]
  },
  {
   "cell_type": "markdown",
   "metadata": {},
   "source": [
    "### Tuning"
   ]
  },
  {
   "cell_type": "code",
   "execution_count": 30,
   "metadata": {},
   "outputs": [],
   "source": [
    "x_train.drop('age_bins',axis=1, inplace=True)\n",
    "x_test.drop('age_bins',axis=1, inplace=True)"
   ]
  },
  {
   "cell_type": "code",
   "execution_count": 31,
   "metadata": {
    "scrolled": true
   },
   "outputs": [
    {
     "name": "stdout",
     "output_type": "stream",
     "text": [
      "Fitting 5 folds for each of 96 candidates, totalling 480 fits\n",
      "[CV] alpha=0.0001, loss=log, n_iter=10, n_jobs=-1, penalty=l2 ........\n",
      "[CV]  alpha=0.0001, loss=log, n_iter=10, n_jobs=-1, penalty=l2, score=0.8548444706142567, total=   0.6s\n",
      "[CV] alpha=0.0001, loss=log, n_iter=10, n_jobs=-1, penalty=l2 ........\n"
     ]
    },
    {
     "name": "stderr",
     "output_type": "stream",
     "text": [
      "[Parallel(n_jobs=1)]: Done   1 out of   1 | elapsed:    0.6s remaining:    0.0s\n"
     ]
    },
    {
     "name": "stdout",
     "output_type": "stream",
     "text": [
      "[CV]  alpha=0.0001, loss=log, n_iter=10, n_jobs=-1, penalty=l2, score=0.8145946850705539, total=   0.2s\n",
      "[CV] alpha=0.0001, loss=log, n_iter=10, n_jobs=-1, penalty=l2 ........\n"
     ]
    },
    {
     "name": "stderr",
     "output_type": "stream",
     "text": [
      "[Parallel(n_jobs=1)]: Done   2 out of   2 | elapsed:    0.8s remaining:    0.0s\n"
     ]
    },
    {
     "name": "stdout",
     "output_type": "stream",
     "text": [
      "[CV]  alpha=0.0001, loss=log, n_iter=10, n_jobs=-1, penalty=l2, score=0.8141977758197938, total=   0.2s\n",
      "[CV] alpha=0.0001, loss=log, n_iter=10, n_jobs=-1, penalty=l2 ........\n"
     ]
    },
    {
     "name": "stderr",
     "output_type": "stream",
     "text": [
      "[Parallel(n_jobs=1)]: Done   3 out of   3 | elapsed:    1.1s remaining:    0.0s\n"
     ]
    },
    {
     "name": "stdout",
     "output_type": "stream",
     "text": [
      "[CV]  alpha=0.0001, loss=log, n_iter=10, n_jobs=-1, penalty=l2, score=0.8325218037467246, total=   0.2s\n",
      "[CV] alpha=0.0001, loss=log, n_iter=10, n_jobs=-1, penalty=l2 ........\n"
     ]
    },
    {
     "name": "stderr",
     "output_type": "stream",
     "text": [
      "[Parallel(n_jobs=1)]: Done   4 out of   4 | elapsed:    1.3s remaining:    0.0s\n"
     ]
    },
    {
     "name": "stdout",
     "output_type": "stream",
     "text": [
      "[CV]  alpha=0.0001, loss=log, n_iter=10, n_jobs=-1, penalty=l2, score=0.8441231419056129, total=   0.2s\n",
      "[CV] alpha=0.0001, loss=log, n_iter=10, n_jobs=-1, penalty=l1 ........\n"
     ]
    },
    {
     "name": "stderr",
     "output_type": "stream",
     "text": [
      "[Parallel(n_jobs=1)]: Done   5 out of   5 | elapsed:    1.5s remaining:    0.0s\n"
     ]
    },
    {
     "name": "stdout",
     "output_type": "stream",
     "text": [
      "[CV]  alpha=0.0001, loss=log, n_iter=10, n_jobs=-1, penalty=l1, score=0.8273679113600564, total=   0.3s\n",
      "[CV] alpha=0.0001, loss=log, n_iter=10, n_jobs=-1, penalty=l1 ........\n"
     ]
    },
    {
     "name": "stderr",
     "output_type": "stream",
     "text": [
      "[Parallel(n_jobs=1)]: Done   6 out of   6 | elapsed:    1.8s remaining:    0.0s\n"
     ]
    },
    {
     "name": "stdout",
     "output_type": "stream",
     "text": [
      "[CV]  alpha=0.0001, loss=log, n_iter=10, n_jobs=-1, penalty=l1, score=0.8342626439547235, total=   0.3s\n",
      "[CV] alpha=0.0001, loss=log, n_iter=10, n_jobs=-1, penalty=l1 ........\n"
     ]
    },
    {
     "name": "stderr",
     "output_type": "stream",
     "text": [
      "[Parallel(n_jobs=1)]: Done   7 out of   7 | elapsed:    2.1s remaining:    0.0s\n"
     ]
    },
    {
     "name": "stdout",
     "output_type": "stream",
     "text": [
      "[CV]  alpha=0.0001, loss=log, n_iter=10, n_jobs=-1, penalty=l1, score=0.8428643064738276, total=   0.3s\n",
      "[CV] alpha=0.0001, loss=log, n_iter=10, n_jobs=-1, penalty=l1 ........\n"
     ]
    },
    {
     "name": "stderr",
     "output_type": "stream",
     "text": [
      "[Parallel(n_jobs=1)]: Done   8 out of   8 | elapsed:    2.4s remaining:    0.0s\n"
     ]
    },
    {
     "name": "stdout",
     "output_type": "stream",
     "text": [
      "[CV]  alpha=0.0001, loss=log, n_iter=10, n_jobs=-1, penalty=l1, score=0.8488915363255385, total=   0.3s\n",
      "[CV] alpha=0.0001, loss=log, n_iter=10, n_jobs=-1, penalty=l1 ........\n"
     ]
    },
    {
     "name": "stderr",
     "output_type": "stream",
     "text": [
      "[Parallel(n_jobs=1)]: Done   9 out of   9 | elapsed:    2.7s remaining:    0.0s\n"
     ]
    },
    {
     "name": "stdout",
     "output_type": "stream",
     "text": [
      "[CV]  alpha=0.0001, loss=log, n_iter=10, n_jobs=-1, penalty=l1, score=0.8585381336173311, total=   0.3s\n",
      "[CV] alpha=0.0001, loss=log, n_iter=10, n_jobs=-1, penalty=None ......\n"
     ]
    },
    {
     "name": "stderr",
     "output_type": "stream",
     "text": [
      "[Parallel(n_jobs=1)]: Done  10 out of  10 | elapsed:    3.0s remaining:    0.0s\n"
     ]
    },
    {
     "name": "stdout",
     "output_type": "stream",
     "text": [
      "[CV]  alpha=0.0001, loss=log, n_iter=10, n_jobs=-1, penalty=None, score=0.8040093613536302, total=   0.2s\n",
      "[CV] alpha=0.0001, loss=log, n_iter=10, n_jobs=-1, penalty=None ......\n"
     ]
    },
    {
     "name": "stderr",
     "output_type": "stream",
     "text": [
      "[Parallel(n_jobs=1)]: Done  11 out of  11 | elapsed:    3.3s remaining:    0.0s\n"
     ]
    },
    {
     "name": "stdout",
     "output_type": "stream",
     "text": [
      "[CV]  alpha=0.0001, loss=log, n_iter=10, n_jobs=-1, penalty=None, score=0.802573923907618, total=   0.2s\n",
      "[CV] alpha=0.0001, loss=log, n_iter=10, n_jobs=-1, penalty=None ......\n"
     ]
    },
    {
     "name": "stderr",
     "output_type": "stream",
     "text": [
      "[Parallel(n_jobs=1)]: Done  12 out of  12 | elapsed:    3.5s remaining:    0.0s\n"
     ]
    },
    {
     "name": "stdout",
     "output_type": "stream",
     "text": [
      "[CV]  alpha=0.0001, loss=log, n_iter=10, n_jobs=-1, penalty=None, score=0.8405625542275641, total=   0.2s\n",
      "[CV] alpha=0.0001, loss=log, n_iter=10, n_jobs=-1, penalty=None ......\n"
     ]
    },
    {
     "name": "stderr",
     "output_type": "stream",
     "text": [
      "[Parallel(n_jobs=1)]: Done  13 out of  13 | elapsed:    3.7s remaining:    0.0s\n"
     ]
    },
    {
     "name": "stdout",
     "output_type": "stream",
     "text": [
      "[CV]  alpha=0.0001, loss=log, n_iter=10, n_jobs=-1, penalty=None, score=0.8418683080773894, total=   0.2s\n",
      "[CV] alpha=0.0001, loss=log, n_iter=10, n_jobs=-1, penalty=None ......\n"
     ]
    },
    {
     "name": "stderr",
     "output_type": "stream",
     "text": [
      "[Parallel(n_jobs=1)]: Done  14 out of  14 | elapsed:    4.0s remaining:    0.0s\n"
     ]
    },
    {
     "name": "stdout",
     "output_type": "stream",
     "text": [
      "[CV]  alpha=0.0001, loss=log, n_iter=10, n_jobs=-1, penalty=None, score=0.8218861782747738, total=   0.2s\n",
      "[CV] alpha=0.0001, loss=log, n_iter=100, n_jobs=-1, penalty=l2 .......\n"
     ]
    },
    {
     "name": "stderr",
     "output_type": "stream",
     "text": [
      "[Parallel(n_jobs=1)]: Done  15 out of  15 | elapsed:    4.2s remaining:    0.0s\n"
     ]
    },
    {
     "name": "stdout",
     "output_type": "stream",
     "text": [
      "[CV]  alpha=0.0001, loss=log, n_iter=100, n_jobs=-1, penalty=l2, score=0.8430478797968718, total=   1.7s\n",
      "[CV] alpha=0.0001, loss=log, n_iter=100, n_jobs=-1, penalty=l2 .......\n"
     ]
    },
    {
     "name": "stderr",
     "output_type": "stream",
     "text": [
      "[Parallel(n_jobs=1)]: Done  16 out of  16 | elapsed:    6.0s remaining:    0.0s\n"
     ]
    },
    {
     "name": "stdout",
     "output_type": "stream",
     "text": [
      "[CV]  alpha=0.0001, loss=log, n_iter=100, n_jobs=-1, penalty=l2, score=0.8356779060696362, total=   1.7s\n",
      "[CV] alpha=0.0001, loss=log, n_iter=100, n_jobs=-1, penalty=l2 .......\n"
     ]
    },
    {
     "name": "stderr",
     "output_type": "stream",
     "text": [
      "[Parallel(n_jobs=1)]: Done  17 out of  17 | elapsed:    7.7s remaining:    0.0s\n"
     ]
    },
    {
     "name": "stdout",
     "output_type": "stream",
     "text": [
      "[CV]  alpha=0.0001, loss=log, n_iter=100, n_jobs=-1, penalty=l2, score=0.8434509543677616, total=   1.3s\n",
      "[CV] alpha=0.0001, loss=log, n_iter=100, n_jobs=-1, penalty=l2 .......\n"
     ]
    },
    {
     "name": "stderr",
     "output_type": "stream",
     "text": [
      "[Parallel(n_jobs=1)]: Done  18 out of  18 | elapsed:    9.1s remaining:    0.0s\n"
     ]
    },
    {
     "name": "stdout",
     "output_type": "stream",
     "text": [
      "[CV]  alpha=0.0001, loss=log, n_iter=100, n_jobs=-1, penalty=l2, score=0.8577875251581693, total=   1.5s\n",
      "[CV] alpha=0.0001, loss=log, n_iter=100, n_jobs=-1, penalty=l2 .......\n"
     ]
    },
    {
     "name": "stderr",
     "output_type": "stream",
     "text": [
      "[Parallel(n_jobs=1)]: Done  19 out of  19 | elapsed:   10.6s remaining:    0.0s\n"
     ]
    },
    {
     "name": "stdout",
     "output_type": "stream",
     "text": [
      "[CV]  alpha=0.0001, loss=log, n_iter=100, n_jobs=-1, penalty=l2, score=0.8604312012442952, total=   1.6s\n",
      "[CV] alpha=0.0001, loss=log, n_iter=100, n_jobs=-1, penalty=l1 .......\n",
      "[CV]  alpha=0.0001, loss=log, n_iter=100, n_jobs=-1, penalty=l1, score=0.8486200073527872, total=   2.4s\n",
      "[CV] alpha=0.0001, loss=log, n_iter=100, n_jobs=-1, penalty=l1 .......\n",
      "[CV]  alpha=0.0001, loss=log, n_iter=100, n_jobs=-1, penalty=l1, score=0.8364639967480356, total=   2.3s\n",
      "[CV] alpha=0.0001, loss=log, n_iter=100, n_jobs=-1, penalty=l1 .......\n",
      "[CV]  alpha=0.0001, loss=log, n_iter=100, n_jobs=-1, penalty=l1, score=0.8439987415094861, total=   2.1s\n",
      "[CV] alpha=0.0001, loss=log, n_iter=100, n_jobs=-1, penalty=l1 .......\n",
      "[CV]  alpha=0.0001, loss=log, n_iter=100, n_jobs=-1, penalty=l1, score=0.8593511674293091, total=   2.1s\n",
      "[CV] alpha=0.0001, loss=log, n_iter=100, n_jobs=-1, penalty=l1 .......\n",
      "[CV]  alpha=0.0001, loss=log, n_iter=100, n_jobs=-1, penalty=l1, score=0.8612156547742608, total=   2.3s\n",
      "[CV] alpha=0.0001, loss=log, n_iter=100, n_jobs=-1, penalty=None .....\n",
      "[CV]  alpha=0.0001, loss=log, n_iter=100, n_jobs=-1, penalty=None, score=0.8472921716726396, total=   1.5s\n",
      "[CV] alpha=0.0001, loss=log, n_iter=100, n_jobs=-1, penalty=None .....\n",
      "[CV]  alpha=0.0001, loss=log, n_iter=100, n_jobs=-1, penalty=None, score=0.8369915442945659, total=   1.6s\n",
      "[CV] alpha=0.0001, loss=log, n_iter=100, n_jobs=-1, penalty=None .....\n",
      "[CV]  alpha=0.0001, loss=log, n_iter=100, n_jobs=-1, penalty=None, score=0.8424316069444164, total=   1.5s\n",
      "[CV] alpha=0.0001, loss=log, n_iter=100, n_jobs=-1, penalty=None .....\n",
      "[CV]  alpha=0.0001, loss=log, n_iter=100, n_jobs=-1, penalty=None, score=0.8591774293991823, total=   1.4s\n",
      "[CV] alpha=0.0001, loss=log, n_iter=100, n_jobs=-1, penalty=None .....\n",
      "[CV]  alpha=0.0001, loss=log, n_iter=100, n_jobs=-1, penalty=None, score=0.8607974801216618, total=   1.3s\n",
      "[CV] alpha=0.0001, loss=log, n_iter=250, n_jobs=-1, penalty=l2 .......\n",
      "[CV]  alpha=0.0001, loss=log, n_iter=250, n_jobs=-1, penalty=l2, score=0.849763276115098, total=   3.6s\n",
      "[CV] alpha=0.0001, loss=log, n_iter=250, n_jobs=-1, penalty=l2 .......\n",
      "[CV]  alpha=0.0001, loss=log, n_iter=250, n_jobs=-1, penalty=l2, score=0.835532195345028, total=   3.5s\n",
      "[CV] alpha=0.0001, loss=log, n_iter=250, n_jobs=-1, penalty=l2 .......\n",
      "[CV]  alpha=0.0001, loss=log, n_iter=250, n_jobs=-1, penalty=l2, score=0.844311869493637, total=   3.6s\n",
      "[CV] alpha=0.0001, loss=log, n_iter=250, n_jobs=-1, penalty=l2 .......\n",
      "[CV]  alpha=0.0001, loss=log, n_iter=250, n_jobs=-1, penalty=l2, score=0.8595798096854063, total=   3.8s\n",
      "[CV] alpha=0.0001, loss=log, n_iter=250, n_jobs=-1, penalty=l2 .......\n",
      "[CV]  alpha=0.0001, loss=log, n_iter=250, n_jobs=-1, penalty=l2, score=0.8567443448647251, total=   3.9s\n",
      "[CV] alpha=0.0001, loss=log, n_iter=250, n_jobs=-1, penalty=l1 .......\n",
      "[CV]  alpha=0.0001, loss=log, n_iter=250, n_jobs=-1, penalty=l1, score=0.8517748313491768, total=   5.5s\n",
      "[CV] alpha=0.0001, loss=log, n_iter=250, n_jobs=-1, penalty=l1 .......\n",
      "[CV]  alpha=0.0001, loss=log, n_iter=250, n_jobs=-1, penalty=l1, score=0.8366201687554361, total=   5.0s\n",
      "[CV] alpha=0.0001, loss=log, n_iter=250, n_jobs=-1, penalty=l1 .......\n",
      "[CV]  alpha=0.0001, loss=log, n_iter=250, n_jobs=-1, penalty=l1, score=0.844109345188852, total=   5.2s\n",
      "[CV] alpha=0.0001, loss=log, n_iter=250, n_jobs=-1, penalty=l1 .......\n",
      "[CV]  alpha=0.0001, loss=log, n_iter=250, n_jobs=-1, penalty=l1, score=0.8606568350496545, total=   4.9s\n",
      "[CV] alpha=0.0001, loss=log, n_iter=250, n_jobs=-1, penalty=l1 .......\n",
      "[CV]  alpha=0.0001, loss=log, n_iter=250, n_jobs=-1, penalty=l1, score=0.8573482913504034, total=   5.0s\n",
      "[CV] alpha=0.0001, loss=log, n_iter=250, n_jobs=-1, penalty=None .....\n",
      "[CV]  alpha=0.0001, loss=log, n_iter=250, n_jobs=-1, penalty=None, score=0.8525751194827942, total=   3.4s\n",
      "[CV] alpha=0.0001, loss=log, n_iter=250, n_jobs=-1, penalty=None .....\n",
      "[CV]  alpha=0.0001, loss=log, n_iter=250, n_jobs=-1, penalty=None, score=0.8364714690928872, total=   3.5s\n",
      "[CV] alpha=0.0001, loss=log, n_iter=250, n_jobs=-1, penalty=None .....\n",
      "[CV]  alpha=0.0001, loss=log, n_iter=250, n_jobs=-1, penalty=None, score=0.8436475000952836, total=   3.4s\n",
      "[CV] alpha=0.0001, loss=log, n_iter=250, n_jobs=-1, penalty=None .....\n",
      "[CV]  alpha=0.0001, loss=log, n_iter=250, n_jobs=-1, penalty=None, score=0.8601491589875964, total=   3.5s\n",
      "[CV] alpha=0.0001, loss=log, n_iter=250, n_jobs=-1, penalty=None .....\n",
      "[CV]  alpha=0.0001, loss=log, n_iter=250, n_jobs=-1, penalty=None, score=0.8610313871665507, total=   3.4s\n",
      "[CV] alpha=0.0001, loss=log, n_iter=500, n_jobs=-1, penalty=l2 .......\n",
      "[CV]  alpha=0.0001, loss=log, n_iter=500, n_jobs=-1, penalty=l2, score=0.8518667411908527, total=   7.2s\n",
      "[CV] alpha=0.0001, loss=log, n_iter=500, n_jobs=-1, penalty=l2 .......\n",
      "[CV]  alpha=0.0001, loss=log, n_iter=500, n_jobs=-1, penalty=l2, score=0.8355815128210493, total=   7.8s\n",
      "[CV] alpha=0.0001, loss=log, n_iter=500, n_jobs=-1, penalty=l2 .......\n",
      "[CV]  alpha=0.0001, loss=log, n_iter=500, n_jobs=-1, penalty=l2, score=0.8442991650169529, total=   7.8s\n",
      "[CV] alpha=0.0001, loss=log, n_iter=500, n_jobs=-1, penalty=l2 .......\n",
      "[CV]  alpha=0.0001, loss=log, n_iter=500, n_jobs=-1, penalty=l2, score=0.8601702181427631, total=   7.7s\n",
      "[CV] alpha=0.0001, loss=log, n_iter=500, n_jobs=-1, penalty=l2 .......\n",
      "[CV]  alpha=0.0001, loss=log, n_iter=500, n_jobs=-1, penalty=l2, score=0.8591638913708608, total=   6.9s\n",
      "[CV] alpha=0.0001, loss=log, n_iter=500, n_jobs=-1, penalty=l1 .......\n",
      "[CV]  alpha=0.0001, loss=log, n_iter=500, n_jobs=-1, penalty=l1, score=0.8513616106788776, total=  10.8s\n",
      "[CV] alpha=0.0001, loss=log, n_iter=500, n_jobs=-1, penalty=l1 .......\n",
      "[CV]  alpha=0.0001, loss=log, n_iter=500, n_jobs=-1, penalty=l1, score=0.8364677329204614, total=  10.4s\n",
      "[CV] alpha=0.0001, loss=log, n_iter=500, n_jobs=-1, penalty=l1 .......\n",
      "[CV]  alpha=0.0001, loss=log, n_iter=500, n_jobs=-1, penalty=l1, score=0.8440323710065907, total=  10.5s\n",
      "[CV] alpha=0.0001, loss=log, n_iter=500, n_jobs=-1, penalty=l1 .......\n",
      "[CV]  alpha=0.0001, loss=log, n_iter=500, n_jobs=-1, penalty=l1, score=0.8595331786989654, total=   9.9s\n",
      "[CV] alpha=0.0001, loss=log, n_iter=500, n_jobs=-1, penalty=l1 .......\n",
      "[CV]  alpha=0.0001, loss=log, n_iter=500, n_jobs=-1, penalty=l1, score=0.8579680322024567, total=  10.0s\n",
      "[CV] alpha=0.0001, loss=log, n_iter=500, n_jobs=-1, penalty=None .....\n",
      "[CV]  alpha=0.0001, loss=log, n_iter=500, n_jobs=-1, penalty=None, score=0.8510186300501843, total=   6.9s\n",
      "[CV] alpha=0.0001, loss=log, n_iter=500, n_jobs=-1, penalty=None .....\n",
      "[CV]  alpha=0.0001, loss=log, n_iter=500, n_jobs=-1, penalty=None, score=0.8359551300636345, total=   7.1s\n",
      "[CV] alpha=0.0001, loss=log, n_iter=500, n_jobs=-1, penalty=None .....\n",
      "[CV]  alpha=0.0001, loss=log, n_iter=500, n_jobs=-1, penalty=None, score=0.8438560029773314, total=   7.7s\n",
      "[CV] alpha=0.0001, loss=log, n_iter=500, n_jobs=-1, penalty=None .....\n",
      "[CV]  alpha=0.0001, loss=log, n_iter=500, n_jobs=-1, penalty=None, score=0.8603665195534256, total=   7.7s\n",
      "[CV] alpha=0.0001, loss=log, n_iter=500, n_jobs=-1, penalty=None .....\n",
      "[CV]  alpha=0.0001, loss=log, n_iter=500, n_jobs=-1, penalty=None, score=0.8571647758553778, total=   7.6s\n",
      "[CV] alpha=0.001, loss=log, n_iter=10, n_jobs=-1, penalty=l2 .........\n",
      "[CV]  alpha=0.001, loss=log, n_iter=10, n_jobs=-1, penalty=l2, score=0.8453799986250885, total=   0.2s\n",
      "[CV] alpha=0.001, loss=log, n_iter=10, n_jobs=-1, penalty=l2 .........\n",
      "[CV]  alpha=0.001, loss=log, n_iter=10, n_jobs=-1, penalty=l2, score=0.8321061252305219, total=   0.2s\n",
      "[CV] alpha=0.001, loss=log, n_iter=10, n_jobs=-1, penalty=l2 .........\n",
      "[CV]  alpha=0.001, loss=log, n_iter=10, n_jobs=-1, penalty=l2, score=0.8417029678404855, total=   0.2s\n",
      "[CV] alpha=0.001, loss=log, n_iter=10, n_jobs=-1, penalty=l2 .........\n",
      "[CV]  alpha=0.001, loss=log, n_iter=10, n_jobs=-1, penalty=l2, score=0.8581673420638575, total=   0.2s\n",
      "[CV] alpha=0.001, loss=log, n_iter=10, n_jobs=-1, penalty=l2 .........\n",
      "[CV]  alpha=0.001, loss=log, n_iter=10, n_jobs=-1, penalty=l2, score=0.8544834941350253, total=   0.2s\n",
      "[CV] alpha=0.001, loss=log, n_iter=10, n_jobs=-1, penalty=l1 .........\n",
      "[CV]  alpha=0.001, loss=log, n_iter=10, n_jobs=-1, penalty=l1, score=0.8469813221268087, total=   0.3s\n",
      "[CV] alpha=0.001, loss=log, n_iter=10, n_jobs=-1, penalty=l1 .........\n"
     ]
    },
    {
     "name": "stdout",
     "output_type": "stream",
     "text": [
      "[CV]  alpha=0.001, loss=log, n_iter=10, n_jobs=-1, penalty=l1, score=0.7868326822430186, total=   0.3s\n",
      "[CV] alpha=0.001, loss=log, n_iter=10, n_jobs=-1, penalty=l1 .........\n",
      "[CV]  alpha=0.001, loss=log, n_iter=10, n_jobs=-1, penalty=l1, score=0.838251834115406, total=   0.2s\n",
      "[CV] alpha=0.001, loss=log, n_iter=10, n_jobs=-1, penalty=l1 .........\n",
      "[CV]  alpha=0.001, loss=log, n_iter=10, n_jobs=-1, penalty=l1, score=0.8484026630805934, total=   0.2s\n",
      "[CV] alpha=0.001, loss=log, n_iter=10, n_jobs=-1, penalty=l1 .........\n",
      "[CV]  alpha=0.001, loss=log, n_iter=10, n_jobs=-1, penalty=l1, score=0.8453159926232787, total=   0.2s\n",
      "[CV] alpha=0.001, loss=log, n_iter=10, n_jobs=-1, penalty=None .......\n",
      "[CV]  alpha=0.001, loss=log, n_iter=10, n_jobs=-1, penalty=None, score=0.8352616964613964, total=   0.2s\n",
      "[CV] alpha=0.001, loss=log, n_iter=10, n_jobs=-1, penalty=None .......\n",
      "[CV]  alpha=0.001, loss=log, n_iter=10, n_jobs=-1, penalty=None, score=0.8159165428748203, total=   0.2s\n",
      "[CV] alpha=0.001, loss=log, n_iter=10, n_jobs=-1, penalty=None .......\n",
      "[CV]  alpha=0.001, loss=log, n_iter=10, n_jobs=-1, penalty=None, score=0.8147806871029383, total=   0.2s\n",
      "[CV] alpha=0.001, loss=log, n_iter=10, n_jobs=-1, penalty=None .......\n",
      "[CV]  alpha=0.001, loss=log, n_iter=10, n_jobs=-1, penalty=None, score=0.8138844514240502, total=   0.3s\n",
      "[CV] alpha=0.001, loss=log, n_iter=10, n_jobs=-1, penalty=None .......\n",
      "[CV]  alpha=0.001, loss=log, n_iter=10, n_jobs=-1, penalty=None, score=0.8362018911121339, total=   0.2s\n",
      "[CV] alpha=0.001, loss=log, n_iter=100, n_jobs=-1, penalty=l2 ........\n",
      "[CV]  alpha=0.001, loss=log, n_iter=100, n_jobs=-1, penalty=l2, score=0.8511284735195044, total=   1.5s\n",
      "[CV] alpha=0.001, loss=log, n_iter=100, n_jobs=-1, penalty=l2 ........\n",
      "[CV]  alpha=0.001, loss=log, n_iter=100, n_jobs=-1, penalty=l2, score=0.8340160565746173, total=   1.7s\n",
      "[CV] alpha=0.001, loss=log, n_iter=100, n_jobs=-1, penalty=l2 ........\n",
      "[CV]  alpha=0.001, loss=log, n_iter=100, n_jobs=-1, penalty=l2, score=0.844262546231217, total=   1.6s\n",
      "[CV] alpha=0.001, loss=log, n_iter=100, n_jobs=-1, penalty=l2 ........\n",
      "[CV]  alpha=0.001, loss=log, n_iter=100, n_jobs=-1, penalty=l2, score=0.8611329223789626, total=   1.5s\n",
      "[CV] alpha=0.001, loss=log, n_iter=100, n_jobs=-1, penalty=l2 ........\n",
      "[CV]  alpha=0.001, loss=log, n_iter=100, n_jobs=-1, penalty=l2, score=0.8591119955956281, total=   1.5s\n",
      "[CV] alpha=0.001, loss=log, n_iter=100, n_jobs=-1, penalty=l1 ........\n",
      "[CV]  alpha=0.001, loss=log, n_iter=100, n_jobs=-1, penalty=l1, score=0.8263165524394217, total=   2.3s\n",
      "[CV] alpha=0.001, loss=log, n_iter=100, n_jobs=-1, penalty=l1 ........\n",
      "[CV]  alpha=0.001, loss=log, n_iter=100, n_jobs=-1, penalty=l1, score=0.8372284176263649, total=   1.9s\n",
      "[CV] alpha=0.001, loss=log, n_iter=100, n_jobs=-1, penalty=l1 ........\n",
      "[CV]  alpha=0.001, loss=log, n_iter=100, n_jobs=-1, penalty=l1, score=0.8398929535741056, total=   2.1s\n",
      "[CV] alpha=0.001, loss=log, n_iter=100, n_jobs=-1, penalty=l1 ........\n",
      "[CV]  alpha=0.001, loss=log, n_iter=100, n_jobs=-1, penalty=l1, score=0.8502919701441349, total=   1.9s\n",
      "[CV] alpha=0.001, loss=log, n_iter=100, n_jobs=-1, penalty=l1 ........\n",
      "[CV]  alpha=0.001, loss=log, n_iter=100, n_jobs=-1, penalty=l1, score=0.8560666913359627, total=   1.6s\n",
      "[CV] alpha=0.001, loss=log, n_iter=100, n_jobs=-1, penalty=None ......\n",
      "[CV]  alpha=0.001, loss=log, n_iter=100, n_jobs=-1, penalty=None, score=0.8122857305113773, total=   1.4s\n",
      "[CV] alpha=0.001, loss=log, n_iter=100, n_jobs=-1, penalty=None ......\n",
      "[CV]  alpha=0.001, loss=log, n_iter=100, n_jobs=-1, penalty=None, score=0.7832683737487558, total=   1.4s\n",
      "[CV] alpha=0.001, loss=log, n_iter=100, n_jobs=-1, penalty=None ......\n",
      "[CV]  alpha=0.001, loss=log, n_iter=100, n_jobs=-1, penalty=None, score=0.8377967149212584, total=   1.4s\n",
      "[CV] alpha=0.001, loss=log, n_iter=100, n_jobs=-1, penalty=None ......\n",
      "[CV]  alpha=0.001, loss=log, n_iter=100, n_jobs=-1, penalty=None, score=0.8481484489932221, total=   1.3s\n",
      "[CV] alpha=0.001, loss=log, n_iter=100, n_jobs=-1, penalty=None ......\n",
      "[CV]  alpha=0.001, loss=log, n_iter=100, n_jobs=-1, penalty=None, score=0.8484650884334095, total=   1.4s\n",
      "[CV] alpha=0.001, loss=log, n_iter=250, n_jobs=-1, penalty=l2 ........\n",
      "[CV]  alpha=0.001, loss=log, n_iter=250, n_jobs=-1, penalty=l2, score=0.8512540089130128, total=   3.2s\n",
      "[CV] alpha=0.001, loss=log, n_iter=250, n_jobs=-1, penalty=l2 ........\n",
      "[CV]  alpha=0.001, loss=log, n_iter=250, n_jobs=-1, penalty=l2, score=0.8340339902022615, total=   3.8s\n",
      "[CV] alpha=0.001, loss=log, n_iter=250, n_jobs=-1, penalty=l2 ........\n",
      "[CV]  alpha=0.001, loss=log, n_iter=250, n_jobs=-1, penalty=l2, score=0.8443081328828476, total=   3.9s\n",
      "[CV] alpha=0.001, loss=log, n_iter=250, n_jobs=-1, penalty=l2 ........\n",
      "[CV]  alpha=0.001, loss=log, n_iter=250, n_jobs=-1, penalty=l2, score=0.8613427618179466, total=   3.6s\n",
      "[CV] alpha=0.001, loss=log, n_iter=250, n_jobs=-1, penalty=l2 ........\n",
      "[CV]  alpha=0.001, loss=log, n_iter=250, n_jobs=-1, penalty=l2, score=0.8594188575709168, total=   3.7s\n",
      "[CV] alpha=0.001, loss=log, n_iter=250, n_jobs=-1, penalty=l1 ........\n",
      "[CV]  alpha=0.001, loss=log, n_iter=250, n_jobs=-1, penalty=l1, score=0.8506435183386288, total=   5.8s\n",
      "[CV] alpha=0.001, loss=log, n_iter=250, n_jobs=-1, penalty=l1 ........\n",
      "[CV]  alpha=0.001, loss=log, n_iter=250, n_jobs=-1, penalty=l1, score=0.8347931804391944, total=   5.4s\n",
      "[CV] alpha=0.001, loss=log, n_iter=250, n_jobs=-1, penalty=l1 ........\n",
      "[CV]  alpha=0.001, loss=log, n_iter=250, n_jobs=-1, penalty=l1, score=0.8441960345591659, total=   5.5s\n",
      "[CV] alpha=0.001, loss=log, n_iter=250, n_jobs=-1, penalty=l1 ........\n",
      "[CV]  alpha=0.001, loss=log, n_iter=250, n_jobs=-1, penalty=l1, score=0.850293474369504, total=   5.7s\n",
      "[CV] alpha=0.001, loss=log, n_iter=250, n_jobs=-1, penalty=l1 ........\n",
      "[CV]  alpha=0.001, loss=log, n_iter=250, n_jobs=-1, penalty=l1, score=0.8533432913052765, total=   5.4s\n",
      "[CV] alpha=0.001, loss=log, n_iter=250, n_jobs=-1, penalty=None ......\n",
      "[CV]  alpha=0.001, loss=log, n_iter=250, n_jobs=-1, penalty=None, score=0.8455518625566778, total=   3.8s\n",
      "[CV] alpha=0.001, loss=log, n_iter=250, n_jobs=-1, penalty=None ......\n",
      "[CV]  alpha=0.001, loss=log, n_iter=250, n_jobs=-1, penalty=None, score=0.827992599389659, total=   3.6s\n",
      "[CV] alpha=0.001, loss=log, n_iter=250, n_jobs=-1, penalty=None ......\n",
      "[CV]  alpha=0.001, loss=log, n_iter=250, n_jobs=-1, penalty=None, score=0.8049892721904236, total=   3.6s\n",
      "[CV] alpha=0.001, loss=log, n_iter=250, n_jobs=-1, penalty=None ......\n",
      "[CV]  alpha=0.001, loss=log, n_iter=250, n_jobs=-1, penalty=None, score=0.8303970854129249, total=   3.6s\n",
      "[CV] alpha=0.001, loss=log, n_iter=250, n_jobs=-1, penalty=None ......\n",
      "[CV]  alpha=0.001, loss=log, n_iter=250, n_jobs=-1, penalty=None, score=0.8565217195101039, total=   3.8s\n",
      "[CV] alpha=0.001, loss=log, n_iter=500, n_jobs=-1, penalty=l2 ........\n",
      "[CV]  alpha=0.001, loss=log, n_iter=500, n_jobs=-1, penalty=l2, score=0.8512248667680913, total=   7.6s\n",
      "[CV] alpha=0.001, loss=log, n_iter=500, n_jobs=-1, penalty=l2 ........\n",
      "[CV]  alpha=0.001, loss=log, n_iter=500, n_jobs=-1, penalty=l2, score=0.833953288877863, total=   7.2s\n",
      "[CV] alpha=0.001, loss=log, n_iter=500, n_jobs=-1, penalty=l2 ........\n",
      "[CV]  alpha=0.001, loss=log, n_iter=500, n_jobs=-1, penalty=l2, score=0.8443634347225306, total=   7.0s\n",
      "[CV] alpha=0.001, loss=log, n_iter=500, n_jobs=-1, penalty=l2 ........\n",
      "[CV]  alpha=0.001, loss=log, n_iter=500, n_jobs=-1, penalty=l2, score=0.8613134294232498, total=   7.0s\n",
      "[CV] alpha=0.001, loss=log, n_iter=500, n_jobs=-1, penalty=l2 ........\n",
      "[CV]  alpha=0.001, loss=log, n_iter=500, n_jobs=-1, penalty=l2, score=0.8594835392617864, total=   7.8s\n",
      "[CV] alpha=0.001, loss=log, n_iter=500, n_jobs=-1, penalty=l1 ........\n",
      "[CV]  alpha=0.001, loss=log, n_iter=500, n_jobs=-1, penalty=l1, score=0.8529442533184683, total=  12.3s\n",
      "[CV] alpha=0.001, loss=log, n_iter=500, n_jobs=-1, penalty=l1 ........\n",
      "[CV]  alpha=0.001, loss=log, n_iter=500, n_jobs=-1, penalty=l1, score=0.8361075658986094, total=  12.7s\n",
      "[CV] alpha=0.001, loss=log, n_iter=500, n_jobs=-1, penalty=l1 ........\n",
      "[CV]  alpha=0.001, loss=log, n_iter=500, n_jobs=-1, penalty=l1, score=0.8441616577399035, total=  11.5s\n",
      "[CV] alpha=0.001, loss=log, n_iter=500, n_jobs=-1, penalty=l1 ........\n"
     ]
    },
    {
     "name": "stdout",
     "output_type": "stream",
     "text": [
      "[CV]  alpha=0.001, loss=log, n_iter=500, n_jobs=-1, penalty=l1, score=0.8569692265573997, total=  10.7s\n",
      "[CV] alpha=0.001, loss=log, n_iter=500, n_jobs=-1, penalty=l1 ........\n",
      "[CV]  alpha=0.001, loss=log, n_iter=500, n_jobs=-1, penalty=l1, score=0.8571151364181987, total=  11.2s\n",
      "[CV] alpha=0.001, loss=log, n_iter=500, n_jobs=-1, penalty=None ......\n",
      "[CV]  alpha=0.001, loss=log, n_iter=500, n_jobs=-1, penalty=None, score=0.851284645526905, total=   7.7s\n",
      "[CV] alpha=0.001, loss=log, n_iter=500, n_jobs=-1, penalty=None ......\n",
      "[CV]  alpha=0.001, loss=log, n_iter=500, n_jobs=-1, penalty=None, score=0.8333831489656781, total=   7.9s\n",
      "[CV] alpha=0.001, loss=log, n_iter=500, n_jobs=-1, penalty=None ......\n",
      "[CV]  alpha=0.001, loss=log, n_iter=500, n_jobs=-1, penalty=None, score=0.8442834712516375, total=   8.5s\n",
      "[CV] alpha=0.001, loss=log, n_iter=500, n_jobs=-1, penalty=None ......\n",
      "[CV]  alpha=0.001, loss=log, n_iter=500, n_jobs=-1, penalty=None, score=0.8591405758776404, total=   7.5s\n",
      "[CV] alpha=0.001, loss=log, n_iter=500, n_jobs=-1, penalty=None ......\n",
      "[CV]  alpha=0.001, loss=log, n_iter=500, n_jobs=-1, penalty=None, score=0.8492375081604228, total=   8.3s\n",
      "[CV] alpha=0.01, loss=log, n_iter=10, n_jobs=-1, penalty=l2 ..........\n",
      "[CV]  alpha=0.01, loss=log, n_iter=10, n_jobs=-1, penalty=l2, score=0.8285642337708142, total=   0.2s\n",
      "[CV] alpha=0.01, loss=log, n_iter=10, n_jobs=-1, penalty=l2 ..........\n",
      "[CV]  alpha=0.01, loss=log, n_iter=10, n_jobs=-1, penalty=l2, score=0.794815388248094, total=   0.2s\n",
      "[CV] alpha=0.01, loss=log, n_iter=10, n_jobs=-1, penalty=l2 ..........\n",
      "[CV]  alpha=0.01, loss=log, n_iter=10, n_jobs=-1, penalty=l2, score=0.8312957594698795, total=   0.2s\n",
      "[CV] alpha=0.01, loss=log, n_iter=10, n_jobs=-1, penalty=l2 ..........\n",
      "[CV]  alpha=0.01, loss=log, n_iter=10, n_jobs=-1, penalty=l2, score=0.8433732855591357, total=   0.2s\n",
      "[CV] alpha=0.01, loss=log, n_iter=10, n_jobs=-1, penalty=l2 ..........\n",
      "[CV]  alpha=0.01, loss=log, n_iter=10, n_jobs=-1, penalty=l2, score=0.8385650291669299, total=   0.2s\n",
      "[CV] alpha=0.01, loss=log, n_iter=10, n_jobs=-1, penalty=l1 ..........\n",
      "[CV]  alpha=0.01, loss=log, n_iter=10, n_jobs=-1, penalty=l1, score=0.8447343880299014, total=   0.3s\n",
      "[CV] alpha=0.01, loss=log, n_iter=10, n_jobs=-1, penalty=l1 ..........\n",
      "[CV]  alpha=0.01, loss=log, n_iter=10, n_jobs=-1, penalty=l1, score=0.830567569425556, total=   0.3s\n",
      "[CV] alpha=0.01, loss=log, n_iter=10, n_jobs=-1, penalty=l1 ..........\n",
      "[CV]  alpha=0.01, loss=log, n_iter=10, n_jobs=-1, penalty=l1, score=0.8351919235399754, total=   0.3s\n",
      "[CV] alpha=0.01, loss=log, n_iter=10, n_jobs=-1, penalty=l1 ..........\n",
      "[CV]  alpha=0.01, loss=log, n_iter=10, n_jobs=-1, penalty=l1, score=0.8476659687060955, total=   0.3s\n",
      "[CV] alpha=0.01, loss=log, n_iter=10, n_jobs=-1, penalty=l1 ..........\n",
      "[CV]  alpha=0.01, loss=log, n_iter=10, n_jobs=-1, penalty=l1, score=0.8282708628537563, total=   0.3s\n",
      "[CV] alpha=0.01, loss=log, n_iter=10, n_jobs=-1, penalty=None ........\n",
      "[CV]  alpha=0.01, loss=log, n_iter=10, n_jobs=-1, penalty=None, score=0.8454420190873577, total=   0.2s\n",
      "[CV] alpha=0.01, loss=log, n_iter=10, n_jobs=-1, penalty=None ........\n",
      "[CV]  alpha=0.01, loss=log, n_iter=10, n_jobs=-1, penalty=None, score=0.796040105569288, total=   0.2s\n",
      "[CV] alpha=0.01, loss=log, n_iter=10, n_jobs=-1, penalty=None ........\n",
      "[CV]  alpha=0.01, loss=log, n_iter=10, n_jobs=-1, penalty=None, score=0.8379700936618861, total=   0.1s\n",
      "[CV] alpha=0.01, loss=log, n_iter=10, n_jobs=-1, penalty=None ........\n",
      "[CV]  alpha=0.01, loss=log, n_iter=10, n_jobs=-1, penalty=None, score=0.8175525049865071, total=   0.2s\n",
      "[CV] alpha=0.01, loss=log, n_iter=10, n_jobs=-1, penalty=None ........\n",
      "[CV]  alpha=0.01, loss=log, n_iter=10, n_jobs=-1, penalty=None, score=0.8370119164733737, total=   0.2s\n",
      "[CV] alpha=0.01, loss=log, n_iter=100, n_jobs=-1, penalty=l2 .........\n",
      "[CV]  alpha=0.01, loss=log, n_iter=100, n_jobs=-1, penalty=l2, score=0.8383836421404383, total=   1.6s\n",
      "[CV] alpha=0.01, loss=log, n_iter=100, n_jobs=-1, penalty=l2 .........\n",
      "[CV]  alpha=0.01, loss=log, n_iter=100, n_jobs=-1, penalty=l2, score=0.8089717455696467, total=   1.8s\n",
      "[CV] alpha=0.01, loss=log, n_iter=100, n_jobs=-1, penalty=l2 .........\n",
      "[CV]  alpha=0.01, loss=log, n_iter=100, n_jobs=-1, penalty=l2, score=0.8312613826506172, total=   1.8s\n",
      "[CV] alpha=0.01, loss=log, n_iter=100, n_jobs=-1, penalty=l2 .........\n",
      "[CV]  alpha=0.01, loss=log, n_iter=100, n_jobs=-1, penalty=l2, score=0.8463411222122943, total=   1.6s\n",
      "[CV] alpha=0.01, loss=log, n_iter=100, n_jobs=-1, penalty=l2 .........\n",
      "[CV]  alpha=0.01, loss=log, n_iter=100, n_jobs=-1, penalty=l2, score=0.852270026504451, total=   1.7s\n",
      "[CV] alpha=0.01, loss=log, n_iter=100, n_jobs=-1, penalty=l1 .........\n",
      "[CV]  alpha=0.01, loss=log, n_iter=100, n_jobs=-1, penalty=l1, score=0.8447343880299014, total=   2.6s\n",
      "[CV] alpha=0.01, loss=log, n_iter=100, n_jobs=-1, penalty=l1 .........\n",
      "[CV]  alpha=0.01, loss=log, n_iter=100, n_jobs=-1, penalty=l1, score=0.830567569425556, total=   2.5s\n",
      "[CV] alpha=0.01, loss=log, n_iter=100, n_jobs=-1, penalty=l1 .........\n",
      "[CV]  alpha=0.01, loss=log, n_iter=100, n_jobs=-1, penalty=l1, score=0.8351919235399754, total=   2.4s\n",
      "[CV] alpha=0.01, loss=log, n_iter=100, n_jobs=-1, penalty=l1 .........\n",
      "[CV]  alpha=0.01, loss=log, n_iter=100, n_jobs=-1, penalty=l1, score=0.8476659687060955, total=   2.5s\n",
      "[CV] alpha=0.01, loss=log, n_iter=100, n_jobs=-1, penalty=l1 .........\n",
      "[CV]  alpha=0.01, loss=log, n_iter=100, n_jobs=-1, penalty=l1, score=0.8436271235901648, total=   2.5s\n",
      "[CV] alpha=0.01, loss=log, n_iter=100, n_jobs=-1, penalty=None .......\n",
      "[CV]  alpha=0.01, loss=log, n_iter=100, n_jobs=-1, penalty=None, score=0.8117783582959467, total=   1.9s\n",
      "[CV] alpha=0.01, loss=log, n_iter=100, n_jobs=-1, penalty=None .......\n",
      "[CV]  alpha=0.01, loss=log, n_iter=100, n_jobs=-1, penalty=None, score=0.7789583252382931, total=   1.8s\n",
      "[CV] alpha=0.01, loss=log, n_iter=100, n_jobs=-1, penalty=None .......\n",
      "[CV]  alpha=0.01, loss=log, n_iter=100, n_jobs=-1, penalty=None, score=0.8065481862117567, total=   1.7s\n",
      "[CV] alpha=0.01, loss=log, n_iter=100, n_jobs=-1, penalty=None .......\n",
      "[CV]  alpha=0.01, loss=log, n_iter=100, n_jobs=-1, penalty=None, score=0.8210656233359507, total=   1.8s\n",
      "[CV] alpha=0.01, loss=log, n_iter=100, n_jobs=-1, penalty=None .......\n",
      "[CV]  alpha=0.01, loss=log, n_iter=100, n_jobs=-1, penalty=None, score=0.8285875022939437, total=   1.8s\n",
      "[CV] alpha=0.01, loss=log, n_iter=250, n_jobs=-1, penalty=l2 .........\n",
      "[CV]  alpha=0.01, loss=log, n_iter=250, n_jobs=-1, penalty=l2, score=0.8314694814491567, total=   4.4s\n",
      "[CV] alpha=0.01, loss=log, n_iter=250, n_jobs=-1, penalty=l2 .........\n",
      "[CV]  alpha=0.01, loss=log, n_iter=250, n_jobs=-1, penalty=l2, score=0.8015337735042607, total=   4.2s\n",
      "[CV] alpha=0.01, loss=log, n_iter=250, n_jobs=-1, penalty=l2 .........\n",
      "[CV]  alpha=0.01, loss=log, n_iter=250, n_jobs=-1, penalty=l2, score=0.8372967563976382, total=   4.3s\n",
      "[CV] alpha=0.01, loss=log, n_iter=250, n_jobs=-1, penalty=l2 .........\n",
      "[CV]  alpha=0.01, loss=log, n_iter=250, n_jobs=-1, penalty=l2, score=0.8504942884562736, total=   4.4s\n",
      "[CV] alpha=0.01, loss=log, n_iter=250, n_jobs=-1, penalty=l2 .........\n",
      "[CV]  alpha=0.01, loss=log, n_iter=250, n_jobs=-1, penalty=l2, score=0.8539555110304846, total=   4.5s\n",
      "[CV] alpha=0.01, loss=log, n_iter=250, n_jobs=-1, penalty=l1 .........\n",
      "[CV]  alpha=0.01, loss=log, n_iter=250, n_jobs=-1, penalty=l1, score=0.8452623091936742, total=   5.9s\n",
      "[CV] alpha=0.01, loss=log, n_iter=250, n_jobs=-1, penalty=l1 .........\n",
      "[CV]  alpha=0.01, loss=log, n_iter=250, n_jobs=-1, penalty=l1, score=0.830567569425556, total=   6.3s\n",
      "[CV] alpha=0.01, loss=log, n_iter=250, n_jobs=-1, penalty=l1 .........\n",
      "[CV]  alpha=0.01, loss=log, n_iter=250, n_jobs=-1, penalty=l1, score=0.8351919235399754, total=   6.7s\n",
      "[CV] alpha=0.01, loss=log, n_iter=250, n_jobs=-1, penalty=l1 .........\n",
      "[CV]  alpha=0.01, loss=log, n_iter=250, n_jobs=-1, penalty=l1, score=0.8476659687060955, total=   6.4s\n",
      "[CV] alpha=0.01, loss=log, n_iter=250, n_jobs=-1, penalty=l1 .........\n",
      "[CV]  alpha=0.01, loss=log, n_iter=250, n_jobs=-1, penalty=l1, score=0.8436271235901648, total=   6.2s\n",
      "[CV] alpha=0.01, loss=log, n_iter=250, n_jobs=-1, penalty=None .......\n"
     ]
    },
    {
     "name": "stdout",
     "output_type": "stream",
     "text": [
      "[CV]  alpha=0.01, loss=log, n_iter=250, n_jobs=-1, penalty=None, score=0.7959549208379787, total=   4.3s\n",
      "[CV] alpha=0.01, loss=log, n_iter=250, n_jobs=-1, penalty=None .......\n",
      "[CV]  alpha=0.01, loss=log, n_iter=250, n_jobs=-1, penalty=None, score=0.8114204329775501, total=   4.2s\n",
      "[CV] alpha=0.01, loss=log, n_iter=250, n_jobs=-1, penalty=None .......\n",
      "[CV]  alpha=0.01, loss=log, n_iter=250, n_jobs=-1, penalty=None, score=0.8056670933876187, total=   3.9s\n",
      "[CV] alpha=0.01, loss=log, n_iter=250, n_jobs=-1, penalty=None .......\n",
      "[CV]  alpha=0.01, loss=log, n_iter=250, n_jobs=-1, penalty=None, score=0.7801221130154604, total=   4.2s\n",
      "[CV] alpha=0.01, loss=log, n_iter=250, n_jobs=-1, penalty=None .......\n",
      "[CV]  alpha=0.01, loss=log, n_iter=250, n_jobs=-1, penalty=None, score=0.8468563194011979, total=   4.0s\n",
      "[CV] alpha=0.01, loss=log, n_iter=500, n_jobs=-1, penalty=l2 .........\n",
      "[CV]  alpha=0.01, loss=log, n_iter=500, n_jobs=-1, penalty=l2, score=0.8432526220458084, total=   8.5s\n",
      "[CV] alpha=0.01, loss=log, n_iter=500, n_jobs=-1, penalty=l2 .........\n",
      "[CV]  alpha=0.01, loss=log, n_iter=500, n_jobs=-1, penalty=l2, score=0.8161287574686087, total=   8.4s\n",
      "[CV] alpha=0.01, loss=log, n_iter=500, n_jobs=-1, penalty=l2 .........\n",
      "[CV]  alpha=0.01, loss=log, n_iter=500, n_jobs=-1, penalty=l2, score=0.8373714886134259, total=   7.9s\n",
      "[CV] alpha=0.01, loss=log, n_iter=500, n_jobs=-1, penalty=l2 .........\n",
      "[CV]  alpha=0.01, loss=log, n_iter=500, n_jobs=-1, penalty=l2, score=0.8550475786484235, total=   8.4s\n",
      "[CV] alpha=0.01, loss=log, n_iter=500, n_jobs=-1, penalty=l2 .........\n",
      "[CV]  alpha=0.01, loss=log, n_iter=500, n_jobs=-1, penalty=l2, score=0.8550912011841263, total=   8.3s\n",
      "[CV] alpha=0.01, loss=log, n_iter=500, n_jobs=-1, penalty=l1 .........\n",
      "[CV]  alpha=0.01, loss=log, n_iter=500, n_jobs=-1, penalty=l1, score=0.8447343880299014, total=  12.7s\n",
      "[CV] alpha=0.01, loss=log, n_iter=500, n_jobs=-1, penalty=l1 .........\n",
      "[CV]  alpha=0.01, loss=log, n_iter=500, n_jobs=-1, penalty=l1, score=0.8319503268403639, total=  12.3s\n",
      "[CV] alpha=0.01, loss=log, n_iter=500, n_jobs=-1, penalty=l1 .........\n",
      "[CV]  alpha=0.01, loss=log, n_iter=500, n_jobs=-1, penalty=l1, score=0.8351919235399754, total=  11.4s\n",
      "[CV] alpha=0.01, loss=log, n_iter=500, n_jobs=-1, penalty=l1 .........\n",
      "[CV]  alpha=0.01, loss=log, n_iter=500, n_jobs=-1, penalty=l1, score=0.8503935053565466, total=  11.9s\n",
      "[CV] alpha=0.01, loss=log, n_iter=500, n_jobs=-1, penalty=l1 .........\n",
      "[CV]  alpha=0.01, loss=log, n_iter=500, n_jobs=-1, penalty=l1, score=0.8436271235901648, total=  11.8s\n",
      "[CV] alpha=0.01, loss=log, n_iter=500, n_jobs=-1, penalty=None .......\n",
      "[CV]  alpha=0.01, loss=log, n_iter=500, n_jobs=-1, penalty=None, score=0.8116177028816349, total=   8.4s\n",
      "[CV] alpha=0.01, loss=log, n_iter=500, n_jobs=-1, penalty=None .......\n",
      "[CV]  alpha=0.01, loss=log, n_iter=500, n_jobs=-1, penalty=None, score=0.7908699901663941, total=   8.0s\n",
      "[CV] alpha=0.01, loss=log, n_iter=500, n_jobs=-1, penalty=None .......\n",
      "[CV]  alpha=0.01, loss=log, n_iter=500, n_jobs=-1, penalty=None, score=0.8181212171486522, total=   7.9s\n",
      "[CV] alpha=0.01, loss=log, n_iter=500, n_jobs=-1, penalty=None .......\n",
      "[CV]  alpha=0.01, loss=log, n_iter=500, n_jobs=-1, penalty=None, score=0.8042589132874244, total=   7.3s\n",
      "[CV] alpha=0.01, loss=log, n_iter=500, n_jobs=-1, penalty=None .......\n",
      "[CV]  alpha=0.01, loss=log, n_iter=500, n_jobs=-1, penalty=None, score=0.8366125446378878, total=   7.9s\n",
      "[CV] alpha=0.1, loss=log, n_iter=10, n_jobs=-1, penalty=l2 ...........\n",
      "[CV]  alpha=0.1, loss=log, n_iter=10, n_jobs=-1, penalty=l2, score=0.82214250060526, total=   0.2s\n",
      "[CV] alpha=0.1, loss=log, n_iter=10, n_jobs=-1, penalty=l2 ...........\n",
      "[CV]  alpha=0.1, loss=log, n_iter=10, n_jobs=-1, penalty=l2, score=0.7934277738091323, total=   0.2s\n",
      "[CV] alpha=0.1, loss=log, n_iter=10, n_jobs=-1, penalty=l2 ...........\n",
      "[CV]  alpha=0.1, loss=log, n_iter=10, n_jobs=-1, penalty=l2, score=0.8142045017192145, total=   0.2s\n",
      "[CV] alpha=0.1, loss=log, n_iter=10, n_jobs=-1, penalty=l2 ...........\n",
      "[CV]  alpha=0.1, loss=log, n_iter=10, n_jobs=-1, penalty=l2, score=0.8263349248037738, total=   0.2s\n",
      "[CV] alpha=0.1, loss=log, n_iter=10, n_jobs=-1, penalty=l2 ...........\n",
      "[CV]  alpha=0.1, loss=log, n_iter=10, n_jobs=-1, penalty=l2, score=0.8333942544607803, total=   0.2s\n",
      "[CV] alpha=0.1, loss=log, n_iter=10, n_jobs=-1, penalty=l1 ...........\n",
      "[CV]  alpha=0.1, loss=log, n_iter=10, n_jobs=-1, penalty=l1, score=0.5, total=   0.3s\n",
      "[CV] alpha=0.1, loss=log, n_iter=10, n_jobs=-1, penalty=l1 ...........\n",
      "[CV]  alpha=0.1, loss=log, n_iter=10, n_jobs=-1, penalty=l1, score=0.5018183951196622, total=   0.3s\n",
      "[CV] alpha=0.1, loss=log, n_iter=10, n_jobs=-1, penalty=l1 ...........\n",
      "[CV]  alpha=0.1, loss=log, n_iter=10, n_jobs=-1, penalty=l1, score=0.5, total=   0.3s\n",
      "[CV] alpha=0.1, loss=log, n_iter=10, n_jobs=-1, penalty=l1 ...........\n",
      "[CV]  alpha=0.1, loss=log, n_iter=10, n_jobs=-1, penalty=l1, score=0.5, total=   0.3s\n",
      "[CV] alpha=0.1, loss=log, n_iter=10, n_jobs=-1, penalty=l1 ...........\n",
      "[CV]  alpha=0.1, loss=log, n_iter=10, n_jobs=-1, penalty=l1, score=0.5, total=   0.3s\n",
      "[CV] alpha=0.1, loss=log, n_iter=10, n_jobs=-1, penalty=None .........\n",
      "[CV]  alpha=0.1, loss=log, n_iter=10, n_jobs=-1, penalty=None, score=0.6786181841006435, total=   0.2s\n",
      "[CV] alpha=0.1, loss=log, n_iter=10, n_jobs=-1, penalty=None .........\n",
      "[CV]  alpha=0.1, loss=log, n_iter=10, n_jobs=-1, penalty=None, score=0.763170007801128, total=   0.2s\n",
      "[CV] alpha=0.1, loss=log, n_iter=10, n_jobs=-1, penalty=None .........\n",
      "[CV]  alpha=0.1, loss=log, n_iter=10, n_jobs=-1, penalty=None, score=0.6362857789824612, total=   0.2s\n",
      "[CV] alpha=0.1, loss=log, n_iter=10, n_jobs=-1, penalty=None .........\n",
      "[CV]  alpha=0.1, loss=log, n_iter=10, n_jobs=-1, penalty=None, score=0.6632520750788965, total=   0.2s\n",
      "[CV] alpha=0.1, loss=log, n_iter=10, n_jobs=-1, penalty=None .........\n",
      "[CV]  alpha=0.1, loss=log, n_iter=10, n_jobs=-1, penalty=None, score=0.5262216566334835, total=   0.2s\n",
      "[CV] alpha=0.1, loss=log, n_iter=100, n_jobs=-1, penalty=l2 ..........\n",
      "[CV]  alpha=0.1, loss=log, n_iter=100, n_jobs=-1, penalty=l2, score=0.8215716134585898, total=   1.7s\n",
      "[CV] alpha=0.1, loss=log, n_iter=100, n_jobs=-1, penalty=l2 ..........\n",
      "[CV]  alpha=0.1, loss=log, n_iter=100, n_jobs=-1, penalty=l2, score=0.7938798506726604, total=   1.6s\n",
      "[CV] alpha=0.1, loss=log, n_iter=100, n_jobs=-1, penalty=l2 ..........\n",
      "[CV]  alpha=0.1, loss=log, n_iter=100, n_jobs=-1, penalty=l2, score=0.8164352583604798, total=   1.7s\n",
      "[CV] alpha=0.1, loss=log, n_iter=100, n_jobs=-1, penalty=l2 ..........\n",
      "[CV]  alpha=0.1, loss=log, n_iter=100, n_jobs=-1, penalty=l2, score=0.827921882568134, total=   1.8s\n",
      "[CV] alpha=0.1, loss=log, n_iter=100, n_jobs=-1, penalty=l2 ..........\n",
      "[CV]  alpha=0.1, loss=log, n_iter=100, n_jobs=-1, penalty=l2, score=0.8342110488361809, total=   1.8s\n",
      "[CV] alpha=0.1, loss=log, n_iter=100, n_jobs=-1, penalty=l1 ..........\n",
      "[CV]  alpha=0.1, loss=log, n_iter=100, n_jobs=-1, penalty=l1, score=0.5, total=   2.5s\n",
      "[CV] alpha=0.1, loss=log, n_iter=100, n_jobs=-1, penalty=l1 ..........\n",
      "[CV]  alpha=0.1, loss=log, n_iter=100, n_jobs=-1, penalty=l1, score=0.5, total=   2.8s\n",
      "[CV] alpha=0.1, loss=log, n_iter=100, n_jobs=-1, penalty=l1 ..........\n",
      "[CV]  alpha=0.1, loss=log, n_iter=100, n_jobs=-1, penalty=l1, score=0.5, total=   2.8s\n",
      "[CV] alpha=0.1, loss=log, n_iter=100, n_jobs=-1, penalty=l1 ..........\n",
      "[CV]  alpha=0.1, loss=log, n_iter=100, n_jobs=-1, penalty=l1, score=0.5, total=   2.4s\n",
      "[CV] alpha=0.1, loss=log, n_iter=100, n_jobs=-1, penalty=l1 ..........\n",
      "[CV]  alpha=0.1, loss=log, n_iter=100, n_jobs=-1, penalty=l1, score=0.5, total=   2.6s\n",
      "[CV] alpha=0.1, loss=log, n_iter=100, n_jobs=-1, penalty=None ........\n",
      "[CV]  alpha=0.1, loss=log, n_iter=100, n_jobs=-1, penalty=None, score=0.6064876392471462, total=   1.7s\n",
      "[CV] alpha=0.1, loss=log, n_iter=100, n_jobs=-1, penalty=None ........\n",
      "[CV]  alpha=0.1, loss=log, n_iter=100, n_jobs=-1, penalty=None, score=0.7372170596621902, total=   1.7s\n",
      "[CV] alpha=0.1, loss=log, n_iter=100, n_jobs=-1, penalty=None ........\n",
      "[CV]  alpha=0.1, loss=log, n_iter=100, n_jobs=-1, penalty=None, score=0.6319221649026127, total=   1.7s\n",
      "[CV] alpha=0.1, loss=log, n_iter=100, n_jobs=-1, penalty=None ........\n"
     ]
    },
    {
     "name": "stdout",
     "output_type": "stream",
     "text": [
      "[CV]  alpha=0.1, loss=log, n_iter=100, n_jobs=-1, penalty=None, score=0.8036421808861091, total=   1.7s\n",
      "[CV] alpha=0.1, loss=log, n_iter=100, n_jobs=-1, penalty=None ........\n",
      "[CV]  alpha=0.1, loss=log, n_iter=100, n_jobs=-1, penalty=None, score=0.7784253467991588, total=   1.7s\n",
      "[CV] alpha=0.1, loss=log, n_iter=250, n_jobs=-1, penalty=l2 ..........\n",
      "[CV]  alpha=0.1, loss=log, n_iter=250, n_jobs=-1, penalty=l2, score=0.818585664455849, total=   4.3s\n",
      "[CV] alpha=0.1, loss=log, n_iter=250, n_jobs=-1, penalty=l2 ..........\n",
      "[CV]  alpha=0.1, loss=log, n_iter=250, n_jobs=-1, penalty=l2, score=0.7955282499469464, total=   3.8s\n",
      "[CV] alpha=0.1, loss=log, n_iter=250, n_jobs=-1, penalty=l2 ..........\n",
      "[CV]  alpha=0.1, loss=log, n_iter=250, n_jobs=-1, penalty=l2, score=0.8161617384506965, total=   4.3s\n",
      "[CV] alpha=0.1, loss=log, n_iter=250, n_jobs=-1, penalty=l2 ..........\n",
      "[CV]  alpha=0.1, loss=log, n_iter=250, n_jobs=-1, penalty=l2, score=0.8284889755322702, total=   4.7s\n",
      "[CV] alpha=0.1, loss=log, n_iter=250, n_jobs=-1, penalty=l2 ..........\n",
      "[CV]  alpha=0.1, loss=log, n_iter=250, n_jobs=-1, penalty=l2, score=0.8323999614918306, total=   5.2s\n",
      "[CV] alpha=0.1, loss=log, n_iter=250, n_jobs=-1, penalty=l1 ..........\n",
      "[CV]  alpha=0.1, loss=log, n_iter=250, n_jobs=-1, penalty=l1, score=0.5, total=   6.3s\n",
      "[CV] alpha=0.1, loss=log, n_iter=250, n_jobs=-1, penalty=l1 ..........\n",
      "[CV]  alpha=0.1, loss=log, n_iter=250, n_jobs=-1, penalty=l1, score=0.5, total=   6.6s\n",
      "[CV] alpha=0.1, loss=log, n_iter=250, n_jobs=-1, penalty=l1 ..........\n",
      "[CV]  alpha=0.1, loss=log, n_iter=250, n_jobs=-1, penalty=l1, score=0.5, total=   6.0s\n",
      "[CV] alpha=0.1, loss=log, n_iter=250, n_jobs=-1, penalty=l1 ..........\n",
      "[CV]  alpha=0.1, loss=log, n_iter=250, n_jobs=-1, penalty=l1, score=0.5, total=   5.7s\n",
      "[CV] alpha=0.1, loss=log, n_iter=250, n_jobs=-1, penalty=l1 ..........\n",
      "[CV]  alpha=0.1, loss=log, n_iter=250, n_jobs=-1, penalty=l1, score=0.5, total=   5.9s\n",
      "[CV] alpha=0.1, loss=log, n_iter=250, n_jobs=-1, penalty=None ........\n",
      "[CV]  alpha=0.1, loss=log, n_iter=250, n_jobs=-1, penalty=None, score=0.7666394175157741, total=   3.9s\n",
      "[CV] alpha=0.1, loss=log, n_iter=250, n_jobs=-1, penalty=None ........\n",
      "[CV]  alpha=0.1, loss=log, n_iter=250, n_jobs=-1, penalty=None, score=0.7917487379209546, total=   3.6s\n",
      "[CV] alpha=0.1, loss=log, n_iter=250, n_jobs=-1, penalty=None ........\n",
      "[CV]  alpha=0.1, loss=log, n_iter=250, n_jobs=-1, penalty=None, score=0.7166976431701106, total=   4.3s\n",
      "[CV] alpha=0.1, loss=log, n_iter=250, n_jobs=-1, penalty=None ........\n",
      "[CV]  alpha=0.1, loss=log, n_iter=250, n_jobs=-1, penalty=None, score=0.8306475389368737, total=   4.3s\n",
      "[CV] alpha=0.1, loss=log, n_iter=250, n_jobs=-1, penalty=None ........\n",
      "[CV]  alpha=0.1, loss=log, n_iter=250, n_jobs=-1, penalty=None, score=0.5588114513668896, total=   4.3s\n",
      "[CV] alpha=0.1, loss=log, n_iter=500, n_jobs=-1, penalty=l2 ..........\n",
      "[CV]  alpha=0.1, loss=log, n_iter=500, n_jobs=-1, penalty=l2, score=0.8211994906849749, total=   8.8s\n",
      "[CV] alpha=0.1, loss=log, n_iter=500, n_jobs=-1, penalty=l2 ..........\n",
      "[CV]  alpha=0.1, loss=log, n_iter=500, n_jobs=-1, penalty=l2, score=0.7933605227054671, total=   8.5s\n",
      "[CV] alpha=0.1, loss=log, n_iter=500, n_jobs=-1, penalty=l2 ..........\n",
      "[CV]  alpha=0.1, loss=log, n_iter=500, n_jobs=-1, penalty=l2, score=0.8163037296606934, total=   8.5s\n",
      "[CV] alpha=0.1, loss=log, n_iter=500, n_jobs=-1, penalty=l2 ..........\n",
      "[CV]  alpha=0.1, loss=log, n_iter=500, n_jobs=-1, penalty=l2, score=0.8298796318859677, total=   8.0s\n",
      "[CV] alpha=0.1, loss=log, n_iter=500, n_jobs=-1, penalty=l2 ..........\n",
      "[CV]  alpha=0.1, loss=log, n_iter=500, n_jobs=-1, penalty=l2, score=0.8335130882649362, total=   8.9s\n",
      "[CV] alpha=0.1, loss=log, n_iter=500, n_jobs=-1, penalty=l1 ..........\n",
      "[CV]  alpha=0.1, loss=log, n_iter=500, n_jobs=-1, penalty=l1, score=0.5, total=  13.4s\n",
      "[CV] alpha=0.1, loss=log, n_iter=500, n_jobs=-1, penalty=l1 ..........\n",
      "[CV]  alpha=0.1, loss=log, n_iter=500, n_jobs=-1, penalty=l1, score=0.5, total=  13.9s\n",
      "[CV] alpha=0.1, loss=log, n_iter=500, n_jobs=-1, penalty=l1 ..........\n",
      "[CV]  alpha=0.1, loss=log, n_iter=500, n_jobs=-1, penalty=l1, score=0.5, total=  13.4s\n",
      "[CV] alpha=0.1, loss=log, n_iter=500, n_jobs=-1, penalty=l1 ..........\n",
      "[CV]  alpha=0.1, loss=log, n_iter=500, n_jobs=-1, penalty=l1, score=0.5, total=   8.5s\n",
      "[CV] alpha=0.1, loss=log, n_iter=500, n_jobs=-1, penalty=l1 ..........\n",
      "[CV]  alpha=0.1, loss=log, n_iter=500, n_jobs=-1, penalty=l1, score=0.5, total=   7.7s\n",
      "[CV] alpha=0.1, loss=log, n_iter=500, n_jobs=-1, penalty=None ........\n",
      "[CV]  alpha=0.1, loss=log, n_iter=500, n_jobs=-1, penalty=None, score=0.7931923949463037, total=   5.0s\n",
      "[CV] alpha=0.1, loss=log, n_iter=500, n_jobs=-1, penalty=None ........\n",
      "[CV]  alpha=0.1, loss=log, n_iter=500, n_jobs=-1, penalty=None, score=0.6825329455684511, total=   5.5s\n",
      "[CV] alpha=0.1, loss=log, n_iter=500, n_jobs=-1, penalty=None ........\n",
      "[CV]  alpha=0.1, loss=log, n_iter=500, n_jobs=-1, penalty=None, score=0.7444397363148498, total=   8.0s\n",
      "[CV] alpha=0.1, loss=log, n_iter=500, n_jobs=-1, penalty=None ........\n",
      "[CV]  alpha=0.1, loss=log, n_iter=500, n_jobs=-1, penalty=None, score=0.8323488178292825, total=   8.3s\n",
      "[CV] alpha=0.1, loss=log, n_iter=500, n_jobs=-1, penalty=None ........\n",
      "[CV]  alpha=0.1, loss=log, n_iter=500, n_jobs=-1, penalty=None, score=0.7753048312710403, total=   8.6s\n",
      "[CV] alpha=1.0, loss=log, n_iter=10, n_jobs=-1, penalty=l2 ...........\n",
      "[CV]  alpha=1.0, loss=log, n_iter=10, n_jobs=-1, penalty=l2, score=0.8172638066515824, total=   0.3s\n",
      "[CV] alpha=1.0, loss=log, n_iter=10, n_jobs=-1, penalty=l2 ...........\n",
      "[CV]  alpha=1.0, loss=log, n_iter=10, n_jobs=-1, penalty=l2, score=0.792416765550697, total=   0.2s\n",
      "[CV] alpha=1.0, loss=log, n_iter=10, n_jobs=-1, penalty=l2 ...........\n",
      "[CV]  alpha=1.0, loss=log, n_iter=10, n_jobs=-1, penalty=l2, score=0.8135072501459147, total=   0.2s\n",
      "[CV] alpha=1.0, loss=log, n_iter=10, n_jobs=-1, penalty=l2 ...........\n",
      "[CV]  alpha=1.0, loss=log, n_iter=10, n_jobs=-1, penalty=l2, score=0.8250367783102734, total=   0.2s\n",
      "[CV] alpha=1.0, loss=log, n_iter=10, n_jobs=-1, penalty=l2 ...........\n",
      "[CV]  alpha=1.0, loss=log, n_iter=10, n_jobs=-1, penalty=l2, score=0.8301646825934048, total=   0.2s\n",
      "[CV] alpha=1.0, loss=log, n_iter=10, n_jobs=-1, penalty=l1 ...........\n",
      "[CV]  alpha=1.0, loss=log, n_iter=10, n_jobs=-1, penalty=l1, score=0.5, total=   0.3s\n",
      "[CV] alpha=1.0, loss=log, n_iter=10, n_jobs=-1, penalty=l1 ...........\n",
      "[CV]  alpha=1.0, loss=log, n_iter=10, n_jobs=-1, penalty=l1, score=0.5, total=   0.3s\n",
      "[CV] alpha=1.0, loss=log, n_iter=10, n_jobs=-1, penalty=l1 ...........\n",
      "[CV]  alpha=1.0, loss=log, n_iter=10, n_jobs=-1, penalty=l1, score=0.5, total=   0.3s\n",
      "[CV] alpha=1.0, loss=log, n_iter=10, n_jobs=-1, penalty=l1 ...........\n",
      "[CV]  alpha=1.0, loss=log, n_iter=10, n_jobs=-1, penalty=l1, score=0.5, total=   0.3s\n",
      "[CV] alpha=1.0, loss=log, n_iter=10, n_jobs=-1, penalty=l1 ...........\n",
      "[CV]  alpha=1.0, loss=log, n_iter=10, n_jobs=-1, penalty=l1, score=0.5, total=   0.3s\n",
      "[CV] alpha=1.0, loss=log, n_iter=10, n_jobs=-1, penalty=None .........\n",
      "[CV]  alpha=1.0, loss=log, n_iter=10, n_jobs=-1, penalty=None, score=0.5716829513968801, total=   0.2s\n",
      "[CV] alpha=1.0, loss=log, n_iter=10, n_jobs=-1, penalty=None .........\n",
      "[CV]  alpha=1.0, loss=log, n_iter=10, n_jobs=-1, penalty=None, score=0.5936090528952348, total=   0.2s\n",
      "[CV] alpha=1.0, loss=log, n_iter=10, n_jobs=-1, penalty=None .........\n",
      "[CV]  alpha=1.0, loss=log, n_iter=10, n_jobs=-1, penalty=None, score=0.6939558825837318, total=   0.2s\n",
      "[CV] alpha=1.0, loss=log, n_iter=10, n_jobs=-1, penalty=None .........\n",
      "[CV]  alpha=1.0, loss=log, n_iter=10, n_jobs=-1, penalty=None, score=0.7096672051793489, total=   0.2s\n",
      "[CV] alpha=1.0, loss=log, n_iter=10, n_jobs=-1, penalty=None .........\n",
      "[CV]  alpha=1.0, loss=log, n_iter=10, n_jobs=-1, penalty=None, score=0.4774779856617238, total=   0.2s\n",
      "[CV] alpha=1.0, loss=log, n_iter=100, n_jobs=-1, penalty=l2 ..........\n",
      "[CV]  alpha=1.0, loss=log, n_iter=100, n_jobs=-1, penalty=l2, score=0.8171965555479171, total=   1.7s\n",
      "[CV] alpha=1.0, loss=log, n_iter=100, n_jobs=-1, penalty=l2 ..........\n",
      "[CV]  alpha=1.0, loss=log, n_iter=100, n_jobs=-1, penalty=l2, score=0.7918249558384419, total=   1.2s\n",
      "[CV] alpha=1.0, loss=log, n_iter=100, n_jobs=-1, penalty=l2 ..........\n"
     ]
    },
    {
     "name": "stdout",
     "output_type": "stream",
     "text": [
      "[CV]  alpha=1.0, loss=log, n_iter=100, n_jobs=-1, penalty=l2, score=0.8133144410291822, total=   1.1s\n",
      "[CV] alpha=1.0, loss=log, n_iter=100, n_jobs=-1, penalty=l2 ..........\n",
      "[CV]  alpha=1.0, loss=log, n_iter=100, n_jobs=-1, penalty=l2, score=0.8248735698577304, total=   1.1s\n",
      "[CV] alpha=1.0, loss=log, n_iter=100, n_jobs=-1, penalty=l2 ..........\n",
      "[CV]  alpha=1.0, loss=log, n_iter=100, n_jobs=-1, penalty=l2, score=0.8299638685066351, total=   1.1s\n",
      "[CV] alpha=1.0, loss=log, n_iter=100, n_jobs=-1, penalty=l1 ..........\n",
      "[CV]  alpha=1.0, loss=log, n_iter=100, n_jobs=-1, penalty=l1, score=0.5, total=   1.6s\n",
      "[CV] alpha=1.0, loss=log, n_iter=100, n_jobs=-1, penalty=l1 ..........\n",
      "[CV]  alpha=1.0, loss=log, n_iter=100, n_jobs=-1, penalty=l1, score=0.5, total=   1.5s\n",
      "[CV] alpha=1.0, loss=log, n_iter=100, n_jobs=-1, penalty=l1 ..........\n",
      "[CV]  alpha=1.0, loss=log, n_iter=100, n_jobs=-1, penalty=l1, score=0.5, total=   1.6s\n",
      "[CV] alpha=1.0, loss=log, n_iter=100, n_jobs=-1, penalty=l1 ..........\n",
      "[CV]  alpha=1.0, loss=log, n_iter=100, n_jobs=-1, penalty=l1, score=0.5, total=   1.5s\n",
      "[CV] alpha=1.0, loss=log, n_iter=100, n_jobs=-1, penalty=l1 ..........\n",
      "[CV]  alpha=1.0, loss=log, n_iter=100, n_jobs=-1, penalty=l1, score=0.5, total=   1.6s\n",
      "[CV] alpha=1.0, loss=log, n_iter=100, n_jobs=-1, penalty=None ........\n",
      "[CV]  alpha=1.0, loss=log, n_iter=100, n_jobs=-1, penalty=None, score=0.6104741352255303, total=   1.0s\n",
      "[CV] alpha=1.0, loss=log, n_iter=100, n_jobs=-1, penalty=None ........\n",
      "[CV]  alpha=1.0, loss=log, n_iter=100, n_jobs=-1, penalty=None, score=0.6418751699958454, total=   1.0s\n",
      "[CV] alpha=1.0, loss=log, n_iter=100, n_jobs=-1, penalty=None ........\n",
      "[CV]  alpha=1.0, loss=log, n_iter=100, n_jobs=-1, penalty=None, score=0.6184158115432876, total=   1.0s\n",
      "[CV] alpha=1.0, loss=log, n_iter=100, n_jobs=-1, penalty=None ........\n",
      "[CV]  alpha=1.0, loss=log, n_iter=100, n_jobs=-1, penalty=None, score=0.6593019792597405, total=   1.0s\n",
      "[CV] alpha=1.0, loss=log, n_iter=100, n_jobs=-1, penalty=None ........\n",
      "[CV]  alpha=1.0, loss=log, n_iter=100, n_jobs=-1, penalty=None, score=0.44996419943621635, total=   1.0s\n",
      "[CV] alpha=1.0, loss=log, n_iter=250, n_jobs=-1, penalty=l2 ..........\n",
      "[CV]  alpha=1.0, loss=log, n_iter=250, n_jobs=-1, penalty=l2, score=0.8171636772305697, total=   2.6s\n",
      "[CV] alpha=1.0, loss=log, n_iter=250, n_jobs=-1, penalty=l2 ..........\n",
      "[CV]  alpha=1.0, loss=log, n_iter=250, n_jobs=-1, penalty=l2, score=0.7917778800658761, total=   2.6s\n",
      "[CV] alpha=1.0, loss=log, n_iter=250, n_jobs=-1, penalty=l2 ..........\n",
      "[CV]  alpha=1.0, loss=log, n_iter=250, n_jobs=-1, penalty=l2, score=0.8132382141690786, total=   2.7s\n",
      "[CV] alpha=1.0, loss=log, n_iter=250, n_jobs=-1, penalty=l2 ..........\n",
      "[CV]  alpha=1.0, loss=log, n_iter=250, n_jobs=-1, penalty=l2, score=0.8245621952063346, total=   2.6s\n",
      "[CV] alpha=1.0, loss=log, n_iter=250, n_jobs=-1, penalty=l2 ..........\n",
      "[CV]  alpha=1.0, loss=log, n_iter=250, n_jobs=-1, penalty=l2, score=0.8296870910387277, total=   2.6s\n",
      "[CV] alpha=1.0, loss=log, n_iter=250, n_jobs=-1, penalty=l1 ..........\n",
      "[CV]  alpha=1.0, loss=log, n_iter=250, n_jobs=-1, penalty=l1, score=0.5, total=   3.8s\n",
      "[CV] alpha=1.0, loss=log, n_iter=250, n_jobs=-1, penalty=l1 ..........\n",
      "[CV]  alpha=1.0, loss=log, n_iter=250, n_jobs=-1, penalty=l1, score=0.5, total=   3.9s\n",
      "[CV] alpha=1.0, loss=log, n_iter=250, n_jobs=-1, penalty=l1 ..........\n",
      "[CV]  alpha=1.0, loss=log, n_iter=250, n_jobs=-1, penalty=l1, score=0.5, total=   3.9s\n",
      "[CV] alpha=1.0, loss=log, n_iter=250, n_jobs=-1, penalty=l1 ..........\n",
      "[CV]  alpha=1.0, loss=log, n_iter=250, n_jobs=-1, penalty=l1, score=0.5, total=   3.8s\n",
      "[CV] alpha=1.0, loss=log, n_iter=250, n_jobs=-1, penalty=l1 ..........\n",
      "[CV]  alpha=1.0, loss=log, n_iter=250, n_jobs=-1, penalty=l1, score=0.5, total=   3.9s\n",
      "[CV] alpha=1.0, loss=log, n_iter=250, n_jobs=-1, penalty=None ........\n",
      "[CV]  alpha=1.0, loss=log, n_iter=250, n_jobs=-1, penalty=None, score=0.6050813439460556, total=   2.5s\n",
      "[CV] alpha=1.0, loss=log, n_iter=250, n_jobs=-1, penalty=None ........\n",
      "[CV]  alpha=1.0, loss=log, n_iter=250, n_jobs=-1, penalty=None, score=0.6203436083056607, total=   2.5s\n",
      "[CV] alpha=1.0, loss=log, n_iter=250, n_jobs=-1, penalty=None ........\n",
      "[CV]  alpha=1.0, loss=log, n_iter=250, n_jobs=-1, penalty=None, score=0.6052689201419016, total=   2.5s\n",
      "[CV] alpha=1.0, loss=log, n_iter=250, n_jobs=-1, penalty=None ........\n",
      "[CV]  alpha=1.0, loss=log, n_iter=250, n_jobs=-1, penalty=None, score=0.6150642153810052, total=   2.6s\n",
      "[CV] alpha=1.0, loss=log, n_iter=250, n_jobs=-1, penalty=None ........\n",
      "[CV]  alpha=1.0, loss=log, n_iter=250, n_jobs=-1, penalty=None, score=0.6218016408090326, total=   2.6s\n",
      "[CV] alpha=1.0, loss=log, n_iter=500, n_jobs=-1, penalty=l2 ..........\n",
      "[CV]  alpha=1.0, loss=log, n_iter=500, n_jobs=-1, penalty=l2, score=0.8171711495754215, total=   5.3s\n",
      "[CV] alpha=1.0, loss=log, n_iter=500, n_jobs=-1, penalty=l2 ..........\n",
      "[CV]  alpha=1.0, loss=log, n_iter=500, n_jobs=-1, penalty=l2, score=0.7917883413486685, total=   5.2s\n",
      "[CV] alpha=1.0, loss=log, n_iter=500, n_jobs=-1, penalty=l2 ..........\n",
      "[CV]  alpha=1.0, loss=log, n_iter=500, n_jobs=-1, penalty=l2, score=0.813150777476607, total=   5.2s\n",
      "[CV] alpha=1.0, loss=log, n_iter=500, n_jobs=-1, penalty=l2 ..........\n",
      "[CV]  alpha=1.0, loss=log, n_iter=500, n_jobs=-1, penalty=l2, score=0.8245900233756622, total=   5.1s\n",
      "[CV] alpha=1.0, loss=log, n_iter=500, n_jobs=-1, penalty=l2 ..........\n",
      "[CV]  alpha=1.0, loss=log, n_iter=500, n_jobs=-1, penalty=l2, score=0.829520122022762, total=   5.3s\n",
      "[CV] alpha=1.0, loss=log, n_iter=500, n_jobs=-1, penalty=l1 ..........\n",
      "[CV]  alpha=1.0, loss=log, n_iter=500, n_jobs=-1, penalty=l1, score=0.5, total=   7.8s\n",
      "[CV] alpha=1.0, loss=log, n_iter=500, n_jobs=-1, penalty=l1 ..........\n",
      "[CV]  alpha=1.0, loss=log, n_iter=500, n_jobs=-1, penalty=l1, score=0.5, total=   7.8s\n",
      "[CV] alpha=1.0, loss=log, n_iter=500, n_jobs=-1, penalty=l1 ..........\n",
      "[CV]  alpha=1.0, loss=log, n_iter=500, n_jobs=-1, penalty=l1, score=0.5, total=   7.6s\n",
      "[CV] alpha=1.0, loss=log, n_iter=500, n_jobs=-1, penalty=l1 ..........\n",
      "[CV]  alpha=1.0, loss=log, n_iter=500, n_jobs=-1, penalty=l1, score=0.5, total=   7.6s\n",
      "[CV] alpha=1.0, loss=log, n_iter=500, n_jobs=-1, penalty=l1 ..........\n",
      "[CV]  alpha=1.0, loss=log, n_iter=500, n_jobs=-1, penalty=l1, score=0.5, total=   7.7s\n",
      "[CV] alpha=1.0, loss=log, n_iter=500, n_jobs=-1, penalty=None ........\n",
      "[CV]  alpha=1.0, loss=log, n_iter=500, n_jobs=-1, penalty=None, score=0.5646268161534163, total=   5.0s\n",
      "[CV] alpha=1.0, loss=log, n_iter=500, n_jobs=-1, penalty=None ........\n",
      "[CV]  alpha=1.0, loss=log, n_iter=500, n_jobs=-1, penalty=None, score=0.6760596532234201, total=   5.0s\n",
      "[CV] alpha=1.0, loss=log, n_iter=500, n_jobs=-1, penalty=None ........\n",
      "[CV]  alpha=1.0, loss=log, n_iter=500, n_jobs=-1, penalty=None, score=0.7116659230811195, total=   5.0s\n",
      "[CV] alpha=1.0, loss=log, n_iter=500, n_jobs=-1, penalty=None ........\n",
      "[CV]  alpha=1.0, loss=log, n_iter=500, n_jobs=-1, penalty=None, score=0.78978976946242, total=   5.3s\n",
      "[CV] alpha=1.0, loss=log, n_iter=500, n_jobs=-1, penalty=None ........\n",
      "[CV]  alpha=1.0, loss=log, n_iter=500, n_jobs=-1, penalty=None, score=0.5963388658742408, total=   5.8s\n",
      "[CV] alpha=10.0, loss=log, n_iter=10, n_jobs=-1, penalty=l2 ..........\n",
      "[CV]  alpha=10.0, loss=log, n_iter=10, n_jobs=-1, penalty=l2, score=0.8130703267208063, total=   0.2s\n",
      "[CV] alpha=10.0, loss=log, n_iter=10, n_jobs=-1, penalty=l2 ..........\n",
      "[CV]  alpha=10.0, loss=log, n_iter=10, n_jobs=-1, penalty=l2, score=0.7913549453472698, total=   0.2s\n",
      "[CV] alpha=10.0, loss=log, n_iter=10, n_jobs=-1, penalty=l2 ..........\n",
      "[CV]  alpha=10.0, loss=log, n_iter=10, n_jobs=-1, penalty=l2, score=0.8113153542568591, total=   0.2s\n",
      "[CV] alpha=10.0, loss=log, n_iter=10, n_jobs=-1, penalty=l2 ..........\n",
      "[CV]  alpha=10.0, loss=log, n_iter=10, n_jobs=-1, penalty=l2, score=0.8212476346056072, total=   0.2s\n",
      "[CV] alpha=10.0, loss=log, n_iter=10, n_jobs=-1, penalty=l2 ..........\n",
      "[CV]  alpha=10.0, loss=log, n_iter=10, n_jobs=-1, penalty=l2, score=0.8259912093069433, total=   0.2s\n",
      "[CV] alpha=10.0, loss=log, n_iter=10, n_jobs=-1, penalty=l1 ..........\n",
      "[CV]  alpha=10.0, loss=log, n_iter=10, n_jobs=-1, penalty=l1, score=0.5, total=   0.3s\n",
      "[CV] alpha=10.0, loss=log, n_iter=10, n_jobs=-1, penalty=l1 ..........\n"
     ]
    },
    {
     "name": "stdout",
     "output_type": "stream",
     "text": [
      "[CV]  alpha=10.0, loss=log, n_iter=10, n_jobs=-1, penalty=l1, score=0.5, total=   0.3s\n",
      "[CV] alpha=10.0, loss=log, n_iter=10, n_jobs=-1, penalty=l1 ..........\n",
      "[CV]  alpha=10.0, loss=log, n_iter=10, n_jobs=-1, penalty=l1, score=0.5, total=   0.9s\n",
      "[CV] alpha=10.0, loss=log, n_iter=10, n_jobs=-1, penalty=l1 ..........\n",
      "[CV]  alpha=10.0, loss=log, n_iter=10, n_jobs=-1, penalty=l1, score=0.5, total=   0.3s\n",
      "[CV] alpha=10.0, loss=log, n_iter=10, n_jobs=-1, penalty=l1 ..........\n",
      "[CV]  alpha=10.0, loss=log, n_iter=10, n_jobs=-1, penalty=l1, score=0.5, total=   0.3s\n",
      "[CV] alpha=10.0, loss=log, n_iter=10, n_jobs=-1, penalty=None ........\n",
      "[CV]  alpha=10.0, loss=log, n_iter=10, n_jobs=-1, penalty=None, score=0.4266312876045754, total=   0.2s\n",
      "[CV] alpha=10.0, loss=log, n_iter=10, n_jobs=-1, penalty=None ........\n",
      "[CV]  alpha=10.0, loss=log, n_iter=10, n_jobs=-1, penalty=None, score=0.6360422576046054, total=   0.2s\n",
      "[CV] alpha=10.0, loss=log, n_iter=10, n_jobs=-1, penalty=None ........\n",
      "[CV]  alpha=10.0, loss=log, n_iter=10, n_jobs=-1, penalty=None, score=0.455099016449308, total=   0.2s\n",
      "[CV] alpha=10.0, loss=log, n_iter=10, n_jobs=-1, penalty=None ........\n",
      "[CV]  alpha=10.0, loss=log, n_iter=10, n_jobs=-1, penalty=None, score=0.634209243765738, total=   0.2s\n",
      "[CV] alpha=10.0, loss=log, n_iter=10, n_jobs=-1, penalty=None ........\n",
      "[CV]  alpha=10.0, loss=log, n_iter=10, n_jobs=-1, penalty=None, score=0.6650842215784137, total=   0.2s\n",
      "[CV] alpha=10.0, loss=log, n_iter=100, n_jobs=-1, penalty=l2 .........\n",
      "[CV]  alpha=10.0, loss=log, n_iter=100, n_jobs=-1, penalty=l2, score=0.8132802996111392, total=   1.9s\n",
      "[CV] alpha=10.0, loss=log, n_iter=100, n_jobs=-1, penalty=l2 .........\n",
      "[CV]  alpha=10.0, loss=log, n_iter=100, n_jobs=-1, penalty=l2, score=0.7912189486709688, total=   1.9s\n",
      "[CV] alpha=10.0, loss=log, n_iter=100, n_jobs=-1, penalty=l2 .........\n",
      "[CV]  alpha=10.0, loss=log, n_iter=100, n_jobs=-1, penalty=l2, score=0.8113938230834363, total=   1.7s\n",
      "[CV] alpha=10.0, loss=log, n_iter=100, n_jobs=-1, penalty=l2 .........\n",
      "[CV]  alpha=10.0, loss=log, n_iter=100, n_jobs=-1, penalty=l2, score=0.8213499219307034, total=   1.8s\n",
      "[CV] alpha=10.0, loss=log, n_iter=100, n_jobs=-1, penalty=l2 .........\n",
      "[CV]  alpha=10.0, loss=log, n_iter=100, n_jobs=-1, penalty=l2, score=0.8260596515612355, total=   1.7s\n",
      "[CV] alpha=10.0, loss=log, n_iter=100, n_jobs=-1, penalty=l1 .........\n",
      "[CV]  alpha=10.0, loss=log, n_iter=100, n_jobs=-1, penalty=l1, score=0.5, total=   2.5s\n",
      "[CV] alpha=10.0, loss=log, n_iter=100, n_jobs=-1, penalty=l1 .........\n",
      "[CV]  alpha=10.0, loss=log, n_iter=100, n_jobs=-1, penalty=l1, score=0.5, total=   2.4s\n",
      "[CV] alpha=10.0, loss=log, n_iter=100, n_jobs=-1, penalty=l1 .........\n",
      "[CV]  alpha=10.0, loss=log, n_iter=100, n_jobs=-1, penalty=l1, score=0.5, total=   2.5s\n",
      "[CV] alpha=10.0, loss=log, n_iter=100, n_jobs=-1, penalty=l1 .........\n",
      "[CV]  alpha=10.0, loss=log, n_iter=100, n_jobs=-1, penalty=l1, score=0.5, total=   2.4s\n",
      "[CV] alpha=10.0, loss=log, n_iter=100, n_jobs=-1, penalty=l1 .........\n",
      "[CV]  alpha=10.0, loss=log, n_iter=100, n_jobs=-1, penalty=l1, score=0.5, total=   2.4s\n",
      "[CV] alpha=10.0, loss=log, n_iter=100, n_jobs=-1, penalty=None .......\n",
      "[CV]  alpha=10.0, loss=log, n_iter=100, n_jobs=-1, penalty=None, score=0.5094151545131468, total=   1.6s\n",
      "[CV] alpha=10.0, loss=log, n_iter=100, n_jobs=-1, penalty=None .......\n",
      "[CV]  alpha=10.0, loss=log, n_iter=100, n_jobs=-1, penalty=None, score=0.5721611814673891, total=   1.2s\n",
      "[CV] alpha=10.0, loss=log, n_iter=100, n_jobs=-1, penalty=None .......\n",
      "[CV]  alpha=10.0, loss=log, n_iter=100, n_jobs=-1, penalty=None, score=0.6074062615134321, total=   1.0s\n",
      "[CV] alpha=10.0, loss=log, n_iter=100, n_jobs=-1, penalty=None .......\n",
      "[CV]  alpha=10.0, loss=log, n_iter=100, n_jobs=-1, penalty=None, score=0.4073299398009007, total=   1.0s\n",
      "[CV] alpha=10.0, loss=log, n_iter=100, n_jobs=-1, penalty=None .......\n",
      "[CV]  alpha=10.0, loss=log, n_iter=100, n_jobs=-1, penalty=None, score=0.38125795359163894, total=   1.1s\n",
      "[CV] alpha=10.0, loss=log, n_iter=250, n_jobs=-1, penalty=l2 .........\n",
      "[CV]  alpha=10.0, loss=log, n_iter=250, n_jobs=-1, penalty=l2, score=0.8132541464041583, total=   2.5s\n",
      "[CV] alpha=10.0, loss=log, n_iter=250, n_jobs=-1, penalty=l2 .........\n",
      "[CV]  alpha=10.0, loss=log, n_iter=250, n_jobs=-1, penalty=l2, score=0.7911389945810555, total=   2.5s\n",
      "[CV] alpha=10.0, loss=log, n_iter=250, n_jobs=-1, penalty=l2 .........\n",
      "[CV]  alpha=10.0, loss=log, n_iter=250, n_jobs=-1, penalty=l2, score=0.8113998016606991, total=   2.5s\n",
      "[CV] alpha=10.0, loss=log, n_iter=250, n_jobs=-1, penalty=l2 .........\n",
      "[CV]  alpha=10.0, loss=log, n_iter=250, n_jobs=-1, penalty=l2, score=0.8213581951702331, total=   2.7s\n",
      "[CV] alpha=10.0, loss=log, n_iter=250, n_jobs=-1, penalty=l2 .........\n",
      "[CV]  alpha=10.0, loss=log, n_iter=250, n_jobs=-1, penalty=l2, score=0.8260573952231819, total=   2.7s\n",
      "[CV] alpha=10.0, loss=log, n_iter=250, n_jobs=-1, penalty=l1 .........\n",
      "[CV]  alpha=10.0, loss=log, n_iter=250, n_jobs=-1, penalty=l1, score=0.5, total=   3.9s\n",
      "[CV] alpha=10.0, loss=log, n_iter=250, n_jobs=-1, penalty=l1 .........\n",
      "[CV]  alpha=10.0, loss=log, n_iter=250, n_jobs=-1, penalty=l1, score=0.5, total=   3.8s\n",
      "[CV] alpha=10.0, loss=log, n_iter=250, n_jobs=-1, penalty=l1 .........\n",
      "[CV]  alpha=10.0, loss=log, n_iter=250, n_jobs=-1, penalty=l1, score=0.5, total=   3.8s\n",
      "[CV] alpha=10.0, loss=log, n_iter=250, n_jobs=-1, penalty=l1 .........\n",
      "[CV]  alpha=10.0, loss=log, n_iter=250, n_jobs=-1, penalty=l1, score=0.5, total=   3.8s\n",
      "[CV] alpha=10.0, loss=log, n_iter=250, n_jobs=-1, penalty=l1 .........\n",
      "[CV]  alpha=10.0, loss=log, n_iter=250, n_jobs=-1, penalty=l1, score=0.5, total=   3.7s\n",
      "[CV] alpha=10.0, loss=log, n_iter=250, n_jobs=-1, penalty=None .......\n",
      "[CV]  alpha=10.0, loss=log, n_iter=250, n_jobs=-1, penalty=None, score=0.5808380683091877, total=   2.6s\n",
      "[CV] alpha=10.0, loss=log, n_iter=250, n_jobs=-1, penalty=None .......\n",
      "[CV]  alpha=10.0, loss=log, n_iter=250, n_jobs=-1, penalty=None, score=0.3994267217029773, total=   2.7s\n",
      "[CV] alpha=10.0, loss=log, n_iter=250, n_jobs=-1, penalty=None .......\n",
      "[CV]  alpha=10.0, loss=log, n_iter=250, n_jobs=-1, penalty=None, score=0.4058280665804257, total=   2.6s\n",
      "[CV] alpha=10.0, loss=log, n_iter=250, n_jobs=-1, penalty=None .......\n",
      "[CV]  alpha=10.0, loss=log, n_iter=250, n_jobs=-1, penalty=None, score=0.6467161255968014, total=   3.7s\n",
      "[CV] alpha=10.0, loss=log, n_iter=250, n_jobs=-1, penalty=None .......\n",
      "[CV]  alpha=10.0, loss=log, n_iter=250, n_jobs=-1, penalty=None, score=0.6779468527092604, total=   4.3s\n",
      "[CV] alpha=10.0, loss=log, n_iter=500, n_jobs=-1, penalty=l2 .........\n",
      "[CV]  alpha=10.0, loss=log, n_iter=500, n_jobs=-1, penalty=l2, score=0.8134417022599361, total=   8.5s\n",
      "[CV] alpha=10.0, loss=log, n_iter=500, n_jobs=-1, penalty=l2 .........\n",
      "[CV]  alpha=10.0, loss=log, n_iter=500, n_jobs=-1, penalty=l2, score=0.7911128413740747, total=   8.3s\n",
      "[CV] alpha=10.0, loss=log, n_iter=500, n_jobs=-1, penalty=l2 .........\n",
      "[CV]  alpha=10.0, loss=log, n_iter=500, n_jobs=-1, penalty=l2, score=0.8114341784799616, total=   7.5s\n",
      "[CV] alpha=10.0, loss=log, n_iter=500, n_jobs=-1, penalty=l2 .........\n",
      "[CV]  alpha=10.0, loss=log, n_iter=500, n_jobs=-1, penalty=l2, score=0.8213815106634537, total=   6.6s\n",
      "[CV] alpha=10.0, loss=log, n_iter=500, n_jobs=-1, penalty=l2 .........\n",
      "[CV]  alpha=10.0, loss=log, n_iter=500, n_jobs=-1, penalty=l2, score=0.826073189589557, total=   8.3s\n",
      "[CV] alpha=10.0, loss=log, n_iter=500, n_jobs=-1, penalty=l1 .........\n",
      "[CV]  alpha=10.0, loss=log, n_iter=500, n_jobs=-1, penalty=l1, score=0.5, total=  10.0s\n",
      "[CV] alpha=10.0, loss=log, n_iter=500, n_jobs=-1, penalty=l1 .........\n",
      "[CV]  alpha=10.0, loss=log, n_iter=500, n_jobs=-1, penalty=l1, score=0.5, total=   8.1s\n",
      "[CV] alpha=10.0, loss=log, n_iter=500, n_jobs=-1, penalty=l1 .........\n",
      "[CV]  alpha=10.0, loss=log, n_iter=500, n_jobs=-1, penalty=l1, score=0.5, total=  10.1s\n",
      "[CV] alpha=10.0, loss=log, n_iter=500, n_jobs=-1, penalty=l1 .........\n",
      "[CV]  alpha=10.0, loss=log, n_iter=500, n_jobs=-1, penalty=l1, score=0.5, total=  11.2s\n",
      "[CV] alpha=10.0, loss=log, n_iter=500, n_jobs=-1, penalty=l1 .........\n",
      "[CV]  alpha=10.0, loss=log, n_iter=500, n_jobs=-1, penalty=l1, score=0.5, total=   7.8s\n",
      "[CV] alpha=10.0, loss=log, n_iter=500, n_jobs=-1, penalty=None .......\n"
     ]
    },
    {
     "name": "stdout",
     "output_type": "stream",
     "text": [
      "[CV]  alpha=10.0, loss=log, n_iter=500, n_jobs=-1, penalty=None, score=0.522769729232112, total=   5.0s\n",
      "[CV] alpha=10.0, loss=log, n_iter=500, n_jobs=-1, penalty=None .......\n",
      "[CV]  alpha=10.0, loss=log, n_iter=500, n_jobs=-1, penalty=None, score=0.5280930277044658, total=   4.9s\n",
      "[CV] alpha=10.0, loss=log, n_iter=500, n_jobs=-1, penalty=None .......\n",
      "[CV]  alpha=10.0, loss=log, n_iter=500, n_jobs=-1, penalty=None, score=0.4863550183803884, total=   4.9s\n",
      "[CV] alpha=10.0, loss=log, n_iter=500, n_jobs=-1, penalty=None .......\n",
      "[CV]  alpha=10.0, loss=log, n_iter=500, n_jobs=-1, penalty=None, score=0.6717351540477201, total=   4.9s\n",
      "[CV] alpha=10.0, loss=log, n_iter=500, n_jobs=-1, penalty=None .......\n",
      "[CV]  alpha=10.0, loss=log, n_iter=500, n_jobs=-1, penalty=None, score=0.6377885480314203, total=   4.9s\n",
      "[CV] alpha=100.0, loss=log, n_iter=10, n_jobs=-1, penalty=l2 .........\n",
      "[CV]  alpha=100.0, loss=log, n_iter=10, n_jobs=-1, penalty=l2, score=0.8112769639563974, total=   0.1s\n",
      "[CV] alpha=100.0, loss=log, n_iter=10, n_jobs=-1, penalty=l2 .........\n",
      "[CV]  alpha=100.0, loss=log, n_iter=10, n_jobs=-1, penalty=l2, score=0.7907661245729555, total=   0.1s\n",
      "[CV] alpha=100.0, loss=log, n_iter=10, n_jobs=-1, penalty=l2 .........\n",
      "[CV]  alpha=100.0, loss=log, n_iter=10, n_jobs=-1, penalty=l2, score=0.8103371095521971, total=   0.1s\n",
      "[CV] alpha=100.0, loss=log, n_iter=10, n_jobs=-1, penalty=l2 .........\n",
      "[CV]  alpha=100.0, loss=log, n_iter=10, n_jobs=-1, penalty=l2, score=0.8195440993751447, total=   0.1s\n",
      "[CV] alpha=100.0, loss=log, n_iter=10, n_jobs=-1, penalty=l2 .........\n",
      "[CV]  alpha=100.0, loss=log, n_iter=10, n_jobs=-1, penalty=l2, score=0.824024434636895, total=   0.1s\n",
      "[CV] alpha=100.0, loss=log, n_iter=10, n_jobs=-1, penalty=l1 .........\n",
      "[CV]  alpha=100.0, loss=log, n_iter=10, n_jobs=-1, penalty=l1, score=0.5, total=   0.2s\n",
      "[CV] alpha=100.0, loss=log, n_iter=10, n_jobs=-1, penalty=l1 .........\n",
      "[CV]  alpha=100.0, loss=log, n_iter=10, n_jobs=-1, penalty=l1, score=0.5, total=   0.2s\n",
      "[CV] alpha=100.0, loss=log, n_iter=10, n_jobs=-1, penalty=l1 .........\n",
      "[CV]  alpha=100.0, loss=log, n_iter=10, n_jobs=-1, penalty=l1, score=0.5, total=   0.2s\n",
      "[CV] alpha=100.0, loss=log, n_iter=10, n_jobs=-1, penalty=l1 .........\n",
      "[CV]  alpha=100.0, loss=log, n_iter=10, n_jobs=-1, penalty=l1, score=0.5, total=   0.2s\n",
      "[CV] alpha=100.0, loss=log, n_iter=10, n_jobs=-1, penalty=l1 .........\n",
      "[CV]  alpha=100.0, loss=log, n_iter=10, n_jobs=-1, penalty=l1, score=0.5, total=   0.2s\n",
      "[CV] alpha=100.0, loss=log, n_iter=10, n_jobs=-1, penalty=None .......\n",
      "[CV]  alpha=100.0, loss=log, n_iter=10, n_jobs=-1, penalty=None, score=0.6562280499869981, total=   0.1s\n",
      "[CV] alpha=100.0, loss=log, n_iter=10, n_jobs=-1, penalty=None .......\n",
      "[CV]  alpha=100.0, loss=log, n_iter=10, n_jobs=-1, penalty=None, score=0.528124411552843, total=   0.1s\n",
      "[CV] alpha=100.0, loss=log, n_iter=10, n_jobs=-1, penalty=None .......\n",
      "[CV]  alpha=100.0, loss=log, n_iter=10, n_jobs=-1, penalty=None, score=0.36535907708702786, total=   0.1s\n",
      "[CV] alpha=100.0, loss=log, n_iter=10, n_jobs=-1, penalty=None .......\n",
      "[CV]  alpha=100.0, loss=log, n_iter=10, n_jobs=-1, penalty=None, score=0.3061903386612996, total=   0.1s\n",
      "[CV] alpha=100.0, loss=log, n_iter=10, n_jobs=-1, penalty=None .......\n",
      "[CV]  alpha=100.0, loss=log, n_iter=10, n_jobs=-1, penalty=None, score=0.6298011113217027, total=   0.1s\n",
      "[CV] alpha=100.0, loss=log, n_iter=100, n_jobs=-1, penalty=l2 ........\n",
      "[CV]  alpha=100.0, loss=log, n_iter=100, n_jobs=-1, penalty=l2, score=0.8113128312116855, total=   1.0s\n",
      "[CV] alpha=100.0, loss=log, n_iter=100, n_jobs=-1, penalty=l2 ........\n",
      "[CV]  alpha=100.0, loss=log, n_iter=100, n_jobs=-1, penalty=l2, score=0.7907623884005296, total=   1.1s\n",
      "[CV] alpha=100.0, loss=log, n_iter=100, n_jobs=-1, penalty=l2 ........\n",
      "[CV]  alpha=100.0, loss=log, n_iter=100, n_jobs=-1, penalty=l2, score=0.8103475720624074, total=   1.1s\n",
      "[CV] alpha=100.0, loss=log, n_iter=100, n_jobs=-1, penalty=l2 ........\n",
      "[CV]  alpha=100.0, loss=log, n_iter=100, n_jobs=-1, penalty=l2, score=0.8195659106429962, total=   1.1s\n",
      "[CV] alpha=100.0, loss=log, n_iter=100, n_jobs=-1, penalty=l2 ........\n",
      "[CV]  alpha=100.0, loss=log, n_iter=100, n_jobs=-1, penalty=l2, score=0.8240605360457526, total=   1.1s\n",
      "[CV] alpha=100.0, loss=log, n_iter=100, n_jobs=-1, penalty=l1 ........\n",
      "[CV]  alpha=100.0, loss=log, n_iter=100, n_jobs=-1, penalty=l1, score=0.5, total=   1.6s\n",
      "[CV] alpha=100.0, loss=log, n_iter=100, n_jobs=-1, penalty=l1 ........\n",
      "[CV]  alpha=100.0, loss=log, n_iter=100, n_jobs=-1, penalty=l1, score=0.5, total=   1.6s\n",
      "[CV] alpha=100.0, loss=log, n_iter=100, n_jobs=-1, penalty=l1 ........\n",
      "[CV]  alpha=100.0, loss=log, n_iter=100, n_jobs=-1, penalty=l1, score=0.5, total=   1.6s\n",
      "[CV] alpha=100.0, loss=log, n_iter=100, n_jobs=-1, penalty=l1 ........\n",
      "[CV]  alpha=100.0, loss=log, n_iter=100, n_jobs=-1, penalty=l1, score=0.5, total=   1.7s\n",
      "[CV] alpha=100.0, loss=log, n_iter=100, n_jobs=-1, penalty=l1 ........\n",
      "[CV]  alpha=100.0, loss=log, n_iter=100, n_jobs=-1, penalty=l1, score=0.5, total=   1.5s\n",
      "[CV] alpha=100.0, loss=log, n_iter=100, n_jobs=-1, penalty=None ......\n",
      "[CV]  alpha=100.0, loss=log, n_iter=100, n_jobs=-1, penalty=None, score=0.5546833668592539, total=   1.0s\n",
      "[CV] alpha=100.0, loss=log, n_iter=100, n_jobs=-1, penalty=None ......\n",
      "[CV]  alpha=100.0, loss=log, n_iter=100, n_jobs=-1, penalty=None, score=0.6497136597452827, total=   1.3s\n",
      "[CV] alpha=100.0, loss=log, n_iter=100, n_jobs=-1, penalty=None ......\n",
      "[CV]  alpha=100.0, loss=log, n_iter=100, n_jobs=-1, penalty=None, score=0.6115890236310739, total=   1.6s\n",
      "[CV] alpha=100.0, loss=log, n_iter=100, n_jobs=-1, penalty=None ......\n",
      "[CV]  alpha=100.0, loss=log, n_iter=100, n_jobs=-1, penalty=None, score=0.6583543172772316, total=   1.7s\n",
      "[CV] alpha=100.0, loss=log, n_iter=100, n_jobs=-1, penalty=None ......\n",
      "[CV]  alpha=100.0, loss=log, n_iter=100, n_jobs=-1, penalty=None, score=0.6863464471701008, total=   1.8s\n",
      "[CV] alpha=100.0, loss=log, n_iter=250, n_jobs=-1, penalty=l2 ........\n",
      "[CV]  alpha=100.0, loss=log, n_iter=250, n_jobs=-1, penalty=l2, score=0.8113090950392596, total=   4.3s\n",
      "[CV] alpha=100.0, loss=log, n_iter=250, n_jobs=-1, penalty=l2 ........\n",
      "[CV]  alpha=100.0, loss=log, n_iter=250, n_jobs=-1, penalty=l2, score=0.790759399462589, total=   4.0s\n",
      "[CV] alpha=100.0, loss=log, n_iter=250, n_jobs=-1, penalty=l2 ........\n",
      "[CV]  alpha=100.0, loss=log, n_iter=250, n_jobs=-1, penalty=l2, score=0.810343835451618, total=   3.1s\n",
      "[CV] alpha=100.0, loss=log, n_iter=250, n_jobs=-1, penalty=l2 ........\n",
      "[CV]  alpha=100.0, loss=log, n_iter=250, n_jobs=-1, penalty=l2, score=0.8195621500795736, total=   2.7s\n",
      "[CV] alpha=100.0, loss=log, n_iter=250, n_jobs=-1, penalty=l2 ........\n",
      "[CV]  alpha=100.0, loss=log, n_iter=250, n_jobs=-1, penalty=l2, score=0.8240650487218596, total=   2.8s\n",
      "[CV] alpha=100.0, loss=log, n_iter=250, n_jobs=-1, penalty=l1 ........\n",
      "[CV]  alpha=100.0, loss=log, n_iter=250, n_jobs=-1, penalty=l1, score=0.5, total=   3.9s\n",
      "[CV] alpha=100.0, loss=log, n_iter=250, n_jobs=-1, penalty=l1 ........\n",
      "[CV]  alpha=100.0, loss=log, n_iter=250, n_jobs=-1, penalty=l1, score=0.5, total=   3.8s\n",
      "[CV] alpha=100.0, loss=log, n_iter=250, n_jobs=-1, penalty=l1 ........\n",
      "[CV]  alpha=100.0, loss=log, n_iter=250, n_jobs=-1, penalty=l1, score=0.5, total=   3.9s\n",
      "[CV] alpha=100.0, loss=log, n_iter=250, n_jobs=-1, penalty=l1 ........\n",
      "[CV]  alpha=100.0, loss=log, n_iter=250, n_jobs=-1, penalty=l1, score=0.5, total=   3.9s\n",
      "[CV] alpha=100.0, loss=log, n_iter=250, n_jobs=-1, penalty=l1 ........\n",
      "[CV]  alpha=100.0, loss=log, n_iter=250, n_jobs=-1, penalty=l1, score=0.5, total=   3.8s\n",
      "[CV] alpha=100.0, loss=log, n_iter=250, n_jobs=-1, penalty=None ......\n",
      "[CV]  alpha=100.0, loss=log, n_iter=250, n_jobs=-1, penalty=None, score=0.40828518652467216, total=   2.5s\n",
      "[CV] alpha=100.0, loss=log, n_iter=250, n_jobs=-1, penalty=None ......\n",
      "[CV]  alpha=100.0, loss=log, n_iter=250, n_jobs=-1, penalty=None, score=0.34333631230814754, total=   2.5s\n",
      "[CV] alpha=100.0, loss=log, n_iter=250, n_jobs=-1, penalty=None ......\n",
      "[CV]  alpha=100.0, loss=log, n_iter=250, n_jobs=-1, penalty=None, score=0.659326468431991, total=   2.5s\n",
      "[CV] alpha=100.0, loss=log, n_iter=250, n_jobs=-1, penalty=None ......\n",
      "[CV]  alpha=100.0, loss=log, n_iter=250, n_jobs=-1, penalty=None, score=0.7036563206045783, total=   2.7s\n",
      "[CV] alpha=100.0, loss=log, n_iter=250, n_jobs=-1, penalty=None ......\n"
     ]
    },
    {
     "name": "stdout",
     "output_type": "stream",
     "text": [
      "[CV]  alpha=100.0, loss=log, n_iter=250, n_jobs=-1, penalty=None, score=0.5218172847528708, total=   2.5s\n",
      "[CV] alpha=100.0, loss=log, n_iter=500, n_jobs=-1, penalty=l2 ........\n",
      "[CV]  alpha=100.0, loss=log, n_iter=500, n_jobs=-1, penalty=l2, score=0.8113315120738148, total=   5.3s\n",
      "[CV] alpha=100.0, loss=log, n_iter=500, n_jobs=-1, penalty=l2 ........\n",
      "[CV]  alpha=100.0, loss=log, n_iter=500, n_jobs=-1, penalty=l2, score=0.7907593994625889, total=   5.2s\n",
      "[CV] alpha=100.0, loss=log, n_iter=500, n_jobs=-1, penalty=l2 ........\n",
      "[CV]  alpha=100.0, loss=log, n_iter=500, n_jobs=-1, penalty=l2, score=0.8103460774180915, total=   5.1s\n",
      "[CV] alpha=100.0, loss=log, n_iter=500, n_jobs=-1, penalty=l2 ........\n",
      "[CV]  alpha=100.0, loss=log, n_iter=500, n_jobs=-1, penalty=l2, score=0.8195666627556807, total=   5.5s\n",
      "[CV] alpha=100.0, loss=log, n_iter=500, n_jobs=-1, penalty=l2 ........\n",
      "[CV]  alpha=100.0, loss=log, n_iter=500, n_jobs=-1, penalty=l2, score=0.8240748261867588, total=   5.0s\n",
      "[CV] alpha=100.0, loss=log, n_iter=500, n_jobs=-1, penalty=l1 ........\n",
      "[CV]  alpha=100.0, loss=log, n_iter=500, n_jobs=-1, penalty=l1, score=0.5, total=   7.6s\n",
      "[CV] alpha=100.0, loss=log, n_iter=500, n_jobs=-1, penalty=l1 ........\n",
      "[CV]  alpha=100.0, loss=log, n_iter=500, n_jobs=-1, penalty=l1, score=0.5, total=   7.6s\n",
      "[CV] alpha=100.0, loss=log, n_iter=500, n_jobs=-1, penalty=l1 ........\n",
      "[CV]  alpha=100.0, loss=log, n_iter=500, n_jobs=-1, penalty=l1, score=0.5, total=   7.9s\n",
      "[CV] alpha=100.0, loss=log, n_iter=500, n_jobs=-1, penalty=l1 ........\n",
      "[CV]  alpha=100.0, loss=log, n_iter=500, n_jobs=-1, penalty=l1, score=0.5, total=   8.0s\n",
      "[CV] alpha=100.0, loss=log, n_iter=500, n_jobs=-1, penalty=l1 ........\n",
      "[CV]  alpha=100.0, loss=log, n_iter=500, n_jobs=-1, penalty=l1, score=0.5, total=   7.5s\n",
      "[CV] alpha=100.0, loss=log, n_iter=500, n_jobs=-1, penalty=None ......\n",
      "[CV]  alpha=100.0, loss=log, n_iter=500, n_jobs=-1, penalty=None, score=0.4988664452859965, total=   5.1s\n",
      "[CV] alpha=100.0, loss=log, n_iter=500, n_jobs=-1, penalty=None ......\n",
      "[CV]  alpha=100.0, loss=log, n_iter=500, n_jobs=-1, penalty=None, score=0.5751553500494668, total=   5.4s\n",
      "[CV] alpha=100.0, loss=log, n_iter=500, n_jobs=-1, penalty=None ......\n",
      "[CV]  alpha=100.0, loss=log, n_iter=500, n_jobs=-1, penalty=None, score=0.69549536622896, total=   5.2s\n",
      "[CV] alpha=100.0, loss=log, n_iter=500, n_jobs=-1, penalty=None ......\n",
      "[CV]  alpha=100.0, loss=log, n_iter=500, n_jobs=-1, penalty=None, score=0.3030931386264016, total=   4.9s\n",
      "[CV] alpha=100.0, loss=log, n_iter=500, n_jobs=-1, penalty=None ......\n",
      "[CV]  alpha=100.0, loss=log, n_iter=500, n_jobs=-1, penalty=None, score=0.6964209965793915, total=   5.0s\n",
      "[CV] alpha=1000.0, loss=log, n_iter=10, n_jobs=-1, penalty=l2 ........\n",
      "[CV]  alpha=1000.0, loss=log, n_iter=10, n_jobs=-1, penalty=l2, score=0.8109541586588037, total=   0.1s\n",
      "[CV] alpha=1000.0, loss=log, n_iter=10, n_jobs=-1, penalty=l2 ........\n",
      "[CV]  alpha=1000.0, loss=log, n_iter=10, n_jobs=-1, penalty=l2, score=0.7906884121864978, total=   0.1s\n",
      "[CV] alpha=1000.0, loss=log, n_iter=10, n_jobs=-1, penalty=l2 ........\n",
      "[CV]  alpha=1000.0, loss=log, n_iter=10, n_jobs=-1, penalty=l2, score=0.8101323432809385, total=   0.1s\n",
      "[CV] alpha=1000.0, loss=log, n_iter=10, n_jobs=-1, penalty=l2 ........\n",
      "[CV]  alpha=1000.0, loss=log, n_iter=10, n_jobs=-1, penalty=l2, score=0.8192665697945529, total=   0.1s\n",
      "[CV] alpha=1000.0, loss=log, n_iter=10, n_jobs=-1, penalty=l2 ........\n",
      "[CV]  alpha=1000.0, loss=log, n_iter=10, n_jobs=-1, penalty=l2, score=0.8236393529424152, total=   0.1s\n",
      "[CV] alpha=1000.0, loss=log, n_iter=10, n_jobs=-1, penalty=l1 ........\n",
      "[CV]  alpha=1000.0, loss=log, n_iter=10, n_jobs=-1, penalty=l1, score=0.5, total=   0.2s\n",
      "[CV] alpha=1000.0, loss=log, n_iter=10, n_jobs=-1, penalty=l1 ........\n",
      "[CV]  alpha=1000.0, loss=log, n_iter=10, n_jobs=-1, penalty=l1, score=0.5, total=   0.2s\n",
      "[CV] alpha=1000.0, loss=log, n_iter=10, n_jobs=-1, penalty=l1 ........\n",
      "[CV]  alpha=1000.0, loss=log, n_iter=10, n_jobs=-1, penalty=l1, score=0.5, total=   0.2s\n",
      "[CV] alpha=1000.0, loss=log, n_iter=10, n_jobs=-1, penalty=l1 ........\n",
      "[CV]  alpha=1000.0, loss=log, n_iter=10, n_jobs=-1, penalty=l1, score=0.5, total=   0.2s\n",
      "[CV] alpha=1000.0, loss=log, n_iter=10, n_jobs=-1, penalty=l1 ........\n",
      "[CV]  alpha=1000.0, loss=log, n_iter=10, n_jobs=-1, penalty=l1, score=0.5, total=   0.2s\n",
      "[CV] alpha=1000.0, loss=log, n_iter=10, n_jobs=-1, penalty=None ......\n",
      "[CV]  alpha=1000.0, loss=log, n_iter=10, n_jobs=-1, penalty=None, score=0.4022505208224362, total=   0.1s\n",
      "[CV] alpha=1000.0, loss=log, n_iter=10, n_jobs=-1, penalty=None ......\n",
      "[CV]  alpha=1000.0, loss=log, n_iter=10, n_jobs=-1, penalty=None, score=0.3736067813023998, total=   0.1s\n",
      "[CV] alpha=1000.0, loss=log, n_iter=10, n_jobs=-1, penalty=None ......\n",
      "[CV]  alpha=1000.0, loss=log, n_iter=10, n_jobs=-1, penalty=None, score=0.5607897999493315, total=   0.1s\n",
      "[CV] alpha=1000.0, loss=log, n_iter=10, n_jobs=-1, penalty=None ......\n",
      "[CV]  alpha=1000.0, loss=log, n_iter=10, n_jobs=-1, penalty=None, score=0.3450256771270499, total=   0.1s\n",
      "[CV] alpha=1000.0, loss=log, n_iter=10, n_jobs=-1, penalty=None ......\n",
      "[CV]  alpha=1000.0, loss=log, n_iter=10, n_jobs=-1, penalty=None, score=0.4506313233873952, total=   0.1s\n",
      "[CV] alpha=1000.0, loss=log, n_iter=100, n_jobs=-1, penalty=l2 .......\n",
      "[CV]  alpha=1000.0, loss=log, n_iter=100, n_jobs=-1, penalty=l2, score=0.8109534114243185, total=   1.0s\n",
      "[CV] alpha=1000.0, loss=log, n_iter=100, n_jobs=-1, penalty=l2 .......\n",
      "[CV]  alpha=1000.0, loss=log, n_iter=100, n_jobs=-1, penalty=l2, score=0.7906891594209831, total=   1.0s\n",
      "[CV] alpha=1000.0, loss=log, n_iter=100, n_jobs=-1, penalty=l2 .......\n",
      "[CV]  alpha=1000.0, loss=log, n_iter=100, n_jobs=-1, penalty=l2, score=0.8101323432809386, total=   1.0s\n",
      "[CV] alpha=1000.0, loss=log, n_iter=100, n_jobs=-1, penalty=l2 .......\n",
      "[CV]  alpha=1000.0, loss=log, n_iter=100, n_jobs=-1, penalty=l2, score=0.8192703303579756, total=   1.0s\n",
      "[CV] alpha=1000.0, loss=log, n_iter=100, n_jobs=-1, penalty=l2 .......\n",
      "[CV]  alpha=1000.0, loss=log, n_iter=100, n_jobs=-1, penalty=l2, score=0.8236551473087904, total=   1.1s\n",
      "[CV] alpha=1000.0, loss=log, n_iter=100, n_jobs=-1, penalty=l1 .......\n",
      "[CV]  alpha=1000.0, loss=log, n_iter=100, n_jobs=-1, penalty=l1, score=0.5, total=   1.5s\n",
      "[CV] alpha=1000.0, loss=log, n_iter=100, n_jobs=-1, penalty=l1 .......\n",
      "[CV]  alpha=1000.0, loss=log, n_iter=100, n_jobs=-1, penalty=l1, score=0.5, total=   1.5s\n",
      "[CV] alpha=1000.0, loss=log, n_iter=100, n_jobs=-1, penalty=l1 .......\n",
      "[CV]  alpha=1000.0, loss=log, n_iter=100, n_jobs=-1, penalty=l1, score=0.5, total=   1.5s\n",
      "[CV] alpha=1000.0, loss=log, n_iter=100, n_jobs=-1, penalty=l1 .......\n",
      "[CV]  alpha=1000.0, loss=log, n_iter=100, n_jobs=-1, penalty=l1, score=0.5, total=   1.6s\n",
      "[CV] alpha=1000.0, loss=log, n_iter=100, n_jobs=-1, penalty=l1 .......\n",
      "[CV]  alpha=1000.0, loss=log, n_iter=100, n_jobs=-1, penalty=l1, score=0.5, total=   1.9s\n",
      "[CV] alpha=1000.0, loss=log, n_iter=100, n_jobs=-1, penalty=None .....\n",
      "[CV]  alpha=1000.0, loss=log, n_iter=100, n_jobs=-1, penalty=None, score=0.5647015396019333, total=   1.1s\n",
      "[CV] alpha=1000.0, loss=log, n_iter=100, n_jobs=-1, penalty=None .....\n",
      "[CV]  alpha=1000.0, loss=log, n_iter=100, n_jobs=-1, penalty=None, score=0.5411300277672334, total=   1.1s\n",
      "[CV] alpha=1000.0, loss=log, n_iter=100, n_jobs=-1, penalty=None .....\n",
      "[CV]  alpha=1000.0, loss=log, n_iter=100, n_jobs=-1, penalty=None, score=0.35754059267131055, total=   1.6s\n",
      "[CV] alpha=1000.0, loss=log, n_iter=100, n_jobs=-1, penalty=None .....\n",
      "[CV]  alpha=1000.0, loss=log, n_iter=100, n_jobs=-1, penalty=None, score=0.726142233533997, total=   1.6s\n",
      "[CV] alpha=1000.0, loss=log, n_iter=100, n_jobs=-1, penalty=None .....\n",
      "[CV]  alpha=1000.0, loss=log, n_iter=100, n_jobs=-1, penalty=None, score=0.5635617950823865, total=   1.6s\n",
      "[CV] alpha=1000.0, loss=log, n_iter=250, n_jobs=-1, penalty=l2 .......\n",
      "[CV]  alpha=1000.0, loss=log, n_iter=250, n_jobs=-1, penalty=l2, score=0.8109556531277741, total=   4.2s\n",
      "[CV] alpha=1000.0, loss=log, n_iter=250, n_jobs=-1, penalty=l2 .......\n",
      "[CV]  alpha=1000.0, loss=log, n_iter=250, n_jobs=-1, penalty=l2, score=0.7906899066554682, total=   4.4s\n",
      "[CV] alpha=1000.0, loss=log, n_iter=250, n_jobs=-1, penalty=l2 .......\n"
     ]
    },
    {
     "name": "stdout",
     "output_type": "stream",
     "text": [
      "[CV]  alpha=1000.0, loss=log, n_iter=250, n_jobs=-1, penalty=l2, score=0.8101345852474122, total=   4.1s\n",
      "[CV] alpha=1000.0, loss=log, n_iter=250, n_jobs=-1, penalty=l2 .......\n",
      "[CV]  alpha=1000.0, loss=log, n_iter=250, n_jobs=-1, penalty=l2, score=0.8192748430340827, total=   3.9s\n",
      "[CV] alpha=1000.0, loss=log, n_iter=250, n_jobs=-1, penalty=l2 .......\n",
      "[CV]  alpha=1000.0, loss=log, n_iter=250, n_jobs=-1, penalty=l2, score=0.8236566515341595, total=   3.9s\n",
      "[CV] alpha=1000.0, loss=log, n_iter=250, n_jobs=-1, penalty=l1 .......\n",
      "[CV]  alpha=1000.0, loss=log, n_iter=250, n_jobs=-1, penalty=l1, score=0.5, total=   4.4s\n",
      "[CV] alpha=1000.0, loss=log, n_iter=250, n_jobs=-1, penalty=l1 .......\n",
      "[CV]  alpha=1000.0, loss=log, n_iter=250, n_jobs=-1, penalty=l1, score=0.5, total=   3.7s\n",
      "[CV] alpha=1000.0, loss=log, n_iter=250, n_jobs=-1, penalty=l1 .......\n",
      "[CV]  alpha=1000.0, loss=log, n_iter=250, n_jobs=-1, penalty=l1, score=0.5, total=   3.7s\n",
      "[CV] alpha=1000.0, loss=log, n_iter=250, n_jobs=-1, penalty=l1 .......\n",
      "[CV]  alpha=1000.0, loss=log, n_iter=250, n_jobs=-1, penalty=l1, score=0.5, total=   3.7s\n",
      "[CV] alpha=1000.0, loss=log, n_iter=250, n_jobs=-1, penalty=l1 .......\n",
      "[CV]  alpha=1000.0, loss=log, n_iter=250, n_jobs=-1, penalty=l1, score=0.5, total=   3.8s\n",
      "[CV] alpha=1000.0, loss=log, n_iter=250, n_jobs=-1, penalty=None .....\n",
      "[CV]  alpha=1000.0, loss=log, n_iter=250, n_jobs=-1, penalty=None, score=0.6304372517313422, total=   2.5s\n",
      "[CV] alpha=1000.0, loss=log, n_iter=250, n_jobs=-1, penalty=None .....\n",
      "[CV]  alpha=1000.0, loss=log, n_iter=250, n_jobs=-1, penalty=None, score=0.6670024240286699, total=   2.4s\n",
      "[CV] alpha=1000.0, loss=log, n_iter=250, n_jobs=-1, penalty=None .....\n",
      "[CV]  alpha=1000.0, loss=log, n_iter=250, n_jobs=-1, penalty=None, score=0.5635593758664267, total=   2.4s\n",
      "[CV] alpha=1000.0, loss=log, n_iter=250, n_jobs=-1, penalty=None .....\n",
      "[CV]  alpha=1000.0, loss=log, n_iter=250, n_jobs=-1, penalty=None, score=0.3513464321278471, total=   2.5s\n",
      "[CV] alpha=1000.0, loss=log, n_iter=250, n_jobs=-1, penalty=None .....\n",
      "[CV]  alpha=1000.0, loss=log, n_iter=250, n_jobs=-1, penalty=None, score=0.3211649022103088, total=   2.5s\n",
      "[CV] alpha=1000.0, loss=log, n_iter=500, n_jobs=-1, penalty=l2 .......\n",
      "[CV]  alpha=1000.0, loss=log, n_iter=500, n_jobs=-1, penalty=l2, score=0.8109541586588037, total=   5.1s\n",
      "[CV] alpha=1000.0, loss=log, n_iter=500, n_jobs=-1, penalty=l2 .......\n",
      "[CV]  alpha=1000.0, loss=log, n_iter=500, n_jobs=-1, penalty=l2, score=0.7906891594209831, total=   5.0s\n",
      "[CV] alpha=1000.0, loss=log, n_iter=500, n_jobs=-1, penalty=l2 .......\n",
      "[CV]  alpha=1000.0, loss=log, n_iter=500, n_jobs=-1, penalty=l2, score=0.8101338379252545, total=   5.2s\n",
      "[CV] alpha=1000.0, loss=log, n_iter=500, n_jobs=-1, penalty=l2 .......\n",
      "[CV]  alpha=1000.0, loss=log, n_iter=500, n_jobs=-1, penalty=l2, score=0.8192733388087138, total=   5.4s\n",
      "[CV] alpha=1000.0, loss=log, n_iter=500, n_jobs=-1, penalty=l2 .......\n",
      "[CV]  alpha=1000.0, loss=log, n_iter=500, n_jobs=-1, penalty=l2, score=0.8236581557595285, total=   5.1s\n",
      "[CV] alpha=1000.0, loss=log, n_iter=500, n_jobs=-1, penalty=l1 .......\n",
      "[CV]  alpha=1000.0, loss=log, n_iter=500, n_jobs=-1, penalty=l1, score=0.5, total=   7.9s\n",
      "[CV] alpha=1000.0, loss=log, n_iter=500, n_jobs=-1, penalty=l1 .......\n",
      "[CV]  alpha=1000.0, loss=log, n_iter=500, n_jobs=-1, penalty=l1, score=0.5, total=   8.0s\n",
      "[CV] alpha=1000.0, loss=log, n_iter=500, n_jobs=-1, penalty=l1 .......\n",
      "[CV]  alpha=1000.0, loss=log, n_iter=500, n_jobs=-1, penalty=l1, score=0.5, total=   7.8s\n",
      "[CV] alpha=1000.0, loss=log, n_iter=500, n_jobs=-1, penalty=l1 .......\n",
      "[CV]  alpha=1000.0, loss=log, n_iter=500, n_jobs=-1, penalty=l1, score=0.5, total=   9.8s\n",
      "[CV] alpha=1000.0, loss=log, n_iter=500, n_jobs=-1, penalty=l1 .......\n",
      "[CV]  alpha=1000.0, loss=log, n_iter=500, n_jobs=-1, penalty=l1, score=0.5, total=  12.0s\n",
      "[CV] alpha=1000.0, loss=log, n_iter=500, n_jobs=-1, penalty=None .....\n",
      "[CV]  alpha=1000.0, loss=log, n_iter=500, n_jobs=-1, penalty=None, score=0.3395508224062744, total=   8.4s\n",
      "[CV] alpha=1000.0, loss=log, n_iter=500, n_jobs=-1, penalty=None .....\n",
      "[CV]  alpha=1000.0, loss=log, n_iter=500, n_jobs=-1, penalty=None, score=0.6648249827388834, total=   7.9s\n",
      "[CV] alpha=1000.0, loss=log, n_iter=500, n_jobs=-1, penalty=None .....\n",
      "[CV]  alpha=1000.0, loss=log, n_iter=500, n_jobs=-1, penalty=None, score=0.33805939865975243, total=   8.0s\n",
      "[CV] alpha=1000.0, loss=log, n_iter=500, n_jobs=-1, penalty=None .....\n",
      "[CV]  alpha=1000.0, loss=log, n_iter=500, n_jobs=-1, penalty=None, score=0.4733676898407627, total=   5.8s\n",
      "[CV] alpha=1000.0, loss=log, n_iter=500, n_jobs=-1, penalty=None .....\n",
      "[CV]  alpha=1000.0, loss=log, n_iter=500, n_jobs=-1, penalty=None, score=0.7427052590727353, total=   5.0s\n"
     ]
    },
    {
     "name": "stderr",
     "output_type": "stream",
     "text": [
      "[Parallel(n_jobs=1)]: Done 480 out of 480 | elapsed: 27.3min finished\n"
     ]
    }
   ],
   "source": [
    "clf = SGDClassifier() # faster than vanilla logit \n",
    "\n",
    "grid = {\n",
    "    'alpha': [1e-4, 1e-3, 1e-2, 1e-1, 1e0, 1e1, 1e2, 1e3], # learning rate\n",
    "    'n_iter': [10, 100, 250, 500], # number of epochs\n",
    "    'loss': ['log'], # logistic regression,\n",
    "    'penalty': ['l2', 'l1', 'None'],\n",
    "    'n_jobs': [-1]\n",
    "}\n",
    "\n",
    "grid_obj = GridSearchCV(clf, grid, \n",
    "                        scoring='roc_auc',\n",
    "                        verbose=20,\n",
    "                        cv = StratifiedKFold(n_splits=5, \n",
    "                                   shuffle=True,\n",
    "                                   random_state=1).split(x_train,y_train))\n",
    "\n",
    "grid_obj = grid_obj.fit(x_train, y_train)"
   ]
  },
  {
   "cell_type": "code",
   "execution_count": 34,
   "metadata": {
    "scrolled": true
   },
   "outputs": [
    {
     "data": {
      "text/plain": [
       "({'alpha': 0.0001,\n",
       "  'loss': 'log',\n",
       "  'n_iter': 250,\n",
       "  'n_jobs': -1,\n",
       "  'penalty': 'None'},\n",
       " 0.8507741865512534)"
      ]
     },
     "execution_count": 34,
     "metadata": {},
     "output_type": "execute_result"
    }
   ],
   "source": [
    " grid_obj.best_params_, grid_obj.best_score_"
   ]
  },
  {
   "cell_type": "code",
   "execution_count": 40,
   "metadata": {
    "scrolled": true
   },
   "outputs": [
    {
     "name": "stderr",
     "output_type": "stream",
     "text": [
      "/Users/princegrover/anaconda3/envs/fastai/lib/python3.6/site-packages/sklearn/linear_model/base.py:340: RuntimeWarning: overflow encountered in exp\n",
      "  np.exp(prob, prob)\n"
     ]
    }
   ],
   "source": [
    "preds=grid_obj.best_estimator_.predict_proba(x_test)[:,1]"
   ]
  },
  {
   "cell_type": "code",
   "execution_count": 42,
   "metadata": {},
   "outputs": [
    {
     "data": {
      "text/plain": [
       "(array([14669.,  1888.,  1127.,   530.,   225.,    84.,    48.,    18.,    10.,     2.]),\n",
       " array([0.     , 0.02503, 0.05007, 0.0751 , 0.10013, 0.12516, 0.1502 , 0.17523, 0.20026, 0.2253 , 0.25033]),\n",
       " <a list of 10 Patch objects>)"
      ]
     },
     "execution_count": 42,
     "metadata": {},
     "output_type": "execute_result"
    },
    {
     "data": {
      "image/png": "[encoded data removed]",
      "text/plain": [
       "<Figure size 432x288 with 1 Axes>"
      ]
     },
     "metadata": {},
     "output_type": "display_data"
    }
   ],
   "source": [
    "plt.hist(preds)"
   ]
  },
  {
   "cell_type": "code",
   "execution_count": 43,
   "metadata": {},
   "outputs": [],
   "source": [
    "pred_df = pd.DataFrame(test_raw.id)\n",
    "pred_df['stroke'] = preds\n",
    "pred_df.to_csv('submissions/logit_tuned.csv', index=False)"
   ]
  },
  {
   "cell_type": "code",
   "execution_count": null,
   "metadata": {},
   "outputs": [],
   "source": []
  }
 ],
 "metadata": {
  "kernelspec": {
   "display_name": "Python 3",
   "language": "python",
   "name": "python3"
  },
  "language_info": {
   "codemirror_mode": {
    "name": "ipython",
    "version": 3
   },
   "file_extension": ".py",
   "mimetype": "text/x-python",
   "name": "python",
   "nbconvert_exporter": "python",
   "pygments_lexer": "ipython3",
   "version": "3.6.4"
  }
 },
 "nbformat": 4,
 "nbformat_minor": 2
}
