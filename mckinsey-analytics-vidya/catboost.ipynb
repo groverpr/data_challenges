{
 "cells": [
  {
   "cell_type": "code",
   "execution_count": 29,
   "metadata": {},
   "outputs": [],
   "source": [
    "from catboost import CatBoostClassifier\n",
    "from sklearn.model_selection import StratifiedKFold\n",
    "from fastai.imports import *\n",
    "from sklearn.model_selection import train_test_split\n",
    "\n",
    "from sklearn.model_selection import GridSearchCV"
   ]
  },
  {
   "cell_type": "code",
   "execution_count": 2,
   "metadata": {},
   "outputs": [],
   "source": [
    "train_raw = pd.read_csv('intermediate_data/raw_train.csv')\n",
    "test_raw = pd.read_csv('intermediate_data/raw_test.csv')\n",
    "x_trn3 = train_raw.drop(['stroke', 'age_bins'], axis=1)\n",
    "y_trn3 = train_raw['stroke'].values"
   ]
  },
  {
   "cell_type": "code",
   "execution_count": 4,
   "metadata": {},
   "outputs": [],
   "source": [
    "# cols = ['heart_disease', 'id', 'bmi', 'avg_glucose_level', 'age']\n",
    "# x_trn3 = x_trn3[cols]"
   ]
  },
  {
   "cell_type": "code",
   "execution_count": 5,
   "metadata": {},
   "outputs": [
    {
     "data": {
      "text/html": [
       "<div>\n",
       "<style scoped>\n",
       "    .dataframe tbody tr th:only-of-type {\n",
       "        vertical-align: middle;\n",
       "    }\n",
       "\n",
       "    .dataframe tbody tr th {\n",
       "        vertical-align: top;\n",
       "    }\n",
       "\n",
       "    .dataframe thead th {\n",
       "        text-align: right;\n",
       "    }\n",
       "</style>\n",
       "<table border=\"1\" class=\"dataframe\">\n",
       "  <thead>\n",
       "    <tr style=\"text-align: right;\">\n",
       "      <th></th>\n",
       "      <th>id</th>\n",
       "      <th>gender</th>\n",
       "      <th>age</th>\n",
       "      <th>hypertension</th>\n",
       "      <th>heart_disease</th>\n",
       "      <th>ever_married</th>\n",
       "      <th>work_type</th>\n",
       "      <th>Residence_type</th>\n",
       "      <th>avg_glucose_level</th>\n",
       "      <th>bmi</th>\n",
       "      <th>smoking_status</th>\n",
       "    </tr>\n",
       "  </thead>\n",
       "  <tbody>\n",
       "    <tr>\n",
       "      <th>0</th>\n",
       "      <td>30669</td>\n",
       "      <td>1</td>\n",
       "      <td>3.0</td>\n",
       "      <td>0</td>\n",
       "      <td>0</td>\n",
       "      <td>0</td>\n",
       "      <td>4</td>\n",
       "      <td>0</td>\n",
       "      <td>95.12</td>\n",
       "      <td>18.0</td>\n",
       "      <td>-1</td>\n",
       "    </tr>\n",
       "  </tbody>\n",
       "</table>\n",
       "</div>"
      ],
      "text/plain": [
       "      id  gender  age  hypertension  heart_disease  ever_married  work_type  \\\n",
       "0  30669       1  3.0             0              0             0          4   \n",
       "\n",
       "   Residence_type  avg_glucose_level   bmi  smoking_status  \n",
       "0               0              95.12  18.0              -1  "
      ]
     },
     "execution_count": 5,
     "metadata": {},
     "output_type": "execute_result"
    }
   ],
   "source": [
    "x_trn3[:1]"
   ]
  },
  {
   "cell_type": "code",
   "execution_count": 31,
   "metadata": {},
   "outputs": [],
   "source": [
    "x_trn, x_val, y_trn, y_val = train_test_split(x_trn3, y_trn3, stratify=y_trn3 , test_size=0.25, random_state=1)"
   ]
  },
  {
   "cell_type": "code",
   "execution_count": 33,
   "metadata": {},
   "outputs": [],
   "source": [
    "def auc(m, train, test): \n",
    "    return (metrics.roc_auc_score(y_trn,m.predict_proba(x_trn)[:,1]),\n",
    "                            metrics.roc_auc_score(y_val,m.predict_proba(x_val)[:,1]))"
   ]
  },
  {
   "cell_type": "code",
   "execution_count": 32,
   "metadata": {},
   "outputs": [
    {
     "data": {
      "text/plain": [
       "(32550, 11)"
      ]
     },
     "execution_count": 32,
     "metadata": {},
     "output_type": "execute_result"
    }
   ],
   "source": [
    "x_trn.shape"
   ]
  },
  {
   "cell_type": "code",
   "execution_count": 34,
   "metadata": {},
   "outputs": [],
   "source": [
    "cat_features_index = [1, 3, 4, 5, 6, 7, 10]"
   ]
  },
  {
   "cell_type": "code",
   "execution_count": 26,
   "metadata": {
    "scrolled": true
   },
   "outputs": [],
   "source": [
    "# params = {'depth': [4, 7, 10],\n",
    "#           'learning_rate' : [0.05, 0.1, 0.5],\n",
    "#          'l2_leaf_reg': [1,3,5,9],\n",
    "#          'iterations': [100]}\n",
    "\n",
    "# cb = CatBoostClassifier()\n",
    "# cb_model = GridSearchCV(cb, params, scoring=\"roc_auc\", cv = 5)\n",
    "\n",
    "# cb_model.fit(x_trn3, y_trn3)"
   ]
  },
  {
   "cell_type": "markdown",
   "metadata": {},
   "source": [
    "## 1"
   ]
  },
  {
   "cell_type": "code",
   "execution_count": 50,
   "metadata": {
    "scrolled": true
   },
   "outputs": [
    {
     "name": "stdout",
     "output_type": "stream",
     "text": [
      "0:\tlearn: 0.7885455\ttotal: 269ms\tremaining: 40.1s\n",
      "1:\tlearn: 0.7992109\ttotal: 366ms\tremaining: 27.1s\n",
      "2:\tlearn: 0.8413813\ttotal: 452ms\tremaining: 22.2s\n",
      "3:\tlearn: 0.8497339\ttotal: 637ms\tremaining: 23.3s\n",
      "4:\tlearn: 0.8557354\ttotal: 829ms\tremaining: 24s\n",
      "5:\tlearn: 0.8537295\ttotal: 906ms\tremaining: 21.7s\n",
      "6:\tlearn: 0.8531899\ttotal: 1.06s\tremaining: 21.6s\n",
      "7:\tlearn: 0.8533276\ttotal: 1.33s\tremaining: 23.6s\n",
      "8:\tlearn: 0.8533409\ttotal: 1.4s\tremaining: 21.9s\n",
      "9:\tlearn: 0.8527621\ttotal: 1.56s\tremaining: 21.8s\n",
      "10:\tlearn: 0.8516310\ttotal: 1.68s\tremaining: 21.2s\n",
      "11:\tlearn: 0.8573673\ttotal: 1.95s\tremaining: 22.4s\n",
      "12:\tlearn: 0.8561352\ttotal: 2.11s\tremaining: 22.2s\n",
      "13:\tlearn: 0.8564284\ttotal: 2.22s\tremaining: 21.5s\n",
      "14:\tlearn: 0.8557756\ttotal: 2.28s\tremaining: 20.5s\n",
      "15:\tlearn: 0.8558928\ttotal: 2.49s\tremaining: 20.9s\n",
      "16:\tlearn: 0.8561960\ttotal: 2.56s\tremaining: 20.1s\n",
      "17:\tlearn: 0.8553190\ttotal: 2.63s\tremaining: 19.3s\n",
      "18:\tlearn: 0.8540692\ttotal: 2.71s\tremaining: 18.7s\n",
      "19:\tlearn: 0.8536739\ttotal: 2.79s\tremaining: 18.1s\n",
      "20:\tlearn: 0.8534241\ttotal: 2.86s\tremaining: 17.6s\n",
      "21:\tlearn: 0.8537905\ttotal: 2.97s\tremaining: 17.3s\n",
      "22:\tlearn: 0.8519451\ttotal: 3.1s\tremaining: 17.1s\n",
      "23:\tlearn: 0.8543909\ttotal: 3.27s\tremaining: 17.2s\n",
      "24:\tlearn: 0.8560120\ttotal: 3.56s\tremaining: 17.8s\n",
      "25:\tlearn: 0.8556120\ttotal: 3.65s\tremaining: 17.4s\n",
      "26:\tlearn: 0.8555645\ttotal: 3.72s\tremaining: 16.9s\n",
      "27:\tlearn: 0.8557503\ttotal: 3.81s\tremaining: 16.6s\n",
      "28:\tlearn: 0.8562045\ttotal: 3.87s\tremaining: 16.2s\n",
      "29:\tlearn: 0.8575106\ttotal: 4.02s\tremaining: 16.1s\n",
      "30:\tlearn: 0.8595140\ttotal: 4.22s\tremaining: 16.2s\n",
      "31:\tlearn: 0.8592136\ttotal: 4.31s\tremaining: 15.9s\n",
      "32:\tlearn: 0.8654334\ttotal: 4.65s\tremaining: 16.5s\n",
      "33:\tlearn: 0.8656063\ttotal: 4.8s\tremaining: 16.4s\n",
      "34:\tlearn: 0.8661298\ttotal: 4.96s\tremaining: 16.3s\n",
      "35:\tlearn: 0.8677336\ttotal: 5.28s\tremaining: 16.7s\n",
      "36:\tlearn: 0.8678025\ttotal: 5.36s\tremaining: 16.4s\n",
      "37:\tlearn: 0.8702825\ttotal: 5.57s\tremaining: 16.4s\n",
      "38:\tlearn: 0.8700005\ttotal: 5.64s\tremaining: 16s\n",
      "39:\tlearn: 0.8697375\ttotal: 5.71s\tremaining: 15.7s\n",
      "40:\tlearn: 0.8696295\ttotal: 5.8s\tremaining: 15.4s\n",
      "41:\tlearn: 0.8697174\ttotal: 5.87s\tremaining: 15.1s\n",
      "42:\tlearn: 0.8698872\ttotal: 5.94s\tremaining: 14.8s\n",
      "43:\tlearn: 0.8698043\ttotal: 6.01s\tremaining: 14.5s\n",
      "44:\tlearn: 0.8714324\ttotal: 6.3s\tremaining: 14.7s\n",
      "45:\tlearn: 0.8715564\ttotal: 6.57s\tremaining: 14.9s\n",
      "46:\tlearn: 0.8747704\ttotal: 6.78s\tremaining: 14.9s\n",
      "47:\tlearn: 0.8765231\ttotal: 6.99s\tremaining: 14.8s\n",
      "48:\tlearn: 0.8773216\ttotal: 7.26s\tremaining: 15s\n",
      "49:\tlearn: 0.8783751\ttotal: 7.5s\tremaining: 15s\n",
      "50:\tlearn: 0.8788757\ttotal: 7.77s\tremaining: 15.1s\n",
      "51:\tlearn: 0.8785878\ttotal: 7.86s\tremaining: 14.8s\n",
      "52:\tlearn: 0.8786031\ttotal: 8.11s\tremaining: 14.8s\n",
      "53:\tlearn: 0.8803098\ttotal: 8.42s\tremaining: 15s\n",
      "54:\tlearn: 0.8811044\ttotal: 8.54s\tremaining: 14.7s\n",
      "55:\tlearn: 0.8808537\ttotal: 8.62s\tremaining: 14.5s\n",
      "56:\tlearn: 0.8819880\ttotal: 8.81s\tremaining: 14.4s\n",
      "57:\tlearn: 0.8827397\ttotal: 9.12s\tremaining: 14.5s\n",
      "58:\tlearn: 0.8845961\ttotal: 9.4s\tremaining: 14.5s\n",
      "59:\tlearn: 0.8849593\ttotal: 9.52s\tremaining: 14.3s\n",
      "60:\tlearn: 0.8860280\ttotal: 9.75s\tremaining: 14.2s\n",
      "61:\tlearn: 0.8862535\ttotal: 9.95s\tremaining: 14.1s\n",
      "62:\tlearn: 0.8869103\ttotal: 10.1s\tremaining: 14s\n",
      "63:\tlearn: 0.8871420\ttotal: 10.2s\tremaining: 13.8s\n",
      "64:\tlearn: 0.8884336\ttotal: 10.4s\tremaining: 13.7s\n",
      "65:\tlearn: 0.8896395\ttotal: 10.7s\tremaining: 13.6s\n",
      "66:\tlearn: 0.8918102\ttotal: 11s\tremaining: 13.6s\n",
      "67:\tlearn: 0.8934843\ttotal: 11.2s\tremaining: 13.5s\n",
      "68:\tlearn: 0.8958026\ttotal: 11.5s\tremaining: 13.5s\n",
      "69:\tlearn: 0.8962096\ttotal: 11.7s\tremaining: 13.4s\n",
      "70:\tlearn: 0.8968505\ttotal: 12s\tremaining: 13.3s\n",
      "71:\tlearn: 0.8985975\ttotal: 12.2s\tremaining: 13.2s\n",
      "72:\tlearn: 0.8993990\ttotal: 12.6s\tremaining: 13.3s\n",
      "73:\tlearn: 0.8998099\ttotal: 12.8s\tremaining: 13.2s\n",
      "74:\tlearn: 0.9010378\ttotal: 13.1s\tremaining: 13.1s\n",
      "75:\tlearn: 0.9020694\ttotal: 13.3s\tremaining: 13s\n",
      "76:\tlearn: 0.9023739\ttotal: 13.6s\tremaining: 12.9s\n",
      "77:\tlearn: 0.9029977\ttotal: 13.9s\tremaining: 12.8s\n",
      "78:\tlearn: 0.9034464\ttotal: 14.2s\tremaining: 12.7s\n",
      "79:\tlearn: 0.9039712\ttotal: 14.4s\tremaining: 12.6s\n",
      "80:\tlearn: 0.9041982\ttotal: 14.6s\tremaining: 12.4s\n",
      "81:\tlearn: 0.9053189\ttotal: 14.8s\tremaining: 12.3s\n",
      "82:\tlearn: 0.9066157\ttotal: 15.1s\tremaining: 12.2s\n",
      "83:\tlearn: 0.9071800\ttotal: 15.3s\tremaining: 12s\n",
      "84:\tlearn: 0.9077688\ttotal: 15.5s\tremaining: 11.8s\n",
      "85:\tlearn: 0.9083512\ttotal: 15.6s\tremaining: 11.6s\n",
      "86:\tlearn: 0.9086114\ttotal: 15.8s\tremaining: 11.4s\n",
      "87:\tlearn: 0.9092508\ttotal: 16s\tremaining: 11.3s\n",
      "88:\tlearn: 0.9092219\ttotal: 16s\tremaining: 11s\n",
      "89:\tlearn: 0.9095735\ttotal: 16.3s\tremaining: 10.8s\n",
      "90:\tlearn: 0.9097397\ttotal: 16.3s\tremaining: 10.6s\n",
      "91:\tlearn: 0.9109912\ttotal: 16.6s\tremaining: 10.4s\n",
      "92:\tlearn: 0.9115362\ttotal: 16.8s\tremaining: 10.3s\n",
      "93:\tlearn: 0.9115015\ttotal: 16.8s\tremaining: 10s\n",
      "94:\tlearn: 0.9118562\ttotal: 17s\tremaining: 9.86s\n",
      "95:\tlearn: 0.9128809\ttotal: 17.2s\tremaining: 9.69s\n",
      "96:\tlearn: 0.9136908\ttotal: 17.4s\tremaining: 9.53s\n",
      "97:\tlearn: 0.9148601\ttotal: 17.7s\tremaining: 9.37s\n",
      "98:\tlearn: 0.9151655\ttotal: 17.9s\tremaining: 9.2s\n",
      "99:\tlearn: 0.9155319\ttotal: 18.1s\tremaining: 9.04s\n",
      "100:\tlearn: 0.9159177\ttotal: 18.3s\tremaining: 8.87s\n",
      "101:\tlearn: 0.9176036\ttotal: 18.5s\tremaining: 8.7s\n",
      "102:\tlearn: 0.9188303\ttotal: 18.7s\tremaining: 8.54s\n",
      "103:\tlearn: 0.9202703\ttotal: 18.9s\tremaining: 8.37s\n",
      "104:\tlearn: 0.9208342\ttotal: 19.1s\tremaining: 8.19s\n",
      "105:\tlearn: 0.9213627\ttotal: 19.3s\tremaining: 8.02s\n",
      "106:\tlearn: 0.9214679\ttotal: 19.4s\tremaining: 7.79s\n",
      "107:\tlearn: 0.9223961\ttotal: 19.6s\tremaining: 7.62s\n",
      "108:\tlearn: 0.9226205\ttotal: 19.8s\tremaining: 7.43s\n",
      "109:\tlearn: 0.9227781\ttotal: 19.9s\tremaining: 7.22s\n",
      "110:\tlearn: 0.9231707\ttotal: 20.1s\tremaining: 7.04s\n",
      "111:\tlearn: 0.9242750\ttotal: 20.3s\tremaining: 6.87s\n",
      "112:\tlearn: 0.9252452\ttotal: 20.5s\tremaining: 6.7s\n",
      "113:\tlearn: 0.9253331\ttotal: 20.6s\tremaining: 6.5s\n",
      "114:\tlearn: 0.9259728\ttotal: 20.8s\tremaining: 6.32s\n",
      "115:\tlearn: 0.9261389\ttotal: 21s\tremaining: 6.15s\n",
      "116:\tlearn: 0.9272656\ttotal: 21.2s\tremaining: 5.97s\n",
      "117:\tlearn: 0.9276325\ttotal: 21.4s\tremaining: 5.79s\n",
      "118:\tlearn: 0.9278992\ttotal: 21.6s\tremaining: 5.62s\n",
      "119:\tlearn: 0.9280364\ttotal: 21.7s\tremaining: 5.42s\n",
      "120:\tlearn: 0.9283011\ttotal: 21.9s\tremaining: 5.24s\n",
      "121:\tlearn: 0.9283299\ttotal: 22s\tremaining: 5.04s\n",
      "122:\tlearn: 0.9289524\ttotal: 22.2s\tremaining: 4.87s\n",
      "123:\tlearn: 0.9289496\ttotal: 22.2s\tremaining: 4.66s\n",
      "124:\tlearn: 0.9292717\ttotal: 22.4s\tremaining: 4.49s\n",
      "125:\tlearn: 0.9295550\ttotal: 22.6s\tremaining: 4.31s\n",
      "126:\tlearn: 0.9300166\ttotal: 22.8s\tremaining: 4.13s\n",
      "127:\tlearn: 0.9312349\ttotal: 23s\tremaining: 3.96s\n",
      "128:\tlearn: 0.9319322\ttotal: 23.2s\tremaining: 3.78s\n",
      "129:\tlearn: 0.9320623\ttotal: 23.5s\tremaining: 3.62s\n",
      "130:\tlearn: 0.9328152\ttotal: 23.7s\tremaining: 3.44s\n",
      "131:\tlearn: 0.9331370\ttotal: 23.9s\tremaining: 3.26s\n",
      "132:\tlearn: 0.9334997\ttotal: 24.1s\tremaining: 3.09s\n",
      "133:\tlearn: 0.9337618\ttotal: 24.3s\tremaining: 2.91s\n",
      "134:\tlearn: 0.9342103\ttotal: 24.5s\tremaining: 2.73s\n",
      "135:\tlearn: 0.9348445\ttotal: 24.8s\tremaining: 2.55s\n",
      "136:\tlearn: 0.9350184\ttotal: 24.9s\tremaining: 2.36s\n",
      "137:\tlearn: 0.9355610\ttotal: 25.1s\tremaining: 2.18s\n",
      "138:\tlearn: 0.9356963\ttotal: 25.3s\tremaining: 2s\n",
      "139:\tlearn: 0.9362268\ttotal: 25.5s\tremaining: 1.82s\n",
      "140:\tlearn: 0.9364706\ttotal: 25.7s\tremaining: 1.64s\n",
      "141:\tlearn: 0.9366892\ttotal: 25.9s\tremaining: 1.46s\n",
      "142:\tlearn: 0.9371852\ttotal: 26.1s\tremaining: 1.28s\n",
      "143:\tlearn: 0.9373419\ttotal: 26.3s\tremaining: 1.09s\n",
      "144:\tlearn: 0.9378489\ttotal: 26.5s\tremaining: 913ms\n",
      "145:\tlearn: 0.9379509\ttotal: 26.6s\tremaining: 728ms\n",
      "146:\tlearn: 0.9388893\ttotal: 26.8s\tremaining: 547ms\n",
      "147:\tlearn: 0.9389985\ttotal: 27s\tremaining: 365ms\n",
      "148:\tlearn: 0.9390104\ttotal: 27.1s\tremaining: 182ms\n",
      "149:\tlearn: 0.9390014\ttotal: 27.1s\tremaining: 0us\n"
     ]
    },
    {
     "data": {
      "text/plain": [
       "<catboost.core.CatBoostClassifier at 0x1c22c304e0>"
      ]
     },
     "execution_count": 50,
     "metadata": {},
     "output_type": "execute_result"
    }
   ],
   "source": [
    "#With Categorical features\n",
    "clf = CatBoostClassifier(eval_metric=\"AUC\",one_hot_max_size=10, \\\n",
    "                            depth=10, iterations= 150, l2_leaf_reg= 5, learning_rate= 0.05)\n",
    "clf.fit(x_trn,y_trn, cat_features= cat_features_index)"
   ]
  },
  {
   "cell_type": "code",
   "execution_count": 51,
   "metadata": {},
   "outputs": [
    {
     "data": {
      "text/plain": [
       "(0.9390013932740906, 0.8751489332357685)"
      ]
     },
     "execution_count": 51,
     "metadata": {},
     "output_type": "execute_result"
    }
   ],
   "source": [
    "auc(clf, x_trn, x_val)"
   ]
  },
  {
   "cell_type": "markdown",
   "metadata": {},
   "source": [
    "## 2"
   ]
  },
  {
   "cell_type": "code",
   "execution_count": 45,
   "metadata": {
    "scrolled": true
   },
   "outputs": [
    {
     "name": "stdout",
     "output_type": "stream",
     "text": [
      "0:\tlearn: 0.6002934\ttotal: 122ms\tremaining: 8.45s\n",
      "1:\tlearn: 0.7711036\ttotal: 219ms\tremaining: 7.43s\n",
      "2:\tlearn: 0.7891402\ttotal: 291ms\tremaining: 6.49s\n",
      "3:\tlearn: 0.7848290\ttotal: 375ms\tremaining: 6.19s\n",
      "4:\tlearn: 0.7778342\ttotal: 440ms\tremaining: 5.72s\n",
      "5:\tlearn: 0.7945216\ttotal: 563ms\tremaining: 6s\n",
      "6:\tlearn: 0.8273817\ttotal: 654ms\tremaining: 5.88s\n",
      "7:\tlearn: 0.8316328\ttotal: 747ms\tremaining: 5.79s\n",
      "8:\tlearn: 0.8308204\ttotal: 881ms\tremaining: 5.97s\n",
      "9:\tlearn: 0.8323457\ttotal: 980ms\tremaining: 5.88s\n",
      "10:\tlearn: 0.8381485\ttotal: 1.07s\tremaining: 5.75s\n",
      "11:\tlearn: 0.8422871\ttotal: 1.24s\tremaining: 5.99s\n",
      "12:\tlearn: 0.8469661\ttotal: 1.44s\tremaining: 6.3s\n",
      "13:\tlearn: 0.8463734\ttotal: 1.56s\tremaining: 6.24s\n",
      "14:\tlearn: 0.8470932\ttotal: 1.77s\tremaining: 6.49s\n",
      "15:\tlearn: 0.8477303\ttotal: 1.92s\tremaining: 6.47s\n",
      "16:\tlearn: 0.8477925\ttotal: 2s\tremaining: 6.23s\n",
      "17:\tlearn: 0.8479523\ttotal: 2.07s\tremaining: 5.98s\n",
      "18:\tlearn: 0.8482611\ttotal: 2.14s\tremaining: 5.75s\n",
      "19:\tlearn: 0.8499508\ttotal: 2.26s\tremaining: 5.65s\n",
      "20:\tlearn: 0.8560901\ttotal: 2.5s\tremaining: 5.83s\n",
      "21:\tlearn: 0.8655313\ttotal: 2.76s\tremaining: 6.03s\n",
      "22:\tlearn: 0.8701343\ttotal: 3.08s\tremaining: 6.29s\n",
      "23:\tlearn: 0.8721238\ttotal: 3.33s\tremaining: 6.38s\n",
      "24:\tlearn: 0.8801962\ttotal: 3.55s\tremaining: 6.39s\n",
      "25:\tlearn: 0.8823834\ttotal: 3.68s\tremaining: 6.23s\n",
      "26:\tlearn: 0.8821871\ttotal: 3.76s\tremaining: 5.99s\n",
      "27:\tlearn: 0.8821690\ttotal: 3.85s\tremaining: 5.77s\n",
      "28:\tlearn: 0.8826738\ttotal: 3.93s\tremaining: 5.56s\n",
      "29:\tlearn: 0.8830236\ttotal: 4.06s\tremaining: 5.42s\n",
      "30:\tlearn: 0.8866722\ttotal: 4.32s\tremaining: 5.44s\n",
      "31:\tlearn: 0.8863447\ttotal: 4.41s\tremaining: 5.23s\n",
      "32:\tlearn: 0.8877173\ttotal: 4.63s\tremaining: 5.19s\n",
      "33:\tlearn: 0.8913386\ttotal: 4.9s\tremaining: 5.19s\n",
      "34:\tlearn: 0.8915365\ttotal: 5.06s\tremaining: 5.06s\n",
      "35:\tlearn: 0.8955511\ttotal: 5.27s\tremaining: 4.98s\n",
      "36:\tlearn: 0.8983248\ttotal: 5.63s\tremaining: 5.02s\n",
      "37:\tlearn: 0.9001661\ttotal: 6s\tremaining: 5.05s\n",
      "38:\tlearn: 0.9007906\ttotal: 6.26s\tremaining: 4.97s\n",
      "39:\tlearn: 0.9017003\ttotal: 6.36s\tremaining: 4.77s\n",
      "40:\tlearn: 0.9053108\ttotal: 6.6s\tremaining: 4.67s\n",
      "41:\tlearn: 0.9061647\ttotal: 6.95s\tremaining: 4.63s\n",
      "42:\tlearn: 0.9076935\ttotal: 7.17s\tremaining: 4.5s\n",
      "43:\tlearn: 0.9086332\ttotal: 7.38s\tremaining: 4.36s\n",
      "44:\tlearn: 0.9092392\ttotal: 7.51s\tremaining: 4.17s\n",
      "45:\tlearn: 0.9108074\ttotal: 7.75s\tremaining: 4.04s\n",
      "46:\tlearn: 0.9118125\ttotal: 7.95s\tremaining: 3.89s\n",
      "47:\tlearn: 0.9136585\ttotal: 8.18s\tremaining: 3.75s\n",
      "48:\tlearn: 0.9141356\ttotal: 8.37s\tremaining: 3.59s\n",
      "49:\tlearn: 0.9158013\ttotal: 8.59s\tremaining: 3.43s\n",
      "50:\tlearn: 0.9177448\ttotal: 8.77s\tremaining: 3.27s\n",
      "51:\tlearn: 0.9180177\ttotal: 9.07s\tremaining: 3.14s\n",
      "52:\tlearn: 0.9196106\ttotal: 9.29s\tremaining: 2.98s\n",
      "53:\tlearn: 0.9204723\ttotal: 9.55s\tremaining: 2.83s\n",
      "54:\tlearn: 0.9210028\ttotal: 9.84s\tremaining: 2.68s\n",
      "55:\tlearn: 0.9216049\ttotal: 9.99s\tremaining: 2.5s\n",
      "56:\tlearn: 0.9229344\ttotal: 10.2s\tremaining: 2.34s\n",
      "57:\tlearn: 0.9242290\ttotal: 10.5s\tremaining: 2.16s\n",
      "58:\tlearn: 0.9245935\ttotal: 10.6s\tremaining: 1.97s\n",
      "59:\tlearn: 0.9256804\ttotal: 10.8s\tremaining: 1.8s\n",
      "60:\tlearn: 0.9265878\ttotal: 11.1s\tremaining: 1.64s\n",
      "61:\tlearn: 0.9279924\ttotal: 11.3s\tremaining: 1.46s\n",
      "62:\tlearn: 0.9279184\ttotal: 11.4s\tremaining: 1.27s\n",
      "63:\tlearn: 0.9288092\ttotal: 11.6s\tremaining: 1.09s\n",
      "64:\tlearn: 0.9294509\ttotal: 11.9s\tremaining: 914ms\n",
      "65:\tlearn: 0.9300573\ttotal: 12.1s\tremaining: 735ms\n",
      "66:\tlearn: 0.9309700\ttotal: 12.4s\tremaining: 557ms\n",
      "67:\tlearn: 0.9314636\ttotal: 12.7s\tremaining: 372ms\n",
      "68:\tlearn: 0.9315408\ttotal: 12.8s\tremaining: 185ms\n",
      "69:\tlearn: 0.9324204\ttotal: 13s\tremaining: 0us\n"
     ]
    },
    {
     "data": {
      "text/plain": [
       "<catboost.core.CatBoostClassifier at 0x1c22d8b2e8>"
      ]
     },
     "execution_count": 45,
     "metadata": {},
     "output_type": "execute_result"
    }
   ],
   "source": [
    "#With Categorical features\n",
    "clf2 = CatBoostClassifier(eval_metric=\"AUC\",one_hot_max_size=10, \\\n",
    "                            depth=10, iterations= 70, l2_leaf_reg= 5, learning_rate= 0.1)\n",
    "clf2.fit(x_trn,y_trn, cat_features= cat_features_index)"
   ]
  },
  {
   "cell_type": "code",
   "execution_count": 46,
   "metadata": {},
   "outputs": [
    {
     "data": {
      "text/plain": [
       "(0.9324203704229779, 0.8721697896353963)"
      ]
     },
     "execution_count": 46,
     "metadata": {},
     "output_type": "execute_result"
    }
   ],
   "source": [
    "auc(clf2, x_trn, x_val)"
   ]
  },
  {
   "cell_type": "markdown",
   "metadata": {},
   "source": [
    "### 3"
   ]
  },
  {
   "cell_type": "code",
   "execution_count": 52,
   "metadata": {
    "scrolled": true
   },
   "outputs": [
    {
     "name": "stdout",
     "output_type": "stream",
     "text": [
      "0:\tlearn: 0.6656594\ttotal: 75.2ms\tremaining: 18.7s\n",
      "1:\tlearn: 0.7600207\ttotal: 166ms\tremaining: 20.6s\n",
      "2:\tlearn: 0.7596094\ttotal: 228ms\tremaining: 18.7s\n",
      "3:\tlearn: 0.7703101\ttotal: 368ms\tremaining: 22.6s\n",
      "4:\tlearn: 0.8388601\ttotal: 603ms\tremaining: 29.5s\n",
      "5:\tlearn: 0.8336936\ttotal: 671ms\tremaining: 27.3s\n",
      "6:\tlearn: 0.8361890\ttotal: 764ms\tremaining: 26.5s\n",
      "7:\tlearn: 0.8371932\ttotal: 990ms\tremaining: 30s\n",
      "8:\tlearn: 0.8345065\ttotal: 1.07s\tremaining: 28.7s\n",
      "9:\tlearn: 0.8327814\ttotal: 1.14s\tremaining: 27.4s\n",
      "10:\tlearn: 0.8315510\ttotal: 1.25s\tremaining: 27.1s\n",
      "11:\tlearn: 0.8304191\ttotal: 1.32s\tremaining: 26.2s\n",
      "12:\tlearn: 0.8424868\ttotal: 1.45s\tremaining: 26.4s\n",
      "13:\tlearn: 0.8400482\ttotal: 1.53s\tremaining: 25.8s\n",
      "14:\tlearn: 0.8369169\ttotal: 1.61s\tremaining: 25.3s\n",
      "15:\tlearn: 0.8381806\ttotal: 1.69s\tremaining: 24.7s\n",
      "16:\tlearn: 0.8356736\ttotal: 1.82s\tremaining: 25s\n",
      "17:\tlearn: 0.8362790\ttotal: 1.94s\tremaining: 25s\n",
      "18:\tlearn: 0.8357789\ttotal: 2.08s\tremaining: 25.3s\n",
      "19:\tlearn: 0.8407248\ttotal: 2.3s\tremaining: 26.4s\n",
      "20:\tlearn: 0.8460693\ttotal: 2.41s\tremaining: 26.2s\n",
      "21:\tlearn: 0.8459450\ttotal: 2.47s\tremaining: 25.6s\n",
      "22:\tlearn: 0.8481247\ttotal: 2.59s\tremaining: 25.6s\n",
      "23:\tlearn: 0.8511322\ttotal: 2.66s\tremaining: 25.1s\n",
      "24:\tlearn: 0.8525218\ttotal: 2.76s\tremaining: 24.8s\n",
      "25:\tlearn: 0.8524607\ttotal: 2.85s\tremaining: 24.5s\n",
      "26:\tlearn: 0.8541041\ttotal: 2.96s\tremaining: 24.4s\n",
      "27:\tlearn: 0.8537815\ttotal: 3.06s\tremaining: 24.3s\n",
      "28:\tlearn: 0.8531239\ttotal: 3.16s\tremaining: 24.1s\n",
      "29:\tlearn: 0.8529291\ttotal: 3.31s\tremaining: 24.3s\n",
      "30:\tlearn: 0.8534140\ttotal: 3.38s\tremaining: 23.9s\n",
      "31:\tlearn: 0.8547858\ttotal: 3.46s\tremaining: 23.6s\n",
      "32:\tlearn: 0.8556313\ttotal: 3.57s\tremaining: 23.5s\n",
      "33:\tlearn: 0.8569471\ttotal: 3.7s\tremaining: 23.5s\n",
      "34:\tlearn: 0.8571753\ttotal: 3.79s\tremaining: 23.3s\n",
      "35:\tlearn: 0.8573727\ttotal: 3.85s\tremaining: 22.9s\n",
      "36:\tlearn: 0.8602937\ttotal: 4.14s\tremaining: 23.8s\n",
      "37:\tlearn: 0.8609085\ttotal: 4.31s\tremaining: 24.1s\n",
      "38:\tlearn: 0.8646395\ttotal: 4.48s\tremaining: 24.2s\n",
      "39:\tlearn: 0.8666429\ttotal: 4.71s\tremaining: 24.7s\n",
      "40:\tlearn: 0.8662976\ttotal: 4.87s\tremaining: 24.8s\n",
      "41:\tlearn: 0.8693849\ttotal: 5.08s\tremaining: 25.2s\n",
      "42:\tlearn: 0.8696357\ttotal: 5.15s\tremaining: 24.8s\n",
      "43:\tlearn: 0.8703467\ttotal: 5.35s\tremaining: 25.1s\n",
      "44:\tlearn: 0.8745036\ttotal: 5.56s\tremaining: 25.3s\n",
      "45:\tlearn: 0.8753117\ttotal: 5.67s\tremaining: 25.2s\n",
      "46:\tlearn: 0.8780811\ttotal: 5.91s\tremaining: 25.5s\n",
      "47:\tlearn: 0.8800510\ttotal: 6.11s\tremaining: 25.7s\n",
      "48:\tlearn: 0.8811397\ttotal: 6.3s\tremaining: 25.9s\n",
      "49:\tlearn: 0.8812156\ttotal: 6.41s\tremaining: 25.6s\n",
      "50:\tlearn: 0.8812530\ttotal: 6.5s\tremaining: 25.3s\n",
      "51:\tlearn: 0.8813278\ttotal: 6.7s\tremaining: 25.5s\n",
      "52:\tlearn: 0.8813447\ttotal: 6.78s\tremaining: 25.2s\n",
      "53:\tlearn: 0.8832447\ttotal: 6.99s\tremaining: 25.4s\n",
      "54:\tlearn: 0.8836799\ttotal: 7.17s\tremaining: 25.4s\n",
      "55:\tlearn: 0.8849024\ttotal: 7.37s\tremaining: 25.5s\n",
      "56:\tlearn: 0.8847824\ttotal: 7.43s\tremaining: 25.2s\n",
      "57:\tlearn: 0.8858562\ttotal: 7.63s\tremaining: 25.3s\n",
      "58:\tlearn: 0.8874594\ttotal: 7.83s\tremaining: 25.4s\n",
      "59:\tlearn: 0.8897848\ttotal: 8.05s\tremaining: 25.5s\n",
      "60:\tlearn: 0.8903638\ttotal: 8.19s\tremaining: 25.4s\n",
      "61:\tlearn: 0.8911860\ttotal: 8.3s\tremaining: 25.2s\n",
      "62:\tlearn: 0.8925524\ttotal: 8.49s\tremaining: 25.2s\n",
      "63:\tlearn: 0.8923124\ttotal: 8.57s\tremaining: 24.9s\n",
      "64:\tlearn: 0.8927574\ttotal: 8.76s\tremaining: 24.9s\n",
      "65:\tlearn: 0.8934725\ttotal: 8.96s\tremaining: 25s\n",
      "66:\tlearn: 0.8943759\ttotal: 9.15s\tremaining: 25s\n",
      "67:\tlearn: 0.8963285\ttotal: 9.36s\tremaining: 25s\n",
      "68:\tlearn: 0.8966247\ttotal: 9.43s\tremaining: 24.7s\n",
      "69:\tlearn: 0.8980871\ttotal: 9.62s\tremaining: 24.7s\n",
      "70:\tlearn: 0.8981480\ttotal: 9.81s\tremaining: 24.7s\n",
      "71:\tlearn: 0.8995835\ttotal: 10s\tremaining: 24.7s\n",
      "72:\tlearn: 0.8994082\ttotal: 10.1s\tremaining: 24.4s\n",
      "73:\tlearn: 0.9003721\ttotal: 10.3s\tremaining: 24.4s\n",
      "74:\tlearn: 0.9004870\ttotal: 10.4s\tremaining: 24.2s\n",
      "75:\tlearn: 0.9011384\ttotal: 10.6s\tremaining: 24.2s\n",
      "76:\tlearn: 0.9017713\ttotal: 10.8s\tremaining: 24.3s\n",
      "77:\tlearn: 0.9020298\ttotal: 10.9s\tremaining: 24.1s\n",
      "78:\tlearn: 0.9022992\ttotal: 11.1s\tremaining: 24.1s\n",
      "79:\tlearn: 0.9033204\ttotal: 11.3s\tremaining: 24s\n",
      "80:\tlearn: 0.9035803\ttotal: 11.5s\tremaining: 24s\n",
      "81:\tlearn: 0.9040925\ttotal: 11.7s\tremaining: 24s\n",
      "82:\tlearn: 0.9050360\ttotal: 11.9s\tremaining: 24s\n",
      "83:\tlearn: 0.9055469\ttotal: 12.1s\tremaining: 23.9s\n",
      "84:\tlearn: 0.9067243\ttotal: 12.3s\tremaining: 23.9s\n",
      "85:\tlearn: 0.9075547\ttotal: 12.5s\tremaining: 23.8s\n",
      "86:\tlearn: 0.9080900\ttotal: 12.7s\tremaining: 23.8s\n",
      "87:\tlearn: 0.9084217\ttotal: 12.9s\tremaining: 23.7s\n",
      "88:\tlearn: 0.9087836\ttotal: 13s\tremaining: 23.5s\n",
      "89:\tlearn: 0.9091751\ttotal: 13.2s\tremaining: 23.4s\n",
      "90:\tlearn: 0.9099740\ttotal: 13.4s\tremaining: 23.3s\n",
      "91:\tlearn: 0.9117286\ttotal: 13.6s\tremaining: 23.3s\n",
      "92:\tlearn: 0.9129325\ttotal: 13.8s\tremaining: 23.2s\n",
      "93:\tlearn: 0.9137572\ttotal: 13.9s\tremaining: 23.1s\n",
      "94:\tlearn: 0.9141175\ttotal: 14.1s\tremaining: 23s\n",
      "95:\tlearn: 0.9153553\ttotal: 14.3s\tremaining: 22.9s\n",
      "96:\tlearn: 0.9154385\ttotal: 14.4s\tremaining: 22.7s\n",
      "97:\tlearn: 0.9172834\ttotal: 14.6s\tremaining: 22.6s\n",
      "98:\tlearn: 0.9178369\ttotal: 14.8s\tremaining: 22.5s\n",
      "99:\tlearn: 0.9187607\ttotal: 15s\tremaining: 22.5s\n",
      "100:\tlearn: 0.9191783\ttotal: 15.2s\tremaining: 22.4s\n",
      "101:\tlearn: 0.9194697\ttotal: 15.4s\tremaining: 22.3s\n",
      "102:\tlearn: 0.9198939\ttotal: 15.6s\tremaining: 22.3s\n",
      "103:\tlearn: 0.9203817\ttotal: 15.8s\tremaining: 22.2s\n",
      "104:\tlearn: 0.9208767\ttotal: 16.1s\tremaining: 22.2s\n",
      "105:\tlearn: 0.9207639\ttotal: 16.1s\tremaining: 21.9s\n",
      "106:\tlearn: 0.9213762\ttotal: 16.3s\tremaining: 21.8s\n",
      "107:\tlearn: 0.9214142\ttotal: 16.4s\tremaining: 21.6s\n",
      "108:\tlearn: 0.9216534\ttotal: 16.7s\tremaining: 21.5s\n",
      "109:\tlearn: 0.9217517\ttotal: 16.9s\tremaining: 21.5s\n",
      "110:\tlearn: 0.9223017\ttotal: 17.1s\tremaining: 21.5s\n",
      "111:\tlearn: 0.9225355\ttotal: 17.4s\tremaining: 21.4s\n",
      "112:\tlearn: 0.9229661\ttotal: 17.7s\tremaining: 21.4s\n",
      "113:\tlearn: 0.9233476\ttotal: 17.9s\tremaining: 21.3s\n",
      "114:\tlearn: 0.9242585\ttotal: 18.1s\tremaining: 21.3s\n",
      "115:\tlearn: 0.9249760\ttotal: 18.4s\tremaining: 21.2s\n",
      "116:\tlearn: 0.9259379\ttotal: 18.8s\tremaining: 21.3s\n",
      "117:\tlearn: 0.9263594\ttotal: 19s\tremaining: 21.3s\n",
      "118:\tlearn: 0.9268898\ttotal: 19.3s\tremaining: 21.3s\n",
      "119:\tlearn: 0.9268222\ttotal: 19.4s\tremaining: 21.1s\n",
      "120:\tlearn: 0.9271605\ttotal: 19.7s\tremaining: 21s\n",
      "121:\tlearn: 0.9272640\ttotal: 20s\tremaining: 20.9s\n",
      "122:\tlearn: 0.9277902\ttotal: 20.2s\tremaining: 20.9s\n",
      "123:\tlearn: 0.9279948\ttotal: 20.3s\tremaining: 20.6s\n",
      "124:\tlearn: 0.9280713\ttotal: 20.4s\tremaining: 20.4s\n",
      "125:\tlearn: 0.9279946\ttotal: 20.4s\tremaining: 20.1s\n",
      "126:\tlearn: 0.9282253\ttotal: 20.6s\tremaining: 20s\n",
      "127:\tlearn: 0.9285506\ttotal: 20.9s\tremaining: 19.9s\n",
      "128:\tlearn: 0.9288960\ttotal: 21.1s\tremaining: 19.7s\n",
      "129:\tlearn: 0.9291474\ttotal: 21.4s\tremaining: 19.8s\n",
      "130:\tlearn: 0.9294998\ttotal: 21.7s\tremaining: 19.7s\n",
      "131:\tlearn: 0.9299134\ttotal: 22s\tremaining: 19.7s\n",
      "132:\tlearn: 0.9303506\ttotal: 22.2s\tremaining: 19.6s\n",
      "133:\tlearn: 0.9303360\ttotal: 22.3s\tremaining: 19.3s\n",
      "134:\tlearn: 0.9305404\ttotal: 22.6s\tremaining: 19.2s\n",
      "135:\tlearn: 0.9309912\ttotal: 22.8s\tremaining: 19.1s\n",
      "136:\tlearn: 0.9310582\ttotal: 22.9s\tremaining: 18.9s\n",
      "137:\tlearn: 0.9316072\ttotal: 23.1s\tremaining: 18.8s\n",
      "138:\tlearn: 0.9319409\ttotal: 23.3s\tremaining: 18.6s\n",
      "139:\tlearn: 0.9322804\ttotal: 23.5s\tremaining: 18.5s\n",
      "140:\tlearn: 0.9325839\ttotal: 23.7s\tremaining: 18.3s\n",
      "141:\tlearn: 0.9333946\ttotal: 23.9s\tremaining: 18.2s\n",
      "142:\tlearn: 0.9335627\ttotal: 24s\tremaining: 18s\n",
      "143:\tlearn: 0.9338215\ttotal: 24.3s\tremaining: 17.9s\n",
      "144:\tlearn: 0.9342146\ttotal: 24.4s\tremaining: 17.7s\n",
      "145:\tlearn: 0.9342571\ttotal: 24.5s\tremaining: 17.5s\n",
      "146:\tlearn: 0.9345638\ttotal: 24.7s\tremaining: 17.3s\n",
      "147:\tlearn: 0.9345599\ttotal: 24.8s\tremaining: 17.1s\n",
      "148:\tlearn: 0.9346341\ttotal: 24.9s\tremaining: 16.9s\n",
      "149:\tlearn: 0.9346893\ttotal: 25.1s\tremaining: 16.7s\n",
      "150:\tlearn: 0.9355330\ttotal: 25.3s\tremaining: 16.6s\n",
      "151:\tlearn: 0.9357883\ttotal: 25.5s\tremaining: 16.5s\n",
      "152:\tlearn: 0.9365870\ttotal: 25.7s\tremaining: 16.3s\n",
      "153:\tlearn: 0.9368673\ttotal: 25.9s\tremaining: 16.2s\n",
      "154:\tlearn: 0.9370958\ttotal: 26s\tremaining: 15.9s\n",
      "155:\tlearn: 0.9376069\ttotal: 26.2s\tremaining: 15.8s\n",
      "156:\tlearn: 0.9377412\ttotal: 26.4s\tremaining: 15.6s\n",
      "157:\tlearn: 0.9380820\ttotal: 26.6s\tremaining: 15.5s\n",
      "158:\tlearn: 0.9384277\ttotal: 26.8s\tremaining: 15.4s\n",
      "159:\tlearn: 0.9387100\ttotal: 27.1s\tremaining: 15.2s\n",
      "160:\tlearn: 0.9391828\ttotal: 27.2s\tremaining: 15s\n"
     ]
    },
    {
     "name": "stdout",
     "output_type": "stream",
     "text": [
      "161:\tlearn: 0.9399571\ttotal: 27.4s\tremaining: 14.9s\n",
      "162:\tlearn: 0.9400965\ttotal: 27.6s\tremaining: 14.7s\n",
      "163:\tlearn: 0.9402343\ttotal: 27.8s\tremaining: 14.6s\n",
      "164:\tlearn: 0.9404941\ttotal: 28s\tremaining: 14.4s\n",
      "165:\tlearn: 0.9407121\ttotal: 28.2s\tremaining: 14.3s\n",
      "166:\tlearn: 0.9407587\ttotal: 28.4s\tremaining: 14.1s\n",
      "167:\tlearn: 0.9409212\ttotal: 28.6s\tremaining: 13.9s\n",
      "168:\tlearn: 0.9412115\ttotal: 28.8s\tremaining: 13.8s\n",
      "169:\tlearn: 0.9415992\ttotal: 29s\tremaining: 13.7s\n",
      "170:\tlearn: 0.9419304\ttotal: 29.2s\tremaining: 13.5s\n",
      "171:\tlearn: 0.9419789\ttotal: 29.3s\tremaining: 13.3s\n",
      "172:\tlearn: 0.9422483\ttotal: 29.5s\tremaining: 13.1s\n",
      "173:\tlearn: 0.9424799\ttotal: 29.7s\tremaining: 13s\n",
      "174:\tlearn: 0.9427095\ttotal: 29.9s\tremaining: 12.8s\n",
      "175:\tlearn: 0.9427290\ttotal: 30s\tremaining: 12.6s\n",
      "176:\tlearn: 0.9428976\ttotal: 30.2s\tremaining: 12.4s\n",
      "177:\tlearn: 0.9434671\ttotal: 30.4s\tremaining: 12.3s\n",
      "178:\tlearn: 0.9438010\ttotal: 30.6s\tremaining: 12.1s\n",
      "179:\tlearn: 0.9440258\ttotal: 30.8s\tremaining: 12s\n",
      "180:\tlearn: 0.9443694\ttotal: 31s\tremaining: 11.8s\n",
      "181:\tlearn: 0.9447276\ttotal: 31.2s\tremaining: 11.7s\n",
      "182:\tlearn: 0.9453748\ttotal: 31.4s\tremaining: 11.5s\n",
      "183:\tlearn: 0.9456934\ttotal: 31.6s\tremaining: 11.3s\n",
      "184:\tlearn: 0.9458642\ttotal: 31.8s\tremaining: 11.2s\n",
      "185:\tlearn: 0.9462305\ttotal: 32s\tremaining: 11s\n",
      "186:\tlearn: 0.9463881\ttotal: 32.1s\tremaining: 10.8s\n",
      "187:\tlearn: 0.9468066\ttotal: 32.3s\tremaining: 10.7s\n",
      "188:\tlearn: 0.9469140\ttotal: 32.5s\tremaining: 10.5s\n",
      "189:\tlearn: 0.9471212\ttotal: 32.7s\tremaining: 10.3s\n",
      "190:\tlearn: 0.9474889\ttotal: 33s\tremaining: 10.2s\n",
      "191:\tlearn: 0.9475991\ttotal: 33.1s\tremaining: 10s\n",
      "192:\tlearn: 0.9479072\ttotal: 33.3s\tremaining: 9.85s\n",
      "193:\tlearn: 0.9486293\ttotal: 33.5s\tremaining: 9.68s\n",
      "194:\tlearn: 0.9488218\ttotal: 33.8s\tremaining: 9.53s\n",
      "195:\tlearn: 0.9492731\ttotal: 34s\tremaining: 9.37s\n",
      "196:\tlearn: 0.9497618\ttotal: 34.2s\tremaining: 9.2s\n",
      "197:\tlearn: 0.9500910\ttotal: 34.4s\tremaining: 9.04s\n",
      "198:\tlearn: 0.9503200\ttotal: 34.6s\tremaining: 8.87s\n",
      "199:\tlearn: 0.9504162\ttotal: 34.9s\tremaining: 8.71s\n",
      "200:\tlearn: 0.9508694\ttotal: 35.1s\tremaining: 8.55s\n",
      "201:\tlearn: 0.9510692\ttotal: 35.3s\tremaining: 8.38s\n",
      "202:\tlearn: 0.9512898\ttotal: 35.4s\tremaining: 8.21s\n",
      "203:\tlearn: 0.9515406\ttotal: 35.7s\tremaining: 8.04s\n",
      "204:\tlearn: 0.9517277\ttotal: 35.9s\tremaining: 7.87s\n",
      "205:\tlearn: 0.9520968\ttotal: 36.1s\tremaining: 7.7s\n",
      "206:\tlearn: 0.9523591\ttotal: 36.2s\tremaining: 7.53s\n",
      "207:\tlearn: 0.9525493\ttotal: 36.4s\tremaining: 7.36s\n",
      "208:\tlearn: 0.9528652\ttotal: 36.6s\tremaining: 7.19s\n",
      "209:\tlearn: 0.9535992\ttotal: 36.9s\tremaining: 7.02s\n",
      "210:\tlearn: 0.9540145\ttotal: 37.1s\tremaining: 6.85s\n",
      "211:\tlearn: 0.9542907\ttotal: 37.3s\tremaining: 6.68s\n",
      "212:\tlearn: 0.9544700\ttotal: 37.4s\tremaining: 6.5s\n",
      "213:\tlearn: 0.9547230\ttotal: 37.7s\tremaining: 6.33s\n",
      "214:\tlearn: 0.9551982\ttotal: 37.9s\tremaining: 6.16s\n",
      "215:\tlearn: 0.9553794\ttotal: 38.1s\tremaining: 5.99s\n",
      "216:\tlearn: 0.9556383\ttotal: 38.3s\tremaining: 5.82s\n",
      "217:\tlearn: 0.9556710\ttotal: 38.3s\tremaining: 5.63s\n",
      "218:\tlearn: 0.9558190\ttotal: 38.5s\tremaining: 5.45s\n",
      "219:\tlearn: 0.9561051\ttotal: 38.7s\tremaining: 5.28s\n",
      "220:\tlearn: 0.9563679\ttotal: 38.9s\tremaining: 5.11s\n",
      "221:\tlearn: 0.9567533\ttotal: 39.1s\tremaining: 4.94s\n",
      "222:\tlearn: 0.9568193\ttotal: 39.3s\tremaining: 4.76s\n",
      "223:\tlearn: 0.9569608\ttotal: 39.5s\tremaining: 4.59s\n",
      "224:\tlearn: 0.9571498\ttotal: 39.8s\tremaining: 4.42s\n",
      "225:\tlearn: 0.9573195\ttotal: 40s\tremaining: 4.24s\n",
      "226:\tlearn: 0.9576507\ttotal: 40.2s\tremaining: 4.07s\n",
      "227:\tlearn: 0.9580626\ttotal: 40.4s\tremaining: 3.89s\n",
      "228:\tlearn: 0.9582432\ttotal: 40.6s\tremaining: 3.72s\n",
      "229:\tlearn: 0.9586193\ttotal: 40.8s\tremaining: 3.55s\n",
      "230:\tlearn: 0.9588312\ttotal: 41s\tremaining: 3.37s\n",
      "231:\tlearn: 0.9590229\ttotal: 41.2s\tremaining: 3.2s\n",
      "232:\tlearn: 0.9590788\ttotal: 41.4s\tremaining: 3.02s\n",
      "233:\tlearn: 0.9593065\ttotal: 41.6s\tremaining: 2.85s\n",
      "234:\tlearn: 0.9594209\ttotal: 41.8s\tremaining: 2.67s\n",
      "235:\tlearn: 0.9595245\ttotal: 42s\tremaining: 2.49s\n",
      "236:\tlearn: 0.9598364\ttotal: 42.2s\tremaining: 2.32s\n",
      "237:\tlearn: 0.9599891\ttotal: 42.5s\tremaining: 2.14s\n",
      "238:\tlearn: 0.9604524\ttotal: 42.7s\tremaining: 1.97s\n",
      "239:\tlearn: 0.9605850\ttotal: 42.9s\tremaining: 1.79s\n",
      "240:\tlearn: 0.9607652\ttotal: 43.1s\tremaining: 1.61s\n",
      "241:\tlearn: 0.9610136\ttotal: 43.3s\tremaining: 1.43s\n",
      "242:\tlearn: 0.9612682\ttotal: 43.5s\tremaining: 1.25s\n",
      "243:\tlearn: 0.9614473\ttotal: 43.7s\tremaining: 1.07s\n",
      "244:\tlearn: 0.9619081\ttotal: 43.9s\tremaining: 896ms\n",
      "245:\tlearn: 0.9622669\ttotal: 44.1s\tremaining: 717ms\n",
      "246:\tlearn: 0.9624079\ttotal: 44.3s\tremaining: 538ms\n",
      "247:\tlearn: 0.9625840\ttotal: 44.5s\tremaining: 359ms\n",
      "248:\tlearn: 0.9628634\ttotal: 44.7s\tremaining: 180ms\n",
      "249:\tlearn: 0.9631770\ttotal: 44.9s\tremaining: 0us\n"
     ]
    },
    {
     "data": {
      "text/plain": [
       "<catboost.core.CatBoostClassifier at 0x1c22c30eb8>"
      ]
     },
     "execution_count": 52,
     "metadata": {},
     "output_type": "execute_result"
    }
   ],
   "source": [
    "#With Categorical features\n",
    "clf3 = CatBoostClassifier(eval_metric=\"AUC\",one_hot_max_size=10, \\\n",
    "                            depth=10, iterations= 250, l2_leaf_reg= 5, learning_rate= 0.05)\n",
    "clf3.fit(x_trn,y_trn, cat_features= cat_features_index)"
   ]
  },
  {
   "cell_type": "code",
   "execution_count": 53,
   "metadata": {},
   "outputs": [
    {
     "data": {
      "text/plain": [
       "(0.9631769719257484, 0.8654639629457941)"
      ]
     },
     "execution_count": 53,
     "metadata": {},
     "output_type": "execute_result"
    }
   ],
   "source": [
    "auc(clf3, x_trn, x_val)"
   ]
  },
  {
   "cell_type": "markdown",
   "metadata": {},
   "source": [
    "Ok. It is decreasing if we increase trees more. "
   ]
  },
  {
   "cell_type": "markdown",
   "metadata": {},
   "source": [
    "### 4 L2_Leaf"
   ]
  },
  {
   "cell_type": "code",
   "execution_count": 54,
   "metadata": {
    "scrolled": true
   },
   "outputs": [
    {
     "name": "stdout",
     "output_type": "stream",
     "text": [
      "0:\tlearn: 0.5927187\ttotal: 59.7ms\tremaining: 8.9s\n",
      "1:\tlearn: 0.7549602\ttotal: 126ms\tremaining: 9.29s\n",
      "2:\tlearn: 0.7610319\ttotal: 162ms\tremaining: 7.93s\n",
      "3:\tlearn: 0.7673652\ttotal: 224ms\tremaining: 8.18s\n",
      "4:\tlearn: 0.7676992\ttotal: 260ms\tremaining: 7.53s\n",
      "5:\tlearn: 0.7677435\ttotal: 316ms\tremaining: 7.59s\n",
      "6:\tlearn: 0.7724094\ttotal: 367ms\tremaining: 7.49s\n",
      "7:\tlearn: 0.7768837\ttotal: 417ms\tremaining: 7.39s\n",
      "8:\tlearn: 0.7859180\ttotal: 638ms\tremaining: 10s\n",
      "9:\tlearn: 0.7892351\ttotal: 717ms\tremaining: 10s\n",
      "10:\tlearn: 0.8028396\ttotal: 827ms\tremaining: 10.5s\n",
      "11:\tlearn: 0.8029993\ttotal: 930ms\tremaining: 10.7s\n",
      "12:\tlearn: 0.8115399\ttotal: 1.09s\tremaining: 11.5s\n",
      "13:\tlearn: 0.8123534\ttotal: 1.14s\tremaining: 11.1s\n",
      "14:\tlearn: 0.8217077\ttotal: 1.2s\tremaining: 10.8s\n",
      "15:\tlearn: 0.8208418\ttotal: 1.24s\tremaining: 10.4s\n",
      "16:\tlearn: 0.8231140\ttotal: 1.3s\tremaining: 10.2s\n",
      "17:\tlearn: 0.8369585\ttotal: 1.4s\tremaining: 10.3s\n",
      "18:\tlearn: 0.8415257\ttotal: 1.49s\tremaining: 10.3s\n",
      "19:\tlearn: 0.8414684\ttotal: 1.54s\tremaining: 10s\n",
      "20:\tlearn: 0.8452679\ttotal: 1.62s\tremaining: 9.96s\n",
      "21:\tlearn: 0.8468404\ttotal: 1.72s\tremaining: 9.99s\n",
      "22:\tlearn: 0.8480896\ttotal: 1.91s\tremaining: 10.5s\n",
      "23:\tlearn: 0.8480203\ttotal: 1.98s\tremaining: 10.4s\n",
      "24:\tlearn: 0.8479593\ttotal: 2.06s\tremaining: 10.3s\n",
      "25:\tlearn: 0.8496999\ttotal: 2.22s\tremaining: 10.6s\n",
      "26:\tlearn: 0.8485569\ttotal: 2.27s\tremaining: 10.3s\n",
      "27:\tlearn: 0.8497236\ttotal: 2.52s\tremaining: 11s\n",
      "28:\tlearn: 0.8505070\ttotal: 2.59s\tremaining: 10.8s\n",
      "29:\tlearn: 0.8521434\ttotal: 2.65s\tremaining: 10.6s\n",
      "30:\tlearn: 0.8523286\ttotal: 2.69s\tremaining: 10.3s\n",
      "31:\tlearn: 0.8534135\ttotal: 2.94s\tremaining: 10.8s\n",
      "32:\tlearn: 0.8537850\ttotal: 2.97s\tremaining: 10.5s\n",
      "33:\tlearn: 0.8539960\ttotal: 3.03s\tremaining: 10.3s\n",
      "34:\tlearn: 0.8587194\ttotal: 3.19s\tremaining: 10.5s\n",
      "35:\tlearn: 0.8611029\ttotal: 3.23s\tremaining: 10.2s\n",
      "36:\tlearn: 0.8617595\ttotal: 3.39s\tremaining: 10.3s\n",
      "37:\tlearn: 0.8623210\ttotal: 3.44s\tremaining: 10.1s\n",
      "38:\tlearn: 0.8648630\ttotal: 3.63s\tremaining: 10.3s\n",
      "39:\tlearn: 0.8651708\ttotal: 3.69s\tremaining: 10.2s\n",
      "40:\tlearn: 0.8656745\ttotal: 3.86s\tremaining: 10.3s\n",
      "41:\tlearn: 0.8682804\ttotal: 4.09s\tremaining: 10.5s\n",
      "42:\tlearn: 0.8711375\ttotal: 4.25s\tremaining: 10.6s\n",
      "43:\tlearn: 0.8712513\ttotal: 4.32s\tremaining: 10.4s\n",
      "44:\tlearn: 0.8728829\ttotal: 4.51s\tremaining: 10.5s\n",
      "45:\tlearn: 0.8727825\ttotal: 4.56s\tremaining: 10.3s\n",
      "46:\tlearn: 0.8741082\ttotal: 4.74s\tremaining: 10.4s\n",
      "47:\tlearn: 0.8748815\ttotal: 4.81s\tremaining: 10.2s\n",
      "48:\tlearn: 0.8752808\ttotal: 4.96s\tremaining: 10.2s\n",
      "49:\tlearn: 0.8775859\ttotal: 5.12s\tremaining: 10.2s\n",
      "50:\tlearn: 0.8775997\ttotal: 5.16s\tremaining: 10s\n",
      "51:\tlearn: 0.8786727\ttotal: 5.32s\tremaining: 10s\n",
      "52:\tlearn: 0.8793889\ttotal: 5.49s\tremaining: 10s\n",
      "53:\tlearn: 0.8801669\ttotal: 5.62s\tremaining: 9.98s\n",
      "54:\tlearn: 0.8824146\ttotal: 5.78s\tremaining: 9.98s\n",
      "55:\tlearn: 0.8830473\ttotal: 6s\tremaining: 10.1s\n",
      "56:\tlearn: 0.8846670\ttotal: 6.19s\tremaining: 10.1s\n",
      "57:\tlearn: 0.8844934\ttotal: 6.23s\tremaining: 9.88s\n",
      "58:\tlearn: 0.8862402\ttotal: 6.39s\tremaining: 9.86s\n",
      "59:\tlearn: 0.8888077\ttotal: 6.58s\tremaining: 9.87s\n",
      "60:\tlearn: 0.8891266\ttotal: 6.79s\tremaining: 9.91s\n",
      "61:\tlearn: 0.8906265\ttotal: 6.96s\tremaining: 9.88s\n",
      "62:\tlearn: 0.8915685\ttotal: 7.14s\tremaining: 9.86s\n",
      "63:\tlearn: 0.8930289\ttotal: 7.31s\tremaining: 9.82s\n",
      "64:\tlearn: 0.8932650\ttotal: 7.45s\tremaining: 9.74s\n",
      "65:\tlearn: 0.8935572\ttotal: 7.53s\tremaining: 9.58s\n",
      "66:\tlearn: 0.8937814\ttotal: 7.7s\tremaining: 9.54s\n",
      "67:\tlearn: 0.8936663\ttotal: 7.75s\tremaining: 9.35s\n",
      "68:\tlearn: 0.8944330\ttotal: 7.84s\tremaining: 9.2s\n",
      "69:\tlearn: 0.8954335\ttotal: 8s\tremaining: 9.15s\n",
      "70:\tlearn: 0.8964336\ttotal: 8.27s\tremaining: 9.2s\n",
      "71:\tlearn: 0.8968244\ttotal: 8.48s\tremaining: 9.19s\n",
      "72:\tlearn: 0.8974669\ttotal: 8.64s\tremaining: 9.11s\n",
      "73:\tlearn: 0.8977731\ttotal: 8.94s\tremaining: 9.18s\n",
      "74:\tlearn: 0.8989301\ttotal: 9.23s\tremaining: 9.23s\n",
      "75:\tlearn: 0.8992341\ttotal: 9.44s\tremaining: 9.19s\n",
      "76:\tlearn: 0.8996926\ttotal: 9.62s\tremaining: 9.12s\n",
      "77:\tlearn: 0.9008942\ttotal: 9.78s\tremaining: 9.02s\n",
      "78:\tlearn: 0.9008540\ttotal: 9.83s\tremaining: 8.84s\n",
      "79:\tlearn: 0.9029924\ttotal: 10s\tremaining: 8.78s\n",
      "80:\tlearn: 0.9032273\ttotal: 10.2s\tremaining: 8.7s\n",
      "81:\tlearn: 0.9039953\ttotal: 10.3s\tremaining: 8.56s\n",
      "82:\tlearn: 0.9046389\ttotal: 10.5s\tremaining: 8.46s\n",
      "83:\tlearn: 0.9058594\ttotal: 10.6s\tremaining: 8.36s\n",
      "84:\tlearn: 0.9061032\ttotal: 10.8s\tremaining: 8.25s\n",
      "85:\tlearn: 0.9073805\ttotal: 10.9s\tremaining: 8.14s\n",
      "86:\tlearn: 0.9076526\ttotal: 11s\tremaining: 7.99s\n",
      "87:\tlearn: 0.9075656\ttotal: 11.1s\tremaining: 7.8s\n",
      "88:\tlearn: 0.9075866\ttotal: 11.1s\tremaining: 7.61s\n",
      "89:\tlearn: 0.9082972\ttotal: 11.3s\tremaining: 7.5s\n",
      "90:\tlearn: 0.9087659\ttotal: 11.4s\tremaining: 7.36s\n",
      "91:\tlearn: 0.9092728\ttotal: 11.5s\tremaining: 7.25s\n",
      "92:\tlearn: 0.9094447\ttotal: 11.6s\tremaining: 7.08s\n",
      "93:\tlearn: 0.9098047\ttotal: 11.7s\tremaining: 6.97s\n",
      "94:\tlearn: 0.9106018\ttotal: 11.9s\tremaining: 6.86s\n",
      "95:\tlearn: 0.9115662\ttotal: 12s\tremaining: 6.75s\n",
      "96:\tlearn: 0.9121871\ttotal: 12.2s\tremaining: 6.64s\n",
      "97:\tlearn: 0.9125643\ttotal: 12.3s\tremaining: 6.53s\n",
      "98:\tlearn: 0.9129696\ttotal: 12.5s\tremaining: 6.42s\n",
      "99:\tlearn: 0.9135299\ttotal: 12.6s\tremaining: 6.31s\n",
      "100:\tlearn: 0.9138161\ttotal: 12.7s\tremaining: 6.14s\n",
      "101:\tlearn: 0.9143184\ttotal: 12.8s\tremaining: 6.03s\n",
      "102:\tlearn: 0.9149124\ttotal: 13s\tremaining: 5.91s\n",
      "103:\tlearn: 0.9151985\ttotal: 13.1s\tremaining: 5.79s\n",
      "104:\tlearn: 0.9159045\ttotal: 13.2s\tremaining: 5.68s\n",
      "105:\tlearn: 0.9164884\ttotal: 13.4s\tremaining: 5.54s\n",
      "106:\tlearn: 0.9173061\ttotal: 13.5s\tremaining: 5.44s\n",
      "107:\tlearn: 0.9172633\ttotal: 13.6s\tremaining: 5.28s\n",
      "108:\tlearn: 0.9174819\ttotal: 13.7s\tremaining: 5.16s\n",
      "109:\tlearn: 0.9178089\ttotal: 13.8s\tremaining: 5.02s\n",
      "110:\tlearn: 0.9181072\ttotal: 13.9s\tremaining: 4.89s\n",
      "111:\tlearn: 0.9183832\ttotal: 14s\tremaining: 4.74s\n",
      "112:\tlearn: 0.9184925\ttotal: 14s\tremaining: 4.59s\n",
      "113:\tlearn: 0.9185002\ttotal: 14.1s\tremaining: 4.44s\n",
      "114:\tlearn: 0.9193345\ttotal: 14.2s\tremaining: 4.32s\n",
      "115:\tlearn: 0.9193265\ttotal: 14.2s\tremaining: 4.17s\n",
      "116:\tlearn: 0.9192608\ttotal: 14.3s\tremaining: 4.03s\n",
      "117:\tlearn: 0.9192137\ttotal: 14.3s\tremaining: 3.88s\n",
      "118:\tlearn: 0.9195775\ttotal: 14.5s\tremaining: 3.77s\n",
      "119:\tlearn: 0.9198993\ttotal: 14.6s\tremaining: 3.65s\n",
      "120:\tlearn: 0.9209025\ttotal: 14.8s\tremaining: 3.54s\n",
      "121:\tlearn: 0.9210720\ttotal: 14.9s\tremaining: 3.42s\n",
      "122:\tlearn: 0.9214849\ttotal: 15.1s\tremaining: 3.31s\n",
      "123:\tlearn: 0.9217564\ttotal: 15.2s\tremaining: 3.19s\n",
      "124:\tlearn: 0.9218592\ttotal: 15.3s\tremaining: 3.05s\n",
      "125:\tlearn: 0.9221442\ttotal: 15.4s\tremaining: 2.93s\n",
      "126:\tlearn: 0.9224112\ttotal: 15.5s\tremaining: 2.81s\n",
      "127:\tlearn: 0.9229709\ttotal: 15.6s\tremaining: 2.69s\n",
      "128:\tlearn: 0.9230028\ttotal: 15.7s\tremaining: 2.55s\n",
      "129:\tlearn: 0.9235442\ttotal: 15.8s\tremaining: 2.44s\n",
      "130:\tlearn: 0.9239533\ttotal: 16s\tremaining: 2.32s\n",
      "131:\tlearn: 0.9253389\ttotal: 16.1s\tremaining: 2.2s\n",
      "132:\tlearn: 0.9254042\ttotal: 16.2s\tremaining: 2.07s\n",
      "133:\tlearn: 0.9254113\ttotal: 16.2s\tremaining: 1.94s\n",
      "134:\tlearn: 0.9254183\ttotal: 16.3s\tremaining: 1.81s\n",
      "135:\tlearn: 0.9259269\ttotal: 16.6s\tremaining: 1.7s\n",
      "136:\tlearn: 0.9263981\ttotal: 16.7s\tremaining: 1.59s\n",
      "137:\tlearn: 0.9269135\ttotal: 16.9s\tremaining: 1.47s\n",
      "138:\tlearn: 0.9276175\ttotal: 17s\tremaining: 1.35s\n",
      "139:\tlearn: 0.9279300\ttotal: 17.2s\tremaining: 1.23s\n",
      "140:\tlearn: 0.9286362\ttotal: 17.5s\tremaining: 1.12s\n",
      "141:\tlearn: 0.9288712\ttotal: 17.6s\tremaining: 994ms\n",
      "142:\tlearn: 0.9292585\ttotal: 17.8s\tremaining: 871ms\n",
      "143:\tlearn: 0.9293800\ttotal: 17.9s\tremaining: 748ms\n",
      "144:\tlearn: 0.9294789\ttotal: 18s\tremaining: 621ms\n",
      "145:\tlearn: 0.9297471\ttotal: 18.3s\tremaining: 501ms\n",
      "146:\tlearn: 0.9301203\ttotal: 18.6s\tremaining: 379ms\n",
      "147:\tlearn: 0.9302000\ttotal: 18.7s\tremaining: 253ms\n",
      "148:\tlearn: 0.9308657\ttotal: 18.9s\tremaining: 127ms\n",
      "149:\tlearn: 0.9312889\ttotal: 19.1s\tremaining: 0us\n"
     ]
    },
    {
     "data": {
      "text/plain": [
       "<catboost.core.CatBoostClassifier at 0x1c22c30748>"
      ]
     },
     "execution_count": 54,
     "metadata": {},
     "output_type": "execute_result"
    }
   ],
   "source": [
    "clf4 = CatBoostClassifier(eval_metric=\"AUC\",one_hot_max_size=10, \\\n",
    "                            depth=10, iterations= 150, l2_leaf_reg= 7, learning_rate= 0.05)\n",
    "clf4.fit(x_trn,y_trn, cat_features= cat_features_index)"
   ]
  },
  {
   "cell_type": "code",
   "execution_count": 55,
   "metadata": {},
   "outputs": [
    {
     "data": {
      "text/plain": [
       "(0.9312888981888716, 0.877009880355371)"
      ]
     },
     "execution_count": 55,
     "metadata": {},
     "output_type": "execute_result"
    }
   ],
   "source": [
    "auc(clf4, x_trn, x_val)"
   ]
  },
  {
   "cell_type": "markdown",
   "metadata": {},
   "source": [
    "Increased with l2reg = 7"
   ]
  },
  {
   "cell_type": "markdown",
   "metadata": {},
   "source": [
    "### 5 Depth"
   ]
  },
  {
   "cell_type": "code",
   "execution_count": 56,
   "metadata": {
    "scrolled": true
   },
   "outputs": [
    {
     "name": "stdout",
     "output_type": "stream",
     "text": [
      "0:\tlearn: 0.6278429\ttotal: 81.9ms\tremaining: 12.2s\n",
      "1:\tlearn: 0.8141540\ttotal: 144ms\tremaining: 10.7s\n",
      "2:\tlearn: 0.8324737\ttotal: 185ms\tremaining: 9.04s\n",
      "3:\tlearn: 0.8331619\ttotal: 229ms\tremaining: 8.38s\n",
      "4:\tlearn: 0.8316595\ttotal: 271ms\tremaining: 7.87s\n",
      "5:\tlearn: 0.8311829\ttotal: 328ms\tremaining: 7.87s\n",
      "6:\tlearn: 0.8296119\ttotal: 387ms\tremaining: 7.9s\n",
      "7:\tlearn: 0.8311728\ttotal: 444ms\tremaining: 7.88s\n",
      "8:\tlearn: 0.8262168\ttotal: 493ms\tremaining: 7.71s\n",
      "9:\tlearn: 0.8262222\ttotal: 562ms\tremaining: 7.86s\n",
      "10:\tlearn: 0.8222453\ttotal: 617ms\tremaining: 7.79s\n",
      "11:\tlearn: 0.8222095\ttotal: 654ms\tremaining: 7.52s\n",
      "12:\tlearn: 0.8198739\ttotal: 695ms\tremaining: 7.32s\n",
      "13:\tlearn: 0.8316475\ttotal: 754ms\tremaining: 7.33s\n",
      "14:\tlearn: 0.8296611\ttotal: 823ms\tremaining: 7.41s\n",
      "15:\tlearn: 0.8328036\ttotal: 879ms\tremaining: 7.36s\n",
      "16:\tlearn: 0.8377211\ttotal: 923ms\tremaining: 7.22s\n",
      "17:\tlearn: 0.8406988\ttotal: 978ms\tremaining: 7.17s\n",
      "18:\tlearn: 0.8430057\ttotal: 1.02s\tremaining: 7.02s\n",
      "19:\tlearn: 0.8438768\ttotal: 1.11s\tremaining: 7.2s\n",
      "20:\tlearn: 0.8439202\ttotal: 1.16s\tremaining: 7.15s\n",
      "21:\tlearn: 0.8451564\ttotal: 1.2s\tremaining: 6.99s\n",
      "22:\tlearn: 0.8444705\ttotal: 1.25s\tremaining: 6.93s\n",
      "23:\tlearn: 0.8438501\ttotal: 1.29s\tremaining: 6.77s\n",
      "24:\tlearn: 0.8432281\ttotal: 1.32s\tremaining: 6.62s\n",
      "25:\tlearn: 0.8463075\ttotal: 1.39s\tremaining: 6.63s\n",
      "26:\tlearn: 0.8473808\ttotal: 1.44s\tremaining: 6.56s\n",
      "27:\tlearn: 0.8481939\ttotal: 1.48s\tremaining: 6.44s\n",
      "28:\tlearn: 0.8493325\ttotal: 1.56s\tremaining: 6.52s\n",
      "29:\tlearn: 0.8500003\ttotal: 1.6s\tremaining: 6.4s\n",
      "30:\tlearn: 0.8500000\ttotal: 1.64s\tremaining: 6.29s\n",
      "31:\tlearn: 0.8507228\ttotal: 1.69s\tremaining: 6.23s\n",
      "32:\tlearn: 0.8511591\ttotal: 1.82s\tremaining: 6.45s\n",
      "33:\tlearn: 0.8515430\ttotal: 1.92s\tremaining: 6.55s\n",
      "34:\tlearn: 0.8513766\ttotal: 1.99s\tremaining: 6.53s\n",
      "35:\tlearn: 0.8513674\ttotal: 2.03s\tremaining: 6.42s\n",
      "36:\tlearn: 0.8518629\ttotal: 2.11s\tremaining: 6.44s\n",
      "37:\tlearn: 0.8532780\ttotal: 2.17s\tremaining: 6.39s\n",
      "38:\tlearn: 0.8532934\ttotal: 2.21s\tremaining: 6.28s\n",
      "39:\tlearn: 0.8536237\ttotal: 2.26s\tremaining: 6.21s\n",
      "40:\tlearn: 0.8547436\ttotal: 2.31s\tremaining: 6.16s\n",
      "41:\tlearn: 0.8552436\ttotal: 2.37s\tremaining: 6.08s\n",
      "42:\tlearn: 0.8591863\ttotal: 2.42s\tremaining: 6.02s\n",
      "43:\tlearn: 0.8595347\ttotal: 2.47s\tremaining: 5.94s\n",
      "44:\tlearn: 0.8633250\ttotal: 2.55s\tremaining: 5.95s\n",
      "45:\tlearn: 0.8633199\ttotal: 2.6s\tremaining: 5.88s\n",
      "46:\tlearn: 0.8640758\ttotal: 2.69s\tremaining: 5.9s\n",
      "47:\tlearn: 0.8645496\ttotal: 2.77s\tremaining: 5.89s\n",
      "48:\tlearn: 0.8646739\ttotal: 2.82s\tremaining: 5.82s\n",
      "49:\tlearn: 0.8648176\ttotal: 2.9s\tremaining: 5.79s\n",
      "50:\tlearn: 0.8667946\ttotal: 2.96s\tremaining: 5.75s\n",
      "51:\tlearn: 0.8668552\ttotal: 3s\tremaining: 5.66s\n",
      "52:\tlearn: 0.8667433\ttotal: 3.04s\tremaining: 5.57s\n",
      "53:\tlearn: 0.8668873\ttotal: 3.08s\tremaining: 5.48s\n",
      "54:\tlearn: 0.8672185\ttotal: 3.16s\tremaining: 5.46s\n",
      "55:\tlearn: 0.8694798\ttotal: 3.23s\tremaining: 5.42s\n",
      "56:\tlearn: 0.8699829\ttotal: 3.29s\tremaining: 5.36s\n",
      "57:\tlearn: 0.8711490\ttotal: 3.34s\tremaining: 5.3s\n",
      "58:\tlearn: 0.8722720\ttotal: 3.42s\tremaining: 5.27s\n",
      "59:\tlearn: 0.8733590\ttotal: 3.47s\tremaining: 5.2s\n",
      "60:\tlearn: 0.8734374\ttotal: 3.51s\tremaining: 5.12s\n",
      "61:\tlearn: 0.8744088\ttotal: 3.56s\tremaining: 5.05s\n",
      "62:\tlearn: 0.8744744\ttotal: 3.59s\tremaining: 4.96s\n",
      "63:\tlearn: 0.8746419\ttotal: 3.63s\tremaining: 4.88s\n",
      "64:\tlearn: 0.8749082\ttotal: 3.69s\tremaining: 4.83s\n",
      "65:\tlearn: 0.8752575\ttotal: 3.77s\tremaining: 4.8s\n",
      "66:\tlearn: 0.8754038\ttotal: 3.83s\tremaining: 4.74s\n",
      "67:\tlearn: 0.8754974\ttotal: 3.9s\tremaining: 4.7s\n",
      "68:\tlearn: 0.8759473\ttotal: 4s\tremaining: 4.69s\n",
      "69:\tlearn: 0.8774321\ttotal: 4.05s\tremaining: 4.63s\n",
      "70:\tlearn: 0.8776699\ttotal: 4.1s\tremaining: 4.57s\n",
      "71:\tlearn: 0.8776376\ttotal: 4.23s\tremaining: 4.59s\n",
      "72:\tlearn: 0.8777914\ttotal: 4.34s\tremaining: 4.58s\n",
      "73:\tlearn: 0.8786953\ttotal: 4.4s\tremaining: 4.52s\n",
      "74:\tlearn: 0.8790114\ttotal: 4.45s\tremaining: 4.45s\n",
      "75:\tlearn: 0.8793386\ttotal: 4.5s\tremaining: 4.38s\n",
      "76:\tlearn: 0.8805345\ttotal: 4.57s\tremaining: 4.33s\n",
      "77:\tlearn: 0.8808560\ttotal: 4.63s\tremaining: 4.28s\n",
      "78:\tlearn: 0.8811048\ttotal: 4.69s\tremaining: 4.21s\n",
      "79:\tlearn: 0.8813110\ttotal: 4.74s\tremaining: 4.15s\n",
      "80:\tlearn: 0.8814683\ttotal: 4.8s\tremaining: 4.09s\n",
      "81:\tlearn: 0.8818215\ttotal: 4.92s\tremaining: 4.08s\n",
      "82:\tlearn: 0.8820440\ttotal: 5.06s\tremaining: 4.08s\n",
      "83:\tlearn: 0.8825035\ttotal: 5.16s\tremaining: 4.06s\n",
      "84:\tlearn: 0.8829031\ttotal: 5.22s\tremaining: 3.99s\n",
      "85:\tlearn: 0.8841461\ttotal: 5.28s\tremaining: 3.93s\n",
      "86:\tlearn: 0.8844849\ttotal: 5.34s\tremaining: 3.87s\n",
      "87:\tlearn: 0.8854042\ttotal: 5.4s\tremaining: 3.8s\n",
      "88:\tlearn: 0.8858636\ttotal: 5.45s\tremaining: 3.74s\n",
      "89:\tlearn: 0.8863546\ttotal: 5.53s\tremaining: 3.69s\n",
      "90:\tlearn: 0.8867171\ttotal: 5.58s\tremaining: 3.62s\n",
      "91:\tlearn: 0.8870150\ttotal: 5.63s\tremaining: 3.55s\n",
      "92:\tlearn: 0.8875991\ttotal: 5.69s\tremaining: 3.49s\n",
      "93:\tlearn: 0.8880243\ttotal: 5.81s\tremaining: 3.46s\n",
      "94:\tlearn: 0.8885325\ttotal: 5.86s\tremaining: 3.39s\n",
      "95:\tlearn: 0.8889823\ttotal: 5.91s\tremaining: 3.32s\n",
      "96:\tlearn: 0.8893110\ttotal: 5.96s\tremaining: 3.26s\n",
      "97:\tlearn: 0.8894296\ttotal: 6.01s\tremaining: 3.19s\n",
      "98:\tlearn: 0.8896395\ttotal: 6.09s\tremaining: 3.14s\n",
      "99:\tlearn: 0.8899339\ttotal: 6.14s\tremaining: 3.07s\n",
      "100:\tlearn: 0.8900403\ttotal: 6.2s\tremaining: 3.01s\n",
      "101:\tlearn: 0.8904824\ttotal: 6.28s\tremaining: 2.96s\n",
      "102:\tlearn: 0.8916143\ttotal: 6.34s\tremaining: 2.9s\n",
      "103:\tlearn: 0.8922780\ttotal: 6.45s\tremaining: 2.85s\n",
      "104:\tlearn: 0.8924312\ttotal: 6.58s\tremaining: 2.82s\n",
      "105:\tlearn: 0.8924254\ttotal: 6.63s\tremaining: 2.75s\n",
      "106:\tlearn: 0.8928804\ttotal: 6.73s\tremaining: 2.7s\n",
      "107:\tlearn: 0.8932073\ttotal: 6.78s\tremaining: 2.63s\n",
      "108:\tlearn: 0.8936638\ttotal: 6.84s\tremaining: 2.57s\n",
      "109:\tlearn: 0.8941294\ttotal: 6.89s\tremaining: 2.5s\n",
      "110:\tlearn: 0.8946276\ttotal: 6.94s\tremaining: 2.44s\n",
      "111:\tlearn: 0.8948356\ttotal: 6.99s\tremaining: 2.37s\n",
      "112:\tlearn: 0.8949556\ttotal: 7.03s\tremaining: 2.3s\n",
      "113:\tlearn: 0.8951406\ttotal: 7.11s\tremaining: 2.25s\n",
      "114:\tlearn: 0.8953792\ttotal: 7.16s\tremaining: 2.18s\n",
      "115:\tlearn: 0.8958650\ttotal: 7.22s\tremaining: 2.12s\n",
      "116:\tlearn: 0.8959683\ttotal: 7.26s\tremaining: 2.05s\n",
      "117:\tlearn: 0.8961901\ttotal: 7.31s\tremaining: 1.98s\n",
      "118:\tlearn: 0.8965208\ttotal: 7.37s\tremaining: 1.92s\n",
      "119:\tlearn: 0.8969886\ttotal: 7.42s\tremaining: 1.85s\n",
      "120:\tlearn: 0.8975482\ttotal: 7.47s\tremaining: 1.79s\n",
      "121:\tlearn: 0.8978207\ttotal: 7.52s\tremaining: 1.73s\n",
      "122:\tlearn: 0.8981160\ttotal: 7.57s\tremaining: 1.66s\n",
      "123:\tlearn: 0.8982539\ttotal: 7.64s\tremaining: 1.6s\n",
      "124:\tlearn: 0.8984548\ttotal: 7.73s\tremaining: 1.54s\n",
      "125:\tlearn: 0.8986498\ttotal: 7.81s\tremaining: 1.49s\n",
      "126:\tlearn: 0.8988709\ttotal: 7.87s\tremaining: 1.43s\n",
      "127:\tlearn: 0.8989221\ttotal: 7.92s\tremaining: 1.36s\n",
      "128:\tlearn: 0.8990420\ttotal: 7.97s\tremaining: 1.3s\n",
      "129:\tlearn: 0.8991401\ttotal: 8.01s\tremaining: 1.23s\n",
      "130:\tlearn: 0.8992023\ttotal: 8.06s\tremaining: 1.17s\n",
      "131:\tlearn: 0.8995420\ttotal: 8.13s\tremaining: 1.11s\n",
      "132:\tlearn: 0.8999105\ttotal: 8.18s\tremaining: 1.05s\n",
      "133:\tlearn: 0.9000433\ttotal: 8.24s\tremaining: 984ms\n",
      "134:\tlearn: 0.9004035\ttotal: 8.29s\tremaining: 921ms\n",
      "135:\tlearn: 0.9010713\ttotal: 8.36s\tremaining: 860ms\n",
      "136:\tlearn: 0.9013642\ttotal: 8.4s\tremaining: 798ms\n",
      "137:\tlearn: 0.9014884\ttotal: 8.46s\tremaining: 735ms\n",
      "138:\tlearn: 0.9019080\ttotal: 8.5s\tremaining: 673ms\n",
      "139:\tlearn: 0.9019684\ttotal: 8.55s\tremaining: 611ms\n",
      "140:\tlearn: 0.9020978\ttotal: 8.62s\tremaining: 550ms\n",
      "141:\tlearn: 0.9021548\ttotal: 8.69s\tremaining: 489ms\n",
      "142:\tlearn: 0.9026670\ttotal: 8.78s\tremaining: 430ms\n",
      "143:\tlearn: 0.9028797\ttotal: 8.83s\tremaining: 368ms\n",
      "144:\tlearn: 0.9033506\ttotal: 8.89s\tremaining: 306ms\n",
      "145:\tlearn: 0.9036684\ttotal: 8.94s\tremaining: 245ms\n",
      "146:\tlearn: 0.9036539\ttotal: 8.98s\tremaining: 183ms\n",
      "147:\tlearn: 0.9037839\ttotal: 9.03s\tremaining: 122ms\n",
      "148:\tlearn: 0.9039271\ttotal: 9.09s\tremaining: 61ms\n",
      "149:\tlearn: 0.9040739\ttotal: 9.14s\tremaining: 0us\n"
     ]
    },
    {
     "data": {
      "text/plain": [
       "<catboost.core.CatBoostClassifier at 0x1c22c30908>"
      ]
     },
     "execution_count": 56,
     "metadata": {},
     "output_type": "execute_result"
    }
   ],
   "source": [
    "clf5 = CatBoostClassifier(eval_metric=\"AUC\",one_hot_max_size=10, \\\n",
    "                            depth=7, iterations= 150, l2_leaf_reg= 7, learning_rate= 0.05)\n",
    "clf5.fit(x_trn,y_trn, cat_features= cat_features_index)"
   ]
  },
  {
   "cell_type": "code",
   "execution_count": 57,
   "metadata": {},
   "outputs": [
    {
     "data": {
      "text/plain": [
       "(0.9040739236343385, 0.877721503469043)"
      ]
     },
     "execution_count": 57,
     "metadata": {},
     "output_type": "execute_result"
    }
   ],
   "source": [
    "auc(clf5, x_trn, x_val)"
   ]
  },
  {
   "cell_type": "markdown",
   "metadata": {},
   "source": [
    "### 6. Select depth=5, ite=150, lr=0.05, leaf=7"
   ]
  },
  {
   "cell_type": "code",
   "execution_count": 68,
   "metadata": {
    "scrolled": true
   },
   "outputs": [
    {
     "name": "stdout",
     "output_type": "stream",
     "text": [
      "0:\tlearn: 0.5109509\ttotal: 56.4ms\tremaining: 8.41s\n",
      "1:\tlearn: 0.6781719\ttotal: 95.1ms\tremaining: 7.04s\n",
      "2:\tlearn: 0.7510306\ttotal: 132ms\tremaining: 6.48s\n",
      "3:\tlearn: 0.7496503\ttotal: 170ms\tremaining: 6.2s\n",
      "4:\tlearn: 0.7487177\ttotal: 198ms\tremaining: 5.73s\n",
      "5:\tlearn: 0.7434174\ttotal: 232ms\tremaining: 5.58s\n",
      "6:\tlearn: 0.7444393\ttotal: 264ms\tremaining: 5.4s\n",
      "7:\tlearn: 0.7880951\ttotal: 323ms\tremaining: 5.74s\n",
      "8:\tlearn: 0.7893203\ttotal: 360ms\tremaining: 5.64s\n",
      "9:\tlearn: 0.7930998\ttotal: 399ms\tremaining: 5.58s\n",
      "10:\tlearn: 0.8249472\ttotal: 435ms\tremaining: 5.5s\n",
      "11:\tlearn: 0.8254727\ttotal: 472ms\tremaining: 5.42s\n",
      "12:\tlearn: 0.8361597\ttotal: 551ms\tremaining: 5.8s\n",
      "13:\tlearn: 0.8353364\ttotal: 591ms\tremaining: 5.74s\n",
      "14:\tlearn: 0.8401869\ttotal: 629ms\tremaining: 5.66s\n",
      "15:\tlearn: 0.8371258\ttotal: 664ms\tremaining: 5.56s\n",
      "16:\tlearn: 0.8358342\ttotal: 732ms\tremaining: 5.72s\n",
      "17:\tlearn: 0.8347121\ttotal: 768ms\tremaining: 5.63s\n",
      "18:\tlearn: 0.8334275\ttotal: 798ms\tremaining: 5.5s\n",
      "19:\tlearn: 0.8328990\ttotal: 838ms\tremaining: 5.44s\n",
      "20:\tlearn: 0.8406722\ttotal: 876ms\tremaining: 5.38s\n",
      "21:\tlearn: 0.8425683\ttotal: 921ms\tremaining: 5.36s\n",
      "22:\tlearn: 0.8420495\ttotal: 1s\tremaining: 5.52s\n",
      "23:\tlearn: 0.8411228\ttotal: 1.04s\tremaining: 5.46s\n",
      "24:\tlearn: 0.8442031\ttotal: 1.08s\tremaining: 5.39s\n",
      "25:\tlearn: 0.8455611\ttotal: 1.14s\tremaining: 5.44s\n",
      "26:\tlearn: 0.8463544\ttotal: 1.18s\tremaining: 5.35s\n",
      "27:\tlearn: 0.8471656\ttotal: 1.24s\tremaining: 5.39s\n",
      "28:\tlearn: 0.8473225\ttotal: 1.28s\tremaining: 5.34s\n",
      "29:\tlearn: 0.8473004\ttotal: 1.32s\tremaining: 5.27s\n",
      "30:\tlearn: 0.8471524\ttotal: 1.35s\tremaining: 5.19s\n",
      "31:\tlearn: 0.8469829\ttotal: 1.39s\tremaining: 5.14s\n",
      "32:\tlearn: 0.8476402\ttotal: 1.48s\tremaining: 5.24s\n",
      "33:\tlearn: 0.8478681\ttotal: 1.55s\tremaining: 5.29s\n",
      "34:\tlearn: 0.8483311\ttotal: 1.59s\tremaining: 5.22s\n",
      "35:\tlearn: 0.8512297\ttotal: 1.63s\tremaining: 5.16s\n",
      "36:\tlearn: 0.8512265\ttotal: 1.66s\tremaining: 5.07s\n",
      "37:\tlearn: 0.8514078\ttotal: 1.71s\tremaining: 5.05s\n",
      "38:\tlearn: 0.8537963\ttotal: 1.75s\tremaining: 4.99s\n",
      "39:\tlearn: 0.8543032\ttotal: 1.79s\tremaining: 4.93s\n",
      "40:\tlearn: 0.8545714\ttotal: 1.83s\tremaining: 4.88s\n",
      "41:\tlearn: 0.8550977\ttotal: 1.87s\tremaining: 4.81s\n",
      "42:\tlearn: 0.8553482\ttotal: 1.92s\tremaining: 4.78s\n",
      "43:\tlearn: 0.8552327\ttotal: 1.97s\tremaining: 4.75s\n",
      "44:\tlearn: 0.8553150\ttotal: 2.01s\tremaining: 4.69s\n",
      "45:\tlearn: 0.8572624\ttotal: 2.06s\tremaining: 4.67s\n",
      "46:\tlearn: 0.8574536\ttotal: 2.13s\tremaining: 4.67s\n",
      "47:\tlearn: 0.8577475\ttotal: 2.21s\tremaining: 4.71s\n",
      "48:\tlearn: 0.8580286\ttotal: 2.27s\tremaining: 4.68s\n",
      "49:\tlearn: 0.8584641\ttotal: 2.34s\tremaining: 4.68s\n",
      "50:\tlearn: 0.8588355\ttotal: 2.39s\tremaining: 4.63s\n",
      "51:\tlearn: 0.8589979\ttotal: 2.42s\tremaining: 4.57s\n",
      "52:\tlearn: 0.8592850\ttotal: 2.46s\tremaining: 4.51s\n",
      "53:\tlearn: 0.8594023\ttotal: 2.5s\tremaining: 4.45s\n",
      "54:\tlearn: 0.8599058\ttotal: 2.54s\tremaining: 4.39s\n",
      "55:\tlearn: 0.8599230\ttotal: 2.6s\tremaining: 4.36s\n",
      "56:\tlearn: 0.8602619\ttotal: 2.63s\tremaining: 4.3s\n",
      "57:\tlearn: 0.8605715\ttotal: 2.67s\tremaining: 4.24s\n",
      "58:\tlearn: 0.8612218\ttotal: 2.71s\tremaining: 4.18s\n",
      "59:\tlearn: 0.8613415\ttotal: 2.75s\tremaining: 4.13s\n",
      "60:\tlearn: 0.8615347\ttotal: 2.79s\tremaining: 4.07s\n",
      "61:\tlearn: 0.8619542\ttotal: 2.85s\tremaining: 4.05s\n",
      "62:\tlearn: 0.8617808\ttotal: 2.89s\tremaining: 3.99s\n",
      "63:\tlearn: 0.8618419\ttotal: 2.93s\tremaining: 3.94s\n",
      "64:\tlearn: 0.8618699\ttotal: 2.97s\tremaining: 3.88s\n",
      "65:\tlearn: 0.8619826\ttotal: 3.01s\tremaining: 3.83s\n",
      "66:\tlearn: 0.8632754\ttotal: 3.04s\tremaining: 3.77s\n",
      "67:\tlearn: 0.8634257\ttotal: 3.1s\tremaining: 3.74s\n",
      "68:\tlearn: 0.8635320\ttotal: 3.15s\tremaining: 3.69s\n",
      "69:\tlearn: 0.8638713\ttotal: 3.18s\tremaining: 3.64s\n",
      "70:\tlearn: 0.8640646\ttotal: 3.22s\tremaining: 3.58s\n",
      "71:\tlearn: 0.8652988\ttotal: 3.25s\tremaining: 3.53s\n",
      "72:\tlearn: 0.8655290\ttotal: 3.29s\tremaining: 3.48s\n",
      "73:\tlearn: 0.8658856\ttotal: 3.36s\tremaining: 3.45s\n",
      "74:\tlearn: 0.8665599\ttotal: 3.4s\tremaining: 3.4s\n",
      "75:\tlearn: 0.8667715\ttotal: 3.44s\tremaining: 3.35s\n",
      "76:\tlearn: 0.8677235\ttotal: 3.47s\tremaining: 3.29s\n",
      "77:\tlearn: 0.8679690\ttotal: 3.51s\tremaining: 3.24s\n",
      "78:\tlearn: 0.8680429\ttotal: 3.56s\tremaining: 3.2s\n",
      "79:\tlearn: 0.8682453\ttotal: 3.62s\tremaining: 3.16s\n",
      "80:\tlearn: 0.8683775\ttotal: 3.65s\tremaining: 3.11s\n",
      "81:\tlearn: 0.8686633\ttotal: 3.69s\tremaining: 3.06s\n",
      "82:\tlearn: 0.8689051\ttotal: 3.73s\tremaining: 3.01s\n",
      "83:\tlearn: 0.8697429\ttotal: 3.77s\tremaining: 2.96s\n",
      "84:\tlearn: 0.8701259\ttotal: 3.8s\tremaining: 2.91s\n",
      "85:\tlearn: 0.8709652\ttotal: 3.87s\tremaining: 2.88s\n",
      "86:\tlearn: 0.8712854\ttotal: 3.92s\tremaining: 2.84s\n",
      "87:\tlearn: 0.8713212\ttotal: 3.95s\tremaining: 2.78s\n",
      "88:\tlearn: 0.8716432\ttotal: 3.99s\tremaining: 2.73s\n",
      "89:\tlearn: 0.8728108\ttotal: 4.04s\tremaining: 2.69s\n",
      "90:\tlearn: 0.8729788\ttotal: 4.09s\tremaining: 2.65s\n",
      "91:\tlearn: 0.8732630\ttotal: 4.14s\tremaining: 2.61s\n",
      "92:\tlearn: 0.8732861\ttotal: 4.19s\tremaining: 2.57s\n",
      "93:\tlearn: 0.8733278\ttotal: 4.24s\tremaining: 2.52s\n",
      "94:\tlearn: 0.8733561\ttotal: 4.28s\tremaining: 2.48s\n",
      "95:\tlearn: 0.8735736\ttotal: 4.35s\tremaining: 2.45s\n",
      "96:\tlearn: 0.8736776\ttotal: 4.4s\tremaining: 2.4s\n",
      "97:\tlearn: 0.8738020\ttotal: 4.44s\tremaining: 2.36s\n",
      "98:\tlearn: 0.8740762\ttotal: 4.49s\tremaining: 2.31s\n",
      "99:\tlearn: 0.8742463\ttotal: 4.53s\tremaining: 2.26s\n",
      "100:\tlearn: 0.8744617\ttotal: 4.58s\tremaining: 2.22s\n",
      "101:\tlearn: 0.8747578\ttotal: 4.62s\tremaining: 2.17s\n",
      "102:\tlearn: 0.8749405\ttotal: 4.66s\tremaining: 2.13s\n",
      "103:\tlearn: 0.8751630\ttotal: 4.7s\tremaining: 2.08s\n",
      "104:\tlearn: 0.8754508\ttotal: 4.74s\tremaining: 2.03s\n",
      "105:\tlearn: 0.8754763\ttotal: 4.8s\tremaining: 1.99s\n",
      "106:\tlearn: 0.8754902\ttotal: 4.86s\tremaining: 1.95s\n",
      "107:\tlearn: 0.8755686\ttotal: 4.93s\tremaining: 1.92s\n",
      "108:\tlearn: 0.8756398\ttotal: 4.97s\tremaining: 1.87s\n",
      "109:\tlearn: 0.8760246\ttotal: 5.01s\tremaining: 1.82s\n",
      "110:\tlearn: 0.8760945\ttotal: 5.07s\tremaining: 1.78s\n",
      "111:\tlearn: 0.8768512\ttotal: 5.11s\tremaining: 1.73s\n",
      "112:\tlearn: 0.8771299\ttotal: 5.15s\tremaining: 1.69s\n",
      "113:\tlearn: 0.8776073\ttotal: 5.2s\tremaining: 1.64s\n",
      "114:\tlearn: 0.8777301\ttotal: 5.24s\tremaining: 1.59s\n",
      "115:\tlearn: 0.8778439\ttotal: 5.31s\tremaining: 1.55s\n",
      "116:\tlearn: 0.8779693\ttotal: 5.35s\tremaining: 1.51s\n",
      "117:\tlearn: 0.8782776\ttotal: 5.39s\tremaining: 1.46s\n",
      "118:\tlearn: 0.8788164\ttotal: 5.42s\tremaining: 1.41s\n",
      "119:\tlearn: 0.8791160\ttotal: 5.47s\tremaining: 1.37s\n",
      "120:\tlearn: 0.8793901\ttotal: 5.56s\tremaining: 1.33s\n",
      "121:\tlearn: 0.8796044\ttotal: 5.63s\tremaining: 1.29s\n",
      "122:\tlearn: 0.8797504\ttotal: 5.67s\tremaining: 1.24s\n",
      "123:\tlearn: 0.8799659\ttotal: 5.76s\tremaining: 1.21s\n",
      "124:\tlearn: 0.8801275\ttotal: 5.84s\tremaining: 1.17s\n",
      "125:\tlearn: 0.8801621\ttotal: 5.91s\tremaining: 1.13s\n",
      "126:\tlearn: 0.8803952\ttotal: 5.97s\tremaining: 1.08s\n",
      "127:\tlearn: 0.8805975\ttotal: 6.03s\tremaining: 1.04s\n",
      "128:\tlearn: 0.8806146\ttotal: 6.07s\tremaining: 989ms\n",
      "129:\tlearn: 0.8806928\ttotal: 6.12s\tremaining: 941ms\n",
      "130:\tlearn: 0.8808168\ttotal: 6.18s\tremaining: 897ms\n",
      "131:\tlearn: 0.8809617\ttotal: 6.28s\tremaining: 856ms\n",
      "132:\tlearn: 0.8810640\ttotal: 6.32s\tremaining: 807ms\n",
      "133:\tlearn: 0.8811755\ttotal: 6.36s\tremaining: 759ms\n",
      "134:\tlearn: 0.8812891\ttotal: 6.4s\tremaining: 711ms\n",
      "135:\tlearn: 0.8814840\ttotal: 6.49s\tremaining: 668ms\n",
      "136:\tlearn: 0.8815093\ttotal: 6.54s\tremaining: 620ms\n",
      "137:\tlearn: 0.8818364\ttotal: 6.58s\tremaining: 572ms\n",
      "138:\tlearn: 0.8820184\ttotal: 6.64s\tremaining: 526ms\n",
      "139:\tlearn: 0.8821997\ttotal: 6.71s\tremaining: 479ms\n",
      "140:\tlearn: 0.8822623\ttotal: 6.79s\tremaining: 433ms\n",
      "141:\tlearn: 0.8824028\ttotal: 6.87s\tremaining: 387ms\n",
      "142:\tlearn: 0.8825158\ttotal: 6.94s\tremaining: 340ms\n",
      "143:\tlearn: 0.8827517\ttotal: 7.02s\tremaining: 292ms\n",
      "144:\tlearn: 0.8831815\ttotal: 7.06s\tremaining: 243ms\n",
      "145:\tlearn: 0.8833030\ttotal: 7.12s\tremaining: 195ms\n",
      "146:\tlearn: 0.8833939\ttotal: 7.16s\tremaining: 146ms\n",
      "147:\tlearn: 0.8835731\ttotal: 7.2s\tremaining: 97.3ms\n",
      "148:\tlearn: 0.8839199\ttotal: 7.23s\tremaining: 48.6ms\n",
      "149:\tlearn: 0.8841108\ttotal: 7.27s\tremaining: 0us\n"
     ]
    },
    {
     "data": {
      "text/plain": [
       "<catboost.core.CatBoostClassifier at 0x1c22c36ac8>"
      ]
     },
     "execution_count": 68,
     "metadata": {},
     "output_type": "execute_result"
    }
   ],
   "source": [
    "clf5 = CatBoostClassifier(eval_metric=\"AUC\",one_hot_max_size=10, \\\n",
    "                            depth=5, iterations= 150, l2_leaf_reg= 3, learning_rate= 0.05)\n",
    "clf5.fit(x_trn,y_trn, cat_features= cat_features_index)"
   ]
  },
  {
   "cell_type": "code",
   "execution_count": 69,
   "metadata": {},
   "outputs": [
    {
     "data": {
      "text/plain": [
       "(0.8841108391884761, 0.8780576807407777)"
      ]
     },
     "execution_count": 69,
     "metadata": {},
     "output_type": "execute_result"
    }
   ],
   "source": [
    "auc(clf5, x_trn, x_val)"
   ]
  },
  {
   "cell_type": "code",
   "execution_count": 70,
   "metadata": {},
   "outputs": [],
   "source": [
    "preds = clf5.predict_proba(test_raw)[:,1]"
   ]
  },
  {
   "cell_type": "code",
   "execution_count": 71,
   "metadata": {},
   "outputs": [
    {
     "data": {
      "text/plain": [
       "(array([15097.,  1892.,   956.,   385.,   165.,    56.,    28.,    11.,     7.,     4.]),\n",
       " array([0.00005, 0.02878, 0.0575 , 0.08622, 0.11495, 0.14367, 0.17239, 0.20112, 0.22984, 0.25856, 0.28728]),\n",
       " <a list of 10 Patch objects>)"
      ]
     },
     "execution_count": 71,
     "metadata": {},
     "output_type": "execute_result"
    },
    {
     "data": {
      "image/png": "[encoded data removed]",
      "text/plain": [
       "<Figure size 432x288 with 1 Axes>"
      ]
     },
     "metadata": {},
     "output_type": "display_data"
    }
   ],
   "source": [
    "plt.hist(preds)"
   ]
  },
  {
   "cell_type": "code",
   "execution_count": 72,
   "metadata": {},
   "outputs": [
    {
     "data": {
      "text/plain": [
       "0.017303183514345743"
      ]
     },
     "execution_count": 72,
     "metadata": {},
     "output_type": "execute_result"
    }
   ],
   "source": [
    "preds.mean()"
   ]
  },
  {
   "cell_type": "code",
   "execution_count": 73,
   "metadata": {},
   "outputs": [],
   "source": [
    "pred_df = pd.DataFrame(test_raw.id)\n",
    "pred_df['stroke'] = preds\n",
    "pred_df.to_csv('submissions/cat_manual_tuning.csv', index=False)"
   ]
  },
  {
   "cell_type": "code",
   "execution_count": null,
   "metadata": {},
   "outputs": [],
   "source": []
  }
 ],
 "metadata": {
  "kernelspec": {
   "display_name": "Python 3",
   "language": "python",
   "name": "python3"
  },
  "language_info": {
   "codemirror_mode": {
    "name": "ipython",
    "version": 3
   },
   "file_extension": ".py",
   "mimetype": "text/x-python",
   "name": "python",
   "nbconvert_exporter": "python",
   "pygments_lexer": "ipython3",
   "version": "3.6.4"
  }
 },
 "nbformat": 4,
 "nbformat_minor": 2
}
