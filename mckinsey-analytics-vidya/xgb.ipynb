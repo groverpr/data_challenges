{
 "cells": [
  {
   "cell_type": "code",
   "execution_count": 137,
   "metadata": {
    "scrolled": true
   },
   "outputs": [],
   "source": [
    "from fastai.imports import *\n",
    "from fastai.structured import *\n",
    "from sklearn import cross_validation, metrics   #Additional scklearn functions\n",
    "from xgboost import XGBClassifier\n",
    "import xgboost as xgb\n",
    "from sklearn.model_selection import StratifiedKFold\n",
    "from sklearn.model_selection import GridSearchCV\n",
    "import gzip\n",
    "import warnings\n",
    "warnings.filterwarnings(category=DeprecationWarning,action='ignore')\n",
    "\n",
    "%matplotlib inline"
   ]
  },
  {
   "cell_type": "markdown",
   "metadata": {},
   "source": [
    "### Reading processed data  "
   ]
  },
  {
   "cell_type": "code",
   "execution_count": 138,
   "metadata": {},
   "outputs": [],
   "source": [
    "train_raw = pd.read_csv('intermediate_data/raw_train.csv')\n",
    "test_raw = pd.read_csv('intermediate_data/raw_test.csv')"
   ]
  },
  {
   "cell_type": "code",
   "execution_count": 139,
   "metadata": {},
   "outputs": [],
   "source": [
    "x_trn2 = pd.read_csv('intermediate_data/x_trn2.csv')\n",
    "x_val2 = pd.read_csv('intermediate_data/x_val2.csv')\n",
    "y_trn2 = np.load('intermediate_data/y_trn2.npy')\n",
    "y_val2 = np.load('intermediate_data/y_val2.npy')\n",
    "train_enc = pd.read_csv('intermediate_data/train_enc.csv')\n",
    "test_enc = pd.read_csv('intermediate_data/test_enc.csv')"
   ]
  },
  {
   "cell_type": "code",
   "execution_count": 140,
   "metadata": {
    "scrolled": false
   },
   "outputs": [
    {
     "data": {
      "text/plain": [
       "((8680, 33), (8680,))"
      ]
     },
     "execution_count": 140,
     "metadata": {},
     "output_type": "execute_result"
    }
   ],
   "source": [
    "x_val2.shape, y_val2.shape"
   ]
  },
  {
   "cell_type": "code",
   "execution_count": 141,
   "metadata": {},
   "outputs": [
    {
     "data": {
      "text/plain": [
       "((34720, 33), (34720,))"
      ]
     },
     "execution_count": 141,
     "metadata": {},
     "output_type": "execute_result"
    }
   ],
   "source": [
    "x_trn2.shape, y_trn2.shape"
   ]
  },
  {
   "cell_type": "markdown",
   "metadata": {},
   "source": [
    "### Functions"
   ]
  },
  {
   "cell_type": "code",
   "execution_count": 142,
   "metadata": {},
   "outputs": [],
   "source": [
    "scale_pos = sum(train_enc.stroke==0)/sum(train_enc.stroke==1)"
   ]
  },
  {
   "cell_type": "code",
   "execution_count": 143,
   "metadata": {},
   "outputs": [
    {
     "data": {
      "text/plain": [
       "54.427841634738186"
      ]
     },
     "execution_count": 143,
     "metadata": {},
     "output_type": "execute_result"
    }
   ],
   "source": [
    "scale_pos"
   ]
  },
  {
   "cell_type": "code",
   "execution_count": 144,
   "metadata": {},
   "outputs": [],
   "source": [
    "def modelfit(alg, x_train, y_train, x_val=None, y_val=None, useTrainCV=True, cv_folds=5,rounds=50):\n",
    "    \n",
    "    if useTrainCV:\n",
    "        xgb_param = alg.get_xgb_params()\n",
    "        xgtrain = xgb.DMatrix(x_train.values, label=y_train)\n",
    "        \n",
    "        cvresult = xgb.cv(xgb_param,\n",
    "                          xgtrain, \n",
    "                          num_boost_round=alg.get_params()['n_estimators'], \n",
    "                          nfold=cv_folds,\n",
    "                          metrics = 'auc',\n",
    "                         # feval = xg_fbeta, \n",
    "                          early_stopping_rounds = rounds, \n",
    "                          verbose_eval=20,\n",
    "                          maximize=True)\n",
    "        \n",
    "        print('Best Rounds: ',cvresult.shape[0])\n",
    "        \n",
    "        alg.set_params(n_estimators=cvresult.shape[0])\n",
    "        \n",
    "    \n",
    "    #Fit the algorithm on the data\n",
    "    alg.fit(x_train, y_train)\n",
    "        \n",
    "    #Predict training set:\n",
    "    dtrain_predictions = alg.predict(x_train)\n",
    "    dtrain_predprob = alg.predict_proba(x_train)[:,1]\n",
    "    \n",
    "    \n",
    "    #Print model report:\n",
    "    print(\"\\nModel Report\")\n",
    "    print(\"Accuracy : %.4g\" % metrics.accuracy_score(y_train, dtrain_predictions))\n",
    "    print(\"AUC Score (Train): %f\" % metrics.roc_auc_score(y_train, dtrain_predprob))\n",
    "    if x_val is not None: \n",
    "        print(\"AUC Score (Validation): %f\" % metrics.roc_auc_score(y_val, alg.predict_proba(x_val)[:,1]))\n",
    "                    \n",
    "    fig, ax = plt.subplots(figsize=(6,12))\n",
    "    xgb.plot_importance(alg, max_num_features=50, height=0.4, ax=ax)\n",
    "    plt.show()"
   ]
  },
  {
   "cell_type": "markdown",
   "metadata": {},
   "source": [
    "### Step 1: Tuning n_estimators"
   ]
  },
  {
   "cell_type": "code",
   "execution_count": 145,
   "metadata": {},
   "outputs": [],
   "source": [
    "# target = 'stroke'\n",
    "# predictors = [x for x in train_enc.columns if x not in [target]]"
   ]
  },
  {
   "cell_type": "code",
   "execution_count": 146,
   "metadata": {},
   "outputs": [],
   "source": [
    "select_cols = ['avg_glucose_level_mean_ever_married',\n",
    " 'gender',\n",
    " 'bmi_mean_ever_married',\n",
    " 'work_type',\n",
    " 'smoking_status',\n",
    " 'bmi_mean_hypertension',\n",
    " 'avg_glucose_level_mean_hypertension',\n",
    " 'avg_glucose_level_mean_smoking_status',\n",
    " 'age_bins',\n",
    " 'stroke_mean_age_bins',\n",
    " 'avg_glucose_level_mean_age_bins',\n",
    " 'avg_glucose_level',\n",
    " 'bmi',\n",
    " 'age']"
   ]
  },
  {
   "cell_type": "code",
   "execution_count": 148,
   "metadata": {},
   "outputs": [],
   "source": [
    "x_trn3 = train_raw.drop(['stroke', 'age_bins'], axis=1)\n",
    "y_trn3 = train_raw['stroke'].values"
   ]
  },
  {
   "cell_type": "code",
   "execution_count": 216,
   "metadata": {},
   "outputs": [],
   "source": [
    "cols = ['heart_disease', 'id', 'bmi', 'avg_glucose_level', 'age']\n",
    "x_trn3 = x_trn3[cols]"
   ]
  },
  {
   "cell_type": "code",
   "execution_count": 218,
   "metadata": {
    "scrolled": false
   },
   "outputs": [
    {
     "name": "stdout",
     "output_type": "stream",
     "text": [
      "[0]\ttrain-auc:0.859797+0.00447646\ttest-auc:0.82668+0.0143519\n",
      "[20]\ttrain-auc:0.887639+0.00414564\ttest-auc:0.847331+0.0176375\n",
      "[40]\ttrain-auc:0.892695+0.00373505\ttest-auc:0.847304+0.0177808\n",
      "[60]\ttrain-auc:0.896881+0.00339194\ttest-auc:0.848247+0.0168887\n",
      "[80]\ttrain-auc:0.900841+0.00299178\ttest-auc:0.849018+0.0164563\n",
      "[100]\ttrain-auc:0.904384+0.00269029\ttest-auc:0.8491+0.0159568\n",
      "[120]\ttrain-auc:0.907654+0.00233558\ttest-auc:0.849586+0.0162626\n",
      "[140]\ttrain-auc:0.911318+0.00233531\ttest-auc:0.84974+0.0156555\n",
      "[160]\ttrain-auc:0.914782+0.00214407\ttest-auc:0.849884+0.0154521\n",
      "[180]\ttrain-auc:0.918289+0.00213988\ttest-auc:0.849587+0.0152655\n",
      "[200]\ttrain-auc:0.921755+0.00161617\ttest-auc:0.849004+0.0149567\n",
      "Best Rounds:  157\n",
      "\n",
      "Model Report\n",
      "Accuracy : 0.7824\n",
      "AUC Score (Train): 0.907189\n"
     ]
    },
    {
     "data": {
      "image/png": "[encoded data removed]",
      "text/plain": [
       "<Figure size 432x864 with 1 Axes>"
      ]
     },
     "metadata": {},
     "output_type": "display_data"
    }
   ],
   "source": [
    "xgb1 = XGBClassifier(n_jobs=-1,\n",
    " learning_rate =.025,\n",
    " n_estimators=1000,\n",
    " max_depth=5,\n",
    " min_child_weight=1,\n",
    " gamma=0,\n",
    " subsample=0.8,\n",
    " colsample_bytree=0.8,\n",
    " objective= 'binary:logistic',\n",
    " nthread=4,\n",
    " scale_pos_weight=scale_pos,\n",
    " seed=1)\n",
    "#modelfit(xgb1, x_trn2[select_cols], y_trn2, x_val2[select_cols], y_val2)\n",
    "modelfit(xgb1, x_trn3, y_trn3)"
   ]
  },
  {
   "cell_type": "markdown",
   "metadata": {},
   "source": [
    "### Step 2 Tuning for max_depth and  min_child_weight"
   ]
  },
  {
   "cell_type": "code",
   "execution_count": 219,
   "metadata": {},
   "outputs": [],
   "source": [
    "xgbreg = XGBClassifier(learning_rate =.025, \n",
    "                       n_estimators=157, \n",
    "                       max_depth=5,\n",
    "                       min_child_weight=1, \n",
    "                       gamma=0, \n",
    "                       subsample=0.8,\n",
    "                       colsample_bytree=0.8,\n",
    "                       objective= 'binary:logistic', \n",
    "                       nthread=4, \n",
    "                       scale_pos_weight=scale_pos, \n",
    "                       seed=1)"
   ]
  },
  {
   "cell_type": "code",
   "execution_count": 220,
   "metadata": {
    "scrolled": true
   },
   "outputs": [
    {
     "name": "stdout",
     "output_type": "stream",
     "text": [
      "Fitting 5 folds for each of 12 candidates, totalling 60 fits\n",
      "[CV] max_depth=3, min_child_weight=1 .................................\n",
      "[CV] max_depth=3, min_child_weight=1 .................................\n",
      "[CV] max_depth=3, min_child_weight=1 .................................\n",
      "[CV] max_depth=3, min_child_weight=1 .................................\n",
      "[CV]  max_depth=3, min_child_weight=1, score=0.8396894344032735, total=   5.4s\n",
      "[CV] max_depth=3, min_child_weight=1 .................................\n"
     ]
    },
    {
     "name": "stderr",
     "output_type": "stream",
     "text": [
      "[Parallel(n_jobs=-1)]: Done   1 tasks      | elapsed:    5.7s\n"
     ]
    },
    {
     "name": "stdout",
     "output_type": "stream",
     "text": [
      "[CV]  max_depth=3, min_child_weight=1, score=0.8486455906871702, total=   5.6s\n",
      "[CV]  max_depth=3, min_child_weight=1, score=0.8559010601762875, total=   5.6s\n",
      "[CV]  max_depth=3, min_child_weight=1, score=0.8606666125145533, total=   5.7s\n",
      "[CV] max_depth=3, min_child_weight=3 .................................\n",
      "[CV] max_depth=3, min_child_weight=3 .................................\n",
      "[CV] max_depth=3, min_child_weight=3 .................................\n"
     ]
    },
    {
     "name": "stderr",
     "output_type": "stream",
     "text": [
      "[Parallel(n_jobs=-1)]: Done   2 tasks      | elapsed:    6.0s\n",
      "[Parallel(n_jobs=-1)]: Done   3 tasks      | elapsed:    6.0s\n",
      "[Parallel(n_jobs=-1)]: Done   4 tasks      | elapsed:    6.1s\n"
     ]
    },
    {
     "name": "stdout",
     "output_type": "stream",
     "text": [
      "[CV]  max_depth=3, min_child_weight=1, score=0.8678365027361858, total=   6.1s\n",
      "[CV] max_depth=3, min_child_weight=3 .................................\n",
      "[CV]  max_depth=3, min_child_weight=3, score=0.8560172551387315, total=   5.8s\n"
     ]
    },
    {
     "name": "stderr",
     "output_type": "stream",
     "text": [
      "[Parallel(n_jobs=-1)]: Done   5 tasks      | elapsed:   12.0s\n",
      "[Parallel(n_jobs=-1)]: Done   6 tasks      | elapsed:   12.1s\n"
     ]
    },
    {
     "name": "stdout",
     "output_type": "stream",
     "text": [
      "[CV]  max_depth=3, min_child_weight=3, score=0.8396819620584217, total=   6.0s\n",
      "[CV] max_depth=3, min_child_weight=3 .................................\n",
      "[CV] max_depth=3, min_child_weight=5 .................................\n",
      "[CV]  max_depth=3, min_child_weight=3, score=0.8487076184262741, total=   6.1s\n"
     ]
    },
    {
     "name": "stderr",
     "output_type": "stream",
     "text": [
      "[Parallel(n_jobs=-1)]: Done   7 tasks      | elapsed:   12.3s\n",
      "[Parallel(n_jobs=-1)]: Done   8 tasks      | elapsed:   12.4s\n"
     ]
    },
    {
     "name": "stdout",
     "output_type": "stream",
     "text": [
      "[CV] max_depth=3, min_child_weight=5 .................................\n",
      "[CV]  max_depth=3, min_child_weight=3, score=0.8608106420936411, total=   5.6s\n",
      "[CV] max_depth=3, min_child_weight=5 .................................\n"
     ]
    },
    {
     "name": "stderr",
     "output_type": "stream",
     "text": [
      "[Parallel(n_jobs=-1)]: Done   9 tasks      | elapsed:   17.8s\n"
     ]
    },
    {
     "name": "stdout",
     "output_type": "stream",
     "text": [
      "[CV]  max_depth=3, min_child_weight=3, score=0.8678282294966561, total=   5.5s\n",
      "[CV]  max_depth=3, min_child_weight=5, score=0.8567099415064846, total=   5.6s\n",
      "[CV] max_depth=3, min_child_weight=5 .................................\n",
      "[CV] max_depth=3, min_child_weight=5 .................................\n"
     ]
    },
    {
     "name": "stderr",
     "output_type": "stream",
     "text": [
      "[Parallel(n_jobs=-1)]: Done  10 tasks      | elapsed:   18.1s\n",
      "[Parallel(n_jobs=-1)]: Done  11 tasks      | elapsed:   18.1s\n"
     ]
    },
    {
     "name": "stdout",
     "output_type": "stream",
     "text": [
      "[CV]  max_depth=3, min_child_weight=5, score=0.8401037759253005, total=   5.8s\n",
      "[CV] max_depth=5, min_child_weight=1 .................................\n"
     ]
    },
    {
     "name": "stderr",
     "output_type": "stream",
     "text": [
      "[Parallel(n_jobs=-1)]: Done  12 tasks      | elapsed:   18.5s\n"
     ]
    },
    {
     "name": "stdout",
     "output_type": "stream",
     "text": [
      "[CV]  max_depth=3, min_child_weight=5, score=0.8490289669541615, total=   5.1s\n",
      "[CV] max_depth=5, min_child_weight=1 .................................\n"
     ]
    },
    {
     "name": "stderr",
     "output_type": "stream",
     "text": [
      "[Parallel(n_jobs=-1)]: Done  13 tasks      | elapsed:   23.0s\n"
     ]
    },
    {
     "name": "stdout",
     "output_type": "stream",
     "text": [
      "[CV]  max_depth=3, min_child_weight=5, score=0.8627413153548318, total=   5.1s\n",
      "[CV] max_depth=5, min_child_weight=1 .................................\n"
     ]
    },
    {
     "name": "stderr",
     "output_type": "stream",
     "text": [
      "[Parallel(n_jobs=-1)]: Done  14 tasks      | elapsed:   23.4s\n"
     ]
    },
    {
     "name": "stdout",
     "output_type": "stream",
     "text": [
      "[CV]  max_depth=3, min_child_weight=5, score=0.8676834478048839, total=   5.3s\n",
      "[CV] max_depth=5, min_child_weight=1 .................................\n"
     ]
    },
    {
     "name": "stderr",
     "output_type": "stream",
     "text": [
      "[Parallel(n_jobs=-1)]: Done  15 tasks      | elapsed:   23.7s\n"
     ]
    },
    {
     "name": "stdout",
     "output_type": "stream",
     "text": [
      "[CV]  max_depth=5, min_child_weight=1, score=0.8476482289048232, total=   8.2s\n",
      "[CV] max_depth=5, min_child_weight=1 .................................\n"
     ]
    },
    {
     "name": "stderr",
     "output_type": "stream",
     "text": [
      "[Parallel(n_jobs=-1)]: Done  16 tasks      | elapsed:   27.0s\n"
     ]
    },
    {
     "name": "stdout",
     "output_type": "stream",
     "text": [
      "[CV]  max_depth=5, min_child_weight=1, score=0.8368615254941462, total=   8.3s\n",
      "[CV] max_depth=5, min_child_weight=3 .................................\n",
      "[CV]  max_depth=5, min_child_weight=1, score=0.8440958933900102, total=   8.0s\n"
     ]
    },
    {
     "name": "stderr",
     "output_type": "stream",
     "text": [
      "[Parallel(n_jobs=-1)]: Done  17 tasks      | elapsed:   31.7s\n",
      "[Parallel(n_jobs=-1)]: Done  18 tasks      | elapsed:   31.8s\n"
     ]
    },
    {
     "name": "stdout",
     "output_type": "stream",
     "text": [
      "[CV] max_depth=5, min_child_weight=3 .................................\n",
      "[CV]  max_depth=5, min_child_weight=1, score=0.8560008814760662, total=   8.2s\n",
      "[CV] max_depth=5, min_child_weight=3 .................................\n"
     ]
    },
    {
     "name": "stderr",
     "output_type": "stream",
     "text": [
      "[Parallel(n_jobs=-1)]: Done  19 tasks      | elapsed:   32.1s\n"
     ]
    },
    {
     "name": "stdout",
     "output_type": "stream",
     "text": [
      "[CV]  max_depth=5, min_child_weight=1, score=0.8607008336416995, total=   8.2s\n",
      "[CV] max_depth=5, min_child_weight=3 .................................\n"
     ]
    },
    {
     "name": "stderr",
     "output_type": "stream",
     "text": [
      "[Parallel(n_jobs=-1)]: Done  20 tasks      | elapsed:   35.5s\n"
     ]
    },
    {
     "name": "stdout",
     "output_type": "stream",
     "text": [
      "[CV]  max_depth=5, min_child_weight=3, score=0.84424386317727, total=   7.5s\n",
      "[CV] max_depth=5, min_child_weight=3 .................................\n",
      "[CV]  max_depth=5, min_child_weight=3, score=0.8486525120528923, total=   8.1s\n"
     ]
    },
    {
     "name": "stderr",
     "output_type": "stream",
     "text": [
      "[Parallel(n_jobs=-1)]: Done  21 tasks      | elapsed:   40.0s\n",
      "[Parallel(n_jobs=-1)]: Done  22 tasks      | elapsed:   40.2s\n"
     ]
    },
    {
     "name": "stdout",
     "output_type": "stream",
     "text": [
      "[CV] max_depth=5, min_child_weight=5 .................................\n",
      "[CV]  max_depth=5, min_child_weight=3, score=0.8377593277280785, total=   8.3s\n",
      "[CV] max_depth=5, min_child_weight=5 .................................\n"
     ]
    },
    {
     "name": "stderr",
     "output_type": "stream",
     "text": [
      "[Parallel(n_jobs=-1)]: Done  23 tasks      | elapsed:   40.5s\n"
     ]
    },
    {
     "name": "stdout",
     "output_type": "stream",
     "text": [
      "[CV]  max_depth=5, min_child_weight=3, score=0.8560448800681114, total=   8.0s\n",
      "[CV] max_depth=5, min_child_weight=5 .................................\n"
     ]
    },
    {
     "name": "stderr",
     "output_type": "stream",
     "text": [
      "[Parallel(n_jobs=-1)]: Done  24 tasks      | elapsed:   43.8s\n"
     ]
    },
    {
     "name": "stdout",
     "output_type": "stream",
     "text": [
      "[CV]  max_depth=5, min_child_weight=3, score=0.8593432702461213, total=   7.8s\n",
      "[CV] max_depth=5, min_child_weight=5 .................................\n"
     ]
    },
    {
     "name": "stderr",
     "output_type": "stream",
     "text": [
      "[Parallel(n_jobs=-1)]: Done  25 tasks      | elapsed:   48.0s\n"
     ]
    },
    {
     "name": "stdout",
     "output_type": "stream",
     "text": [
      "[CV]  max_depth=5, min_child_weight=5, score=0.8493123201032977, total=   7.9s\n",
      "[CV] max_depth=5, min_child_weight=5 .................................\n"
     ]
    },
    {
     "name": "stderr",
     "output_type": "stream",
     "text": [
      "[Parallel(n_jobs=-1)]: Done  26 tasks      | elapsed:   48.4s\n"
     ]
    },
    {
     "name": "stdout",
     "output_type": "stream",
     "text": [
      "[CV]  max_depth=5, min_child_weight=5, score=0.8365510495655579, total=   8.4s\n",
      "[CV] max_depth=7, min_child_weight=1 .................................\n"
     ]
    },
    {
     "name": "stderr",
     "output_type": "stream",
     "text": [
      "[Parallel(n_jobs=-1)]: Done  27 tasks      | elapsed:   49.2s\n"
     ]
    },
    {
     "name": "stdout",
     "output_type": "stream",
     "text": [
      "[CV]  max_depth=5, min_child_weight=5, score=0.8451892257069855, total=   7.7s\n",
      "[CV] max_depth=7, min_child_weight=1 .................................\n"
     ]
    },
    {
     "name": "stderr",
     "output_type": "stream",
     "text": [
      "[Parallel(n_jobs=-1)]: Done  28 tasks      | elapsed:   51.8s\n"
     ]
    },
    {
     "name": "stdout",
     "output_type": "stream",
     "text": [
      "[CV]  max_depth=5, min_child_weight=5, score=0.8584253167146514, total=   7.9s\n",
      "[CV] max_depth=7, min_child_weight=1 .................................\n"
     ]
    },
    {
     "name": "stderr",
     "output_type": "stream",
     "text": [
      "[Parallel(n_jobs=-1)]: Done  29 tasks      | elapsed:   56.4s\n"
     ]
    },
    {
     "name": "stdout",
     "output_type": "stream",
     "text": [
      "[CV]  max_depth=5, min_child_weight=5, score=0.8579563744558465, total=   8.1s\n",
      "[CV] max_depth=7, min_child_weight=1 .................................\n"
     ]
    },
    {
     "name": "stderr",
     "output_type": "stream",
     "text": [
      "[Parallel(n_jobs=-1)]: Done  30 tasks      | elapsed:   56.7s\n"
     ]
    },
    {
     "name": "stdout",
     "output_type": "stream",
     "text": [
      "[CV]  max_depth=7, min_child_weight=1, score=0.8407516282239431, total=  11.0s\n",
      "[CV] max_depth=7, min_child_weight=1 .................................\n"
     ]
    },
    {
     "name": "stderr",
     "output_type": "stream",
     "text": [
      "[Parallel(n_jobs=-1)]: Done  31 tasks      | elapsed:  1.0min\n"
     ]
    },
    {
     "name": "stdout",
     "output_type": "stream",
     "text": [
      "[CV]  max_depth=7, min_child_weight=1, score=0.8307947287090478, total=  11.0s\n",
      "[CV] max_depth=7, min_child_weight=3 .................................\n"
     ]
    },
    {
     "name": "stderr",
     "output_type": "stream",
     "text": [
      "[Parallel(n_jobs=-1)]: Done  32 tasks      | elapsed:  1.1min\n"
     ]
    },
    {
     "name": "stdout",
     "output_type": "stream",
     "text": [
      "[CV]  max_depth=7, min_child_weight=1, score=0.8369709239368035, total=  10.6s\n",
      "[CV] max_depth=7, min_child_weight=3 .................................\n"
     ]
    },
    {
     "name": "stderr",
     "output_type": "stream",
     "text": [
      "[Parallel(n_jobs=-1)]: Done  33 tasks      | elapsed:  1.1min\n"
     ]
    },
    {
     "name": "stdout",
     "output_type": "stream",
     "text": [
      "[CV]  max_depth=7, min_child_weight=1, score=0.844742506701324, total=  11.1s\n",
      "[CV] max_depth=7, min_child_weight=3 .................................\n"
     ]
    },
    {
     "name": "stderr",
     "output_type": "stream",
     "text": [
      "[Parallel(n_jobs=-1)]: Done  34 tasks      | elapsed:  1.1min\n"
     ]
    },
    {
     "name": "stdout",
     "output_type": "stream",
     "text": [
      "[CV]  max_depth=7, min_child_weight=1, score=0.8524166884779345, total=  10.5s\n",
      "[CV] max_depth=7, min_child_weight=3 .................................\n"
     ]
    },
    {
     "name": "stderr",
     "output_type": "stream",
     "text": [
      "[Parallel(n_jobs=-1)]: Done  35 tasks      | elapsed:  1.2min\n"
     ]
    },
    {
     "name": "stdout",
     "output_type": "stream",
     "text": [
      "[CV]  max_depth=7, min_child_weight=3, score=0.8439875271619734, total=  11.2s\n",
      "[CV] max_depth=7, min_child_weight=3 .................................\n"
     ]
    },
    {
     "name": "stderr",
     "output_type": "stream",
     "text": [
      "[Parallel(n_jobs=-1)]: Done  36 tasks      | elapsed:  1.2min\n"
     ]
    },
    {
     "name": "stdout",
     "output_type": "stream",
     "text": [
      "[CV]  max_depth=7, min_child_weight=3, score=0.8307663337986113, total=  10.6s\n",
      "[CV] max_depth=7, min_child_weight=5 .................................\n"
     ]
    },
    {
     "name": "stderr",
     "output_type": "stream",
     "text": [
      "[Parallel(n_jobs=-1)]: Done  37 tasks      | elapsed:  1.3min\n"
     ]
    },
    {
     "name": "stdout",
     "output_type": "stream",
     "text": [
      "[CV]  max_depth=7, min_child_weight=3, score=0.8380978857508832, total=  11.0s\n",
      "[CV] max_depth=7, min_child_weight=5 .................................\n"
     ]
    },
    {
     "name": "stderr",
     "output_type": "stream",
     "text": [
      "[Parallel(n_jobs=-1)]: Done  38 tasks      | elapsed:  1.3min\n"
     ]
    },
    {
     "name": "stdout",
     "output_type": "stream",
     "text": [
      "[CV]  max_depth=7, min_child_weight=3, score=0.8459917658703298, total=  10.6s\n",
      "[CV] max_depth=7, min_child_weight=5 .................................\n"
     ]
    },
    {
     "name": "stderr",
     "output_type": "stream",
     "text": [
      "[Parallel(n_jobs=-1)]: Done  39 tasks      | elapsed:  1.4min\n"
     ]
    },
    {
     "name": "stdout",
     "output_type": "stream",
     "text": [
      "[CV]  max_depth=7, min_child_weight=3, score=0.8504551785966781, total=  10.8s\n",
      "[CV] max_depth=7, min_child_weight=5 .................................\n"
     ]
    },
    {
     "name": "stderr",
     "output_type": "stream",
     "text": [
      "[Parallel(n_jobs=-1)]: Done  40 tasks      | elapsed:  1.4min\n"
     ]
    },
    {
     "name": "stdout",
     "output_type": "stream",
     "text": [
      "[CV]  max_depth=7, min_child_weight=5, score=0.8432600943906602, total=  11.2s\n",
      "[CV] max_depth=7, min_child_weight=5 .................................\n"
     ]
    },
    {
     "name": "stderr",
     "output_type": "stream",
     "text": [
      "[Parallel(n_jobs=-1)]: Done  41 tasks      | elapsed:  1.5min\n"
     ]
    },
    {
     "name": "stdout",
     "output_type": "stream",
     "text": [
      "[CV]  max_depth=7, min_child_weight=5, score=0.8288735888476748, total=  11.1s\n",
      "[CV] max_depth=9, min_child_weight=1 .................................\n"
     ]
    },
    {
     "name": "stderr",
     "output_type": "stream",
     "text": [
      "[Parallel(n_jobs=-1)]: Done  42 tasks      | elapsed:  1.5min\n"
     ]
    },
    {
     "name": "stdout",
     "output_type": "stream",
     "text": [
      "[CV]  max_depth=7, min_child_weight=5, score=0.8354598385335745, total=  10.6s\n",
      "[CV] max_depth=9, min_child_weight=1 .................................\n"
     ]
    },
    {
     "name": "stderr",
     "output_type": "stream",
     "text": [
      "[Parallel(n_jobs=-1)]: Done  43 tasks      | elapsed:  1.6min\n"
     ]
    },
    {
     "name": "stdout",
     "output_type": "stream",
     "text": [
      "[CV]  max_depth=7, min_child_weight=5, score=0.849429296894978, total=  10.9s\n",
      "[CV] max_depth=9, min_child_weight=1 .................................\n"
     ]
    },
    {
     "name": "stderr",
     "output_type": "stream",
     "text": [
      "[Parallel(n_jobs=-1)]: Done  44 tasks      | elapsed:  1.6min\n"
     ]
    },
    {
     "name": "stdout",
     "output_type": "stream",
     "text": [
      "[CV]  max_depth=7, min_child_weight=5, score=0.8499399814077744, total=  11.0s\n",
      "[CV] max_depth=9, min_child_weight=1 .................................\n"
     ]
    },
    {
     "name": "stderr",
     "output_type": "stream",
     "text": [
      "[Parallel(n_jobs=-1)]: Done  45 tasks      | elapsed:  1.7min\n"
     ]
    },
    {
     "name": "stdout",
     "output_type": "stream",
     "text": [
      "[CV]  max_depth=9, min_child_weight=1, score=0.8363504171062897, total=  14.0s\n",
      "[CV] max_depth=9, min_child_weight=1 .................................\n"
     ]
    },
    {
     "name": "stderr",
     "output_type": "stream",
     "text": [
      "[Parallel(n_jobs=-1)]: Done  46 tasks      | elapsed:  1.8min\n"
     ]
    },
    {
     "name": "stdout",
     "output_type": "stream",
     "text": [
      "[CV]  max_depth=9, min_child_weight=1, score=0.8250996810803217, total=  13.7s\n",
      "[CV] max_depth=9, min_child_weight=3 .................................\n"
     ]
    },
    {
     "name": "stderr",
     "output_type": "stream",
     "text": [
      "[Parallel(n_jobs=-1)]: Done  47 tasks      | elapsed:  1.8min\n"
     ]
    },
    {
     "name": "stdout",
     "output_type": "stream",
     "text": [
      "[CV]  max_depth=9, min_child_weight=1, score=0.833439079418673, total=  13.6s\n",
      "[CV] max_depth=9, min_child_weight=3 .................................\n"
     ]
    },
    {
     "name": "stderr",
     "output_type": "stream",
     "text": [
      "[Parallel(n_jobs=-1)]: Done  48 tasks      | elapsed:  1.9min\n"
     ]
    },
    {
     "name": "stdout",
     "output_type": "stream",
     "text": [
      "[CV]  max_depth=9, min_child_weight=1, score=0.8386906319852465, total=  13.6s\n",
      "[CV] max_depth=9, min_child_weight=3 .................................\n"
     ]
    },
    {
     "name": "stderr",
     "output_type": "stream",
     "text": [
      "[Parallel(n_jobs=-1)]: Done  49 tasks      | elapsed:  1.9min\n"
     ]
    },
    {
     "name": "stdout",
     "output_type": "stream",
     "text": [
      "[CV]  max_depth=9, min_child_weight=1, score=0.8421714094892554, total=  13.8s\n",
      "[CV] max_depth=9, min_child_weight=3 .................................\n"
     ]
    },
    {
     "name": "stderr",
     "output_type": "stream",
     "text": [
      "[Parallel(n_jobs=-1)]: Done  50 tasks      | elapsed:  2.0min\n"
     ]
    },
    {
     "name": "stdout",
     "output_type": "stream",
     "text": [
      "[CV]  max_depth=9, min_child_weight=3, score=0.8369997638739026, total=  14.4s\n",
      "[CV] max_depth=9, min_child_weight=3 .................................\n"
     ]
    },
    {
     "name": "stderr",
     "output_type": "stream",
     "text": [
      "[Parallel(n_jobs=-1)]: Done  51 tasks      | elapsed:  2.0min\n"
     ]
    },
    {
     "name": "stdout",
     "output_type": "stream",
     "text": [
      "[CV]  max_depth=9, min_child_weight=3, score=0.819375491306674, total=  14.0s\n",
      "[CV] max_depth=9, min_child_weight=5 .................................\n"
     ]
    },
    {
     "name": "stderr",
     "output_type": "stream",
     "text": [
      "[Parallel(n_jobs=-1)]: Done  52 tasks      | elapsed:  2.1min\n"
     ]
    },
    {
     "name": "stdout",
     "output_type": "stream",
     "text": [
      "[CV]  max_depth=9, min_child_weight=3, score=0.8312613826506171, total=  13.7s\n",
      "[CV] max_depth=9, min_child_weight=5 .................................\n"
     ]
    },
    {
     "name": "stderr",
     "output_type": "stream",
     "text": [
      "[Parallel(n_jobs=-1)]: Done  53 tasks      | elapsed:  2.2min\n"
     ]
    },
    {
     "name": "stdout",
     "output_type": "stream",
     "text": [
      "[CV]  max_depth=9, min_child_weight=3, score=0.8379753728222576, total=  13.9s\n",
      "[CV] max_depth=9, min_child_weight=5 .................................\n",
      "[CV]  max_depth=9, min_child_weight=3, score=0.8415682151162616, total=  14.0s\n",
      "[CV] max_depth=9, min_child_weight=5 .................................\n",
      "[CV]  max_depth=9, min_child_weight=5, score=0.8389126841559389, total=  15.0s\n",
      "[CV] max_depth=9, min_child_weight=5 .................................\n",
      "[CV]  max_depth=9, min_child_weight=5, score=0.819033257912466, total=  14.7s\n"
     ]
    },
    {
     "name": "stderr",
     "output_type": "stream",
     "text": [
      "[Parallel(n_jobs=-1)]: Done  57 out of  60 | elapsed:  2.4min remaining:    7.6s\n"
     ]
    },
    {
     "name": "stdout",
     "output_type": "stream",
     "text": [
      "[CV]  max_depth=9, min_child_weight=5, score=0.8318726921757611, total=  13.2s\n",
      "[CV]  max_depth=9, min_child_weight=5, score=0.8413794348324444, total=  12.4s\n",
      "[CV]  max_depth=9, min_child_weight=5, score=0.8402986489047735, total=   9.2s\n"
     ]
    },
    {
     "name": "stderr",
     "output_type": "stream",
     "text": [
      "[Parallel(n_jobs=-1)]: Done  60 out of  60 | elapsed:  2.5min finished\n"
     ]
    },
    {
     "data": {
      "text/plain": [
       "GridSearchCV(cv=<generator object _BaseKFold.split at 0x1c2e3f1150>,\n",
       "       error_score='raise',\n",
       "       estimator=XGBClassifier(base_score=0.5, booster='gbtree', colsample_bylevel=1,\n",
       "       colsample_bytree=0.8, gamma=0, learning_rate=0.025,\n",
       "       max_delta_step=0, max_depth=5, min_child_weight=1, missing=None,\n",
       "       n_estimators=157, n_jobs=1, nthread=4, objective='binary:logistic',\n",
       "       random_state=0, reg_alpha=0, reg_lambda=1,\n",
       "       scale_pos_weight=54.427841634738186, seed=1, silent=True,\n",
       "       subsample=0.8),\n",
       "       fit_params=None, iid=False, n_jobs=-1,\n",
       "       param_grid={'max_depth': range(3, 10, 2), 'min_child_weight': range(1, 6, 2)},\n",
       "       pre_dispatch='2*n_jobs', refit=True, return_train_score='warn',\n",
       "       scoring='roc_auc', verbose=20)"
      ]
     },
     "execution_count": 220,
     "metadata": {},
     "output_type": "execute_result"
    }
   ],
   "source": [
    "\n",
    "grid1 = {'max_depth':range(3,10,2),\n",
    "         'min_child_weight':range(1,6,2)\n",
    "}\n",
    "\n",
    "gs1 = GridSearchCV(xgbreg, \n",
    "                   grid1,\n",
    "                   n_jobs=-1, \n",
    "                   verbose=20,\n",
    "                   #objective= 'binary:logistic',\n",
    "                   scoring='roc_auc',\n",
    "                   cv = StratifiedKFold(n_splits=5, \n",
    "                                   shuffle=True,\n",
    "                                   random_state=1).split(x_trn3,y_trn3),\n",
    "                   iid=False)  \n",
    "\n",
    "gs1.fit(x_trn3, y_trn3)"
   ]
  },
  {
   "cell_type": "code",
   "execution_count": 221,
   "metadata": {},
   "outputs": [],
   "source": [
    "# print(\"AUC Score (Validation): %f\" % metrics.roc_auc_score(y_val2, gs1.best_estimator_.predict_proba(x_val2[select_cols])[:,1]))"
   ]
  },
  {
   "cell_type": "code",
   "execution_count": 223,
   "metadata": {},
   "outputs": [
    {
     "data": {
      "text/plain": [
       "([mean: 0.85455, std: 0.00971, params: {'max_depth': 3, 'min_child_weight': 1},\n",
       "  mean: 0.85461, std: 0.00972, params: {'max_depth': 3, 'min_child_weight': 3},\n",
       "  mean: 0.85525, std: 0.00981, params: {'max_depth': 3, 'min_child_weight': 5},\n",
       "  mean: 0.84906, std: 0.00847, params: {'max_depth': 5, 'min_child_weight': 1},\n",
       "  mean: 0.84921, std: 0.00782, params: {'max_depth': 5, 'min_child_weight': 3},\n",
       "  mean: 0.84949, std: 0.00822, params: {'max_depth': 5, 'min_child_weight': 5},\n",
       "  mean: 0.84114, std: 0.00728, params: {'max_depth': 7, 'min_child_weight': 1},\n",
       "  mean: 0.84186, std: 0.00682, params: {'max_depth': 7, 'min_child_weight': 3},\n",
       "  mean: 0.84139, std: 0.00816, params: {'max_depth': 7, 'min_child_weight': 5},\n",
       "  mean: 0.83515, std: 0.00578, params: {'max_depth': 9, 'min_child_weight': 1},\n",
       "  mean: 0.83344, std: 0.00777, params: {'max_depth': 9, 'min_child_weight': 3},\n",
       "  mean: 0.83430, std: 0.00832, params: {'max_depth': 9, 'min_child_weight': 5}],\n",
       " {'max_depth': 3, 'min_child_weight': 5},\n",
       " 0.8552534895091325)"
      ]
     },
     "execution_count": 223,
     "metadata": {},
     "output_type": "execute_result"
    }
   ],
   "source": [
    "gs1.grid_scores_, gs1.best_params_, gs1.best_score_"
   ]
  },
  {
   "cell_type": "markdown",
   "metadata": {},
   "source": [
    "Fine tuning "
   ]
  },
  {
   "cell_type": "code",
   "execution_count": 224,
   "metadata": {
    "scrolled": true
   },
   "outputs": [
    {
     "name": "stdout",
     "output_type": "stream",
     "text": [
      "Fitting 5 folds for each of 9 candidates, totalling 45 fits\n",
      "[CV] max_depth=2, min_child_weight=4 .................................\n",
      "[CV] max_depth=2, min_child_weight=4 .................................\n",
      "[CV] max_depth=2, min_child_weight=4 .................................\n",
      "[CV] max_depth=2, min_child_weight=4 .................................\n",
      "[CV]  max_depth=2, min_child_weight=4, score=0.857380256139496, total=   3.9s\n",
      "[CV] max_depth=2, min_child_weight=4 .................................\n",
      "[CV]  max_depth=2, min_child_weight=4, score=0.8386623606034069, total=   4.0s\n",
      "[CV]  max_depth=2, min_child_weight=4, score=0.8447352274960747, total=   4.1s\n"
     ]
    },
    {
     "name": "stderr",
     "output_type": "stream",
     "text": [
      "[Parallel(n_jobs=-1)]: Done   1 tasks      | elapsed:    4.1s\n",
      "[Parallel(n_jobs=-1)]: Done   2 tasks      | elapsed:    4.3s\n",
      "[Parallel(n_jobs=-1)]: Done   3 tasks      | elapsed:    4.3s\n"
     ]
    },
    {
     "name": "stdout",
     "output_type": "stream",
     "text": [
      "[CV]  max_depth=2, min_child_weight=4, score=0.8544921495544988, total=   4.2s\n",
      "[CV] max_depth=2, min_child_weight=5 .................................\n",
      "[CV] max_depth=2, min_child_weight=5 .................................\n",
      "[CV] max_depth=2, min_child_weight=5 .................................\n"
     ]
    },
    {
     "name": "stderr",
     "output_type": "stream",
     "text": [
      "[Parallel(n_jobs=-1)]: Done   4 tasks      | elapsed:    4.4s\n"
     ]
    },
    {
     "name": "stdout",
     "output_type": "stream",
     "text": [
      "[CV]  max_depth=2, min_child_weight=5, score=0.8381833832984127, total=   3.5s\n",
      "[CV] max_depth=2, min_child_weight=5 .................................\n",
      "[CV]  max_depth=2, min_child_weight=4, score=0.8622975688709584, total=   3.8s\n",
      "[CV]  max_depth=2, min_child_weight=5, score=0.8545100831821428, total=   3.6s\n",
      "[CV]  max_depth=2, min_child_weight=5, score=0.8447352274960747, total=   3.6s\n",
      "[CV] max_depth=2, min_child_weight=5 .................................\n"
     ]
    },
    {
     "name": "stderr",
     "output_type": "stream",
     "text": [
      "[Parallel(n_jobs=-1)]: Done   5 tasks      | elapsed:    8.0s\n",
      "[Parallel(n_jobs=-1)]: Done   6 tasks      | elapsed:    8.2s\n",
      "[Parallel(n_jobs=-1)]: Done   7 tasks      | elapsed:    8.2s\n",
      "[Parallel(n_jobs=-1)]: Done   8 tasks      | elapsed:    8.2s\n"
     ]
    },
    {
     "name": "stdout",
     "output_type": "stream",
     "text": [
      "[CV] max_depth=2, min_child_weight=6 .................................\n",
      "[CV] max_depth=2, min_child_weight=6 .................................\n",
      "[CV]  max_depth=2, min_child_weight=6, score=0.8545100831821428, total=   3.2s\n",
      "[CV] max_depth=2, min_child_weight=6 .................................\n",
      "[CV]  max_depth=2, min_child_weight=5, score=0.857380256139496, total=   3.5s\n"
     ]
    },
    {
     "name": "stderr",
     "output_type": "stream",
     "text": [
      "[Parallel(n_jobs=-1)]: Done   9 tasks      | elapsed:   11.6s\n",
      "[Parallel(n_jobs=-1)]: Done  10 tasks      | elapsed:   11.8s\n"
     ]
    },
    {
     "name": "stdout",
     "output_type": "stream",
     "text": [
      "[CV] max_depth=2, min_child_weight=6 .................................\n",
      "[CV]  max_depth=2, min_child_weight=5, score=0.8622975688709584, total=   3.6s\n",
      "[CV]  max_depth=2, min_child_weight=6, score=0.8381613398811001, total=   3.4s\n",
      "[CV] max_depth=2, min_child_weight=6 .................................\n",
      "[CV] max_depth=3, min_child_weight=4 .................................\n"
     ]
    },
    {
     "name": "stderr",
     "output_type": "stream",
     "text": [
      "[Parallel(n_jobs=-1)]: Done  11 tasks      | elapsed:   11.9s\n",
      "[Parallel(n_jobs=-1)]: Done  12 tasks      | elapsed:   11.9s\n"
     ]
    },
    {
     "name": "stdout",
     "output_type": "stream",
     "text": [
      "[CV]  max_depth=2, min_child_weight=6, score=0.8446739470791287, total=   3.4s\n",
      "[CV] max_depth=3, min_child_weight=4 .................................\n",
      "[CV]  max_depth=2, min_child_weight=6, score=0.8573885293790258, total=   3.3s\n"
     ]
    },
    {
     "name": "stderr",
     "output_type": "stream",
     "text": [
      "[Parallel(n_jobs=-1)]: Done  13 tasks      | elapsed:   15.2s\n",
      "[Parallel(n_jobs=-1)]: Done  14 tasks      | elapsed:   15.3s\n"
     ]
    },
    {
     "name": "stdout",
     "output_type": "stream",
     "text": [
      "[CV] max_depth=3, min_child_weight=4 .................................\n",
      "[CV]  max_depth=2, min_child_weight=6, score=0.8622975688709584, total=   3.7s\n",
      "[CV] max_depth=3, min_child_weight=4 .................................\n"
     ]
    },
    {
     "name": "stderr",
     "output_type": "stream",
     "text": [
      "[Parallel(n_jobs=-1)]: Done  15 tasks      | elapsed:   15.8s\n"
     ]
    },
    {
     "name": "stdout",
     "output_type": "stream",
     "text": [
      "[CV]  max_depth=3, min_child_weight=4, score=0.8562040637600241, total=   4.9s\n",
      "[CV] max_depth=3, min_child_weight=4 .................................\n"
     ]
    },
    {
     "name": "stderr",
     "output_type": "stream",
     "text": [
      "[Parallel(n_jobs=-1)]: Done  16 tasks      | elapsed:   16.9s\n"
     ]
    },
    {
     "name": "stdout",
     "output_type": "stream",
     "text": [
      "[CV]  max_depth=3, min_child_weight=4, score=0.8396602922583518, total=   5.2s\n",
      "[CV] max_depth=3, min_child_weight=5 .................................\n",
      "[CV]  max_depth=3, min_child_weight=4, score=0.84902597766553, total=   5.1s\n"
     ]
    },
    {
     "name": "stderr",
     "output_type": "stream",
     "text": [
      "[Parallel(n_jobs=-1)]: Done  17 tasks      | elapsed:   20.5s\n",
      "[Parallel(n_jobs=-1)]: Done  18 tasks      | elapsed:   20.7s\n"
     ]
    },
    {
     "name": "stdout",
     "output_type": "stream",
     "text": [
      "[CV] max_depth=3, min_child_weight=5 .................................\n",
      "[CV]  max_depth=3, min_child_weight=4, score=0.8625555435217526, total=   5.1s\n",
      "[CV] max_depth=3, min_child_weight=5 .................................\n"
     ]
    },
    {
     "name": "stderr",
     "output_type": "stream",
     "text": [
      "[Parallel(n_jobs=-1)]: Done  19 tasks      | elapsed:   21.0s\n"
     ]
    },
    {
     "name": "stdout",
     "output_type": "stream",
     "text": [
      "[CV]  max_depth=3, min_child_weight=4, score=0.8675804083671033, total=   5.1s\n",
      "[CV] max_depth=3, min_child_weight=5 .................................\n"
     ]
    },
    {
     "name": "stderr",
     "output_type": "stream",
     "text": [
      "[Parallel(n_jobs=-1)]: Done  20 tasks      | elapsed:   22.1s\n"
     ]
    },
    {
     "name": "stdout",
     "output_type": "stream",
     "text": [
      "[CV]  max_depth=3, min_child_weight=5, score=0.8567099415064846, total=   5.1s\n",
      "[CV] max_depth=3, min_child_weight=5 .................................\n"
     ]
    },
    {
     "name": "stderr",
     "output_type": "stream",
     "text": [
      "[Parallel(n_jobs=-1)]: Done  21 tasks      | elapsed:   25.8s\n"
     ]
    },
    {
     "name": "stdout",
     "output_type": "stream",
     "text": [
      "[CV]  max_depth=3, min_child_weight=5, score=0.8401037759253005, total=   5.1s\n",
      "[CV] max_depth=3, min_child_weight=6 .................................\n"
     ]
    },
    {
     "name": "stderr",
     "output_type": "stream",
     "text": [
      "[Parallel(n_jobs=-1)]: Done  22 tasks      | elapsed:   26.1s\n"
     ]
    },
    {
     "name": "stdout",
     "output_type": "stream",
     "text": [
      "[CV]  max_depth=3, min_child_weight=5, score=0.8490289669541615, total=   5.5s\n",
      "[CV] max_depth=3, min_child_weight=6 .................................\n"
     ]
    },
    {
     "name": "stderr",
     "output_type": "stream",
     "text": [
      "[Parallel(n_jobs=-1)]: Done  23 tasks      | elapsed:   26.6s\n"
     ]
    },
    {
     "name": "stdout",
     "output_type": "stream",
     "text": [
      "[CV]  max_depth=3, min_child_weight=5, score=0.8627413153548318, total=   5.1s\n",
      "[CV] max_depth=3, min_child_weight=6 .................................\n"
     ]
    },
    {
     "name": "stderr",
     "output_type": "stream",
     "text": [
      "[Parallel(n_jobs=-1)]: Done  24 tasks      | elapsed:   27.4s\n"
     ]
    },
    {
     "name": "stdout",
     "output_type": "stream",
     "text": [
      "[CV]  max_depth=3, min_child_weight=5, score=0.8676834478048839, total=   5.2s\n",
      "[CV] max_depth=3, min_child_weight=6 .................................\n",
      "[CV]  max_depth=3, min_child_weight=6, score=0.8562701940119617, total=   4.9s\n",
      "[CV] max_depth=3, min_child_weight=6 .................................\n"
     ]
    },
    {
     "name": "stderr",
     "output_type": "stream",
     "text": [
      "[Parallel(n_jobs=-1)]: Done  25 tasks      | elapsed:   31.1s\n",
      "[Parallel(n_jobs=-1)]: Done  26 tasks      | elapsed:   31.2s\n"
     ]
    },
    {
     "name": "stdout",
     "output_type": "stream",
     "text": [
      "[CV]  max_depth=3, min_child_weight=6, score=0.839847474496887, total=   5.2s\n",
      "[CV] max_depth=4, min_child_weight=4 .................................\n"
     ]
    },
    {
     "name": "stderr",
     "output_type": "stream",
     "text": [
      "[Parallel(n_jobs=-1)]: Done  27 tasks      | elapsed:   32.0s\n"
     ]
    },
    {
     "name": "stdout",
     "output_type": "stream",
     "text": [
      "[CV]  max_depth=3, min_child_weight=6, score=0.8488522252638234, total=   5.2s\n",
      "[CV] max_depth=4, min_child_weight=4 .................................\n"
     ]
    },
    {
     "name": "stderr",
     "output_type": "stream",
     "text": [
      "[Parallel(n_jobs=-1)]: Done  28 tasks      | elapsed:   32.8s\n"
     ]
    },
    {
     "name": "stdout",
     "output_type": "stream",
     "text": [
      "[CV]  max_depth=3, min_child_weight=6, score=0.8630248618368999, total=   5.5s\n",
      "[CV] max_depth=4, min_child_weight=4 .................................\n",
      "[CV]  max_depth=3, min_child_weight=6, score=0.8677375999181701, total=   5.6s\n"
     ]
    },
    {
     "name": "stderr",
     "output_type": "stream",
     "text": [
      "[Parallel(n_jobs=-1)]: Done  29 tasks      | elapsed:   36.8s\n",
      "[Parallel(n_jobs=-1)]: Done  30 tasks      | elapsed:   37.0s\n"
     ]
    },
    {
     "name": "stdout",
     "output_type": "stream",
     "text": [
      "[CV] max_depth=4, min_child_weight=4 .................................\n",
      "[CV]  max_depth=4, min_child_weight=4, score=0.8518592688460009, total=   7.7s\n",
      "[CV] max_depth=4, min_child_weight=4 .................................\n"
     ]
    },
    {
     "name": "stderr",
     "output_type": "stream",
     "text": [
      "[Parallel(n_jobs=-1)]: Done  31 tasks      | elapsed:   39.9s\n"
     ]
    },
    {
     "name": "stdout",
     "output_type": "stream",
     "text": [
      "[CV]  max_depth=4, min_child_weight=4, score=0.8393901669919628, total=   7.5s\n",
      "[CV] max_depth=4, min_child_weight=5 .................................\n"
     ]
    },
    {
     "name": "stderr",
     "output_type": "stream",
     "text": [
      "[Parallel(n_jobs=-1)]: Done  32 tasks      | elapsed:   40.5s\n"
     ]
    },
    {
     "name": "stdout",
     "output_type": "stream",
     "text": [
      "[CV]  max_depth=4, min_child_weight=4, score=0.8476781821537974, total=   7.0s\n",
      "[CV] max_depth=4, min_child_weight=5 .................................\n"
     ]
    },
    {
     "name": "stderr",
     "output_type": "stream",
     "text": [
      "[Parallel(n_jobs=-1)]: Done  33 tasks      | elapsed:   44.0s\n"
     ]
    },
    {
     "name": "stdout",
     "output_type": "stream",
     "text": [
      "[CV]  max_depth=4, min_child_weight=4, score=0.8600709392684049, total=   7.1s\n",
      "[CV] max_depth=4, min_child_weight=5 .................................\n"
     ]
    },
    {
     "name": "stderr",
     "output_type": "stream",
     "text": [
      "[Parallel(n_jobs=-1)]: Done  34 tasks      | elapsed:   44.4s\n"
     ]
    },
    {
     "name": "stdout",
     "output_type": "stream",
     "text": [
      "[CV]  max_depth=4, min_child_weight=4, score=0.8640740590318203, total=   6.7s\n",
      "[CV] max_depth=4, min_child_weight=5 .................................\n"
     ]
    },
    {
     "name": "stderr",
     "output_type": "stream",
     "text": [
      "[Parallel(n_jobs=-1)]: Done  35 tasks      | elapsed:   46.7s\n"
     ]
    },
    {
     "name": "stdout",
     "output_type": "stream",
     "text": [
      "[CV]  max_depth=4, min_child_weight=5, score=0.8515420678070462, total=   6.7s\n",
      "[CV] max_depth=4, min_child_weight=5 .................................\n"
     ]
    },
    {
     "name": "stderr",
     "output_type": "stream",
     "text": [
      "[Parallel(n_jobs=-1)]: Done  36 tasks      | elapsed:   47.6s\n"
     ]
    },
    {
     "name": "stdout",
     "output_type": "stream",
     "text": [
      "[CV]  max_depth=4, min_child_weight=5, score=0.8398721332348975, total=   6.5s\n",
      "[CV] max_depth=4, min_child_weight=6 .................................\n"
     ]
    },
    {
     "name": "stderr",
     "output_type": "stream",
     "text": [
      "[Parallel(n_jobs=-1)]: Done  37 tasks      | elapsed:   50.7s\n"
     ]
    },
    {
     "name": "stdout",
     "output_type": "stream",
     "text": [
      "[CV]  max_depth=4, min_child_weight=5, score=0.8477346049767172, total=   6.4s\n",
      "[CV] max_depth=4, min_child_weight=6 .................................\n"
     ]
    },
    {
     "name": "stderr",
     "output_type": "stream",
     "text": [
      "[Parallel(n_jobs=-1)]: Done  38 tasks      | elapsed:   51.0s\n"
     ]
    },
    {
     "name": "stdout",
     "output_type": "stream",
     "text": [
      "[CV]  max_depth=4, min_child_weight=5, score=0.8621080364744568, total=   6.5s\n",
      "[CV] max_depth=4, min_child_weight=6 .................................\n",
      "[CV]  max_depth=4, min_child_weight=5, score=0.8637006350839509, total=   6.5s\n",
      "[CV] max_depth=4, min_child_weight=6 .................................\n",
      "[CV]  max_depth=4, min_child_weight=6, score=0.8519168059013591, total=   6.8s\n",
      "[CV] max_depth=4, min_child_weight=6 .................................\n"
     ]
    },
    {
     "name": "stderr",
     "output_type": "stream",
     "text": [
      "[Parallel(n_jobs=-1)]: Done  41 out of  45 | elapsed:   57.8s remaining:    5.6s\n"
     ]
    },
    {
     "name": "stdout",
     "output_type": "stream",
     "text": [
      "[CV]  max_depth=4, min_child_weight=6, score=0.8398280464002725, total=   7.0s\n",
      "[CV]  max_depth=4, min_child_weight=6, score=0.8479588016240805, total=   6.9s\n",
      "[CV]  max_depth=4, min_child_weight=6, score=0.8625491505639341, total=   6.6s\n",
      "[CV]  max_depth=4, min_child_weight=6, score=0.8637717097326391, total=   4.4s\n"
     ]
    },
    {
     "name": "stderr",
     "output_type": "stream",
     "text": [
      "[Parallel(n_jobs=-1)]: Done  45 out of  45 | elapsed:  1.0min finished\n"
     ]
    },
    {
     "data": {
      "text/plain": [
       "GridSearchCV(cv=<generator object _BaseKFold.split at 0x1c2e286410>,\n",
       "       error_score='raise',\n",
       "       estimator=XGBClassifier(base_score=0.5, booster='gbtree', colsample_bylevel=1,\n",
       "       colsample_bytree=0.8, gamma=0, learning_rate=0.025,\n",
       "       max_delta_step=0, max_depth=5, min_child_weight=1, missing=None,\n",
       "       n_estimators=157, n_jobs=1, nthread=4, objective='binary:logistic',\n",
       "       random_state=0, reg_alpha=0, reg_lambda=1,\n",
       "       scale_pos_weight=54.427841634738186, seed=1, silent=True,\n",
       "       subsample=0.8),\n",
       "       fit_params=None, iid=False, n_jobs=-1,\n",
       "       param_grid={'max_depth': [2, 3, 4], 'min_child_weight': [4, 5, 6]},\n",
       "       pre_dispatch='2*n_jobs', refit=True, return_train_score='warn',\n",
       "       scoring='roc_auc', verbose=20)"
      ]
     },
     "execution_count": 224,
     "metadata": {},
     "output_type": "execute_result"
    }
   ],
   "source": [
    "grid2 = {'max_depth':[2,3,4],\n",
    "         'min_child_weight':[4,5,6] \n",
    "}\n",
    "\n",
    "gs2 = GridSearchCV(xgbreg, \n",
    "                   grid2,\n",
    "                   n_jobs=-1, \n",
    "                   verbose=20,\n",
    "                   scoring='roc_auc',\n",
    "                   cv = StratifiedKFold(n_splits=5, \n",
    "                                   shuffle=True,\n",
    "                                   random_state=1).split(x_trn3,y_trn3),\n",
    "                            iid=False) \n",
    "\n",
    "gs2.fit(x_trn3, y_trn3)"
   ]
  },
  {
   "cell_type": "code",
   "execution_count": 225,
   "metadata": {},
   "outputs": [],
   "source": [
    "# print(\"AUC Score (Validation): %f\" % metrics.roc_auc_score(y_val2, gs2.best_estimator_.predict_proba(x_val2[select_cols])[:,1]))"
   ]
  },
  {
   "cell_type": "code",
   "execution_count": 227,
   "metadata": {},
   "outputs": [
    {
     "data": {
      "text/plain": [
       "([mean: 0.85151, std: 0.00861, params: {'max_depth': 2, 'min_child_weight': 4},\n",
       "  mean: 0.85142, std: 0.00876, params: {'max_depth': 2, 'min_child_weight': 5},\n",
       "  mean: 0.85141, std: 0.00877, params: {'max_depth': 2, 'min_child_weight': 6},\n",
       "  mean: 0.85501, std: 0.00988, params: {'max_depth': 3, 'min_child_weight': 4},\n",
       "  mean: 0.85525, std: 0.00981, params: {'max_depth': 3, 'min_child_weight': 5},\n",
       "  mean: 0.85515, std: 0.00996, params: {'max_depth': 3, 'min_child_weight': 6},\n",
       "  mean: 0.85261, std: 0.00879, params: {'max_depth': 4, 'min_child_weight': 4},\n",
       "  mean: 0.85299, std: 0.00894, params: {'max_depth': 4, 'min_child_weight': 5},\n",
       "  mean: 0.85320, std: 0.00902, params: {'max_depth': 4, 'min_child_weight': 6}],\n",
       " {'max_depth': 3, 'min_child_weight': 5},\n",
       " 0.8552534895091325)"
      ]
     },
     "execution_count": 227,
     "metadata": {},
     "output_type": "execute_result"
    }
   ],
   "source": [
    "gs2.grid_scores_, gs2.best_params_, gs2.best_score_"
   ]
  },
  {
   "cell_type": "markdown",
   "metadata": {},
   "source": [
    "####  {'max_depth': 3, 'min_child_weight': 5},\n"
   ]
  },
  {
   "cell_type": "markdown",
   "metadata": {},
   "source": [
    "### Step 3: Tune Gamma¶\n"
   ]
  },
  {
   "cell_type": "code",
   "execution_count": 228,
   "metadata": {},
   "outputs": [],
   "source": [
    "xgbreg = XGBClassifier(learning_rate =.025, # fixed\n",
    "                       n_estimators=157, # pre-tuned\n",
    "                       max_depth=3, # tuned\n",
    "                       min_child_weight=5, # tuned \n",
    "                       gamma=0, # now\n",
    "                       subsample=0.8,\n",
    "                       colsample_bytree=0.8,\n",
    "                       objective= 'binary:logistic', \n",
    "                       nthread=4, \n",
    "                       scale_pos_weight=scale_pos, \n",
    "                       seed=1)"
   ]
  },
  {
   "cell_type": "code",
   "execution_count": 229,
   "metadata": {
    "scrolled": true
   },
   "outputs": [
    {
     "name": "stdout",
     "output_type": "stream",
     "text": [
      "Fitting 5 folds for each of 10 candidates, totalling 50 fits\n",
      "[CV] gamma=0.0 .......................................................\n",
      "[CV] gamma=0.0 .......................................................\n",
      "[CV] gamma=0.0 .......................................................\n",
      "[CV] gamma=0.0 .......................................................\n",
      "[CV] .............. gamma=0.0, score=0.8490289669541615, total=   4.9s\n",
      "[CV] gamma=0.0 .......................................................\n"
     ]
    },
    {
     "name": "stderr",
     "output_type": "stream",
     "text": [
      "[Parallel(n_jobs=-1)]: Done   1 tasks      | elapsed:    5.2s\n"
     ]
    },
    {
     "name": "stdout",
     "output_type": "stream",
     "text": [
      "[CV] .............. gamma=0.0, score=0.8567099415064846, total=   5.2s\n",
      "[CV] .............. gamma=0.0, score=0.8627413153548318, total=   5.2s\n",
      "[CV] gamma=0.05 ......................................................\n"
     ]
    },
    {
     "name": "stderr",
     "output_type": "stream",
     "text": [
      "[Parallel(n_jobs=-1)]: Done   2 tasks      | elapsed:    5.4s\n",
      "[Parallel(n_jobs=-1)]: Done   3 tasks      | elapsed:    5.6s\n"
     ]
    },
    {
     "name": "stdout",
     "output_type": "stream",
     "text": [
      "[CV] gamma=0.05 ......................................................\n",
      "[CV] .............. gamma=0.0, score=0.8401037759253005, total=   5.5s\n",
      "[CV] gamma=0.05 ......................................................\n"
     ]
    },
    {
     "name": "stderr",
     "output_type": "stream",
     "text": [
      "[Parallel(n_jobs=-1)]: Done   4 tasks      | elapsed:    5.7s\n"
     ]
    },
    {
     "name": "stdout",
     "output_type": "stream",
     "text": [
      "[CV] .............. gamma=0.0, score=0.8676834478048839, total=   6.2s\n",
      "[CV] gamma=0.05 ......................................................\n",
      "[CV] ............. gamma=0.05, score=0.8567099415064846, total=   6.0s\n",
      "[CV] gamma=0.05 ......................................................\n"
     ]
    },
    {
     "name": "stderr",
     "output_type": "stream",
     "text": [
      "[Parallel(n_jobs=-1)]: Done   5 tasks      | elapsed:   11.6s\n",
      "[Parallel(n_jobs=-1)]: Done   6 tasks      | elapsed:   11.7s\n"
     ]
    },
    {
     "name": "stdout",
     "output_type": "stream",
     "text": [
      "[CV] ............. gamma=0.05, score=0.8401037759253005, total=   6.1s\n",
      "[CV] gamma=0.1 .......................................................\n",
      "[CV] ............. gamma=0.05, score=0.8490087892558988, total=   6.2s\n",
      "[CV] gamma=0.1 .......................................................\n"
     ]
    },
    {
     "name": "stderr",
     "output_type": "stream",
     "text": [
      "[Parallel(n_jobs=-1)]: Done   7 tasks      | elapsed:   12.1s\n",
      "[Parallel(n_jobs=-1)]: Done   8 tasks      | elapsed:   12.2s\n"
     ]
    },
    {
     "name": "stdout",
     "output_type": "stream",
     "text": [
      "[CV] ............. gamma=0.05, score=0.8627413153548318, total=   6.1s\n",
      "[CV] gamma=0.1 .......................................................\n"
     ]
    },
    {
     "name": "stderr",
     "output_type": "stream",
     "text": [
      "[Parallel(n_jobs=-1)]: Done   9 tasks      | elapsed:   17.9s\n"
     ]
    },
    {
     "name": "stdout",
     "output_type": "stream",
     "text": [
      "[CV] .............. gamma=0.1, score=0.8567099415064846, total=   5.9s\n",
      "[CV] gamma=0.1 .......................................................\n",
      "[CV] .............. gamma=0.1, score=0.8401037759253005, total=   6.0s\n"
     ]
    },
    {
     "name": "stderr",
     "output_type": "stream",
     "text": [
      "[Parallel(n_jobs=-1)]: Done  10 tasks      | elapsed:   18.2s\n",
      "[Parallel(n_jobs=-1)]: Done  11 tasks      | elapsed:   18.4s\n"
     ]
    },
    {
     "name": "stdout",
     "output_type": "stream",
     "text": [
      "[CV] gamma=0.1 .......................................................\n",
      "[CV] ............. gamma=0.05, score=0.8676834478048839, total=   6.6s\n",
      "[CV] gamma=0.15 ......................................................\n"
     ]
    },
    {
     "name": "stderr",
     "output_type": "stream",
     "text": [
      "[Parallel(n_jobs=-1)]: Done  12 tasks      | elapsed:   18.5s\n"
     ]
    },
    {
     "name": "stdout",
     "output_type": "stream",
     "text": [
      "[CV] .............. gamma=0.1, score=0.8490087892558988, total=   6.1s\n",
      "[CV] gamma=0.15 ......................................................\n"
     ]
    },
    {
     "name": "stderr",
     "output_type": "stream",
     "text": [
      "[Parallel(n_jobs=-1)]: Done  13 tasks      | elapsed:   24.1s\n"
     ]
    },
    {
     "name": "stdout",
     "output_type": "stream",
     "text": [
      "[CV] ............... gamma=0.1, score=0.862760118171945, total=   6.3s\n",
      "[CV] gamma=0.15 ......................................................\n",
      "[CV] .............. gamma=0.1, score=0.8676834478048839, total=   6.2s\n"
     ]
    },
    {
     "name": "stderr",
     "output_type": "stream",
     "text": [
      "[Parallel(n_jobs=-1)]: Done  14 tasks      | elapsed:   24.7s\n",
      "[Parallel(n_jobs=-1)]: Done  15 tasks      | elapsed:   24.9s\n"
     ]
    },
    {
     "name": "stdout",
     "output_type": "stream",
     "text": [
      "[CV] gamma=0.15 ......................................................\n",
      "[CV] ............. gamma=0.15, score=0.8567099415064846, total=   6.3s\n",
      "[CV] gamma=0.15 ......................................................\n"
     ]
    },
    {
     "name": "stderr",
     "output_type": "stream",
     "text": [
      "[Parallel(n_jobs=-1)]: Done  16 tasks      | elapsed:   25.1s\n"
     ]
    },
    {
     "name": "stdout",
     "output_type": "stream",
     "text": [
      "[CV] ............. gamma=0.15, score=0.8401037759253005, total=   6.1s\n",
      "[CV] gamma=0.2 .......................................................\n"
     ]
    },
    {
     "name": "stderr",
     "output_type": "stream",
     "text": [
      "[Parallel(n_jobs=-1)]: Done  17 tasks      | elapsed:   30.5s\n"
     ]
    },
    {
     "name": "stdout",
     "output_type": "stream",
     "text": [
      "[CV] .............. gamma=0.15, score=0.862760118171945, total=   5.9s\n",
      "[CV] ............. gamma=0.15, score=0.8490087892558988, total=   6.1s\n",
      "[CV] gamma=0.2 .......................................................\n",
      "[CV] gamma=0.2 .......................................................\n"
     ]
    },
    {
     "name": "stderr",
     "output_type": "stream",
     "text": [
      "[Parallel(n_jobs=-1)]: Done  18 tasks      | elapsed:   31.0s\n",
      "[Parallel(n_jobs=-1)]: Done  19 tasks      | elapsed:   31.0s\n"
     ]
    },
    {
     "name": "stdout",
     "output_type": "stream",
     "text": [
      "[CV] ............. gamma=0.15, score=0.8676834478048839, total=   5.9s\n",
      "[CV] gamma=0.2 .......................................................\n"
     ]
    },
    {
     "name": "stderr",
     "output_type": "stream",
     "text": [
      "[Parallel(n_jobs=-1)]: Done  20 tasks      | elapsed:   31.3s\n"
     ]
    },
    {
     "name": "stdout",
     "output_type": "stream",
     "text": [
      "[CV] .............. gamma=0.2, score=0.8567073261857864, total=   6.1s\n",
      "[CV] gamma=0.2 .......................................................\n"
     ]
    },
    {
     "name": "stderr",
     "output_type": "stream",
     "text": [
      "[Parallel(n_jobs=-1)]: Done  21 tasks      | elapsed:   36.8s\n"
     ]
    },
    {
     "name": "stdout",
     "output_type": "stream",
     "text": [
      "[CV] .............. gamma=0.2, score=0.8490020633564779, total=   6.2s\n",
      "[CV] gamma=0.25 ......................................................\n",
      "[CV] .............. gamma=0.2, score=0.8401037759253005, total=   6.3s\n",
      "[CV] gamma=0.25 ......................................................\n"
     ]
    },
    {
     "name": "stderr",
     "output_type": "stream",
     "text": [
      "[Parallel(n_jobs=-1)]: Done  22 tasks      | elapsed:   37.5s\n",
      "[Parallel(n_jobs=-1)]: Done  23 tasks      | elapsed:   37.6s\n"
     ]
    },
    {
     "name": "stdout",
     "output_type": "stream",
     "text": [
      "[CV] ............... gamma=0.2, score=0.862760118171945, total=   6.4s\n",
      "[CV] gamma=0.25 ......................................................\n"
     ]
    },
    {
     "name": "stderr",
     "output_type": "stream",
     "text": [
      "[Parallel(n_jobs=-1)]: Done  24 tasks      | elapsed:   37.8s\n"
     ]
    },
    {
     "name": "stdout",
     "output_type": "stream",
     "text": [
      "[CV] .............. gamma=0.2, score=0.8676834478048839, total=   6.2s\n",
      "[CV] gamma=0.25 ......................................................\n"
     ]
    },
    {
     "name": "stderr",
     "output_type": "stream",
     "text": [
      "[Parallel(n_jobs=-1)]: Done  25 tasks      | elapsed:   43.2s\n"
     ]
    },
    {
     "name": "stdout",
     "output_type": "stream",
     "text": [
      "[CV] ............. gamma=0.25, score=0.8401037759253005, total=   6.1s\n",
      "[CV] gamma=0.25 ......................................................\n"
     ]
    },
    {
     "name": "stderr",
     "output_type": "stream",
     "text": [
      "[Parallel(n_jobs=-1)]: Done  26 tasks      | elapsed:   43.9s\n"
     ]
    },
    {
     "name": "stdout",
     "output_type": "stream",
     "text": [
      "[CV] ............. gamma=0.25, score=0.8567073261857864, total=   6.5s\n",
      "[CV] gamma=0.3 .......................................................\n"
     ]
    },
    {
     "name": "stderr",
     "output_type": "stream",
     "text": [
      "[Parallel(n_jobs=-1)]: Done  27 tasks      | elapsed:   44.2s\n"
     ]
    },
    {
     "name": "stdout",
     "output_type": "stream",
     "text": [
      "[CV] ............. gamma=0.25, score=0.8490020633564779, total=   6.4s\n",
      "[CV] gamma=0.3 .......................................................\n"
     ]
    },
    {
     "name": "stderr",
     "output_type": "stream",
     "text": [
      "[Parallel(n_jobs=-1)]: Done  28 tasks      | elapsed:   44.4s\n"
     ]
    },
    {
     "name": "stdout",
     "output_type": "stream",
     "text": [
      "[CV] .............. gamma=0.25, score=0.862760118171945, total=   6.0s\n",
      "[CV] gamma=0.3 .......................................................\n"
     ]
    },
    {
     "name": "stderr",
     "output_type": "stream",
     "text": [
      "[Parallel(n_jobs=-1)]: Done  29 tasks      | elapsed:   49.3s\n"
     ]
    },
    {
     "name": "stdout",
     "output_type": "stream",
     "text": [
      "[CV] ............. gamma=0.25, score=0.8676834478048839, total=   6.1s\n",
      "[CV] gamma=0.3 .......................................................\n"
     ]
    },
    {
     "name": "stderr",
     "output_type": "stream",
     "text": [
      "[Parallel(n_jobs=-1)]: Done  30 tasks      | elapsed:   50.1s\n"
     ]
    },
    {
     "name": "stdout",
     "output_type": "stream",
     "text": [
      "[CV] .............. gamma=0.3, score=0.8567073261857864, total=   6.0s\n",
      "[CV] gamma=0.3 .......................................................\n"
     ]
    },
    {
     "name": "stderr",
     "output_type": "stream",
     "text": [
      "[Parallel(n_jobs=-1)]: Done  31 tasks      | elapsed:   50.3s\n"
     ]
    },
    {
     "name": "stdout",
     "output_type": "stream",
     "text": [
      "[CV] .............. gamma=0.3, score=0.8401037759253005, total=   6.1s\n",
      "[CV] gamma=0.35 ......................................................\n"
     ]
    },
    {
     "name": "stderr",
     "output_type": "stream",
     "text": [
      "[Parallel(n_jobs=-1)]: Done  32 tasks      | elapsed:   50.7s\n"
     ]
    },
    {
     "name": "stdout",
     "output_type": "stream",
     "text": [
      "[CV] .............. gamma=0.3, score=0.8490020633564779, total=   5.9s\n",
      "[CV] gamma=0.35 ......................................................\n"
     ]
    },
    {
     "name": "stderr",
     "output_type": "stream",
     "text": [
      "[Parallel(n_jobs=-1)]: Done  33 tasks      | elapsed:   55.4s\n"
     ]
    },
    {
     "name": "stdout",
     "output_type": "stream",
     "text": [
      "[CV] ............... gamma=0.3, score=0.862760118171945, total=   5.8s\n",
      "[CV] gamma=0.35 ......................................................\n"
     ]
    },
    {
     "name": "stderr",
     "output_type": "stream",
     "text": [
      "[Parallel(n_jobs=-1)]: Done  34 tasks      | elapsed:   56.0s\n"
     ]
    },
    {
     "name": "stdout",
     "output_type": "stream",
     "text": [
      "[CV] .............. gamma=0.3, score=0.8676834478048839, total=   6.1s\n",
      "[CV] gamma=0.35 ......................................................\n"
     ]
    },
    {
     "name": "stderr",
     "output_type": "stream",
     "text": [
      "[Parallel(n_jobs=-1)]: Done  35 tasks      | elapsed:   56.5s\n"
     ]
    },
    {
     "name": "stdout",
     "output_type": "stream",
     "text": [
      "[CV] ............. gamma=0.35, score=0.8567073261857864, total=   5.9s\n",
      "[CV] gamma=0.35 ......................................................\n"
     ]
    },
    {
     "name": "stderr",
     "output_type": "stream",
     "text": [
      "[Parallel(n_jobs=-1)]: Done  36 tasks      | elapsed:   56.8s\n"
     ]
    },
    {
     "name": "stdout",
     "output_type": "stream",
     "text": [
      "[CV] ............. gamma=0.35, score=0.8401037759253005, total=   6.1s\n",
      "[CV] gamma=0.4 .......................................................\n"
     ]
    },
    {
     "name": "stderr",
     "output_type": "stream",
     "text": [
      "[Parallel(n_jobs=-1)]: Done  37 tasks      | elapsed:  1.0min\n"
     ]
    },
    {
     "name": "stdout",
     "output_type": "stream",
     "text": [
      "[CV] ............. gamma=0.35, score=0.8490020633564779, total=   6.1s\n",
      "[CV] gamma=0.4 .......................................................\n"
     ]
    },
    {
     "name": "stderr",
     "output_type": "stream",
     "text": [
      "[Parallel(n_jobs=-1)]: Done  38 tasks      | elapsed:  1.0min\n"
     ]
    },
    {
     "name": "stdout",
     "output_type": "stream",
     "text": [
      "[CV] .............. gamma=0.35, score=0.862760118171945, total=   5.9s\n",
      "[CV] gamma=0.4 .......................................................\n"
     ]
    },
    {
     "name": "stderr",
     "output_type": "stream",
     "text": [
      "[Parallel(n_jobs=-1)]: Done  39 tasks      | elapsed:  1.0min\n"
     ]
    },
    {
     "name": "stdout",
     "output_type": "stream",
     "text": [
      "[CV] ............. gamma=0.35, score=0.8676841999175684, total=   6.0s\n",
      "[CV] gamma=0.4 .......................................................\n"
     ]
    },
    {
     "name": "stderr",
     "output_type": "stream",
     "text": [
      "[Parallel(n_jobs=-1)]: Done  40 tasks      | elapsed:  1.0min\n"
     ]
    },
    {
     "name": "stdout",
     "output_type": "stream",
     "text": [
      "[CV] .............. gamma=0.4, score=0.8567073261857864, total=   5.5s\n",
      "[CV] gamma=0.4 .......................................................\n"
     ]
    },
    {
     "name": "stderr",
     "output_type": "stream",
     "text": [
      "[Parallel(n_jobs=-1)]: Done  41 tasks      | elapsed:  1.1min\n"
     ]
    },
    {
     "name": "stdout",
     "output_type": "stream",
     "text": [
      "[CV] .............. gamma=0.4, score=0.8401037759253005, total=   5.4s\n",
      "[CV] gamma=0.45 ......................................................\n"
     ]
    },
    {
     "name": "stderr",
     "output_type": "stream",
     "text": [
      "[Parallel(n_jobs=-1)]: Done  42 tasks      | elapsed:  1.1min\n"
     ]
    },
    {
     "name": "stdout",
     "output_type": "stream",
     "text": [
      "[CV] .............. gamma=0.4, score=0.8490020633564779, total=   5.6s\n",
      "[CV] gamma=0.45 ......................................................\n"
     ]
    },
    {
     "name": "stderr",
     "output_type": "stream",
     "text": [
      "[Parallel(n_jobs=-1)]: Done  43 tasks      | elapsed:  1.1min\n"
     ]
    },
    {
     "name": "stdout",
     "output_type": "stream",
     "text": [
      "[CV] ............... gamma=0.4, score=0.862760118171945, total=   5.6s\n",
      "[CV] gamma=0.45 ......................................................\n",
      "[CV] .............. gamma=0.4, score=0.8676841999175684, total=   4.9s\n",
      "[CV] gamma=0.45 ......................................................\n",
      "[CV] ............. gamma=0.45, score=0.8567073261857864, total=   4.8s\n",
      "[CV] gamma=0.45 ......................................................\n"
     ]
    },
    {
     "name": "stderr",
     "output_type": "stream",
     "text": [
      "[Parallel(n_jobs=-1)]: Done  46 out of  50 | elapsed:  1.2min remaining:    6.3s\n"
     ]
    },
    {
     "name": "stdout",
     "output_type": "stream",
     "text": [
      "[CV] ............. gamma=0.45, score=0.8401037759253005, total=   5.3s\n",
      "[CV] ............. gamma=0.45, score=0.8490020633564779, total=   5.1s\n",
      "[CV] .............. gamma=0.45, score=0.862760118171945, total=   3.5s\n",
      "[CV] ............. gamma=0.45, score=0.8676841999175684, total=   3.1s\n"
     ]
    },
    {
     "name": "stderr",
     "output_type": "stream",
     "text": [
      "[Parallel(n_jobs=-1)]: Done  50 out of  50 | elapsed:  1.3min finished\n"
     ]
    },
    {
     "data": {
      "text/plain": [
       "GridSearchCV(cv=<generator object _BaseKFold.split at 0x1c2e2860a0>,\n",
       "       error_score='raise',\n",
       "       estimator=XGBClassifier(base_score=0.5, booster='gbtree', colsample_bylevel=1,\n",
       "       colsample_bytree=0.8, gamma=0, learning_rate=0.025,\n",
       "       max_delta_step=0, max_depth=3, min_child_weight=5, missing=None,\n",
       "       n_estimators=157, n_jobs=1, nthread=4, objective='binary:logistic',\n",
       "       random_state=0, reg_alpha=0, reg_lambda=1,\n",
       "       scale_pos_weight=54.427841634738186, seed=1, silent=True,\n",
       "       subsample=0.8),\n",
       "       fit_params=None, iid=False, n_jobs=-1,\n",
       "       param_grid={'gamma': [0.0, 0.05, 0.1, 0.15, 0.2, 0.25, 0.3, 0.35, 0.4, 0.45]},\n",
       "       pre_dispatch='2*n_jobs', refit=True, return_train_score='warn',\n",
       "       scoring='roc_auc', verbose=20)"
      ]
     },
     "execution_count": 229,
     "metadata": {},
     "output_type": "execute_result"
    }
   ],
   "source": [
    "grid3 = {\n",
    "    'gamma':[i/20.0 for i in range(0,10)]\n",
    "}\n",
    "\n",
    "gs3 = GridSearchCV(xgbreg, \n",
    "                   grid3,\n",
    "                   n_jobs=-1, \n",
    "                   verbose=20,\n",
    "                   scoring='roc_auc',\n",
    "                   cv = StratifiedKFold(n_splits=5, \n",
    "                                   shuffle=True,\n",
    "                                   random_state=1).split(x_trn3,y_trn3),\n",
    "                            iid=False)  \n",
    "\n",
    "gs3.fit(x_trn3, y_trn3)"
   ]
  },
  {
   "cell_type": "code",
   "execution_count": 230,
   "metadata": {
    "scrolled": true
   },
   "outputs": [],
   "source": [
    "# print(\"AUC Score (Validation): %f\" % metrics.roc_auc_score(y_val2, gs3.best_estimator_.predict_proba(x_val2[select_cols])[:,1]))"
   ]
  },
  {
   "cell_type": "code",
   "execution_count": 232,
   "metadata": {},
   "outputs": [
    {
     "data": {
      "text/plain": [
       "([mean: 0.85525, std: 0.00981, params: {'gamma': 0.0},\n",
       "  mean: 0.85525, std: 0.00981, params: {'gamma': 0.05},\n",
       "  mean: 0.85525, std: 0.00981, params: {'gamma': 0.1},\n",
       "  mean: 0.85525, std: 0.00981, params: {'gamma': 0.15},\n",
       "  mean: 0.85525, std: 0.00981, params: {'gamma': 0.2},\n",
       "  mean: 0.85525, std: 0.00981, params: {'gamma': 0.25},\n",
       "  mean: 0.85525, std: 0.00981, params: {'gamma': 0.3},\n",
       "  mean: 0.85525, std: 0.00981, params: {'gamma': 0.35},\n",
       "  mean: 0.85525, std: 0.00981, params: {'gamma': 0.4},\n",
       "  mean: 0.85525, std: 0.00981, params: {'gamma': 0.45}],\n",
       " {'gamma': 0.0},\n",
       " 0.8552534895091325)"
      ]
     },
     "execution_count": 232,
     "metadata": {},
     "output_type": "execute_result"
    }
   ],
   "source": [
    "gs3.grid_scores_, gs3.best_params_, gs3.best_score_"
   ]
  },
  {
   "cell_type": "markdown",
   "metadata": {},
   "source": [
    "### Step 4: Subsample and colsample_bytree¶"
   ]
  },
  {
   "cell_type": "code",
   "execution_count": 235,
   "metadata": {},
   "outputs": [],
   "source": [
    "xgbreg = XGBClassifier(learning_rate =0.025, # fixed\n",
    "                       n_estimators=157, # pre-tuned\n",
    "                       max_depth=3, # tuned\n",
    "                       min_child_weight=5, # tuned \n",
    "                       gamma=0., # tuned\n",
    "                       subsample=0.8,\n",
    "                       colsample_bytree=0.8,\n",
    "                       objective= 'binary:logistic', \n",
    "                       nthread=4, \n",
    "                       scale_pos_weight=scale_pos, \n",
    "                       seed=1)"
   ]
  },
  {
   "cell_type": "code",
   "execution_count": 236,
   "metadata": {
    "scrolled": true
   },
   "outputs": [
    {
     "name": "stdout",
     "output_type": "stream",
     "text": [
      "Fitting 5 folds for each of 16 candidates, totalling 80 fits\n",
      "[CV] colsample_bytree=0.6, subsample=0.6 .............................\n",
      "[CV] colsample_bytree=0.6, subsample=0.6 .............................\n",
      "[CV] colsample_bytree=0.6, subsample=0.6 .............................\n",
      "[CV] colsample_bytree=0.6, subsample=0.6 .............................\n",
      "[CV]  colsample_bytree=0.6, subsample=0.6, score=0.8493921655228901, total=   5.0s\n",
      "[CV] colsample_bytree=0.6, subsample=0.6 .............................\n"
     ]
    },
    {
     "name": "stderr",
     "output_type": "stream",
     "text": [
      "[Parallel(n_jobs=-1)]: Done   1 tasks      | elapsed:    5.2s\n"
     ]
    },
    {
     "name": "stdout",
     "output_type": "stream",
     "text": [
      "[CV]  colsample_bytree=0.6, subsample=0.6, score=0.8383186327402283, total=   5.3s\n",
      "[CV]  colsample_bytree=0.6, subsample=0.6, score=0.8620561406992242, total=   5.2s\n",
      "[CV] colsample_bytree=0.6, subsample=0.7 .............................\n",
      "[CV] colsample_bytree=0.6, subsample=0.7 .............................\n",
      "[CV]  colsample_bytree=0.6, subsample=0.6, score=0.855997079807632, total=   5.4s\n",
      "[CV] colsample_bytree=0.6, subsample=0.7 .............................\n"
     ]
    },
    {
     "name": "stderr",
     "output_type": "stream",
     "text": [
      "[Parallel(n_jobs=-1)]: Done   2 tasks      | elapsed:    5.5s\n",
      "[Parallel(n_jobs=-1)]: Done   3 tasks      | elapsed:    5.6s\n",
      "[Parallel(n_jobs=-1)]: Done   4 tasks      | elapsed:    5.6s\n"
     ]
    },
    {
     "name": "stdout",
     "output_type": "stream",
     "text": [
      "[CV]  colsample_bytree=0.6, subsample=0.6, score=0.8676785590724345, total=   4.9s\n",
      "[CV] colsample_bytree=0.6, subsample=0.7 .............................\n"
     ]
    },
    {
     "name": "stderr",
     "output_type": "stream",
     "text": [
      "[Parallel(n_jobs=-1)]: Done   5 tasks      | elapsed:   10.2s\n"
     ]
    },
    {
     "name": "stdout",
     "output_type": "stream",
     "text": [
      "[CV]  colsample_bytree=0.6, subsample=0.7, score=0.8570589000110591, total=   4.7s\n",
      "[CV] colsample_bytree=0.6, subsample=0.7 .............................\n",
      "[CV]  colsample_bytree=0.6, subsample=0.7, score=0.8486844514393799, total=   4.7s\n",
      "[CV] colsample_bytree=0.6, subsample=0.8 .............................\n",
      "[CV]  colsample_bytree=0.6, subsample=0.7, score=0.8397327740034134, total=   4.9s\n"
     ]
    },
    {
     "name": "stderr",
     "output_type": "stream",
     "text": [
      "[Parallel(n_jobs=-1)]: Done   6 tasks      | elapsed:   10.5s\n",
      "[Parallel(n_jobs=-1)]: Done   7 tasks      | elapsed:   10.6s\n",
      "[Parallel(n_jobs=-1)]: Done   8 tasks      | elapsed:   10.7s\n"
     ]
    },
    {
     "name": "stdout",
     "output_type": "stream",
     "text": [
      "[CV] colsample_bytree=0.6, subsample=0.8 .............................\n",
      "[CV]  colsample_bytree=0.6, subsample=0.7, score=0.8617782350622899, total=   5.2s\n",
      "[CV] colsample_bytree=0.6, subsample=0.8 .............................\n"
     ]
    },
    {
     "name": "stderr",
     "output_type": "stream",
     "text": [
      "[Parallel(n_jobs=-1)]: Done   9 tasks      | elapsed:   15.5s\n"
     ]
    },
    {
     "name": "stdout",
     "output_type": "stream",
     "text": [
      "[CV]  colsample_bytree=0.6, subsample=0.7, score=0.8684141252779056, total=   5.2s\n",
      "[CV] colsample_bytree=0.6, subsample=0.8 .............................\n",
      "[CV]  colsample_bytree=0.6, subsample=0.8, score=0.855446741609304, total=   5.3s\n"
     ]
    },
    {
     "name": "stderr",
     "output_type": "stream",
     "text": [
      "[Parallel(n_jobs=-1)]: Done  10 tasks      | elapsed:   15.8s\n",
      "[Parallel(n_jobs=-1)]: Done  11 tasks      | elapsed:   16.0s\n"
     ]
    },
    {
     "name": "stdout",
     "output_type": "stream",
     "text": [
      "[CV] colsample_bytree=0.6, subsample=0.8 .............................\n",
      "[CV]  colsample_bytree=0.6, subsample=0.8, score=0.8408771636174518, total=   5.4s\n",
      "[CV] colsample_bytree=0.6, subsample=0.9 .............................\n"
     ]
    },
    {
     "name": "stderr",
     "output_type": "stream",
     "text": [
      "[Parallel(n_jobs=-1)]: Done  12 tasks      | elapsed:   16.2s\n"
     ]
    },
    {
     "name": "stdout",
     "output_type": "stream",
     "text": [
      "[CV]  colsample_bytree=0.6, subsample=0.8, score=0.8481456321635501, total=   4.6s\n",
      "[CV] colsample_bytree=0.6, subsample=0.9 .............................\n"
     ]
    },
    {
     "name": "stderr",
     "output_type": "stream",
     "text": [
      "[Parallel(n_jobs=-1)]: Done  13 tasks      | elapsed:   20.3s\n"
     ]
    },
    {
     "name": "stdout",
     "output_type": "stream",
     "text": [
      "[CV]  colsample_bytree=0.6, subsample=0.8, score=0.862101267460296, total=   4.6s\n",
      "[CV] colsample_bytree=0.6, subsample=0.9 .............................\n",
      "[CV]  colsample_bytree=0.6, subsample=0.8, score=0.8695035605014485, total=   4.6s\n"
     ]
    },
    {
     "name": "stderr",
     "output_type": "stream",
     "text": [
      "[Parallel(n_jobs=-1)]: Done  14 tasks      | elapsed:   20.6s\n",
      "[Parallel(n_jobs=-1)]: Done  15 tasks      | elapsed:   20.8s\n"
     ]
    },
    {
     "name": "stdout",
     "output_type": "stream",
     "text": [
      "[CV] colsample_bytree=0.6, subsample=0.9 .............................\n",
      "[CV]  colsample_bytree=0.6, subsample=0.9, score=0.8558715444141234, total=   4.9s\n",
      "[CV] colsample_bytree=0.6, subsample=0.9 .............................\n"
     ]
    },
    {
     "name": "stderr",
     "output_type": "stream",
     "text": [
      "[Parallel(n_jobs=-1)]: Done  16 tasks      | elapsed:   21.2s\n"
     ]
    },
    {
     "name": "stdout",
     "output_type": "stream",
     "text": [
      "[CV]  colsample_bytree=0.6, subsample=0.9, score=0.8403159905190889, total=   5.4s\n",
      "[CV] colsample_bytree=0.7, subsample=0.6 .............................\n",
      "[CV]  colsample_bytree=0.6, subsample=0.9, score=0.8480297972290789, total=   5.2s\n"
     ]
    },
    {
     "name": "stderr",
     "output_type": "stream",
     "text": [
      "[Parallel(n_jobs=-1)]: Done  17 tasks      | elapsed:   25.9s\n",
      "[Parallel(n_jobs=-1)]: Done  18 tasks      | elapsed:   26.0s\n"
     ]
    },
    {
     "name": "stdout",
     "output_type": "stream",
     "text": [
      "[CV] colsample_bytree=0.7, subsample=0.6 .............................\n",
      "[CV]  colsample_bytree=0.6, subsample=0.9, score=0.8629473942303931, total=   5.3s\n",
      "[CV] colsample_bytree=0.7, subsample=0.6 .............................\n",
      "[CV]  colsample_bytree=0.6, subsample=0.9, score=0.8707930576990768, total=   5.2s\n"
     ]
    },
    {
     "name": "stderr",
     "output_type": "stream",
     "text": [
      "[Parallel(n_jobs=-1)]: Done  19 tasks      | elapsed:   26.3s\n",
      "[Parallel(n_jobs=-1)]: Done  20 tasks      | elapsed:   26.5s\n"
     ]
    },
    {
     "name": "stdout",
     "output_type": "stream",
     "text": [
      "[CV] colsample_bytree=0.7, subsample=0.6 .............................\n",
      "[CV]  colsample_bytree=0.7, subsample=0.6, score=0.855997079807632, total=   5.4s\n",
      "[CV] colsample_bytree=0.7, subsample=0.6 .............................\n"
     ]
    },
    {
     "name": "stderr",
     "output_type": "stream",
     "text": [
      "[Parallel(n_jobs=-1)]: Done  21 tasks      | elapsed:   31.4s\n"
     ]
    },
    {
     "name": "stdout",
     "output_type": "stream",
     "text": [
      "[CV]  colsample_bytree=0.7, subsample=0.6, score=0.8383186327402283, total=   5.5s\n",
      "[CV] colsample_bytree=0.7, subsample=0.7 .............................\n",
      "[CV]  colsample_bytree=0.7, subsample=0.6, score=0.8493921655228901, total=   5.2s\n",
      "[CV] colsample_bytree=0.7, subsample=0.7 .............................\n"
     ]
    },
    {
     "name": "stderr",
     "output_type": "stream",
     "text": [
      "[Parallel(n_jobs=-1)]: Done  22 tasks      | elapsed:   31.7s\n",
      "[Parallel(n_jobs=-1)]: Done  23 tasks      | elapsed:   31.8s\n"
     ]
    },
    {
     "name": "stdout",
     "output_type": "stream",
     "text": [
      "[CV]  colsample_bytree=0.7, subsample=0.6, score=0.8620561406992242, total=   5.3s\n",
      "[CV] colsample_bytree=0.7, subsample=0.7 .............................\n"
     ]
    },
    {
     "name": "stderr",
     "output_type": "stream",
     "text": [
      "[Parallel(n_jobs=-1)]: Done  24 tasks      | elapsed:   32.1s\n"
     ]
    },
    {
     "name": "stdout",
     "output_type": "stream",
     "text": [
      "[CV]  colsample_bytree=0.7, subsample=0.6, score=0.8676785590724345, total=   5.1s\n",
      "[CV] colsample_bytree=0.7, subsample=0.7 .............................\n"
     ]
    },
    {
     "name": "stderr",
     "output_type": "stream",
     "text": [
      "[Parallel(n_jobs=-1)]: Done  25 tasks      | elapsed:   36.7s\n"
     ]
    },
    {
     "name": "stdout",
     "output_type": "stream",
     "text": [
      "[CV]  colsample_bytree=0.7, subsample=0.7, score=0.8570589000110591, total=   5.4s\n",
      "[CV] colsample_bytree=0.7, subsample=0.7 .............................\n"
     ]
    },
    {
     "name": "stderr",
     "output_type": "stream",
     "text": [
      "[Parallel(n_jobs=-1)]: Done  26 tasks      | elapsed:   37.3s\n"
     ]
    },
    {
     "name": "stdout",
     "output_type": "stream",
     "text": [
      "[CV]  colsample_bytree=0.7, subsample=0.7, score=0.8397327740034134, total=   5.5s\n",
      "[CV] colsample_bytree=0.7, subsample=0.8 .............................\n"
     ]
    },
    {
     "name": "stderr",
     "output_type": "stream",
     "text": [
      "[Parallel(n_jobs=-1)]: Done  27 tasks      | elapsed:   37.5s\n"
     ]
    },
    {
     "name": "stdout",
     "output_type": "stream",
     "text": [
      "[CV]  colsample_bytree=0.7, subsample=0.7, score=0.8486844514393799, total=   5.4s\n",
      "[CV] colsample_bytree=0.7, subsample=0.8 .............................\n"
     ]
    },
    {
     "name": "stderr",
     "output_type": "stream",
     "text": [
      "[Parallel(n_jobs=-1)]: Done  28 tasks      | elapsed:   37.7s\n"
     ]
    },
    {
     "name": "stdout",
     "output_type": "stream",
     "text": [
      "[CV]  colsample_bytree=0.7, subsample=0.7, score=0.8617782350622899, total=   5.0s\n",
      "[CV] colsample_bytree=0.7, subsample=0.8 .............................\n"
     ]
    },
    {
     "name": "stderr",
     "output_type": "stream",
     "text": [
      "[Parallel(n_jobs=-1)]: Done  29 tasks      | elapsed:   41.8s\n"
     ]
    },
    {
     "name": "stdout",
     "output_type": "stream",
     "text": [
      "[CV]  colsample_bytree=0.7, subsample=0.7, score=0.8684141252779056, total=   4.8s\n",
      "[CV] colsample_bytree=0.7, subsample=0.8 .............................\n"
     ]
    },
    {
     "name": "stderr",
     "output_type": "stream",
     "text": [
      "[Parallel(n_jobs=-1)]: Done  30 tasks      | elapsed:   42.2s\n"
     ]
    },
    {
     "name": "stdout",
     "output_type": "stream",
     "text": [
      "[CV]  colsample_bytree=0.7, subsample=0.8, score=0.855446741609304, total=   4.8s\n",
      "[CV] colsample_bytree=0.7, subsample=0.8 .............................\n"
     ]
    },
    {
     "name": "stderr",
     "output_type": "stream",
     "text": [
      "[Parallel(n_jobs=-1)]: Done  31 tasks      | elapsed:   42.5s\n"
     ]
    },
    {
     "name": "stdout",
     "output_type": "stream",
     "text": [
      "[CV]  colsample_bytree=0.7, subsample=0.8, score=0.8408771636174518, total=   4.9s\n",
      "[CV] colsample_bytree=0.7, subsample=0.9 .............................\n"
     ]
    },
    {
     "name": "stderr",
     "output_type": "stream",
     "text": [
      "[Parallel(n_jobs=-1)]: Done  32 tasks      | elapsed:   43.0s\n"
     ]
    },
    {
     "name": "stdout",
     "output_type": "stream",
     "text": [
      "[CV]  colsample_bytree=0.7, subsample=0.8, score=0.8481456321635501, total=   5.4s\n",
      "[CV] colsample_bytree=0.7, subsample=0.9 .............................\n",
      "[CV]  colsample_bytree=0.7, subsample=0.8, score=0.862101267460296, total=   5.2s\n",
      "[CV] colsample_bytree=0.7, subsample=0.9 .............................\n"
     ]
    },
    {
     "name": "stderr",
     "output_type": "stream",
     "text": [
      "[Parallel(n_jobs=-1)]: Done  33 tasks      | elapsed:   47.5s\n",
      "[Parallel(n_jobs=-1)]: Done  34 tasks      | elapsed:   47.6s\n"
     ]
    },
    {
     "name": "stdout",
     "output_type": "stream",
     "text": [
      "[CV]  colsample_bytree=0.7, subsample=0.8, score=0.8695035605014485, total=   5.3s\n",
      "[CV] colsample_bytree=0.7, subsample=0.9 .............................\n"
     ]
    },
    {
     "name": "stderr",
     "output_type": "stream",
     "text": [
      "[Parallel(n_jobs=-1)]: Done  35 tasks      | elapsed:   48.2s\n"
     ]
    },
    {
     "name": "stdout",
     "output_type": "stream",
     "text": [
      "[CV]  colsample_bytree=0.7, subsample=0.9, score=0.8558715444141234, total=   5.7s\n",
      "[CV] colsample_bytree=0.7, subsample=0.9 .............................\n"
     ]
    },
    {
     "name": "stderr",
     "output_type": "stream",
     "text": [
      "[Parallel(n_jobs=-1)]: Done  36 tasks      | elapsed:   49.0s\n"
     ]
    },
    {
     "name": "stdout",
     "output_type": "stream",
     "text": [
      "[CV]  colsample_bytree=0.7, subsample=0.9, score=0.8480297972290789, total=   6.1s\n",
      "[CV] colsample_bytree=0.8, subsample=0.6 .............................\n",
      "[CV]  colsample_bytree=0.7, subsample=0.9, score=0.8403159905190889, total=   6.3s\n",
      "[CV] colsample_bytree=0.8, subsample=0.6 .............................\n"
     ]
    },
    {
     "name": "stderr",
     "output_type": "stream",
     "text": [
      "[Parallel(n_jobs=-1)]: Done  37 tasks      | elapsed:   53.9s\n",
      "[Parallel(n_jobs=-1)]: Done  38 tasks      | elapsed:   54.0s\n"
     ]
    },
    {
     "name": "stdout",
     "output_type": "stream",
     "text": [
      "[CV]  colsample_bytree=0.7, subsample=0.9, score=0.8629473942303931, total=   6.2s\n",
      "[CV] colsample_bytree=0.8, subsample=0.6 .............................\n"
     ]
    },
    {
     "name": "stderr",
     "output_type": "stream",
     "text": [
      "[Parallel(n_jobs=-1)]: Done  39 tasks      | elapsed:   54.5s\n"
     ]
    },
    {
     "name": "stdout",
     "output_type": "stream",
     "text": [
      "[CV]  colsample_bytree=0.7, subsample=0.9, score=0.8707930576990768, total=   5.9s\n",
      "[CV] colsample_bytree=0.8, subsample=0.6 .............................\n"
     ]
    },
    {
     "name": "stderr",
     "output_type": "stream",
     "text": [
      "[Parallel(n_jobs=-1)]: Done  40 tasks      | elapsed:   55.1s\n"
     ]
    },
    {
     "name": "stdout",
     "output_type": "stream",
     "text": [
      "[CV]  colsample_bytree=0.8, subsample=0.6, score=0.8559399163695164, total=   6.6s\n",
      "[CV] colsample_bytree=0.8, subsample=0.6 .............................\n"
     ]
    },
    {
     "name": "stderr",
     "output_type": "stream",
     "text": [
      "[Parallel(n_jobs=-1)]: Done  41 tasks      | elapsed:  1.0min\n"
     ]
    },
    {
     "name": "stdout",
     "output_type": "stream",
     "text": [
      "[CV]  colsample_bytree=0.8, subsample=0.6, score=0.8388443122005458, total=   6.8s\n",
      "[CV] colsample_bytree=0.8, subsample=0.7 .............................\n"
     ]
    },
    {
     "name": "stderr",
     "output_type": "stream",
     "text": [
      "[Parallel(n_jobs=-1)]: Done  42 tasks      | elapsed:  1.0min\n"
     ]
    },
    {
     "name": "stdout",
     "output_type": "stream",
     "text": [
      "[CV]  colsample_bytree=0.8, subsample=0.6, score=0.8483608609450188, total=   6.7s\n",
      "[CV] colsample_bytree=0.8, subsample=0.7 .............................\n"
     ]
    },
    {
     "name": "stderr",
     "output_type": "stream",
     "text": [
      "[Parallel(n_jobs=-1)]: Done  43 tasks      | elapsed:  1.0min\n"
     ]
    },
    {
     "name": "stdout",
     "output_type": "stream",
     "text": [
      "[CV]  colsample_bytree=0.8, subsample=0.6, score=0.861643606891759, total=   6.7s\n",
      "[CV] colsample_bytree=0.8, subsample=0.7 .............................\n"
     ]
    },
    {
     "name": "stderr",
     "output_type": "stream",
     "text": [
      "[Parallel(n_jobs=-1)]: Done  44 tasks      | elapsed:  1.0min\n"
     ]
    },
    {
     "name": "stdout",
     "output_type": "stream",
     "text": [
      "[CV]  colsample_bytree=0.8, subsample=0.6, score=0.8681140323167778, total=   6.9s\n",
      "[CV] colsample_bytree=0.8, subsample=0.7 .............................\n"
     ]
    },
    {
     "name": "stderr",
     "output_type": "stream",
     "text": [
      "[Parallel(n_jobs=-1)]: Done  45 tasks      | elapsed:  1.1min\n"
     ]
    },
    {
     "name": "stdout",
     "output_type": "stream",
     "text": [
      "[CV]  colsample_bytree=0.8, subsample=0.7, score=0.8548157020865776, total=   7.1s\n",
      "[CV] colsample_bytree=0.8, subsample=0.7 .............................\n"
     ]
    },
    {
     "name": "stderr",
     "output_type": "stream",
     "text": [
      "[Parallel(n_jobs=-1)]: Done  46 tasks      | elapsed:  1.1min\n"
     ]
    },
    {
     "name": "stdout",
     "output_type": "stream",
     "text": [
      "[CV]  colsample_bytree=0.8, subsample=0.7, score=0.8399931852214952, total=   7.2s\n",
      "[CV] colsample_bytree=0.8, subsample=0.8 .............................\n"
     ]
    },
    {
     "name": "stderr",
     "output_type": "stream",
     "text": [
      "[Parallel(n_jobs=-1)]: Done  47 tasks      | elapsed:  1.2min\n"
     ]
    },
    {
     "name": "stdout",
     "output_type": "stream",
     "text": [
      "[CV]  colsample_bytree=0.8, subsample=0.7, score=0.8492161711547099, total=   8.3s\n",
      "[CV] colsample_bytree=0.8, subsample=0.8 .............................\n"
     ]
    },
    {
     "name": "stderr",
     "output_type": "stream",
     "text": [
      "[Parallel(n_jobs=-1)]: Done  48 tasks      | elapsed:  1.2min\n"
     ]
    },
    {
     "name": "stdout",
     "output_type": "stream",
     "text": [
      "[CV]  colsample_bytree=0.8, subsample=0.7, score=0.8636487393087182, total=  14.5s\n",
      "[CV] colsample_bytree=0.8, subsample=0.8 .............................\n"
     ]
    },
    {
     "name": "stderr",
     "output_type": "stream",
     "text": [
      "[Parallel(n_jobs=-1)]: Done  49 tasks      | elapsed:  1.4min\n"
     ]
    },
    {
     "name": "stdout",
     "output_type": "stream",
     "text": [
      "[CV]  colsample_bytree=0.8, subsample=0.7, score=0.8670595703330656, total=  14.6s\n",
      "[CV] colsample_bytree=0.8, subsample=0.8 .............................\n"
     ]
    },
    {
     "name": "stderr",
     "output_type": "stream",
     "text": [
      "[Parallel(n_jobs=-1)]: Done  50 tasks      | elapsed:  1.4min\n"
     ]
    },
    {
     "name": "stdout",
     "output_type": "stream",
     "text": [
      "[CV]  colsample_bytree=0.8, subsample=0.8, score=0.8567099415064846, total=  14.1s\n",
      "[CV] colsample_bytree=0.8, subsample=0.8 .............................\n"
     ]
    },
    {
     "name": "stderr",
     "output_type": "stream",
     "text": [
      "[Parallel(n_jobs=-1)]: Done  51 tasks      | elapsed:  1.4min\n"
     ]
    },
    {
     "name": "stdout",
     "output_type": "stream",
     "text": [
      "[CV]  colsample_bytree=0.8, subsample=0.8, score=0.8401037759253005, total=  13.2s\n",
      "[CV] colsample_bytree=0.8, subsample=0.9 .............................\n"
     ]
    },
    {
     "name": "stderr",
     "output_type": "stream",
     "text": [
      "[Parallel(n_jobs=-1)]: Done  52 tasks      | elapsed:  1.4min\n"
     ]
    },
    {
     "name": "stdout",
     "output_type": "stream",
     "text": [
      "[CV]  colsample_bytree=0.8, subsample=0.8, score=0.8490289669541615, total=   5.3s\n",
      "[CV] colsample_bytree=0.8, subsample=0.9 .............................\n",
      "[CV]  colsample_bytree=0.8, subsample=0.8, score=0.8627413153548318, total=   4.9s\n",
      "[CV] colsample_bytree=0.8, subsample=0.9 .............................\n"
     ]
    },
    {
     "name": "stderr",
     "output_type": "stream",
     "text": [
      "[Parallel(n_jobs=-1)]: Done  53 tasks      | elapsed:  1.5min\n",
      "[Parallel(n_jobs=-1)]: Done  54 tasks      | elapsed:  1.5min\n"
     ]
    },
    {
     "name": "stdout",
     "output_type": "stream",
     "text": [
      "[CV]  colsample_bytree=0.8, subsample=0.8, score=0.8676834478048839, total=   5.0s\n",
      "[CV] colsample_bytree=0.8, subsample=0.9 .............................\n"
     ]
    },
    {
     "name": "stderr",
     "output_type": "stream",
     "text": [
      "[Parallel(n_jobs=-1)]: Done  55 tasks      | elapsed:  1.5min\n"
     ]
    },
    {
     "name": "stdout",
     "output_type": "stream",
     "text": [
      "[CV]  colsample_bytree=0.8, subsample=0.9, score=0.8570540429869054, total=   5.1s\n",
      "[CV] colsample_bytree=0.8, subsample=0.9 .............................\n"
     ]
    },
    {
     "name": "stderr",
     "output_type": "stream",
     "text": [
      "[Parallel(n_jobs=-1)]: Done  56 tasks      | elapsed:  1.5min\n"
     ]
    },
    {
     "name": "stdout",
     "output_type": "stream",
     "text": [
      "[CV]  colsample_bytree=0.8, subsample=0.9, score=0.8389851659010004, total=   5.3s\n",
      "[CV] colsample_bytree=0.9, subsample=0.6 .............................\n",
      "[CV]  colsample_bytree=0.8, subsample=0.9, score=0.8493413476161544, total=   5.3s\n"
     ]
    },
    {
     "name": "stderr",
     "output_type": "stream",
     "text": [
      "[Parallel(n_jobs=-1)]: Done  57 tasks      | elapsed:  1.6min\n",
      "[Parallel(n_jobs=-1)]: Done  58 tasks      | elapsed:  1.6min\n"
     ]
    },
    {
     "name": "stdout",
     "output_type": "stream",
     "text": [
      "[CV] colsample_bytree=0.9, subsample=0.6 .............................\n",
      "[CV]  colsample_bytree=0.8, subsample=0.9, score=0.8641643125539642, total=   5.1s\n",
      "[CV] colsample_bytree=0.9, subsample=0.6 .............................\n"
     ]
    },
    {
     "name": "stderr",
     "output_type": "stream",
     "text": [
      "[Parallel(n_jobs=-1)]: Done  59 tasks      | elapsed:  1.6min\n"
     ]
    },
    {
     "name": "stdout",
     "output_type": "stream",
     "text": [
      "[CV]  colsample_bytree=0.8, subsample=0.9, score=0.8664274196217174, total=   4.9s\n",
      "[CV] colsample_bytree=0.9, subsample=0.6 .............................\n"
     ]
    },
    {
     "name": "stderr",
     "output_type": "stream",
     "text": [
      "[Parallel(n_jobs=-1)]: Done  60 tasks      | elapsed:  1.6min\n"
     ]
    },
    {
     "name": "stdout",
     "output_type": "stream",
     "text": [
      "[CV]  colsample_bytree=0.9, subsample=0.6, score=0.8559399163695164, total=   5.7s\n",
      "[CV] colsample_bytree=0.9, subsample=0.6 .............................\n"
     ]
    },
    {
     "name": "stderr",
     "output_type": "stream",
     "text": [
      "[Parallel(n_jobs=-1)]: Done  61 tasks      | elapsed:  1.7min\n"
     ]
    },
    {
     "name": "stdout",
     "output_type": "stream",
     "text": [
      "[CV]  colsample_bytree=0.9, subsample=0.6, score=0.8483608609450188, total=   5.8s\n",
      "[CV] colsample_bytree=0.9, subsample=0.7 .............................\n",
      "[CV]  colsample_bytree=0.9, subsample=0.6, score=0.8388443122005458, total=   6.1s\n"
     ]
    },
    {
     "name": "stderr",
     "output_type": "stream",
     "text": [
      "[Parallel(n_jobs=-1)]: Done  62 tasks      | elapsed:  1.7min\n"
     ]
    },
    {
     "name": "stdout",
     "output_type": "stream",
     "text": [
      "[CV] colsample_bytree=0.9, subsample=0.7 .............................\n"
     ]
    },
    {
     "name": "stderr",
     "output_type": "stream",
     "text": [
      "[Parallel(n_jobs=-1)]: Done  63 tasks      | elapsed:  1.7min\n"
     ]
    },
    {
     "name": "stdout",
     "output_type": "stream",
     "text": [
      "[CV]  colsample_bytree=0.9, subsample=0.6, score=0.861643606891759, total=   6.1s\n",
      "[CV] colsample_bytree=0.9, subsample=0.7 .............................\n"
     ]
    },
    {
     "name": "stderr",
     "output_type": "stream",
     "text": [
      "[Parallel(n_jobs=-1)]: Done  64 tasks      | elapsed:  1.7min\n"
     ]
    },
    {
     "name": "stdout",
     "output_type": "stream",
     "text": [
      "[CV]  colsample_bytree=0.9, subsample=0.6, score=0.8681140323167778, total=   6.2s\n",
      "[CV] colsample_bytree=0.9, subsample=0.7 .............................\n"
     ]
    },
    {
     "name": "stderr",
     "output_type": "stream",
     "text": [
      "[Parallel(n_jobs=-1)]: Done  65 tasks      | elapsed:  1.8min\n"
     ]
    },
    {
     "name": "stdout",
     "output_type": "stream",
     "text": [
      "[CV]  colsample_bytree=0.9, subsample=0.7, score=0.8548157020865776, total=   6.2s\n",
      "[CV] colsample_bytree=0.9, subsample=0.7 .............................\n",
      "[CV]  colsample_bytree=0.9, subsample=0.7, score=0.8399931852214952, total=   6.2s\n"
     ]
    },
    {
     "name": "stderr",
     "output_type": "stream",
     "text": [
      "[Parallel(n_jobs=-1)]: Done  66 tasks      | elapsed:  1.8min\n",
      "[Parallel(n_jobs=-1)]: Done  67 tasks      | elapsed:  1.8min\n"
     ]
    },
    {
     "name": "stdout",
     "output_type": "stream",
     "text": [
      "[CV] colsample_bytree=0.9, subsample=0.8 .............................\n",
      "[CV]  colsample_bytree=0.9, subsample=0.7, score=0.8492161711547099, total=   6.2s\n",
      "[CV] colsample_bytree=0.9, subsample=0.8 .............................\n"
     ]
    },
    {
     "name": "stderr",
     "output_type": "stream",
     "text": [
      "[Parallel(n_jobs=-1)]: Done  68 tasks      | elapsed:  1.8min\n"
     ]
    },
    {
     "name": "stdout",
     "output_type": "stream",
     "text": [
      "[CV]  colsample_bytree=0.9, subsample=0.7, score=0.8636487393087182, total=   5.4s\n",
      "[CV] colsample_bytree=0.9, subsample=0.8 .............................\n"
     ]
    },
    {
     "name": "stderr",
     "output_type": "stream",
     "text": [
      "[Parallel(n_jobs=-1)]: Done  69 tasks      | elapsed:  1.9min\n"
     ]
    },
    {
     "name": "stdout",
     "output_type": "stream",
     "text": [
      "[CV]  colsample_bytree=0.9, subsample=0.7, score=0.8670595703330656, total=   5.5s\n",
      "[CV] colsample_bytree=0.9, subsample=0.8 .............................\n",
      "[CV]  colsample_bytree=0.9, subsample=0.8, score=0.8567099415064846, total=   5.4s\n",
      "[CV] colsample_bytree=0.9, subsample=0.8 .............................\n"
     ]
    },
    {
     "name": "stderr",
     "output_type": "stream",
     "text": [
      "[Parallel(n_jobs=-1)]: Done  70 tasks      | elapsed:  1.9min\n",
      "[Parallel(n_jobs=-1)]: Done  71 tasks      | elapsed:  1.9min\n"
     ]
    },
    {
     "name": "stdout",
     "output_type": "stream",
     "text": [
      "[CV]  colsample_bytree=0.9, subsample=0.8, score=0.8401037759253005, total=   5.3s\n",
      "[CV] colsample_bytree=0.9, subsample=0.9 .............................\n"
     ]
    },
    {
     "name": "stderr",
     "output_type": "stream",
     "text": [
      "[Parallel(n_jobs=-1)]: Done  72 tasks      | elapsed:  1.9min\n"
     ]
    },
    {
     "name": "stdout",
     "output_type": "stream",
     "text": [
      "[CV]  colsample_bytree=0.9, subsample=0.8, score=0.8490289669541615, total=   5.4s\n",
      "[CV] colsample_bytree=0.9, subsample=0.9 .............................\n"
     ]
    },
    {
     "name": "stderr",
     "output_type": "stream",
     "text": [
      "[Parallel(n_jobs=-1)]: Done  73 tasks      | elapsed:  1.9min\n"
     ]
    },
    {
     "name": "stdout",
     "output_type": "stream",
     "text": [
      "[CV]  colsample_bytree=0.9, subsample=0.8, score=0.8627413153548318, total=   5.3s\n",
      "[CV] colsample_bytree=0.9, subsample=0.9 .............................\n",
      "[CV]  colsample_bytree=0.9, subsample=0.8, score=0.8676834478048839, total=   5.3s\n",
      "[CV] colsample_bytree=0.9, subsample=0.9 .............................\n",
      "[CV]  colsample_bytree=0.9, subsample=0.9, score=0.8570540429869054, total=   5.1s\n",
      "[CV] colsample_bytree=0.9, subsample=0.9 .............................\n",
      "[CV]  colsample_bytree=0.9, subsample=0.9, score=0.8389851659010004, total=   5.9s\n",
      "[CV]  colsample_bytree=0.9, subsample=0.9, score=0.8493413476161544, total=   5.6s\n",
      "[CV]  colsample_bytree=0.9, subsample=0.9, score=0.8641643125539642, total=   5.6s\n"
     ]
    },
    {
     "name": "stderr",
     "output_type": "stream",
     "text": [
      "[Parallel(n_jobs=-1)]: Done  78 out of  80 | elapsed:  2.1min remaining:    3.2s\n"
     ]
    },
    {
     "name": "stdout",
     "output_type": "stream",
     "text": [
      "[CV]  colsample_bytree=0.9, subsample=0.9, score=0.8664274196217174, total=   5.8s\n"
     ]
    },
    {
     "name": "stderr",
     "output_type": "stream",
     "text": [
      "[Parallel(n_jobs=-1)]: Done  80 out of  80 | elapsed:  2.1min finished\n"
     ]
    },
    {
     "data": {
      "text/plain": [
       "GridSearchCV(cv=<generator object _BaseKFold.split at 0x1c2e286518>,\n",
       "       error_score='raise',\n",
       "       estimator=XGBClassifier(base_score=0.5, booster='gbtree', colsample_bylevel=1,\n",
       "       colsample_bytree=0.8, gamma=0.0, learning_rate=0.025,\n",
       "       max_delta_step=0, max_depth=3, min_child_weight=5, missing=None,\n",
       "       n_estimators=157, n_jobs=1, nthread=4, objective='binary:logistic',\n",
       "       random_state=0, reg_alpha=0, reg_lambda=1,\n",
       "       scale_pos_weight=54.427841634738186, seed=1, silent=True,\n",
       "       subsample=0.8),\n",
       "       fit_params=None, iid=False, n_jobs=-1,\n",
       "       param_grid={'subsample': [0.6, 0.7, 0.8, 0.9], 'colsample_bytree': [0.6, 0.7, 0.8, 0.9]},\n",
       "       pre_dispatch='2*n_jobs', refit=True, return_train_score='warn',\n",
       "       scoring='roc_auc', verbose=20)"
      ]
     },
     "execution_count": 236,
     "metadata": {},
     "output_type": "execute_result"
    }
   ],
   "source": [
    "grid4 = {\n",
    "    'subsample':[i/10.0 for i in range(6,10)],\n",
    "    'colsample_bytree':[i/10.0 for i in range(6,10)]\n",
    "}\n",
    "\n",
    "gs4 = GridSearchCV(xgbreg, \n",
    "                   grid4,\n",
    "                   n_jobs=-1, \n",
    "                   verbose=20,\n",
    "                   scoring='roc_auc',\n",
    "                   cv = StratifiedKFold(n_splits=5, \n",
    "                                   shuffle=True,\n",
    "                                   random_state=1).split(x_trn3,y_trn3),\n",
    "                            iid=False) \n",
    "\n",
    "gs4.fit(x_trn3, y_trn3)"
   ]
  },
  {
   "cell_type": "code",
   "execution_count": 237,
   "metadata": {
    "scrolled": true
   },
   "outputs": [],
   "source": [
    "# print(\"AUC Score (Validation): %f\" % metrics.roc_auc_score(y_val2, gs4.best_estimator_.predict_proba(x_val2[select_cols])[:,1]))"
   ]
  },
  {
   "cell_type": "code",
   "execution_count": 239,
   "metadata": {},
   "outputs": [
    {
     "data": {
      "text/plain": [
       "([mean: 0.85469, std: 0.01021, params: {'colsample_bytree': 0.6, 'subsample': 0.6},\n",
       "  mean: 0.85513, std: 0.01003, params: {'colsample_bytree': 0.6, 'subsample': 0.7},\n",
       "  mean: 0.85521, std: 0.01007, params: {'colsample_bytree': 0.6, 'subsample': 0.8},\n",
       "  mean: 0.85559, std: 0.01073, params: {'colsample_bytree': 0.6, 'subsample': 0.9},\n",
       "  mean: 0.85469, std: 0.01021, params: {'colsample_bytree': 0.7, 'subsample': 0.6},\n",
       "  mean: 0.85513, std: 0.01003, params: {'colsample_bytree': 0.7, 'subsample': 0.7},\n",
       "  mean: 0.85521, std: 0.01007, params: {'colsample_bytree': 0.7, 'subsample': 0.8},\n",
       "  mean: 0.85559, std: 0.01073, params: {'colsample_bytree': 0.7, 'subsample': 0.9},\n",
       "  mean: 0.85458, std: 0.01021, params: {'colsample_bytree': 0.8, 'subsample': 0.6},\n",
       "  mean: 0.85495, std: 0.00979, params: {'colsample_bytree': 0.8, 'subsample': 0.7},\n",
       "  mean: 0.85525, std: 0.00981, params: {'colsample_bytree': 0.8, 'subsample': 0.8},\n",
       "  mean: 0.85519, std: 0.01007, params: {'colsample_bytree': 0.8, 'subsample': 0.9},\n",
       "  mean: 0.85458, std: 0.01021, params: {'colsample_bytree': 0.9, 'subsample': 0.6},\n",
       "  mean: 0.85495, std: 0.00979, params: {'colsample_bytree': 0.9, 'subsample': 0.7},\n",
       "  mean: 0.85525, std: 0.00981, params: {'colsample_bytree': 0.9, 'subsample': 0.8},\n",
       "  mean: 0.85519, std: 0.01007, params: {'colsample_bytree': 0.9, 'subsample': 0.9}],\n",
       " {'colsample_bytree': 0.6, 'subsample': 0.9},\n",
       " 0.8555915568183522)"
      ]
     },
     "execution_count": 239,
     "metadata": {},
     "output_type": "execute_result"
    }
   ],
   "source": [
    "gs4.grid_scores_, gs4.best_params_, gs4.best_score_"
   ]
  },
  {
   "cell_type": "markdown",
   "metadata": {},
   "source": [
    "### Step 5: Regularization paramters¶\n"
   ]
  },
  {
   "cell_type": "code",
   "execution_count": 240,
   "metadata": {},
   "outputs": [],
   "source": [
    "xgbreg = XGBClassifier(learning_rate =0.025, # fixed\n",
    "                       n_estimators=157, # pre-tuned\n",
    "                       max_depth=3, # tuned\n",
    "                       min_child_weight=5, # tuned \n",
    "                       gamma=0., # tuned\n",
    "                       subsample=0.9,\n",
    "                       colsample_bytree=0.6,\n",
    "                       objective= 'binary:logistic', \n",
    "                       nthread=4, \n",
    "                       scale_pos_weight=scale_pos, \n",
    "                       seed=1)"
   ]
  },
  {
   "cell_type": "code",
   "execution_count": 241,
   "metadata": {
    "scrolled": true
   },
   "outputs": [
    {
     "name": "stdout",
     "output_type": "stream",
     "text": [
      "Fitting 5 folds for each of 6 candidates, totalling 30 fits\n",
      "[CV] reg_alpha=1e-05 .................................................\n",
      "[CV] reg_alpha=1e-05 .................................................\n",
      "[CV] reg_alpha=1e-05 .................................................\n",
      "[CV] reg_alpha=1e-05 .................................................\n",
      "[CV] ........ reg_alpha=1e-05, score=0.8403159905190889, total=   4.8s\n",
      "[CV] reg_alpha=1e-05 .................................................\n"
     ]
    },
    {
     "name": "stderr",
     "output_type": "stream",
     "text": [
      "[Parallel(n_jobs=-1)]: Done   1 tasks      | elapsed:    5.0s\n"
     ]
    },
    {
     "name": "stdout",
     "output_type": "stream",
     "text": [
      "[CV] ........ reg_alpha=1e-05, score=0.8480297972290789, total=   4.9s\n",
      "[CV] ........ reg_alpha=1e-05, score=0.8629473942303931, total=   5.0s\n",
      "[CV] ........ reg_alpha=1e-05, score=0.8558715444141234, total=   5.1s\n",
      "[CV] reg_alpha=0.01 ..................................................\n",
      "[CV] reg_alpha=0.01 ..................................................\n",
      "[CV] reg_alpha=0.01 ..................................................\n"
     ]
    },
    {
     "name": "stderr",
     "output_type": "stream",
     "text": [
      "[Parallel(n_jobs=-1)]: Done   2 tasks      | elapsed:    5.3s\n",
      "[Parallel(n_jobs=-1)]: Done   3 tasks      | elapsed:    5.3s\n",
      "[Parallel(n_jobs=-1)]: Done   4 tasks      | elapsed:    5.3s\n"
     ]
    },
    {
     "name": "stdout",
     "output_type": "stream",
     "text": [
      "[CV] ........ reg_alpha=1e-05, score=0.8707930576990768, total=   5.0s\n",
      "[CV] reg_alpha=0.01 ..................................................\n",
      "[CV] ......... reg_alpha=0.01, score=0.8558707971796382, total=   4.8s\n"
     ]
    },
    {
     "name": "stderr",
     "output_type": "stream",
     "text": [
      "[Parallel(n_jobs=-1)]: Done   5 tasks      | elapsed:   10.1s\n",
      "[Parallel(n_jobs=-1)]: Done   6 tasks      | elapsed:   10.3s\n"
     ]
    },
    {
     "name": "stdout",
     "output_type": "stream",
     "text": [
      "[CV] reg_alpha=0.01 ..................................................\n",
      "[CV] ......... reg_alpha=0.01, score=0.8480297972290789, total=   4.8s\n",
      "[CV] ......... reg_alpha=0.01, score=0.8403174849880591, total=   5.0s\n",
      "[CV] reg_alpha=0.1 ...................................................\n",
      "[CV] reg_alpha=0.1 ...................................................\n"
     ]
    },
    {
     "name": "stderr",
     "output_type": "stream",
     "text": [
      "[Parallel(n_jobs=-1)]: Done   7 tasks      | elapsed:   10.5s\n",
      "[Parallel(n_jobs=-1)]: Done   8 tasks      | elapsed:   10.6s\n"
     ]
    },
    {
     "name": "stdout",
     "output_type": "stream",
     "text": [
      "[CV] ......... reg_alpha=0.01, score=0.8629481463430777, total=   5.3s\n",
      "[CV] reg_alpha=0.1 ...................................................\n",
      "[CV] ......... reg_alpha=0.01, score=0.8707938098117612, total=   5.2s\n",
      "[CV] reg_alpha=0.1 ...................................................\n"
     ]
    },
    {
     "name": "stderr",
     "output_type": "stream",
     "text": [
      "[Parallel(n_jobs=-1)]: Done   9 tasks      | elapsed:   15.6s\n",
      "[Parallel(n_jobs=-1)]: Done  10 tasks      | elapsed:   15.7s\n"
     ]
    },
    {
     "name": "stdout",
     "output_type": "stream",
     "text": [
      "[CV] .......... reg_alpha=0.1, score=0.8559978270421171, total=   5.2s\n",
      "[CV] .......... reg_alpha=0.1, score=0.8403227156294554, total=   5.3s\n",
      "[CV] reg_alpha=0.1 ...................................................\n",
      "[CV] reg_alpha=1 .....................................................\n"
     ]
    },
    {
     "name": "stderr",
     "output_type": "stream",
     "text": [
      "[Parallel(n_jobs=-1)]: Done  11 tasks      | elapsed:   15.9s\n",
      "[Parallel(n_jobs=-1)]: Done  12 tasks      | elapsed:   16.1s\n"
     ]
    },
    {
     "name": "stdout",
     "output_type": "stream",
     "text": [
      "[CV] .......... reg_alpha=0.1, score=0.8479554386743701, total=   5.1s\n",
      "[CV] reg_alpha=1 .....................................................\n",
      "[CV] .......... reg_alpha=0.1, score=0.8629571716952921, total=   5.2s\n"
     ]
    },
    {
     "name": "stderr",
     "output_type": "stream",
     "text": [
      "[Parallel(n_jobs=-1)]: Done  13 tasks      | elapsed:   20.9s\n",
      "[Parallel(n_jobs=-1)]: Done  14 tasks      | elapsed:   21.1s\n"
     ]
    },
    {
     "name": "stdout",
     "output_type": "stream",
     "text": [
      "[CV] reg_alpha=1 .....................................................\n",
      "[CV] .......... reg_alpha=0.1, score=0.8707885450229695, total=   5.2s\n",
      "[CV] reg_alpha=1 .....................................................\n",
      "[CV] ............ reg_alpha=1, score=0.8561596033081565, total=   5.2s\n",
      "[CV] reg_alpha=1 .....................................................\n"
     ]
    },
    {
     "name": "stderr",
     "output_type": "stream",
     "text": [
      "[Parallel(n_jobs=-1)]: Done  15 tasks      | elapsed:   21.4s\n",
      "[Parallel(n_jobs=-1)]: Done  16 tasks      | elapsed:   21.5s\n"
     ]
    },
    {
     "name": "stdout",
     "output_type": "stream",
     "text": [
      "[CV] ............ reg_alpha=1, score=0.8399001545280915, total=   4.4s\n",
      "[CV] reg_alpha=100 ...................................................\n",
      "[CV] ............ reg_alpha=1, score=0.8478844430693717, total=   4.6s\n",
      "[CV] reg_alpha=100 ...................................................\n"
     ]
    },
    {
     "name": "stderr",
     "output_type": "stream",
     "text": [
      "[Parallel(n_jobs=-1)]: Done  17 tasks      | elapsed:   25.7s\n",
      "[Parallel(n_jobs=-1)]: Done  18 tasks      | elapsed:   25.8s\n"
     ]
    },
    {
     "name": "stdout",
     "output_type": "stream",
     "text": [
      "[CV] ............ reg_alpha=1, score=0.8627890745102995, total=   4.4s\n",
      "[CV] reg_alpha=100 ...................................................\n",
      "[CV] ............ reg_alpha=1, score=0.8704079760045969, total=   4.4s\n",
      "[CV] reg_alpha=100 ...................................................\n"
     ]
    },
    {
     "name": "stderr",
     "output_type": "stream",
     "text": [
      "[Parallel(n_jobs=-1)]: Done  19 tasks      | elapsed:   26.1s\n",
      "[Parallel(n_jobs=-1)]: Done  20 tasks      | elapsed:   26.1s\n"
     ]
    },
    {
     "name": "stdout",
     "output_type": "stream",
     "text": [
      "[CV] .......... reg_alpha=100, score=0.8582152453768601, total=   4.7s\n",
      "[CV] reg_alpha=100 ...................................................\n"
     ]
    },
    {
     "name": "stderr",
     "output_type": "stream",
     "text": [
      "[Parallel(n_jobs=-1)]: Done  21 tasks      | elapsed:   30.6s\n"
     ]
    },
    {
     "name": "stdout",
     "output_type": "stream",
     "text": [
      "[CV] .......... reg_alpha=100, score=0.8405790170578689, total=   5.1s\n",
      "[CV] reg_alpha=0 .....................................................\n",
      "[CV] .......... reg_alpha=100, score=0.8635566055048631, total=   4.9s\n",
      "[CV] reg_alpha=0 .....................................................\n"
     ]
    },
    {
     "name": "stderr",
     "output_type": "stream",
     "text": [
      "[Parallel(n_jobs=-1)]: Done  22 tasks      | elapsed:   31.1s\n",
      "[Parallel(n_jobs=-1)]: Done  23 tasks      | elapsed:   31.3s\n"
     ]
    },
    {
     "name": "stdout",
     "output_type": "stream",
     "text": [
      "[CV] .......... reg_alpha=100, score=0.8507149257423339, total=   5.1s\n",
      "[CV] reg_alpha=0 .....................................................\n",
      "[CV] .......... reg_alpha=100, score=0.8706065337533131, total=   5.0s\n",
      "[CV] reg_alpha=0 .....................................................\n"
     ]
    },
    {
     "name": "stderr",
     "output_type": "stream",
     "text": [
      "[Parallel(n_jobs=-1)]: Done  25 out of  30 | elapsed:   35.8s remaining:    7.2s\n"
     ]
    },
    {
     "name": "stdout",
     "output_type": "stream",
     "text": [
      "[CV] ............ reg_alpha=0, score=0.8558715444141234, total=   5.0s\n",
      "[CV] reg_alpha=0 .....................................................\n",
      "[CV] ............ reg_alpha=0, score=0.8480297972290789, total=   5.0s\n",
      "[CV] ............ reg_alpha=0, score=0.8403159905190889, total=   5.1s\n"
     ]
    },
    {
     "name": "stderr",
     "output_type": "stream",
     "text": [
      "[Parallel(n_jobs=-1)]: Done  27 out of  30 | elapsed:   36.5s remaining:    4.1s\n"
     ]
    },
    {
     "name": "stdout",
     "output_type": "stream",
     "text": [
      "[CV] ............ reg_alpha=0, score=0.8629473942303931, total=   2.8s\n",
      "[CV] ............ reg_alpha=0, score=0.8707930576990768, total=   2.5s\n"
     ]
    },
    {
     "name": "stderr",
     "output_type": "stream",
     "text": [
      "[Parallel(n_jobs=-1)]: Done  30 out of  30 | elapsed:   38.9s finished\n"
     ]
    },
    {
     "data": {
      "text/plain": [
       "GridSearchCV(cv=<generator object _BaseKFold.split at 0x1c2894d6d0>,\n",
       "       error_score='raise',\n",
       "       estimator=XGBClassifier(base_score=0.5, booster='gbtree', colsample_bylevel=1,\n",
       "       colsample_bytree=0.6, gamma=0.0, learning_rate=0.025,\n",
       "       max_delta_step=0, max_depth=3, min_child_weight=5, missing=None,\n",
       "       n_estimators=157, n_jobs=1, nthread=4, objective='binary:logistic',\n",
       "       random_state=0, reg_alpha=0, reg_lambda=1,\n",
       "       scale_pos_weight=54.427841634738186, seed=1, silent=True,\n",
       "       subsample=0.9),\n",
       "       fit_params=None, iid=False, n_jobs=-1,\n",
       "       param_grid={'reg_alpha': [1e-05, 0.01, 0.1, 1, 100, 0]},\n",
       "       pre_dispatch='2*n_jobs', refit=True, return_train_score='warn',\n",
       "       scoring='roc_auc', verbose=20)"
      ]
     },
     "execution_count": 241,
     "metadata": {},
     "output_type": "execute_result"
    }
   ],
   "source": [
    "grid6 = {\n",
    "    'reg_alpha':[1e-5, 1e-2, 0.1, 1, 100,0]\n",
    "    #'reg_alpha':[i/100.0 for i in range(0,10)]\n",
    "}\n",
    "\n",
    "gs6 = GridSearchCV(xgbreg, \n",
    "                   grid6,\n",
    "                   n_jobs=-1, \n",
    "                   verbose=20,\n",
    "                   scoring='roc_auc',\n",
    "                   cv = StratifiedKFold(n_splits=5, \n",
    "                                   shuffle=True,\n",
    "                                   random_state=1).split(x_trn3,y_trn3),\n",
    "                            iid=False) \n",
    "\n",
    "gs6.fit(x_trn3, y_trn3)"
   ]
  },
  {
   "cell_type": "code",
   "execution_count": 242,
   "metadata": {
    "scrolled": true
   },
   "outputs": [],
   "source": [
    "# print(\"AUC Score (Validation): %f\" % metrics.roc_auc_score(y_val2, gs6.best_estimator_.predict_proba(x_val2[select_cols])[:,1]))"
   ]
  },
  {
   "cell_type": "code",
   "execution_count": 243,
   "metadata": {},
   "outputs": [
    {
     "data": {
      "text/plain": [
       "([mean: 0.85559, std: 0.01073, params: {'reg_alpha': 1e-05},\n",
       "  mean: 0.85559, std: 0.01073, params: {'reg_alpha': 0.01},\n",
       "  mean: 0.85560, std: 0.01074, params: {'reg_alpha': 0.1},\n",
       "  mean: 0.85543, std: 0.01074, params: {'reg_alpha': 1},\n",
       "  mean: 0.85673, std: 0.01038, params: {'reg_alpha': 100},\n",
       "  mean: 0.85559, std: 0.01073, params: {'reg_alpha': 0}],\n",
       " {'reg_alpha': 100},\n",
       " 0.8567344654870478)"
      ]
     },
     "execution_count": 243,
     "metadata": {},
     "output_type": "execute_result"
    }
   ],
   "source": [
    "gs6.grid_scores_, gs6.best_params_, gs6.best_score_"
   ]
  },
  {
   "cell_type": "markdown",
   "metadata": {},
   "source": [
    "### Reduce LR and find best n trees"
   ]
  },
  {
   "cell_type": "code",
   "execution_count": 244,
   "metadata": {},
   "outputs": [
    {
     "name": "stdout",
     "output_type": "stream",
     "text": [
      "[0]\ttrain-auc:0.66694+0.00604347\ttest-auc:0.646456+0.00662053\n",
      "[20]\ttrain-auc:0.858312+0.00386442\ttest-auc:0.845057+0.0139846\n",
      "[40]\ttrain-auc:0.859717+0.00462107\ttest-auc:0.846845+0.0136168\n",
      "[60]\ttrain-auc:0.860556+0.00406533\ttest-auc:0.847824+0.013549\n",
      "[80]\ttrain-auc:0.861158+0.00401017\ttest-auc:0.848465+0.014126\n",
      "[100]\ttrain-auc:0.861606+0.00415836\ttest-auc:0.848787+0.0143604\n",
      "[120]\ttrain-auc:0.86225+0.00402995\ttest-auc:0.849324+0.0144514\n",
      "[140]\ttrain-auc:0.862764+0.00388551\ttest-auc:0.84983+0.0148596\n",
      "[160]\ttrain-auc:0.863175+0.00379063\ttest-auc:0.850731+0.0150056\n",
      "[180]\ttrain-auc:0.864026+0.00401766\ttest-auc:0.851362+0.0149857\n",
      "[200]\ttrain-auc:0.864814+0.00401227\ttest-auc:0.852135+0.0151054\n",
      "[220]\ttrain-auc:0.865563+0.00414362\ttest-auc:0.852684+0.0150238\n",
      "[240]\ttrain-auc:0.866405+0.00402251\ttest-auc:0.853385+0.0150282\n",
      "[260]\ttrain-auc:0.867224+0.00401251\ttest-auc:0.853965+0.0150465\n",
      "[280]\ttrain-auc:0.867959+0.00414808\ttest-auc:0.854566+0.0148825\n",
      "[300]\ttrain-auc:0.868756+0.00384417\ttest-auc:0.85505+0.0150338\n",
      "[320]\ttrain-auc:0.869238+0.00380287\ttest-auc:0.855341+0.0150449\n",
      "[340]\ttrain-auc:0.869987+0.00374493\ttest-auc:0.855897+0.0151257\n",
      "[360]\ttrain-auc:0.870742+0.00374483\ttest-auc:0.856336+0.0151094\n",
      "[380]\ttrain-auc:0.871396+0.00371754\ttest-auc:0.856834+0.0151577\n",
      "[400]\ttrain-auc:0.871968+0.00369854\ttest-auc:0.857113+0.0151746\n",
      "[420]\ttrain-auc:0.872633+0.00375394\ttest-auc:0.857535+0.0151047\n",
      "[440]\ttrain-auc:0.87331+0.00391249\ttest-auc:0.857828+0.0150904\n",
      "[460]\ttrain-auc:0.873904+0.00399241\ttest-auc:0.858025+0.0149824\n",
      "[480]\ttrain-auc:0.874463+0.00399133\ttest-auc:0.858247+0.0150176\n",
      "[500]\ttrain-auc:0.874952+0.00390569\ttest-auc:0.858456+0.0150138\n",
      "[520]\ttrain-auc:0.875508+0.00382243\ttest-auc:0.858631+0.0149709\n",
      "[540]\ttrain-auc:0.876006+0.00377366\ttest-auc:0.858709+0.0149255\n",
      "[560]\ttrain-auc:0.87646+0.00377681\ttest-auc:0.858856+0.0148508\n",
      "[580]\ttrain-auc:0.876901+0.00378884\ttest-auc:0.858922+0.0148116\n",
      "[600]\ttrain-auc:0.877322+0.00378873\ttest-auc:0.859004+0.0148037\n",
      "[620]\ttrain-auc:0.877718+0.00381859\ttest-auc:0.859019+0.0147868\n",
      "[640]\ttrain-auc:0.878174+0.00382349\ttest-auc:0.859084+0.0148511\n",
      "[660]\ttrain-auc:0.878583+0.00375159\ttest-auc:0.859126+0.0147987\n",
      "[680]\ttrain-auc:0.879033+0.00374175\ttest-auc:0.859168+0.0147917\n",
      "[700]\ttrain-auc:0.879472+0.00371754\ttest-auc:0.859222+0.0147842\n",
      "[720]\ttrain-auc:0.879882+0.00367214\ttest-auc:0.859263+0.0148207\n",
      "[740]\ttrain-auc:0.880274+0.0036914\ttest-auc:0.859319+0.0148665\n",
      "[760]\ttrain-auc:0.880667+0.00366336\ttest-auc:0.859337+0.0148359\n",
      "[780]\ttrain-auc:0.881033+0.00365085\ttest-auc:0.859321+0.0149159\n",
      "[800]\ttrain-auc:0.881432+0.00363124\ttest-auc:0.859256+0.0148881\n",
      "Best Rounds:  763\n",
      "\n",
      "Model Report\n",
      "Accuracy : 0.7601\n",
      "AUC Score (Train): 0.877997\n"
     ]
    },
    {
     "data": {
      "image/png": "[encoded data removed]",
      "text/plain": [
       "<Figure size 432x864 with 1 Axes>"
      ]
     },
     "metadata": {},
     "output_type": "display_data"
    }
   ],
   "source": [
    "xgb3 = XGBClassifier(learning_rate =0.01, # fixed\n",
    "                     n_estimators=1000, # now\n",
    "                     max_depth=3, # tune\n",
    "                     min_child_weight=5, # tuned \n",
    "                     gamma=0., # tuned\n",
    "                     subsample=0.9, # tuned\n",
    "                     colsample_bytree=0.6, # tuned\n",
    "                     objective= 'binary:logistic', \n",
    "                     nthread=4, \n",
    "                     scale_pos_weight=scale_pos, \n",
    "                     seed=1,\n",
    "                     reg_alpha=100 # tuned\n",
    "                    )\n",
    "\n",
    "modelfit(xgb3, x_trn3, y_trn3)"
   ]
  },
  {
   "cell_type": "markdown",
   "metadata": {},
   "source": [
    "### Final model"
   ]
  },
  {
   "cell_type": "code",
   "execution_count": 257,
   "metadata": {},
   "outputs": [],
   "source": [
    "xgb4 = XGBClassifier(learning_rate =0.01, # fixed\n",
    "                     n_estimators=763, # now\n",
    "                     max_depth=3, # tune\n",
    "                     min_child_weight=5, # tuned \n",
    "                     gamma=0., # tuned\n",
    "                     subsample=0.9, # tuned\n",
    "                     colsample_bytree=0.6, # tuned\n",
    "                     objective= 'binary:logistic', \n",
    "                     nthread=4, \n",
    "                     scale_pos_weight=scale_pos, \n",
    "                     seed=1,\n",
    "                     reg_alpha=100 # tuned\n",
    "                    )"
   ]
  },
  {
   "cell_type": "code",
   "execution_count": 258,
   "metadata": {},
   "outputs": [
    {
     "data": {
      "text/plain": [
       "XGBClassifier(base_score=0.5, booster='gbtree', colsample_bylevel=1,\n",
       "       colsample_bytree=0.6, gamma=0.0, learning_rate=0.01,\n",
       "       max_delta_step=0, max_depth=3, min_child_weight=5, missing=None,\n",
       "       n_estimators=763, n_jobs=1, nthread=4, objective='binary:logistic',\n",
       "       random_state=0, reg_alpha=100, reg_lambda=1,\n",
       "       scale_pos_weight=54.427841634738186, seed=1, silent=True,\n",
       "       subsample=0.9)"
      ]
     },
     "execution_count": 258,
     "metadata": {},
     "output_type": "execute_result"
    }
   ],
   "source": [
    "xgb4.fit(x_trn3, y_trn3)"
   ]
  },
  {
   "cell_type": "code",
   "execution_count": 259,
   "metadata": {},
   "outputs": [],
   "source": [
    "preds = xgb4.predict_proba(test_raw[cols])[:,1]"
   ]
  },
  {
   "cell_type": "code",
   "execution_count": 260,
   "metadata": {},
   "outputs": [
    {
     "data": {
      "text/plain": [
       "0.2966617"
      ]
     },
     "execution_count": 260,
     "metadata": {},
     "output_type": "execute_result"
    }
   ],
   "source": [
    "preds.mean()"
   ]
  },
  {
   "cell_type": "code",
   "execution_count": 261,
   "metadata": {},
   "outputs": [
    {
     "data": {
      "text/plain": [
       "(array([6867., 1864., 1780., 1660., 1574., 1031., 1123., 1137., 1158.,  407.]),\n",
       " array([0.00854, 0.10341, 0.19829, 0.29316, 0.38803, 0.48291, 0.57778, 0.67266, 0.76753, 0.86241, 0.95728]),\n",
       " <a list of 10 Patch objects>)"
      ]
     },
     "execution_count": 261,
     "metadata": {},
     "output_type": "execute_result"
    },
    {
     "data": {
      "image/png": "[encoded data removed]",
      "text/plain": [
       "<Figure size 432x288 with 1 Axes>"
      ]
     },
     "metadata": {},
     "output_type": "display_data"
    }
   ],
   "source": [
    "plt.hist(preds)"
   ]
  },
  {
   "cell_type": "code",
   "execution_count": 262,
   "metadata": {},
   "outputs": [],
   "source": [
    "pred_df = pd.DataFrame(test_raw.id)\n",
    "pred_df['stroke'] = preds\n",
    "pred_df.to_csv('submissions/xgb_tuned_select_cols_scaled.csv', index=False)"
   ]
  },
  {
   "cell_type": "markdown",
   "metadata": {},
   "source": [
    "### XGB by removing some features "
   ]
  },
  {
   "cell_type": "code",
   "execution_count": 187,
   "metadata": {},
   "outputs": [
    {
     "data": {
      "text/plain": [
       "0.428594470046083"
      ]
     },
     "execution_count": 187,
     "metadata": {},
     "output_type": "execute_result"
    }
   ],
   "source": [
    "test_raw.shape[0]/train_raw.shape[0]"
   ]
  },
  {
   "cell_type": "code",
   "execution_count": 191,
   "metadata": {},
   "outputs": [],
   "source": [
    "# get validation set to find feature imporanve\n",
    "x_trn, x_val, y_trn, y_val = train_test_split(train_raw.drop(['stroke', 'age_bins'], axis=1), \n",
    "                                                    train_raw['stroke'],\n",
    "                                                    stratify= train_raw['stroke'] , \n",
    "                                                    test_size=0.25,\n",
    "                                                 random_state=1)"
   ]
  },
  {
   "cell_type": "code",
   "execution_count": 192,
   "metadata": {},
   "outputs": [],
   "source": [
    "x_trn2 = x_trn.reset_index(drop=True)\n",
    "x_val2 = x_val.reset_index(drop=True)\n",
    "y_trn2 = y_trn.reset_index(drop=True)\n",
    "y_val2 = y_val.reset_index(drop=True)"
   ]
  },
  {
   "cell_type": "code",
   "execution_count": 193,
   "metadata": {},
   "outputs": [
    {
     "data": {
      "text/plain": [
       "XGBClassifier(base_score=0.5, booster='gbtree', colsample_bylevel=1,\n",
       "       colsample_bytree=0.6, gamma=0.0, learning_rate=0.01,\n",
       "       max_delta_step=0, max_depth=3, min_child_weight=6, missing=None,\n",
       "       n_estimators=783, n_jobs=1, nthread=4, objective='binary:logistic',\n",
       "       random_state=0, reg_alpha=100, reg_lambda=1,\n",
       "       scale_pos_weight=54.427841634738186, seed=1, silent=True,\n",
       "       subsample=0.9)"
      ]
     },
     "execution_count": 193,
     "metadata": {},
     "output_type": "execute_result"
    }
   ],
   "source": [
    "xgb_feat = XGBClassifier(learning_rate =0.01, # fixed\n",
    "                     n_estimators=783, # now\n",
    "                     max_depth=3, # tune\n",
    "                     min_child_weight=6, # tuned \n",
    "                     gamma=0., # tuned\n",
    "                     subsample=0.9, # tuned\n",
    "                     colsample_bytree=0.6, # tuned\n",
    "                     objective= 'binary:logistic', \n",
    "                     nthread=4, \n",
    "                     scale_pos_weight=scale_pos, \n",
    "                     seed=1,\n",
    "                     reg_alpha=100 # tuned\n",
    "                    )\n",
    "xgb_feat.fit(x_trn2, y_trn2)"
   ]
  },
  {
   "cell_type": "code",
   "execution_count": 199,
   "metadata": {},
   "outputs": [],
   "source": [
    "from sklearn.metrics import roc_auc_score\n",
    "from rfpimp import *\n",
    "\n",
    "\n",
    "def importances_perm(model, X_valid, y_valid, n_samples=3500):\n",
    "\n",
    "    if n_samples<0: n_samples = len(X_valid)\n",
    "    n_samples = min(n_samples, len(X_valid))\n",
    "    if n_samples<len(X_valid):\n",
    "        ix = np.random.choice(len(X_valid),n_samples)\n",
    "        X_valid = X_valid.iloc[ix].copy(deep=False) # shallow copy\n",
    "        y_valid = y_valid.iloc[ix].copy(deep=False)\n",
    "    else:\n",
    "        X_valid = X_valid.copy(deep=False) # we're modifying columns\n",
    "\n",
    "    baseline = roc_auc_score(y_valid,model.predict_proba(X_valid)[:,1])\n",
    "    imp = []\n",
    "    for col in X_valid.columns:\n",
    "        save = X_valid[col].copy()\n",
    "        X_valid[col] = np.random.permutation(X_valid[col])\n",
    "        m = roc_auc_score(y_valid,model.predict_proba(X_valid)[:,1])\n",
    "        X_valid[col] = save\n",
    "        imp.append(baseline - m)\n",
    "\n",
    "    I = pd.DataFrame(data={'Feature': X_valid.columns, 'Importance': np.array(imp)})\n",
    "    I = I.set_index('Feature')\n",
    "    I = I.sort_values('Importance', ascending=True)\n",
    "    return I"
   ]
  },
  {
   "cell_type": "code",
   "execution_count": 200,
   "metadata": {},
   "outputs": [],
   "source": [
    "imp = importances_perm(xgb_feat, x_val2, y_val2, n_samples=len(y_val2)) # permutation"
   ]
  },
  {
   "cell_type": "code",
   "execution_count": 201,
   "metadata": {},
   "outputs": [
    {
     "data": {
      "image/png": "[encoded data removed]",
      "text/plain": [
       "<Figure size 1080x504 with 1 Axes>"
      ]
     },
     "metadata": {},
     "output_type": "display_data"
    }
   ],
   "source": [
    "plot_importances(imp, figsize=(15,7))"
   ]
  },
  {
   "cell_type": "code",
   "execution_count": 213,
   "metadata": {},
   "outputs": [
    {
     "data": {
      "text/html": [
       "<div>\n",
       "<style scoped>\n",
       "    .dataframe tbody tr th:only-of-type {\n",
       "        vertical-align: middle;\n",
       "    }\n",
       "\n",
       "    .dataframe tbody tr th {\n",
       "        vertical-align: top;\n",
       "    }\n",
       "\n",
       "    .dataframe thead th {\n",
       "        text-align: right;\n",
       "    }\n",
       "</style>\n",
       "<table border=\"1\" class=\"dataframe\">\n",
       "  <thead>\n",
       "    <tr style=\"text-align: right;\">\n",
       "      <th></th>\n",
       "      <th>Importance</th>\n",
       "    </tr>\n",
       "    <tr>\n",
       "      <th>Feature</th>\n",
       "      <th></th>\n",
       "    </tr>\n",
       "  </thead>\n",
       "  <tbody>\n",
       "    <tr>\n",
       "      <th>smoking_status</th>\n",
       "      <td>-0.000304</td>\n",
       "    </tr>\n",
       "    <tr>\n",
       "      <th>hypertension</th>\n",
       "      <td>-0.000105</td>\n",
       "    </tr>\n",
       "    <tr>\n",
       "      <th>work_type</th>\n",
       "      <td>0.000310</td>\n",
       "    </tr>\n",
       "    <tr>\n",
       "      <th>gender</th>\n",
       "      <td>0.000360</td>\n",
       "    </tr>\n",
       "    <tr>\n",
       "      <th>Residence_type</th>\n",
       "      <td>0.000924</td>\n",
       "    </tr>\n",
       "    <tr>\n",
       "      <th>ever_married</th>\n",
       "      <td>0.002215</td>\n",
       "    </tr>\n",
       "    <tr>\n",
       "      <th>id</th>\n",
       "      <td>0.003658</td>\n",
       "    </tr>\n",
       "    <tr>\n",
       "      <th>heart_disease</th>\n",
       "      <td>0.005264</td>\n",
       "    </tr>\n",
       "    <tr>\n",
       "      <th>avg_glucose_level</th>\n",
       "      <td>0.009839</td>\n",
       "    </tr>\n",
       "    <tr>\n",
       "      <th>bmi</th>\n",
       "      <td>0.017125</td>\n",
       "    </tr>\n",
       "    <tr>\n",
       "      <th>age</th>\n",
       "      <td>0.263079</td>\n",
       "    </tr>\n",
       "  </tbody>\n",
       "</table>\n",
       "</div>"
      ],
      "text/plain": [
       "                   Importance\n",
       "Feature                      \n",
       "smoking_status      -0.000304\n",
       "hypertension        -0.000105\n",
       "work_type            0.000310\n",
       "gender               0.000360\n",
       "Residence_type       0.000924\n",
       "ever_married         0.002215\n",
       "id                   0.003658\n",
       "heart_disease        0.005264\n",
       "avg_glucose_level    0.009839\n",
       "bmi                  0.017125\n",
       "age                  0.263079"
      ]
     },
     "execution_count": 213,
     "metadata": {},
     "output_type": "execute_result"
    }
   ],
   "source": [
    "imp"
   ]
  },
  {
   "cell_type": "code",
   "execution_count": 214,
   "metadata": {},
   "outputs": [],
   "source": [
    "cols = list(imp[imp.Importance>0.002].index)"
   ]
  },
  {
   "cell_type": "code",
   "execution_count": 215,
   "metadata": {},
   "outputs": [
    {
     "data": {
      "text/plain": [
       "['ever_married', 'id', 'heart_disease', 'avg_glucose_level', 'bmi', 'age']"
      ]
     },
     "execution_count": 215,
     "metadata": {},
     "output_type": "execute_result"
    }
   ],
   "source": [
    "cols"
   ]
  },
  {
   "cell_type": "markdown",
   "metadata": {},
   "source": [
    "### Trying only features with +ve importance"
   ]
  },
  {
   "cell_type": "code",
   "execution_count": 204,
   "metadata": {},
   "outputs": [
    {
     "data": {
      "text/plain": [
       "XGBClassifier(base_score=0.5, booster='gbtree', colsample_bylevel=1,\n",
       "       colsample_bytree=0.6, gamma=0.0, learning_rate=0.01,\n",
       "       max_delta_step=0, max_depth=3, min_child_weight=6, missing=None,\n",
       "       n_estimators=783, n_jobs=1, nthread=4, objective='binary:logistic',\n",
       "       random_state=0, reg_alpha=100, reg_lambda=1,\n",
       "       scale_pos_weight=54.427841634738186, seed=1, silent=True,\n",
       "       subsample=0.9)"
      ]
     },
     "execution_count": 204,
     "metadata": {},
     "output_type": "execute_result"
    }
   ],
   "source": [
    "xgb_feat.fit(x_trn2[cols], y_trn2)"
   ]
  },
  {
   "cell_type": "code",
   "execution_count": 206,
   "metadata": {},
   "outputs": [
    {
     "data": {
      "text/plain": [
       "0.8793343881573654"
      ]
     },
     "execution_count": 206,
     "metadata": {},
     "output_type": "execute_result"
    }
   ],
   "source": [
    "roc_auc_score(y_val2,xgb_feat.predict_proba(x_val2[cols])[:,1])"
   ]
  },
  {
   "cell_type": "code",
   "execution_count": 212,
   "metadata": {},
   "outputs": [
    {
     "data": {
      "text/plain": [
       "0.8595720013178915"
      ]
     },
     "execution_count": 212,
     "metadata": {},
     "output_type": "execute_result"
    }
   ],
   "source": [
    "# experimenting with scale_weight=1\n",
    "\n",
    "xgb_sc = XGBClassifier(learning_rate =0.01, # fixed\n",
    "                     n_estimators=783, # now\n",
    "                     max_depth=3, # tune\n",
    "                     min_child_weight=6, # tuned \n",
    "                     gamma=0., # tuned\n",
    "                     subsample=0.9, # tuned\n",
    "                     colsample_bytree=0.6, # tuned\n",
    "                     objective= 'binary:logistic', \n",
    "                     nthread=4, \n",
    "                     scale_pos_weight=1, \n",
    "                     seed=1,\n",
    "                     reg_alpha=100 # tuned\n",
    "                    )\n",
    "xgb_sc.fit(x_trn2[cols], y_trn2)\n",
    "roc_auc_score(y_val2,xgb_sc.predict_proba(x_val2[cols])[:,1])"
   ]
  },
  {
   "cell_type": "code",
   "execution_count": 207,
   "metadata": {},
   "outputs": [],
   "source": [
    "xgb_final = XGBClassifier(learning_rate =0.01, # fixed\n",
    "                     n_estimators=783, # now\n",
    "                     max_depth=3, # tune\n",
    "                     min_child_weight=6, # tuned \n",
    "                     gamma=0., # tuned\n",
    "                     subsample=0.9, # tuned\n",
    "                     colsample_bytree=0.6, # tuned\n",
    "                     objective= 'binary:logistic', \n",
    "                     nthread=4, \n",
    "                     scale_pos_weight=scale_pos, \n",
    "                     seed=1,\n",
    "                     reg_alpha=100 # tuned\n",
    "                    )"
   ]
  },
  {
   "cell_type": "code",
   "execution_count": 208,
   "metadata": {},
   "outputs": [
    {
     "data": {
      "text/plain": [
       "XGBClassifier(base_score=0.5, booster='gbtree', colsample_bylevel=1,\n",
       "       colsample_bytree=0.6, gamma=0.0, learning_rate=0.01,\n",
       "       max_delta_step=0, max_depth=3, min_child_weight=6, missing=None,\n",
       "       n_estimators=783, n_jobs=1, nthread=4, objective='binary:logistic',\n",
       "       random_state=0, reg_alpha=100, reg_lambda=1,\n",
       "       scale_pos_weight=54.427841634738186, seed=1, silent=True,\n",
       "       subsample=0.9)"
      ]
     },
     "execution_count": 208,
     "metadata": {},
     "output_type": "execute_result"
    }
   ],
   "source": [
    "xgb_final.fit(x_trn3[cols], y_trn3)"
   ]
  },
  {
   "cell_type": "code",
   "execution_count": 209,
   "metadata": {},
   "outputs": [],
   "source": [
    "preds = xgb_final.predict_proba(test_raw.drop('age_bins', axis=1)[cols])[:,1]"
   ]
  },
  {
   "cell_type": "code",
   "execution_count": 210,
   "metadata": {},
   "outputs": [
    {
     "data": {
      "text/plain": [
       "(array([6835., 1896., 1761., 1638., 1625., 1002., 1098., 1174., 1228.,  344.]),\n",
       " array([0.00821, 0.10313, 0.19804, 0.29296, 0.38787, 0.48279, 0.5777 , 0.67262, 0.76753, 0.86245, 0.95736]),\n",
       " <a list of 10 Patch objects>)"
      ]
     },
     "execution_count": 210,
     "metadata": {},
     "output_type": "execute_result"
    },
    {
     "data": {
      "image/png": "[encoded data removed]",
      "text/plain": [
       "<Figure size 432x288 with 1 Axes>"
      ]
     },
     "metadata": {},
     "output_type": "display_data"
    }
   ],
   "source": [
    "plt.hist(preds)"
   ]
  },
  {
   "cell_type": "code",
   "execution_count": 211,
   "metadata": {},
   "outputs": [],
   "source": [
    "pred_df = pd.DataFrame(test_raw.id)\n",
    "pred_df['stroke'] = preds\n",
    "pred_df.to_csv('submissions/xgb_tuned_perm_imp.csv', index=False)"
   ]
  }
 ],
 "metadata": {
  "kernelspec": {
   "display_name": "Python 3",
   "language": "python",
   "name": "python3"
  }
 },
 "nbformat": 4,
 "nbformat_minor": 2
}
