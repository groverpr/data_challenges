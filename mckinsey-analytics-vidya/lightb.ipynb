{
 "cells": [
  {
   "cell_type": "code",
   "execution_count": 9,
   "metadata": {},
   "outputs": [],
   "source": [
    "from fastai.imports import *\n",
    "from sklearn.model_selection import StratifiedKFold\n",
    "import lightgbm as lgb\n",
    "from sklearn import metrics\n",
    "from sklearn.model_selection import GridSearchCV"
   ]
  },
  {
   "cell_type": "code",
   "execution_count": 10,
   "metadata": {},
   "outputs": [],
   "source": [
    "train_raw = pd.read_csv('intermediate_data/raw_train.csv')\n",
    "test_raw = pd.read_csv('intermediate_data/raw_test.csv')"
   ]
  },
  {
   "cell_type": "code",
   "execution_count": 11,
   "metadata": {},
   "outputs": [],
   "source": [
    "x_trn3 = train_raw.drop(['stroke', 'age_bins'], axis=1)\n",
    "y_trn3 = train_raw['stroke'].values"
   ]
  },
  {
   "cell_type": "code",
   "execution_count": 4,
   "metadata": {},
   "outputs": [],
   "source": [
    "# cols = ['heart_disease', 'id', 'bmi', 'avg_glucose_level', 'age']\n",
    "# x_trn3 = x_trn3[cols]"
   ]
  },
  {
   "cell_type": "code",
   "execution_count": 12,
   "metadata": {},
   "outputs": [
    {
     "data": {
      "text/plain": [
       "((43400, 11), (43400,))"
      ]
     },
     "execution_count": 12,
     "metadata": {},
     "output_type": "execute_result"
    }
   ],
   "source": [
    "x_trn3.shape, y_trn3.shape"
   ]
  },
  {
   "cell_type": "code",
   "execution_count": 6,
   "metadata": {},
   "outputs": [],
   "source": [
    "def auc2(m, train, test): \n",
    "    return (metrics.roc_auc_score(y_train,m.predict(train)),\n",
    "                            metrics.roc_auc_score(y_test,m.predict(test)))"
   ]
  },
  {
   "cell_type": "markdown",
   "metadata": {},
   "source": [
    "### 1. Num leaves"
   ]
  },
  {
   "cell_type": "code",
   "execution_count": 6,
   "metadata": {},
   "outputs": [
    {
     "name": "stdout",
     "output_type": "stream",
     "text": [
      "Fitting 5 folds for each of 6 candidates, totalling 30 fits\n",
      "[CV] learning_rate=0.05, n_estimators=100, num_leaves=10 .............\n",
      "[CV] learning_rate=0.05, n_estimators=100, num_leaves=10 .............\n",
      "[CV] learning_rate=0.05, n_estimators=100, num_leaves=10 .............\n",
      "[CV] learning_rate=0.05, n_estimators=100, num_leaves=10 .............\n",
      "[CV]  learning_rate=0.05, n_estimators=100, num_leaves=10, score=0.8498484057002744, total=   1.1s\n",
      "[CV] learning_rate=0.05, n_estimators=100, num_leaves=10 .............\n",
      "[CV]  learning_rate=0.05, n_estimators=100, num_leaves=10, score=0.8587782865614362, total=   1.2s\n",
      "[CV] learning_rate=0.05, n_estimators=100, num_leaves=15 .............\n",
      "[CV]  learning_rate=0.05, n_estimators=100, num_leaves=10, score=0.8394439678748951, total=   1.2s\n",
      "[CV]  learning_rate=0.05, n_estimators=100, num_leaves=10, score=0.87347283519406, total=   1.3s\n",
      "[CV] learning_rate=0.05, n_estimators=100, num_leaves=15 .............\n",
      "[CV] learning_rate=0.05, n_estimators=100, num_leaves=15 .............\n"
     ]
    },
    {
     "name": "stderr",
     "output_type": "stream",
     "text": [
      "[Parallel(n_jobs=-1)]: Done   1 tasks      | elapsed:    1.5s\n",
      "[Parallel(n_jobs=-1)]: Done   2 tasks      | elapsed:    1.5s\n",
      "[Parallel(n_jobs=-1)]: Done   3 tasks      | elapsed:    1.6s\n",
      "[Parallel(n_jobs=-1)]: Done   4 tasks      | elapsed:    1.6s\n"
     ]
    },
    {
     "name": "stdout",
     "output_type": "stream",
     "text": [
      "[CV]  learning_rate=0.05, n_estimators=100, num_leaves=10, score=0.8685401041525647, total=   0.9s\n",
      "[CV] learning_rate=0.05, n_estimators=100, num_leaves=15 .............\n"
     ]
    },
    {
     "name": "stderr",
     "output_type": "stream",
     "text": [
      "[Parallel(n_jobs=-1)]: Done   5 tasks      | elapsed:    2.7s\n"
     ]
    },
    {
     "name": "stdout",
     "output_type": "stream",
     "text": [
      "[CV]  learning_rate=0.05, n_estimators=100, num_leaves=15, score=0.8591649804075119, total=   1.2s\n",
      "[CV]  learning_rate=0.05, n_estimators=100, num_leaves=15, score=0.8392440826501119, total=   1.2s\n",
      "[CV] learning_rate=0.05, n_estimators=100, num_leaves=15 .............\n",
      "[CV]  learning_rate=0.05, n_estimators=100, num_leaves=15, score=0.8497422859538558, total=   1.2s\n",
      "[CV] learning_rate=0.05, n_estimators=100, num_leaves=20 .............\n",
      "[CV] learning_rate=0.05, n_estimators=100, num_leaves=20 .............\n"
     ]
    },
    {
     "name": "stderr",
     "output_type": "stream",
     "text": [
      "[Parallel(n_jobs=-1)]: Done   6 tasks      | elapsed:    3.1s\n",
      "[Parallel(n_jobs=-1)]: Done   7 tasks      | elapsed:    3.1s\n",
      "[Parallel(n_jobs=-1)]: Done   8 tasks      | elapsed:    3.1s\n"
     ]
    },
    {
     "name": "stdout",
     "output_type": "stream",
     "text": [
      "[CV]  learning_rate=0.05, n_estimators=100, num_leaves=15, score=0.8718482717954736, total=   1.2s\n",
      "[CV] learning_rate=0.05, n_estimators=100, num_leaves=20 .............\n"
     ]
    },
    {
     "name": "stderr",
     "output_type": "stream",
     "text": [
      "[Parallel(n_jobs=-1)]: Done   9 tasks      | elapsed:    4.3s\n"
     ]
    },
    {
     "name": "stdout",
     "output_type": "stream",
     "text": [
      "[CV]  learning_rate=0.05, n_estimators=100, num_leaves=15, score=0.8657080238389637, total=   1.3s\n",
      "[CV] learning_rate=0.05, n_estimators=100, num_leaves=20 .............\n",
      "[CV]  learning_rate=0.05, n_estimators=100, num_leaves=20, score=0.8556245834167746, total=   1.4s\n",
      "[CV]  learning_rate=0.05, n_estimators=100, num_leaves=20, score=0.8375314212101015, total=   1.4s\n",
      "[CV] learning_rate=0.05, n_estimators=100, num_leaves=20 .............\n"
     ]
    },
    {
     "name": "stderr",
     "output_type": "stream",
     "text": [
      "[Parallel(n_jobs=-1)]: Done  10 tasks      | elapsed:    4.7s\n",
      "[Parallel(n_jobs=-1)]: Done  11 tasks      | elapsed:    4.8s\n",
      "[Parallel(n_jobs=-1)]: Done  12 tasks      | elapsed:    4.8s\n"
     ]
    },
    {
     "name": "stdout",
     "output_type": "stream",
     "text": [
      "[CV] learning_rate=0.05, n_estimators=100, num_leaves=300 ............\n",
      "[CV]  learning_rate=0.05, n_estimators=100, num_leaves=20, score=0.8474323131638556, total=   1.5s\n",
      "[CV] learning_rate=0.05, n_estimators=100, num_leaves=300 ............\n"
     ]
    },
    {
     "name": "stderr",
     "output_type": "stream",
     "text": [
      "[Parallel(n_jobs=-1)]: Done  13 tasks      | elapsed:    6.1s\n"
     ]
    },
    {
     "name": "stdout",
     "output_type": "stream",
     "text": [
      "[CV]  learning_rate=0.05, n_estimators=100, num_leaves=20, score=0.8695674900796335, total=   1.3s\n",
      "[CV] learning_rate=0.05, n_estimators=100, num_leaves=300 ............\n",
      "[CV]  learning_rate=0.05, n_estimators=100, num_leaves=20, score=0.8624359576049123, total=   1.5s\n"
     ]
    },
    {
     "name": "stderr",
     "output_type": "stream",
     "text": [
      "[Parallel(n_jobs=-1)]: Done  14 tasks      | elapsed:    6.4s\n",
      "[Parallel(n_jobs=-1)]: Done  15 tasks      | elapsed:    6.6s\n"
     ]
    },
    {
     "name": "stdout",
     "output_type": "stream",
     "text": [
      "[CV] learning_rate=0.05, n_estimators=100, num_leaves=300 ............\n",
      "[CV]  learning_rate=0.05, n_estimators=100, num_leaves=300, score=0.8231486518395419, total=  11.4s\n",
      "[CV] learning_rate=0.05, n_estimators=100, num_leaves=300 ............\n"
     ]
    },
    {
     "name": "stderr",
     "output_type": "stream",
     "text": [
      "[Parallel(n_jobs=-1)]: Done  16 tasks      | elapsed:   17.1s\n"
     ]
    },
    {
     "name": "stdout",
     "output_type": "stream",
     "text": [
      "[CV]  learning_rate=0.05, n_estimators=100, num_leaves=300, score=0.8073184892712073, total=  11.7s\n",
      "[CV]  learning_rate=0.05, n_estimators=100, num_leaves=300, score=0.8081242886427209, total=  11.4s\n",
      "[CV] learning_rate=0.05, n_estimators=100, num_leaves=900 ............\n",
      "[CV]  learning_rate=0.05, n_estimators=100, num_leaves=300, score=0.8158704049675538, total=  11.2s\n",
      "[CV] learning_rate=0.05, n_estimators=100, num_leaves=900 ............\n",
      "[CV] learning_rate=0.05, n_estimators=100, num_leaves=900 ............\n"
     ]
    },
    {
     "name": "stderr",
     "output_type": "stream",
     "text": [
      "[Parallel(n_jobs=-1)]: Done  17 tasks      | elapsed:   18.6s\n",
      "[Parallel(n_jobs=-1)]: Done  18 tasks      | elapsed:   18.6s\n",
      "[Parallel(n_jobs=-1)]: Done  19 tasks      | elapsed:   18.6s\n"
     ]
    },
    {
     "name": "stdout",
     "output_type": "stream",
     "text": [
      "[CV]  learning_rate=0.05, n_estimators=100, num_leaves=300, score=0.8377790714115951, total=  11.8s\n",
      "[CV] learning_rate=0.05, n_estimators=100, num_leaves=900 ............\n"
     ]
    },
    {
     "name": "stderr",
     "output_type": "stream",
     "text": [
      "[Parallel(n_jobs=-1)]: Done  20 tasks      | elapsed:   29.4s\n"
     ]
    },
    {
     "name": "stdout",
     "output_type": "stream",
     "text": [
      "[CV]  learning_rate=0.05, n_estimators=100, num_leaves=900, score=0.8033454435135563, total=  27.2s\n",
      "[CV] learning_rate=0.05, n_estimators=100, num_leaves=900 ............\n"
     ]
    },
    {
     "name": "stderr",
     "output_type": "stream",
     "text": [
      "[Parallel(n_jobs=-1)]: Done  21 tasks      | elapsed:   47.2s\n"
     ]
    },
    {
     "name": "stdout",
     "output_type": "stream",
     "text": [
      "[CV]  learning_rate=0.05, n_estimators=100, num_leaves=900, score=0.7869201433961757, total=  29.7s\n",
      "[CV] learning_rate=0.05, n_estimators=100, num_leaves=1200 ...........\n"
     ]
    },
    {
     "name": "stderr",
     "output_type": "stream",
     "text": [
      "[Parallel(n_jobs=-1)]: Done  22 tasks      | elapsed:   49.8s\n"
     ]
    },
    {
     "name": "stdout",
     "output_type": "stream",
     "text": [
      "[CV]  learning_rate=0.05, n_estimators=100, num_leaves=900, score=0.8033062137030849, total=  30.2s\n",
      "[CV] learning_rate=0.05, n_estimators=100, num_leaves=1200 ...........\n"
     ]
    },
    {
     "name": "stderr",
     "output_type": "stream",
     "text": [
      "[Parallel(n_jobs=-1)]: Done  23 tasks      | elapsed:   50.0s\n"
     ]
    },
    {
     "name": "stdout",
     "output_type": "stream",
     "text": [
      "[CV]  learning_rate=0.05, n_estimators=100, num_leaves=900, score=0.802110503404062, total=  28.4s\n",
      "[CV] learning_rate=0.05, n_estimators=100, num_leaves=1200 ...........\n",
      "[CV]  learning_rate=0.05, n_estimators=100, num_leaves=900, score=0.8265801135389308, total=  28.1s\n",
      "[CV] learning_rate=0.05, n_estimators=100, num_leaves=1200 ...........\n"
     ]
    },
    {
     "name": "stderr",
     "output_type": "stream",
     "text": [
      "[Parallel(n_jobs=-1)]: Done  25 out of  30 | elapsed:  1.3min remaining:   15.3s\n"
     ]
    },
    {
     "name": "stdout",
     "output_type": "stream",
     "text": [
      "[CV]  learning_rate=0.05, n_estimators=100, num_leaves=1200, score=0.8014239300349407, total=  32.6s\n",
      "[CV] learning_rate=0.05, n_estimators=100, num_leaves=1200 ...........\n",
      "[CV]  learning_rate=0.05, n_estimators=100, num_leaves=1200, score=0.8031765685199079, total=  36.5s\n"
     ]
    },
    {
     "name": "stderr",
     "output_type": "stream",
     "text": [
      "[Parallel(n_jobs=-1)]: Done  27 out of  30 | elapsed:  1.5min remaining:    9.7s\n"
     ]
    },
    {
     "name": "stdout",
     "output_type": "stream",
     "text": [
      "[CV]  learning_rate=0.05, n_estimators=100, num_leaves=1200, score=0.7869201433961757, total=  32.6s\n",
      "[CV]  learning_rate=0.05, n_estimators=100, num_leaves=1200, score=0.8020619921359098, total=  31.0s\n",
      "[CV]  learning_rate=0.05, n_estimators=100, num_leaves=1200, score=0.826619975511211, total=  29.2s\n"
     ]
    },
    {
     "name": "stderr",
     "output_type": "stream",
     "text": [
      "[Parallel(n_jobs=-1)]: Done  30 out of  30 | elapsed:  1.9min finished\n"
     ]
    },
    {
     "data": {
      "text/plain": [
       "LGBMClassifier(boosting_type='gbdt', class_weight=None, colsample_bytree=1.0,\n",
       "        learning_rate=0.05, max_depth=-1, min_child_samples=20,\n",
       "        min_child_weight=0.001, min_split_gain=0.0, n_estimators=100,\n",
       "        n_jobs=-1, num_leaves=10, objective=None, random_state=None,\n",
       "        reg_alpha=0.0, reg_lambda=0.0, silent=False, subsample=1.0,\n",
       "        subsample_for_bin=200000, subsample_freq=1)"
      ]
     },
     "execution_count": 6,
     "metadata": {},
     "output_type": "execute_result"
    }
   ],
   "source": [
    "lg = lgb.LGBMClassifier(silent=False)\n",
    "\n",
    "# # alvira\n",
    "# param_dist = {\"max_depth\": [25,50, 75],\n",
    "#               \"learning_rate\" : [0.01,0.05,0.1],\n",
    "#               \"num_leaves\": [300,900,1200],\n",
    "#               \"n_estimators\": [100]\n",
    "#              }\n",
    "\n",
    "# neerja\n",
    "param_dist = { 'learning_rate':[0.05],\n",
    "          'num_leaves':[10,15,20,300,900,1200],\n",
    "#           'max_depth':[5,10,15,20],\n",
    "           'n_estimators':[100],\n",
    "         }\n",
    "\n",
    "# grid_search = GridSearchCV(lg, n_jobs=-1, \n",
    "#                            param_grid=param_dist,\n",
    "#                            cv = 5,\n",
    "#                            scoring=\"roc_auc\", \n",
    "#                            verbose=5)\n",
    "\n",
    "grid_search = GridSearchCV(lg,\n",
    "                           n_jobs=-1,\n",
    "                           param_grid=param_dist, \n",
    "                           scoring='roc_auc',\n",
    "                           verbose=20,\n",
    "                           cv = StratifiedKFold(n_splits=5, \n",
    "                                   shuffle=True,\n",
    "                                   random_state=1).split(x_trn3,y_trn3)) \n",
    "\n",
    "grid_search.fit(x_trn3,y_trn3)\n"
   ]
  },
  {
   "cell_type": "code",
   "execution_count": 7,
   "metadata": {},
   "outputs": [
    {
     "name": "stderr",
     "output_type": "stream",
     "text": [
      "/Users/princegrover/anaconda3/envs/fastai/lib/python3.6/site-packages/sklearn/model_selection/_search.py:761: DeprecationWarning: The grid_scores_ attribute was deprecated in version 0.18 in favor of the more elaborate cv_results_ attribute. The grid_scores_ attribute will not be available from 0.20\n",
      "  DeprecationWarning)\n"
     ]
    },
    {
     "data": {
      "text/plain": [
       "([mean: 0.85802, std: 0.01234, params: {'learning_rate': 0.05, 'n_estimators': 100, 'num_leaves': 10},\n",
       "  mean: 0.85714, std: 0.01157, params: {'learning_rate': 0.05, 'n_estimators': 100, 'num_leaves': 15},\n",
       "  mean: 0.85452, std: 0.01122, params: {'learning_rate': 0.05, 'n_estimators': 100, 'num_leaves': 20},\n",
       "  mean: 0.81845, std: 0.01125, params: {'learning_rate': 0.05, 'n_estimators': 100, 'num_leaves': 300},\n",
       "  mean: 0.80445, std: 0.01269, params: {'learning_rate': 0.05, 'n_estimators': 100, 'num_leaves': 900},\n",
       "  mean: 0.80404, std: 0.01276, params: {'learning_rate': 0.05, 'n_estimators': 100, 'num_leaves': 1200}],\n",
       " {'learning_rate': 0.05, 'n_estimators': 100, 'num_leaves': 10},\n",
       " 0.8580157108946895)"
      ]
     },
     "execution_count": 7,
     "metadata": {},
     "output_type": "execute_result"
    }
   ],
   "source": [
    "grid_search.grid_scores_, grid_search.best_params_, grid_search.best_score_"
   ]
  },
  {
   "cell_type": "code",
   "execution_count": 7,
   "metadata": {
    "scrolled": true
   },
   "outputs": [
    {
     "name": "stdout",
     "output_type": "stream",
     "text": [
      "Fitting 5 folds for each of 5 candidates, totalling 25 fits\n",
      "[CV] learning_rate=0.05, n_estimators=100, num_leaves=5 ..............\n",
      "[CV] learning_rate=0.05, n_estimators=100, num_leaves=5 ..............\n",
      "[CV] learning_rate=0.05, n_estimators=100, num_leaves=5 ..............\n",
      "[CV] learning_rate=0.05, n_estimators=100, num_leaves=5 ..............\n",
      "[CV]  learning_rate=0.05, n_estimators=100, num_leaves=5, score=0.8388129283521685, total=   1.1s\n",
      "[CV]  learning_rate=0.05, n_estimators=100, num_leaves=5, score=0.8587850116718028, total=   1.2s\n",
      "[CV]  learning_rate=0.05, n_estimators=100, num_leaves=5, score=0.8666530534270765, total=   1.0s\n",
      "[CV]  learning_rate=0.05, n_estimators=100, num_leaves=5, score=0.8487561943665362, total=   1.1s\n",
      "[CV] learning_rate=0.05, n_estimators=100, num_leaves=5 ..............\n",
      "[CV] learning_rate=0.05, n_estimators=100, num_leaves=7 ..............\n",
      "[CV] learning_rate=0.05, n_estimators=100, num_leaves=7 ..............\n",
      "[CV] learning_rate=0.05, n_estimators=100, num_leaves=7 ..............\n"
     ]
    },
    {
     "name": "stderr",
     "output_type": "stream",
     "text": [
      "[Parallel(n_jobs=-1)]: Done   1 tasks      | elapsed:    1.5s\n",
      "[Parallel(n_jobs=-1)]: Done   2 tasks      | elapsed:    1.5s\n",
      "[Parallel(n_jobs=-1)]: Done   3 tasks      | elapsed:    1.6s\n",
      "[Parallel(n_jobs=-1)]: Done   4 tasks      | elapsed:    1.6s\n"
     ]
    },
    {
     "name": "stdout",
     "output_type": "stream",
     "text": [
      "[CV]  learning_rate=0.05, n_estimators=100, num_leaves=5, score=0.8646922956585048, total=   1.0s\n",
      "[CV] learning_rate=0.05, n_estimators=100, num_leaves=7 ..............\n",
      "[CV]  learning_rate=0.05, n_estimators=100, num_leaves=7, score=0.8402076415187392, total=   1.1s\n"
     ]
    },
    {
     "name": "stderr",
     "output_type": "stream",
     "text": [
      "[Parallel(n_jobs=-1)]: Done   5 tasks      | elapsed:    2.9s\n",
      "[Parallel(n_jobs=-1)]: Done   6 tasks      | elapsed:    3.0s\n"
     ]
    },
    {
     "name": "stdout",
     "output_type": "stream",
     "text": [
      "[CV] learning_rate=0.05, n_estimators=100, num_leaves=7 ..............\n",
      "[CV]  learning_rate=0.05, n_estimators=100, num_leaves=7, score=0.8500247737295336, total=   1.2s\n",
      "[CV]  learning_rate=0.05, n_estimators=100, num_leaves=7, score=0.8609441457167025, total=   1.2s\n",
      "[CV] learning_rate=0.05, n_estimators=100, num_leaves=9 ..............\n",
      "[CV] learning_rate=0.05, n_estimators=100, num_leaves=9 ..............\n"
     ]
    },
    {
     "name": "stderr",
     "output_type": "stream",
     "text": [
      "[Parallel(n_jobs=-1)]: Done   7 tasks      | elapsed:    3.1s\n",
      "[Parallel(n_jobs=-1)]: Done   8 tasks      | elapsed:    3.1s\n"
     ]
    },
    {
     "name": "stdout",
     "output_type": "stream",
     "text": [
      "[CV]  learning_rate=0.05, n_estimators=100, num_leaves=7, score=0.8695584647274193, total=   1.1s\n",
      "[CV] learning_rate=0.05, n_estimators=100, num_leaves=9 ..............\n",
      "[CV]  learning_rate=0.05, n_estimators=100, num_leaves=7, score=0.8645851196009591, total=   1.2s\n",
      "[CV] learning_rate=0.05, n_estimators=100, num_leaves=9 ..............\n"
     ]
    },
    {
     "name": "stderr",
     "output_type": "stream",
     "text": [
      "[Parallel(n_jobs=-1)]: Done   9 tasks      | elapsed:    4.5s\n",
      "[Parallel(n_jobs=-1)]: Done  10 tasks      | elapsed:    4.6s\n"
     ]
    },
    {
     "name": "stdout",
     "output_type": "stream",
     "text": [
      "[CV]  learning_rate=0.05, n_estimators=100, num_leaves=9, score=0.8600661451966274, total=   1.3s\n",
      "[CV] learning_rate=0.05, n_estimators=100, num_leaves=9 ..............\n",
      "[CV]  learning_rate=0.05, n_estimators=100, num_leaves=9, score=0.8389952535665502, total=   1.3s\n",
      "[CV] learning_rate=0.05, n_estimators=100, num_leaves=11 .............\n"
     ]
    },
    {
     "name": "stderr",
     "output_type": "stream",
     "text": [
      "[Parallel(n_jobs=-1)]: Done  11 tasks      | elapsed:    4.8s\n",
      "[Parallel(n_jobs=-1)]: Done  12 tasks      | elapsed:    4.9s\n"
     ]
    },
    {
     "name": "stdout",
     "output_type": "stream",
     "text": [
      "[CV]  learning_rate=0.05, n_estimators=100, num_leaves=9, score=0.8506783069565977, total=   1.3s\n",
      "[CV] learning_rate=0.05, n_estimators=100, num_leaves=11 .............\n",
      "[CV]  learning_rate=0.05, n_estimators=100, num_leaves=9, score=0.8729023577228435, total=   1.4s\n",
      "[CV] learning_rate=0.05, n_estimators=100, num_leaves=11 .............\n",
      "[CV]  learning_rate=0.05, n_estimators=100, num_leaves=9, score=0.8678951675255794, total=   1.4s\n",
      "[CV] learning_rate=0.05, n_estimators=100, num_leaves=11 .............\n"
     ]
    },
    {
     "name": "stderr",
     "output_type": "stream",
     "text": [
      "[Parallel(n_jobs=-1)]: Done  13 tasks      | elapsed:    6.4s\n",
      "[Parallel(n_jobs=-1)]: Done  14 tasks      | elapsed:    6.5s\n",
      "[Parallel(n_jobs=-1)]: Done  15 tasks      | elapsed:    6.6s\n"
     ]
    },
    {
     "name": "stdout",
     "output_type": "stream",
     "text": [
      "[CV]  learning_rate=0.05, n_estimators=100, num_leaves=11, score=0.8596985058299237, total=   1.6s\n",
      "[CV] learning_rate=0.05, n_estimators=100, num_leaves=11 .............\n"
     ]
    },
    {
     "name": "stderr",
     "output_type": "stream",
     "text": [
      "[Parallel(n_jobs=-1)]: Done  16 tasks      | elapsed:    6.9s\n"
     ]
    },
    {
     "name": "stdout",
     "output_type": "stream",
     "text": [
      "[CV]  learning_rate=0.05, n_estimators=100, num_leaves=11, score=0.8390486808322397, total=   1.3s\n",
      "[CV] learning_rate=0.05, n_estimators=100, num_leaves=13 .............\n",
      "[CV]  learning_rate=0.05, n_estimators=100, num_leaves=11, score=0.8722213196870008, total=   1.4s\n",
      "[CV] learning_rate=0.05, n_estimators=100, num_leaves=13 .............\n",
      "[CV]  learning_rate=0.05, n_estimators=100, num_leaves=11, score=0.8501208046268209, total=   1.6s\n",
      "[CV] learning_rate=0.05, n_estimators=100, num_leaves=13 .............\n"
     ]
    },
    {
     "name": "stderr",
     "output_type": "stream",
     "text": [
      "[Parallel(n_jobs=-1)]: Done  17 tasks      | elapsed:    8.3s\n",
      "[Parallel(n_jobs=-1)]: Done  18 tasks      | elapsed:    8.5s\n"
     ]
    },
    {
     "name": "stdout",
     "output_type": "stream",
     "text": [
      "[CV]  learning_rate=0.05, n_estimators=100, num_leaves=11, score=0.8664887168055067, total=   1.5s\n",
      "[CV] learning_rate=0.05, n_estimators=100, num_leaves=13 .............\n"
     ]
    },
    {
     "name": "stderr",
     "output_type": "stream",
     "text": [
      "[Parallel(n_jobs=-1)]: Done  20 out of  25 | elapsed:    8.8s remaining:    2.2s\n"
     ]
    },
    {
     "name": "stdout",
     "output_type": "stream",
     "text": [
      "[CV]  learning_rate=0.05, n_estimators=100, num_leaves=13, score=0.8587106618405282, total=   1.4s\n",
      "[CV] learning_rate=0.05, n_estimators=100, num_leaves=13 .............\n",
      "[CV]  learning_rate=0.05, n_estimators=100, num_leaves=13, score=0.8504858715009442, total=   1.4s\n",
      "[CV]  learning_rate=0.05, n_estimators=100, num_leaves=13, score=0.838294721236703, total=   1.5s\n",
      "[CV]  learning_rate=0.05, n_estimators=100, num_leaves=13, score=0.872574436592388, total=   1.5s\n"
     ]
    },
    {
     "name": "stderr",
     "output_type": "stream",
     "text": [
      "[Parallel(n_jobs=-1)]: Done  22 out of  25 | elapsed:   10.3s remaining:    1.4s\n"
     ]
    },
    {
     "name": "stdout",
     "output_type": "stream",
     "text": [
      "[CV]  learning_rate=0.05, n_estimators=100, num_leaves=13, score=0.8666620787792911, total=   1.1s\n"
     ]
    },
    {
     "name": "stderr",
     "output_type": "stream",
     "text": [
      "[Parallel(n_jobs=-1)]: Done  25 out of  25 | elapsed:   11.5s finished\n"
     ]
    },
    {
     "data": {
      "text/plain": [
       "GridSearchCV(cv=<generator object _BaseKFold.split at 0x1c24ee9ca8>,\n",
       "       error_score='raise',\n",
       "       estimator=LGBMClassifier(boosting_type='gbdt', class_weight=None, colsample_bytree=1.0,\n",
       "        learning_rate=0.1, max_depth=-1, min_child_samples=20,\n",
       "        min_child_weight=0.001, min_split_gain=0.0, n_estimators=100,\n",
       "        n_jobs=-1, num_leaves=31, objective=None, random_state=None,\n",
       "        reg_alpha=0.0, reg_lambda=0.0, silent=False, subsample=1.0,\n",
       "        subsample_for_bin=200000, subsample_freq=1),\n",
       "       fit_params=None, iid=True, n_jobs=-1,\n",
       "       param_grid={'learning_rate': [0.05], 'num_leaves': [5, 7, 9, 11, 13], 'n_estimators': [100]},\n",
       "       pre_dispatch='2*n_jobs', refit=True, return_train_score='warn',\n",
       "       scoring='roc_auc', verbose=20)"
      ]
     },
     "execution_count": 7,
     "metadata": {},
     "output_type": "execute_result"
    }
   ],
   "source": [
    "lg = lgb.LGBMClassifier(silent=False)\n",
    "\n",
    "# neerja\n",
    "param_dist = { 'learning_rate':[0.05],\n",
    "          'num_leaves':[5,7,9,11,13],\n",
    "          'n_estimators':[100],\n",
    "         }\n",
    "\n",
    "grid_search = GridSearchCV(lg,\n",
    "                           n_jobs=-1,\n",
    "                           param_grid=param_dist, \n",
    "                           scoring='roc_auc',\n",
    "                           verbose=20,\n",
    "                           cv = StratifiedKFold(n_splits=5, \n",
    "                                   shuffle=True,\n",
    "                                   random_state=1).split(x_trn3,y_trn3)) \n",
    "\n",
    "grid_search.fit(x_trn3,y_trn3)"
   ]
  },
  {
   "cell_type": "code",
   "execution_count": 8,
   "metadata": {},
   "outputs": [
    {
     "name": "stderr",
     "output_type": "stream",
     "text": [
      "/Users/princegrover/anaconda3/envs/fastai/lib/python3.6/site-packages/sklearn/model_selection/_search.py:761: DeprecationWarning: The grid_scores_ attribute was deprecated in version 0.18 in favor of the more elaborate cv_results_ attribute. The grid_scores_ attribute will not be available from 0.20\n",
      "  DeprecationWarning)\n"
     ]
    },
    {
     "data": {
      "text/plain": [
       "([mean: 0.85554, std: 0.01043, params: {'learning_rate': 0.05, 'n_estimators': 100, 'num_leaves': 5},\n",
       "  mean: 0.85706, std: 0.01060, params: {'learning_rate': 0.05, 'n_estimators': 100, 'num_leaves': 7},\n",
       "  mean: 0.85811, std: 0.01216, params: {'learning_rate': 0.05, 'n_estimators': 100, 'num_leaves': 9},\n",
       "  mean: 0.85751, std: 0.01181, params: {'learning_rate': 0.05, 'n_estimators': 100, 'num_leaves': 11},\n",
       "  mean: 0.85734, std: 0.01209, params: {'learning_rate': 0.05, 'n_estimators': 100, 'num_leaves': 13}],\n",
       " {'learning_rate': 0.05, 'n_estimators': 100, 'num_leaves': 9},\n",
       " 0.8581064845317391)"
      ]
     },
     "execution_count": 8,
     "metadata": {},
     "output_type": "execute_result"
    }
   ],
   "source": [
    "grid_search.grid_scores_, grid_search.best_params_, grid_search.best_score_"
   ]
  },
  {
   "cell_type": "code",
   "execution_count": 7,
   "metadata": {
    "scrolled": true
   },
   "outputs": [
    {
     "name": "stdout",
     "output_type": "stream",
     "text": [
      "Fitting 5 folds for each of 7 candidates, totalling 35 fits\n",
      "[CV] learning_rate=0.05, max_depth=4, n_estimators=100, num_leaves=9 .\n",
      "[CV] learning_rate=0.05, max_depth=4, n_estimators=100, num_leaves=9 .\n",
      "[CV] learning_rate=0.05, max_depth=4, n_estimators=100, num_leaves=9 .\n",
      "[CV] learning_rate=0.05, max_depth=4, n_estimators=100, num_leaves=9 .\n",
      "[CV]  learning_rate=0.05, max_depth=4, n_estimators=100, num_leaves=9, score=0.8578565728239784, total=   0.8s\n",
      "[CV]  learning_rate=0.05, max_depth=4, n_estimators=100, num_leaves=9, score=0.8377096366348146, total=   0.8s\n",
      "[CV] learning_rate=0.05, max_depth=4, n_estimators=100, num_leaves=9 .\n",
      "[CV] learning_rate=0.05, max_depth=5, n_estimators=100, num_leaves=9 .\n"
     ]
    },
    {
     "name": "stderr",
     "output_type": "stream",
     "text": [
      "[Parallel(n_jobs=-1)]: Done   1 tasks      | elapsed:    1.1s\n",
      "[Parallel(n_jobs=-1)]: Done   2 tasks      | elapsed:    1.1s\n"
     ]
    },
    {
     "name": "stdout",
     "output_type": "stream",
     "text": [
      "[CV]  learning_rate=0.05, max_depth=4, n_estimators=100, num_leaves=9, score=0.8490633437734237, total=   1.1s\n",
      "[CV] learning_rate=0.05, max_depth=5, n_estimators=100, num_leaves=9 .\n",
      "[CV]  learning_rate=0.05, max_depth=4, n_estimators=100, num_leaves=9, score=0.8634979407154698, total=   0.9s\n",
      "[CV] learning_rate=0.05, max_depth=5, n_estimators=100, num_leaves=9 .\n"
     ]
    },
    {
     "name": "stderr",
     "output_type": "stream",
     "text": [
      "[Parallel(n_jobs=-1)]: Done   3 tasks      | elapsed:    1.4s\n",
      "[Parallel(n_jobs=-1)]: Done   4 tasks      | elapsed:    1.5s\n"
     ]
    },
    {
     "name": "stdout",
     "output_type": "stream",
     "text": [
      "[CV]  learning_rate=0.05, max_depth=4, n_estimators=100, num_leaves=9, score=0.8620309449242922, total=   0.9s\n",
      "[CV] learning_rate=0.05, max_depth=5, n_estimators=100, num_leaves=9 .\n",
      "[CV]  learning_rate=0.05, max_depth=5, n_estimators=100, num_leaves=9, score=0.861266203779811, total=   0.9s\n",
      "[CV] learning_rate=0.05, max_depth=5, n_estimators=100, num_leaves=9 .\n"
     ]
    },
    {
     "name": "stderr",
     "output_type": "stream",
     "text": [
      "[Parallel(n_jobs=-1)]: Done   5 tasks      | elapsed:    2.2s\n",
      "[Parallel(n_jobs=-1)]: Done   6 tasks      | elapsed:    2.4s\n"
     ]
    },
    {
     "name": "stdout",
     "output_type": "stream",
     "text": [
      "[CV]  learning_rate=0.05, max_depth=5, n_estimators=100, num_leaves=9, score=0.8490394294643718, total=   0.8s\n",
      "[CV]  learning_rate=0.05, max_depth=5, n_estimators=100, num_leaves=9, score=0.8377937005143963, total=   1.0s\n",
      "[CV] learning_rate=0.05, max_depth=6, n_estimators=100, num_leaves=9 .\n",
      "[CV] learning_rate=0.05, max_depth=6, n_estimators=100, num_leaves=9 .\n"
     ]
    },
    {
     "name": "stderr",
     "output_type": "stream",
     "text": [
      "[Parallel(n_jobs=-1)]: Done   7 tasks      | elapsed:    2.6s\n",
      "[Parallel(n_jobs=-1)]: Done   8 tasks      | elapsed:    2.7s\n"
     ]
    },
    {
     "name": "stdout",
     "output_type": "stream",
     "text": [
      "[CV]  learning_rate=0.05, max_depth=5, n_estimators=100, num_leaves=9, score=0.8669350956837757, total=   1.0s\n",
      "[CV] learning_rate=0.05, max_depth=6, n_estimators=100, num_leaves=9 .\n",
      "[CV]  learning_rate=0.05, max_depth=5, n_estimators=100, num_leaves=9, score=0.8627337942279865, total=   1.0s\n",
      "[CV] learning_rate=0.05, max_depth=6, n_estimators=100, num_leaves=9 .\n"
     ]
    },
    {
     "name": "stderr",
     "output_type": "stream",
     "text": [
      "[Parallel(n_jobs=-1)]: Done   9 tasks      | elapsed:    3.6s\n",
      "[Parallel(n_jobs=-1)]: Done  10 tasks      | elapsed:    3.7s\n"
     ]
    },
    {
     "name": "stdout",
     "output_type": "stream",
     "text": [
      "[CV]  learning_rate=0.05, max_depth=6, n_estimators=100, num_leaves=9, score=0.8608201047921641, total=   1.0s\n",
      "[CV] learning_rate=0.05, max_depth=6, n_estimators=100, num_leaves=9 .\n",
      "[CV]  learning_rate=0.05, max_depth=6, n_estimators=100, num_leaves=9, score=0.8389821769630598, total=   1.1s\n",
      "[CV] learning_rate=0.05, max_depth=7, n_estimators=100, num_leaves=9 .\n"
     ]
    },
    {
     "name": "stderr",
     "output_type": "stream",
     "text": [
      "[Parallel(n_jobs=-1)]: Done  11 tasks      | elapsed:    3.9s\n",
      "[Parallel(n_jobs=-1)]: Done  12 tasks      | elapsed:    4.0s\n"
     ]
    },
    {
     "name": "stdout",
     "output_type": "stream",
     "text": [
      "[CV]  learning_rate=0.05, max_depth=6, n_estimators=100, num_leaves=9, score=0.8498200074582752, total=   1.0s\n",
      "[CV]  learning_rate=0.05, max_depth=6, n_estimators=100, num_leaves=9, score=0.8709115154468903, total=   1.0s\n",
      "[CV] learning_rate=0.05, max_depth=7, n_estimators=100, num_leaves=9 .\n",
      "[CV] learning_rate=0.05, max_depth=7, n_estimators=100, num_leaves=9 .\n"
     ]
    },
    {
     "name": "stderr",
     "output_type": "stream",
     "text": [
      "[Parallel(n_jobs=-1)]: Done  13 tasks      | elapsed:    4.9s\n",
      "[Parallel(n_jobs=-1)]: Done  14 tasks      | elapsed:    4.9s\n"
     ]
    },
    {
     "name": "stdout",
     "output_type": "stream",
     "text": [
      "[CV]  learning_rate=0.05, max_depth=6, n_estimators=100, num_leaves=9, score=0.8637295914223053, total=   0.9s\n",
      "[CV]  learning_rate=0.05, max_depth=7, n_estimators=100, num_leaves=9, score=0.8608548511957247, total=   0.9s\n",
      "[CV] learning_rate=0.05, max_depth=7, n_estimators=100, num_leaves=9 .\n",
      "[CV] learning_rate=0.05, max_depth=7, n_estimators=100, num_leaves=9 .\n"
     ]
    },
    {
     "name": "stderr",
     "output_type": "stream",
     "text": [
      "[Parallel(n_jobs=-1)]: Done  15 tasks      | elapsed:    5.2s\n",
      "[Parallel(n_jobs=-1)]: Done  16 tasks      | elapsed:    5.2s\n"
     ]
    },
    {
     "name": "stdout",
     "output_type": "stream",
     "text": [
      "[CV]  learning_rate=0.05, max_depth=7, n_estimators=100, num_leaves=9, score=0.8391618868567432, total=   1.0s\n",
      "[CV] learning_rate=0.05, max_depth=8, n_estimators=100, num_leaves=9 .\n",
      "[CV]  learning_rate=0.05, max_depth=7, n_estimators=100, num_leaves=9, score=0.850432437966656, total=   0.9s\n",
      "[CV] learning_rate=0.05, max_depth=8, n_estimators=100, num_leaves=9 .\n"
     ]
    },
    {
     "name": "stderr",
     "output_type": "stream",
     "text": [
      "[Parallel(n_jobs=-1)]: Done  17 tasks      | elapsed:    6.2s\n",
      "[Parallel(n_jobs=-1)]: Done  18 tasks      | elapsed:    6.3s\n"
     ]
    },
    {
     "name": "stdout",
     "output_type": "stream",
     "text": [
      "[CV]  learning_rate=0.05, max_depth=7, n_estimators=100, num_leaves=9, score=0.8726488957481565, total=   1.0s\n",
      "[CV] learning_rate=0.05, max_depth=8, n_estimators=100, num_leaves=9 .\n",
      "[CV]  learning_rate=0.05, max_depth=7, n_estimators=100, num_leaves=9, score=0.8656373252466179, total=   1.1s\n",
      "[CV] learning_rate=0.05, max_depth=8, n_estimators=100, num_leaves=9 .\n"
     ]
    },
    {
     "name": "stderr",
     "output_type": "stream",
     "text": [
      "[Parallel(n_jobs=-1)]: Done  19 tasks      | elapsed:    6.5s\n",
      "[Parallel(n_jobs=-1)]: Done  20 tasks      | elapsed:    6.5s\n"
     ]
    },
    {
     "name": "stdout",
     "output_type": "stream",
     "text": [
      "[CV]  learning_rate=0.05, max_depth=8, n_estimators=100, num_leaves=9, score=0.8600661451966274, total=   0.9s\n",
      "[CV] learning_rate=0.05, max_depth=8, n_estimators=100, num_leaves=9 .\n",
      "[CV]  learning_rate=0.05, max_depth=8, n_estimators=100, num_leaves=9, score=0.8389952535665502, total=   0.9s\n",
      "[CV] learning_rate=0.05, max_depth=9, n_estimators=100, num_leaves=9 .\n",
      "[CV]  learning_rate=0.05, max_depth=8, n_estimators=100, num_leaves=9, score=0.8506783069565977, total=   0.9s\n",
      "[CV] learning_rate=0.05, max_depth=9, n_estimators=100, num_leaves=9 .\n"
     ]
    },
    {
     "name": "stderr",
     "output_type": "stream",
     "text": [
      "[Parallel(n_jobs=-1)]: Done  21 tasks      | elapsed:    7.5s\n",
      "[Parallel(n_jobs=-1)]: Done  22 tasks      | elapsed:    7.5s\n",
      "[Parallel(n_jobs=-1)]: Done  23 tasks      | elapsed:    7.6s\n"
     ]
    },
    {
     "name": "stdout",
     "output_type": "stream",
     "text": [
      "[CV]  learning_rate=0.05, max_depth=8, n_estimators=100, num_leaves=9, score=0.8729023577228435, total=   0.9s\n",
      "[CV] learning_rate=0.05, max_depth=9, n_estimators=100, num_leaves=9 .\n"
     ]
    },
    {
     "name": "stderr",
     "output_type": "stream",
     "text": [
      "[Parallel(n_jobs=-1)]: Done  24 tasks      | elapsed:    7.7s\n"
     ]
    },
    {
     "name": "stdout",
     "output_type": "stream",
     "text": [
      "[CV]  learning_rate=0.05, max_depth=8, n_estimators=100, num_leaves=9, score=0.8678951675255794, total=   0.8s\n",
      "[CV] learning_rate=0.05, max_depth=9, n_estimators=100, num_leaves=9 .\n",
      "[CV]  learning_rate=0.05, max_depth=9, n_estimators=100, num_leaves=9, score=0.8600661451966274, total=   0.8s\n",
      "[CV] learning_rate=0.05, max_depth=9, n_estimators=100, num_leaves=9 .\n"
     ]
    },
    {
     "name": "stderr",
     "output_type": "stream",
     "text": [
      "[Parallel(n_jobs=-1)]: Done  25 tasks      | elapsed:    8.6s\n",
      "[Parallel(n_jobs=-1)]: Done  26 tasks      | elapsed:    8.7s\n"
     ]
    },
    {
     "name": "stdout",
     "output_type": "stream",
     "text": [
      "[CV]  learning_rate=0.05, max_depth=9, n_estimators=100, num_leaves=9, score=0.8389952535665502, total=   0.9s\n",
      "[CV] learning_rate=0.05, max_depth=10, n_estimators=100, num_leaves=9 \n",
      "[CV]  learning_rate=0.05, max_depth=9, n_estimators=100, num_leaves=9, score=0.8506783069565977, total=   1.0s\n",
      "[CV] learning_rate=0.05, max_depth=10, n_estimators=100, num_leaves=9 \n"
     ]
    },
    {
     "name": "stderr",
     "output_type": "stream",
     "text": [
      "[Parallel(n_jobs=-1)]: Done  27 tasks      | elapsed:    8.9s\n",
      "[Parallel(n_jobs=-1)]: Done  28 tasks      | elapsed:    8.9s\n"
     ]
    },
    {
     "name": "stdout",
     "output_type": "stream",
     "text": [
      "[CV]  learning_rate=0.05, max_depth=9, n_estimators=100, num_leaves=9, score=0.8729023577228435, total=   1.1s\n",
      "[CV]  learning_rate=0.05, max_depth=9, n_estimators=100, num_leaves=9, score=0.8678951675255794, total=   0.9s\n",
      "[CV] learning_rate=0.05, max_depth=10, n_estimators=100, num_leaves=9 \n",
      "[CV] learning_rate=0.05, max_depth=10, n_estimators=100, num_leaves=9 \n",
      "[CV]  learning_rate=0.05, max_depth=10, n_estimators=100, num_leaves=9, score=0.8600661451966274, total=   0.9s\n"
     ]
    },
    {
     "name": "stderr",
     "output_type": "stream",
     "text": [
      "[Parallel(n_jobs=-1)]: Done  30 out of  35 | elapsed:    9.8s remaining:    1.6s\n"
     ]
    },
    {
     "name": "stdout",
     "output_type": "stream",
     "text": [
      "[CV] learning_rate=0.05, max_depth=10, n_estimators=100, num_leaves=9 \n",
      "[CV]  learning_rate=0.05, max_depth=10, n_estimators=100, num_leaves=9, score=0.8389952535665502, total=   0.9s\n"
     ]
    },
    {
     "name": "stderr",
     "output_type": "stream",
     "text": [
      "[Parallel(n_jobs=-1)]: Done  32 out of  35 | elapsed:   10.1s remaining:    0.9s\n"
     ]
    },
    {
     "name": "stdout",
     "output_type": "stream",
     "text": [
      "[CV]  learning_rate=0.05, max_depth=10, n_estimators=100, num_leaves=9, score=0.8506783069565977, total=   0.7s\n",
      "[CV]  learning_rate=0.05, max_depth=10, n_estimators=100, num_leaves=9, score=0.8729023577228435, total=   0.8s\n",
      "[CV]  learning_rate=0.05, max_depth=10, n_estimators=100, num_leaves=9, score=0.8678951675255794, total=   0.8s\n"
     ]
    },
    {
     "name": "stderr",
     "output_type": "stream",
     "text": [
      "[Parallel(n_jobs=-1)]: Done  35 out of  35 | elapsed:   10.9s finished\n"
     ]
    },
    {
     "data": {
      "text/plain": [
       "LGBMClassifier(boosting_type='gbdt', class_weight=None, colsample_bytree=1.0,\n",
       "        learning_rate=0.05, max_depth=8, min_child_samples=20,\n",
       "        min_child_weight=0.001, min_split_gain=0.0, n_estimators=100,\n",
       "        n_jobs=-1, num_leaves=9, objective=None, random_state=None,\n",
       "        reg_alpha=0.0, reg_lambda=0.0, silent=False, subsample=1.0,\n",
       "        subsample_for_bin=200000, subsample_freq=1)"
      ]
     },
     "execution_count": 7,
     "metadata": {},
     "output_type": "execute_result"
    }
   ],
   "source": [
    "lg3 = lgb.LGBMClassifier(silent=False)\n",
    "\n",
    "# # alvira\n",
    "param_dist = {\"max_depth\": [4,5,6,7,8,9,10],\n",
    "              \"learning_rate\" : [0.05],\n",
    "              \"num_leaves\": [9],\n",
    "              \"n_estimators\": [100]\n",
    "             }\n",
    "\n",
    "grid_search = GridSearchCV(lg3,\n",
    "                           n_jobs=-1,\n",
    "                           param_grid=param_dist, \n",
    "                           scoring='roc_auc',\n",
    "                           verbose=20,\n",
    "                           cv = StratifiedKFold(n_splits=5, \n",
    "                                   shuffle=True,\n",
    "                                   random_state=1).split(x_trn3,y_trn3)) \n",
    "\n",
    "grid_search.fit(x_trn3,y_trn3)\n",
    "grid_search.best_estimator_"
   ]
  },
  {
   "cell_type": "code",
   "execution_count": 8,
   "metadata": {},
   "outputs": [
    {
     "name": "stderr",
     "output_type": "stream",
     "text": [
      "/Users/princegrover/anaconda3/envs/fastai/lib/python3.6/site-packages/sklearn/model_selection/_search.py:761: DeprecationWarning: The grid_scores_ attribute was deprecated in version 0.18 in favor of the more elaborate cv_results_ attribute. The grid_scores_ attribute will not be available from 0.20\n",
      "  DeprecationWarning)\n"
     ]
    },
    {
     "data": {
      "text/plain": [
       "([mean: 0.85403, std: 0.00958, params: {'learning_rate': 0.05, 'max_depth': 4, 'n_estimators': 100, 'num_leaves': 9},\n",
       "  mean: 0.85555, std: 0.01069, params: {'learning_rate': 0.05, 'max_depth': 5, 'n_estimators': 100, 'num_leaves': 9},\n",
       "  mean: 0.85685, std: 0.01122, params: {'learning_rate': 0.05, 'max_depth': 6, 'n_estimators': 100, 'num_leaves': 9},\n",
       "  mean: 0.85775, std: 0.01177, params: {'learning_rate': 0.05, 'max_depth': 7, 'n_estimators': 100, 'num_leaves': 9},\n",
       "  mean: 0.85811, std: 0.01216, params: {'learning_rate': 0.05, 'max_depth': 8, 'n_estimators': 100, 'num_leaves': 9},\n",
       "  mean: 0.85811, std: 0.01216, params: {'learning_rate': 0.05, 'max_depth': 9, 'n_estimators': 100, 'num_leaves': 9},\n",
       "  mean: 0.85811, std: 0.01216, params: {'learning_rate': 0.05, 'max_depth': 10, 'n_estimators': 100, 'num_leaves': 9}],\n",
       " {'learning_rate': 0.05, 'max_depth': 8, 'n_estimators': 100, 'num_leaves': 9},\n",
       " 0.8581064845317391)"
      ]
     },
     "execution_count": 8,
     "metadata": {},
     "output_type": "execute_result"
    }
   ],
   "source": [
    "grid_search.grid_scores_, grid_search.best_params_, grid_search.best_score_"
   ]
  },
  {
   "cell_type": "code",
   "execution_count": 7,
   "metadata": {},
   "outputs": [
    {
     "name": "stdout",
     "output_type": "stream",
     "text": [
      "Fitting 5 folds for each of 3 candidates, totalling 15 fits\n",
      "[CV] learning_rate=0.01, max_depth=8, n_estimators=200, num_leaves=9 .\n",
      "[CV] learning_rate=0.01, max_depth=8, n_estimators=200, num_leaves=9 .\n",
      "[CV] learning_rate=0.01, max_depth=8, n_estimators=200, num_leaves=9 .\n",
      "[CV] learning_rate=0.01, max_depth=8, n_estimators=200, num_leaves=9 .\n",
      "[CV]  learning_rate=0.01, max_depth=8, n_estimators=200, num_leaves=9, score=0.8534359336097105, total=   1.5s\n",
      "[CV]  learning_rate=0.01, max_depth=8, n_estimators=200, num_leaves=9, score=0.8232924944779372, total=   1.5s\n",
      "[CV] learning_rate=0.01, max_depth=8, n_estimators=200, num_leaves=9 .\n",
      "[CV] learning_rate=0.05, max_depth=8, n_estimators=200, num_leaves=9 .\n"
     ]
    },
    {
     "name": "stderr",
     "output_type": "stream",
     "text": [
      "[Parallel(n_jobs=-1)]: Done   1 tasks      | elapsed:    2.0s\n",
      "[Parallel(n_jobs=-1)]: Done   2 tasks      | elapsed:    2.1s\n"
     ]
    },
    {
     "name": "stdout",
     "output_type": "stream",
     "text": [
      "[CV]  learning_rate=0.01, max_depth=8, n_estimators=200, num_leaves=9, score=0.8390058821727047, total=   1.8s\n",
      "[CV]  learning_rate=0.01, max_depth=8, n_estimators=200, num_leaves=9, score=0.852728815242015, total=   1.7s\n",
      "[CV] learning_rate=0.05, max_depth=8, n_estimators=200, num_leaves=9 .\n",
      "[CV] learning_rate=0.05, max_depth=8, n_estimators=200, num_leaves=9 .\n"
     ]
    },
    {
     "name": "stderr",
     "output_type": "stream",
     "text": [
      "[Parallel(n_jobs=-1)]: Done   3 tasks      | elapsed:    2.3s\n",
      "[Parallel(n_jobs=-1)]: Done   4 tasks      | elapsed:    2.3s\n"
     ]
    },
    {
     "name": "stdout",
     "output_type": "stream",
     "text": [
      "[CV]  learning_rate=0.01, max_depth=8, n_estimators=200, num_leaves=9, score=0.8508331152206549, total=   1.5s\n",
      "[CV]  learning_rate=0.05, max_depth=8, n_estimators=200, num_leaves=9, score=0.8603769947424582, total=   1.5s\n",
      "[CV] learning_rate=0.05, max_depth=8, n_estimators=200, num_leaves=9 .\n",
      "[CV] learning_rate=0.05, max_depth=8, n_estimators=200, num_leaves=9 .\n"
     ]
    },
    {
     "name": "stderr",
     "output_type": "stream",
     "text": [
      "[Parallel(n_jobs=-1)]: Done   5 tasks      | elapsed:    4.1s\n",
      "[Parallel(n_jobs=-1)]: Done   6 tasks      | elapsed:    4.1s\n"
     ]
    },
    {
     "name": "stdout",
     "output_type": "stream",
     "text": [
      "[CV]  learning_rate=0.05, max_depth=8, n_estimators=200, num_leaves=9, score=0.8372766142506582, total=   1.6s\n",
      "[CV] learning_rate=0.1, max_depth=8, n_estimators=200, num_leaves=9 ..\n",
      "[CV]  learning_rate=0.05, max_depth=8, n_estimators=200, num_leaves=9, score=0.8503868513150254, total=   1.7s\n",
      "[CV] learning_rate=0.1, max_depth=8, n_estimators=200, num_leaves=9 ..\n"
     ]
    },
    {
     "name": "stderr",
     "output_type": "stream",
     "text": [
      "[Parallel(n_jobs=-1)]: Done   7 tasks      | elapsed:    4.4s\n",
      "[Parallel(n_jobs=-1)]: Done   8 tasks      | elapsed:    4.4s\n"
     ]
    },
    {
     "name": "stdout",
     "output_type": "stream",
     "text": [
      "[CV]  learning_rate=0.05, max_depth=8, n_estimators=200, num_leaves=9, score=0.86804634217517, total=   1.7s\n",
      "[CV] learning_rate=0.1, max_depth=8, n_estimators=200, num_leaves=9 ..\n",
      "[CV]  learning_rate=0.05, max_depth=8, n_estimators=200, num_leaves=9, score=0.8759318676161336, total=   1.7s\n",
      "[CV] learning_rate=0.1, max_depth=8, n_estimators=200, num_leaves=9 ..\n",
      "[CV]  learning_rate=0.1, max_depth=8, n_estimators=200, num_leaves=9, score=0.8581932019595477, total=   1.7s\n",
      "[CV]  learning_rate=0.1, max_depth=8, n_estimators=200, num_leaves=9, score=0.8335116732971273, total=   1.7s\n",
      "[CV] learning_rate=0.1, max_depth=8, n_estimators=200, num_leaves=9 ..\n"
     ]
    },
    {
     "name": "stderr",
     "output_type": "stream",
     "text": [
      "[Parallel(n_jobs=-1)]: Done   9 out of  15 | elapsed:    6.6s remaining:    4.4s\n",
      "[Parallel(n_jobs=-1)]: Done  10 out of  15 | elapsed:    6.6s remaining:    3.3s\n",
      "[Parallel(n_jobs=-1)]: Done  11 out of  15 | elapsed:    6.6s remaining:    2.4s\n",
      "[Parallel(n_jobs=-1)]: Done  12 out of  15 | elapsed:    6.6s remaining:    1.7s\n"
     ]
    },
    {
     "name": "stdout",
     "output_type": "stream",
     "text": [
      "[CV]  learning_rate=0.1, max_depth=8, n_estimators=200, num_leaves=9, score=0.8415404252711471, total=   1.2s\n",
      "[CV]  learning_rate=0.1, max_depth=8, n_estimators=200, num_leaves=9, score=0.8663883097621218, total=   1.2s\n",
      "[CV]  learning_rate=0.1, max_depth=8, n_estimators=200, num_leaves=9, score=0.8615450801300855, total=   1.5s\n"
     ]
    },
    {
     "name": "stderr",
     "output_type": "stream",
     "text": [
      "[Parallel(n_jobs=-1)]: Done  13 out of  15 | elapsed:    8.3s remaining:    1.3s\n",
      "[Parallel(n_jobs=-1)]: Done  15 out of  15 | elapsed:    8.4s remaining:    0.0s\n",
      "[Parallel(n_jobs=-1)]: Done  15 out of  15 | elapsed:    8.4s finished\n"
     ]
    },
    {
     "data": {
      "text/plain": [
       "LGBMClassifier(boosting_type='gbdt', class_weight=None, colsample_bytree=1.0,\n",
       "        learning_rate=0.05, max_depth=8, min_child_samples=20,\n",
       "        min_child_weight=0.001, min_split_gain=0.0, n_estimators=200,\n",
       "        n_jobs=-1, num_leaves=9, objective=None, random_state=None,\n",
       "        reg_alpha=0.0, reg_lambda=0.0, silent=False, subsample=1.0,\n",
       "        subsample_for_bin=200000, subsample_freq=1)"
      ]
     },
     "execution_count": 7,
     "metadata": {},
     "output_type": "execute_result"
    }
   ],
   "source": [
    "lg = lgb.LGBMClassifier(silent=False)\n",
    "\n",
    "param_dist = { 'learning_rate':[0.01, 0.05, 0.1],\n",
    "          'num_leaves':[9],\n",
    "          'max_depth':[8],\n",
    "          'n_estimators':[200],\n",
    "         }\n",
    "\n",
    "grid_search = GridSearchCV(lg,\n",
    "                           n_jobs=-1,\n",
    "                           param_grid=param_dist, \n",
    "                           scoring='roc_auc',\n",
    "                           verbose=20,\n",
    "                           cv = StratifiedKFold(n_splits=5, \n",
    "                                   shuffle=True,\n",
    "                                   random_state=1).split(x_trn3,y_trn3)) \n",
    "\n",
    "grid_search.fit(x_trn3,y_trn3)\n",
    "grid_search.best_estimator_"
   ]
  },
  {
   "cell_type": "code",
   "execution_count": 8,
   "metadata": {},
   "outputs": [
    {
     "name": "stderr",
     "output_type": "stream",
     "text": [
      "/Users/princegrover/anaconda3/envs/fastai/lib/python3.6/site-packages/sklearn/model_selection/_search.py:761: DeprecationWarning: The grid_scores_ attribute was deprecated in version 0.18 in favor of the more elaborate cv_results_ attribute. The grid_scores_ attribute will not be available from 0.20\n",
      "  DeprecationWarning)\n"
     ]
    },
    {
     "data": {
      "text/plain": [
       "([mean: 0.84386, std: 0.01154, params: {'learning_rate': 0.01, 'max_depth': 8, 'n_estimators': 200, 'num_leaves': 9},\n",
       "  mean: 0.85840, std: 0.01353, params: {'learning_rate': 0.05, 'max_depth': 8, 'n_estimators': 200, 'num_leaves': 9},\n",
       "  mean: 0.85223, std: 0.01255, params: {'learning_rate': 0.1, 'max_depth': 8, 'n_estimators': 200, 'num_leaves': 9}],\n",
       " {'learning_rate': 0.05, 'max_depth': 8, 'n_estimators': 200, 'num_leaves': 9},\n",
       " 0.8584026666327739)"
      ]
     },
     "execution_count": 8,
     "metadata": {},
     "output_type": "execute_result"
    }
   ],
   "source": [
    "grid_search.grid_scores_, grid_search.best_params_, grid_search.best_score_"
   ]
  },
  {
   "cell_type": "code",
   "execution_count": 14,
   "metadata": {},
   "outputs": [
    {
     "data": {
      "text/plain": [
       "LGBMClassifier(boosting_type='gbdt', class_weight=None, colsample_bytree=1.0,\n",
       "        learning_rate=0.05, max_depth=8, min_child_samples=20,\n",
       "        min_child_weight=0.001, min_split_gain=0.0, n_estimators=200,\n",
       "        n_jobs=-1, num_leaves=9, objective=None, random_state=None,\n",
       "        reg_alpha=0.0, reg_lambda=0.0, silent=False, subsample=1.0,\n",
       "        subsample_for_bin=200000, subsample_freq=1)"
      ]
     },
     "execution_count": 14,
     "metadata": {},
     "output_type": "execute_result"
    }
   ],
   "source": [
    "grid_search.best_estimator_"
   ]
  },
  {
   "cell_type": "markdown",
   "metadata": {},
   "source": [
    "### Final Model"
   ]
  },
  {
   "cell_type": "code",
   "execution_count": 19,
   "metadata": {},
   "outputs": [],
   "source": [
    "m = lgb.LGBMClassifier(boosting_type='gbdt', class_weight=None, colsample_bytree=1.0,\n",
    "        learning_rate=0.05, max_depth=8, min_child_samples=20,\n",
    "        min_child_weight=0.001, min_split_gain=0.0, n_estimators=200,\n",
    "        n_jobs=-1, num_leaves=9, objective=None, random_state=None,\n",
    "        reg_alpha=0.0, reg_lambda=0.0, silent=False, subsample=1.0,\n",
    "        subsample_for_bin=200000, subsample_freq=1)"
   ]
  },
  {
   "cell_type": "code",
   "execution_count": 23,
   "metadata": {},
   "outputs": [
    {
     "data": {
      "text/plain": [
       "(43400, 11)"
      ]
     },
     "execution_count": 23,
     "metadata": {},
     "output_type": "execute_result"
    }
   ],
   "source": [
    "x_trn3.shape"
   ]
  },
  {
   "cell_type": "code",
   "execution_count": 20,
   "metadata": {},
   "outputs": [
    {
     "data": {
      "text/plain": [
       "LGBMClassifier(boosting_type='gbdt', class_weight=None, colsample_bytree=1.0,\n",
       "        learning_rate=0.05, max_depth=8, min_child_samples=20,\n",
       "        min_child_weight=0.001, min_split_gain=0.0, n_estimators=200,\n",
       "        n_jobs=-1, num_leaves=9, objective=None, random_state=None,\n",
       "        reg_alpha=0.0, reg_lambda=0.0, silent=False, subsample=1.0,\n",
       "        subsample_for_bin=200000, subsample_freq=1)"
      ]
     },
     "execution_count": 20,
     "metadata": {},
     "output_type": "execute_result"
    }
   ],
   "source": [
    "m.fit(x_trn3, y_trn3)"
   ]
  },
  {
   "cell_type": "code",
   "execution_count": 21,
   "metadata": {},
   "outputs": [
    {
     "data": {
      "text/html": [
       "<div>\n",
       "<style scoped>\n",
       "    .dataframe tbody tr th:only-of-type {\n",
       "        vertical-align: middle;\n",
       "    }\n",
       "\n",
       "    .dataframe tbody tr th {\n",
       "        vertical-align: top;\n",
       "    }\n",
       "\n",
       "    .dataframe thead th {\n",
       "        text-align: right;\n",
       "    }\n",
       "</style>\n",
       "<table border=\"1\" class=\"dataframe\">\n",
       "  <thead>\n",
       "    <tr style=\"text-align: right;\">\n",
       "      <th></th>\n",
       "      <th>id</th>\n",
       "      <th>gender</th>\n",
       "      <th>age</th>\n",
       "      <th>hypertension</th>\n",
       "      <th>heart_disease</th>\n",
       "      <th>ever_married</th>\n",
       "      <th>work_type</th>\n",
       "      <th>Residence_type</th>\n",
       "      <th>avg_glucose_level</th>\n",
       "      <th>bmi</th>\n",
       "      <th>smoking_status</th>\n",
       "    </tr>\n",
       "  </thead>\n",
       "  <tbody>\n",
       "    <tr>\n",
       "      <th>0</th>\n",
       "      <td>30669</td>\n",
       "      <td>1</td>\n",
       "      <td>3.0</td>\n",
       "      <td>0</td>\n",
       "      <td>0</td>\n",
       "      <td>0</td>\n",
       "      <td>4</td>\n",
       "      <td>0</td>\n",
       "      <td>95.12</td>\n",
       "      <td>18.0</td>\n",
       "      <td>-1</td>\n",
       "    </tr>\n",
       "  </tbody>\n",
       "</table>\n",
       "</div>"
      ],
      "text/plain": [
       "      id  gender  age  hypertension  heart_disease  ever_married  work_type  \\\n",
       "0  30669       1  3.0             0              0             0          4   \n",
       "\n",
       "   Residence_type  avg_glucose_level   bmi  smoking_status  \n",
       "0               0              95.12  18.0              -1  "
      ]
     },
     "execution_count": 21,
     "metadata": {},
     "output_type": "execute_result"
    }
   ],
   "source": [
    "x_trn3[:1]"
   ]
  },
  {
   "cell_type": "code",
   "execution_count": 24,
   "metadata": {},
   "outputs": [],
   "source": [
    "preds = m.predict_proba(test_raw.drop('age_bins',1))[:,1]"
   ]
  },
  {
   "cell_type": "code",
   "execution_count": 25,
   "metadata": {},
   "outputs": [
    {
     "data": {
      "text/plain": [
       "(array([16089.,  1744.,   531.,   140.,    54.,    21.,    11.,     7.,     2.,     2.]),\n",
       " array([0.00009, 0.04165, 0.08321, 0.12477, 0.16632, 0.20788, 0.24944, 0.29099, 0.33255, 0.37411, 0.41567]),\n",
       " <a list of 10 Patch objects>)"
      ]
     },
     "execution_count": 25,
     "metadata": {},
     "output_type": "execute_result"
    },
    {
     "data": {
      "image/png": "[encoded data removed]",
      "text/plain": [
       "<Figure size 432x288 with 1 Axes>"
      ]
     },
     "metadata": {},
     "output_type": "display_data"
    }
   ],
   "source": [
    "plt.hist(preds)"
   ]
  },
  {
   "cell_type": "code",
   "execution_count": 26,
   "metadata": {},
   "outputs": [
    {
     "data": {
      "text/plain": [
       "0.01770876150439421"
      ]
     },
     "execution_count": 26,
     "metadata": {},
     "output_type": "execute_result"
    }
   ],
   "source": [
    "preds.mean()"
   ]
  },
  {
   "cell_type": "code",
   "execution_count": 27,
   "metadata": {},
   "outputs": [],
   "source": [
    "pred_df = pd.DataFrame(test_raw.id)\n",
    "pred_df['stroke'] = preds\n",
    "pred_df.to_csv('submissions/lgm_tuned.csv', index=False)"
   ]
  },
  {
   "cell_type": "code",
   "execution_count": null,
   "metadata": {},
   "outputs": [],
   "source": []
  },
  {
   "cell_type": "code",
   "execution_count": null,
   "metadata": {},
   "outputs": [],
   "source": []
  },
  {
   "cell_type": "code",
   "execution_count": 12,
   "metadata": {},
   "outputs": [
    {
     "ename": "SyntaxError",
     "evalue": "invalid syntax (<ipython-input-12-17059f56e410>, line 2)",
     "output_type": "error",
     "traceback": [
      "\u001b[0;36m  File \u001b[0;32m\"<ipython-input-12-17059f56e410>\"\u001b[0;36m, line \u001b[0;32m2\u001b[0m\n\u001b[0;31m    params = {\"max_depth\": 50, \"learning_rate\" : 0.05, \"num_leaves\": 1200,  \"n_estimators\": 200, \"is_unbalance\"=True}\u001b[0m\n\u001b[0m                                                                                                               ^\u001b[0m\n\u001b[0;31mSyntaxError\u001b[0m\u001b[0;31m:\u001b[0m invalid syntax\n"
     ]
    }
   ],
   "source": [
    "d_train = lgb.Dataset(x_trn3, label=y_trn3)\n",
    "params = {\"max_depth\": 50, \"learning_rate\" : 0.05, \"num_leaves\": 1200,  \"n_estimators\": 200, \"is_unbalance\":True}\n",
    "\n",
    "# Without Categorical Features\n",
    "model2 = lgb.train(params, d_train)\n",
    "#auc2(model2, x_trn3, test)\n",
    "\n",
    "# #With Catgeorical Features\n",
    "# cate_features_name = [\"MONTH\",\"DAY\",\"DAY_OF_WEEK\",\"AIRLINE\",\"DESTINATION_AIRPORT\",\n",
    "#                  \"ORIGIN_AIRPORT\"]\n",
    "# model2 = lgb.train(params, d_train, categorical_feature = cate_features_name)\n",
    "# auc2(model2, train, test)"
   ]
  },
  {
   "cell_type": "code",
   "execution_count": null,
   "metadata": {},
   "outputs": [],
   "source": []
  }
 ],
 "metadata": {
  "kernelspec": {
   "display_name": "Python 3",
   "language": "python",
   "name": "python3"
  },
  "language_info": {
   "codemirror_mode": {
    "name": "ipython",
    "version": 3
   },
   "file_extension": ".py",
   "mimetype": "text/x-python",
   "name": "python",
   "nbconvert_exporter": "python",
   "pygments_lexer": "ipython3",
   "version": "3.6.4"
  }
 },
 "nbformat": 4,
 "nbformat_minor": 2
}
